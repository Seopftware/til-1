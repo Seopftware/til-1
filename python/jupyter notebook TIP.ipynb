{
 "cells": [
  {
   "cell_type": "markdown",
   "metadata": {},
   "source": [
    "# jupyter notebook TIP\n",
    "#### [jupyter_dashboards](https://pypi.python.org/pypi/jupyter_dashboards/0.7.0) : 코드를 제외한 결과물만 보여주는 확장 프로그램\n",
    "#### [jupyterlab](https://pypi.python.org/pypi/jupyterlab/0.22.0) : jupyterlab. notebook 이후는 jupyterlab일듯..! [관련 영상](https://www.youtube.com/watch?list=PLYx7XA2nY5Gf37zYZMw6OqGFRPjB1jCy6&time_continue=16&v=Ejh0ftSjk6g)\n",
    "#### [jupyterhub](https://pypi.python.org/pypi/jupyterhub/0.7.2) : jupyterhub. 다양한 사람들이 함께 사용할 때 사용 [관령 링크](https://ansuchan.com/gettings-started-with-jupyterhub/)\n",
    "\n",
    "\n",
    "[기타 Tip 링크](https://www.dataquest.io/blog/jupyter-notebook-tips-tricks-shortcuts/)\n",
    "\n",
    "[기타 Tip 링크2](https://dymaxionkim.github.io/beautiful-jekyll/2017-01-23-Jupyter/)"
   ]
  },
  {
   "cell_type": "code",
   "execution_count": null,
   "metadata": {
    "collapsed": true
   },
   "outputs": [],
   "source": []
  }
 ],
 "metadata": {
  "kernelspec": {
   "display_name": "Python 3",
   "language": "python",
   "name": "python3"
  },
  "language_info": {
   "codemirror_mode": {
    "name": "ipython",
    "version": 3
   },
   "file_extension": ".py",
   "mimetype": "text/x-python",
   "name": "python",
   "nbconvert_exporter": "python",
   "pygments_lexer": "ipython3",
   "version": "3.6.1"
  }
 },
 "nbformat": 4,
 "nbformat_minor": 2
}
