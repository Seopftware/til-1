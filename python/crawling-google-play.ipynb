{
 "cells": [
  {
   "cell_type": "markdown",
   "metadata": {},
   "source": [
    "## 데이터 수집\n",
    "- 파이썬으로 해도 좋지만, 빠르게 진행하기 위해서 구글 개발자 도구에서 진행\n",
    "- [https://play.google.com/store/apps/details?id=com.rainist.banksalad2&showAllReviews=true](https://play.google.com/store/apps/details?id=com.rainist.banksalad2&showAllReviews=true) 로 들어간 후, 콘솔에서 아래 명령어 입력\n",
    "    - 유용한 리뷰 순서라 최근 리뷰 중 누락이 존재할 수 있음\n",
    "    - 총 1,400개의 리뷰를 수집 (안드로이드)\n",
    "\n",
    "```\n",
    "var reviews = document.querySelectorAll('div[class=\"d15Mdf bAhLNe\"]')\n",
    "\n",
    "var data = []\n",
    "reviews.forEach(v => data.push({body: v.outerHTML}))\n",
    "```\n",
    "- 별점이랑 이름, 리뷰 등을 따로 가져올 순 있지만 한방에 HTML로 가져와서 파이썬에서 전처리\n",
    "- list를 콘솔에서 입력하고, 우측 마우스 클릭 후 Store as global variable 클릭\n",
    "- ```copy(temp1)```을 하면 클립보드로 데이터가 들어감\n",
    "- ```review-data.json```으로 저장"
   ]
  },
  {
   "cell_type": "code",
   "execution_count": 1,
   "metadata": {},
   "outputs": [],
   "source": [
    "import pandas as pd\n",
    "import seaborn as sns \n",
    "import matplotlib.pyplot as plt\n",
    "import json\n",
    "import re\n",
    "from bs4 import BeautifulSoup\n",
    "import warnings\n",
    "from konlpy.tag import Twitter\n",
    "from sklearn.feature_extraction.text import CountVectorizer\n",
    "\n",
    "warnings.filterwarnings('ignore')\n",
    "\n",
    "%matplotlib inline\n",
    "%config InlineBackend.figure_format = 'retina'"
   ]
  },
  {
   "cell_type": "code",
   "execution_count": 2,
   "metadata": {},
   "outputs": [],
   "source": [
    "df = pd.read_json(\"review-data.json\")"
   ]
  },
  {
   "cell_type": "code",
   "execution_count": 3,
   "metadata": {},
   "outputs": [
    {
     "data": {
      "text/html": [
       "<div>\n",
       "<style scoped>\n",
       "    .dataframe tbody tr th:only-of-type {\n",
       "        vertical-align: middle;\n",
       "    }\n",
       "\n",
       "    .dataframe tbody tr th {\n",
       "        vertical-align: top;\n",
       "    }\n",
       "\n",
       "    .dataframe thead th {\n",
       "        text-align: right;\n",
       "    }\n",
       "</style>\n",
       "<table border=\"1\" class=\"dataframe\">\n",
       "  <thead>\n",
       "    <tr style=\"text-align: right;\">\n",
       "      <th></th>\n",
       "      <th>body</th>\n",
       "    </tr>\n",
       "  </thead>\n",
       "  <tbody>\n",
       "    <tr>\n",
       "      <th>0</th>\n",
       "      <td>&lt;div class=\"d15Mdf bAhLNe\"&gt;&lt;div class=\"xKpxId ...</td>\n",
       "    </tr>\n",
       "    <tr>\n",
       "      <th>1</th>\n",
       "      <td>&lt;div class=\"d15Mdf bAhLNe\"&gt;&lt;div class=\"xKpxId ...</td>\n",
       "    </tr>\n",
       "  </tbody>\n",
       "</table>\n",
       "</div>"
      ],
      "text/plain": [
       "                                                body\n",
       "0  <div class=\"d15Mdf bAhLNe\"><div class=\"xKpxId ...\n",
       "1  <div class=\"d15Mdf bAhLNe\"><div class=\"xKpxId ..."
      ]
     },
     "execution_count": 3,
     "metadata": {},
     "output_type": "execute_result"
    }
   ],
   "source": [
    "df.head(2)"
   ]
  },
  {
   "cell_type": "code",
   "execution_count": 4,
   "metadata": {},
   "outputs": [],
   "source": [
    "p = re.compile(r'\\d+')\n",
    "def parser(body):\n",
    "    bs = BeautifulSoup(body, 'html.parser')\n",
    "    user_name = bs.find('span', class_='X43Kjb').text\n",
    "    date = bs.find('span', class_='p2TkOb').text\n",
    "    rating = bs.find('div', {'role':'img'})['aria-label']\n",
    "    rating = p.findall(rating)[-1]\n",
    "    review_text = bs.find('span', {'jsname':'bN97Pc'}).text\n",
    "    return user_name, date, rating, review_text"
   ]
  },
  {
   "cell_type": "code",
   "execution_count": 5,
   "metadata": {},
   "outputs": [
    {
     "name": "stdout",
     "output_type": "stream",
     "text": [
      "CPU times: user 4.28 s, sys: 17 ms, total: 4.3 s\n",
      "Wall time: 4.31 s\n"
     ]
    }
   ],
   "source": [
    "%%time\n",
    "df['user_name'], df['date'], df['rating'], df['review_text'] = zip(*df['body'].map(parser))"
   ]
  },
  {
   "cell_type": "code",
   "execution_count": 6,
   "metadata": {},
   "outputs": [],
   "source": [
    "del df[\"body\"]"
   ]
  },
  {
   "cell_type": "code",
   "execution_count": 7,
   "metadata": {},
   "outputs": [],
   "source": [
    "df['date'] = pd.to_datetime(df['date'], format='%Y년 %m월 %d일')"
   ]
  },
  {
   "cell_type": "code",
   "execution_count": 8,
   "metadata": {},
   "outputs": [
    {
     "data": {
      "text/html": [
       "<div>\n",
       "<style scoped>\n",
       "    .dataframe tbody tr th:only-of-type {\n",
       "        vertical-align: middle;\n",
       "    }\n",
       "\n",
       "    .dataframe tbody tr th {\n",
       "        vertical-align: top;\n",
       "    }\n",
       "\n",
       "    .dataframe thead th {\n",
       "        text-align: right;\n",
       "    }\n",
       "</style>\n",
       "<table border=\"1\" class=\"dataframe\">\n",
       "  <thead>\n",
       "    <tr style=\"text-align: right;\">\n",
       "      <th></th>\n",
       "      <th>user_name</th>\n",
       "      <th>date</th>\n",
       "      <th>rating</th>\n",
       "      <th>review_text</th>\n",
       "    </tr>\n",
       "  </thead>\n",
       "  <tbody>\n",
       "    <tr>\n",
       "      <th>0</th>\n",
       "      <td>Google 사용자</td>\n",
       "      <td>2018-08-19</td>\n",
       "      <td>5</td>\n",
       "      <td>정말 좋아요!! 몇개월 째 잘쓰고있어요ㅎㅎ 한가지 저한테만! 아쉬운 점은 예산 계획...</td>\n",
       "    </tr>\n",
       "    <tr>\n",
       "      <th>1</th>\n",
       "      <td>Google 사용자</td>\n",
       "      <td>2018-08-19</td>\n",
       "      <td>2</td>\n",
       "      <td>첨엔 좋았는데 쓰다보면 자주 은행 연동 끊기고 오류 나는 거 계속 반복되고 고객센터...</td>\n",
       "    </tr>\n",
       "  </tbody>\n",
       "</table>\n",
       "</div>"
      ],
      "text/plain": [
       "    user_name       date rating  \\\n",
       "0  Google 사용자 2018-08-19      5   \n",
       "1  Google 사용자 2018-08-19      2   \n",
       "\n",
       "                                         review_text  \n",
       "0  정말 좋아요!! 몇개월 째 잘쓰고있어요ㅎㅎ 한가지 저한테만! 아쉬운 점은 예산 계획...  \n",
       "1  첨엔 좋았는데 쓰다보면 자주 은행 연동 끊기고 오류 나는 거 계속 반복되고 고객센터...  "
      ]
     },
     "execution_count": 8,
     "metadata": {},
     "output_type": "execute_result"
    }
   ],
   "source": [
    "df.head(2)"
   ]
  },
  {
   "cell_type": "code",
   "execution_count": 9,
   "metadata": {},
   "outputs": [],
   "source": [
    "df = df.sort_values(by='date', ascending=False).reindex()   "
   ]
  },
  {
   "cell_type": "code",
   "execution_count": 10,
   "metadata": {},
   "outputs": [
    {
     "name": "stdout",
     "output_type": "stream",
     "text": [
      "최소 : 2017-12-21 00:00:00\n",
      "최대 : 2018-08-19 00:00:00\n"
     ]
    }
   ],
   "source": [
    "print(\"최소 :\", min(df['date'].value_counts().index))\n",
    "print(\"최대 :\", max(df['date'].value_counts().index))"
   ]
  },
  {
   "cell_type": "code",
   "execution_count": 11,
   "metadata": {},
   "outputs": [
    {
     "data": {
      "text/plain": [
       "<seaborn.axisgrid.FacetGrid at 0x110035eb8>"
      ]
     },
     "execution_count": 11,
     "metadata": {},
     "output_type": "execute_result"
    },
    {
     "data": {
      "image/png": "[encoded data removed]",
      "text/plain": [
       "<Figure size 288x288 with 1 Axes>"
      ]
     },
     "metadata": {
      "image/png": {
       "height": 278,
       "width": 292
      }
     },
     "output_type": "display_data"
    }
   ],
   "source": [
    "sns.factorplot('rating',kind='count',data=df)"
   ]
  },
  {
   "cell_type": "code",
   "execution_count": 12,
   "metadata": {},
   "outputs": [
    {
     "data": {
      "text/plain": [
       "5    735\n",
       "4    385\n",
       "3    146\n",
       "1     80\n",
       "2     54\n",
       "Name: rating, dtype: int64"
      ]
     },
     "execution_count": 12,
     "metadata": {},
     "output_type": "execute_result"
    }
   ],
   "source": [
    "df['rating'].value_counts()"
   ]
  },
  {
   "cell_type": "markdown",
   "metadata": {},
   "source": [
    "- 17년 12월 21일 ~ 18년 8월 19일의 리뷰 평가는 매우 좋음 \n",
    "- 5점이 압도적으로 많음\n",
    "- 3점 이하 평점을 준 유저들의 리뷰를 보자"
   ]
  },
  {
   "cell_type": "code",
   "execution_count": 13,
   "metadata": {},
   "outputs": [],
   "source": [
    "low_rate_review = df[df['rating'] <= '3']['review_text']"
   ]
  },
  {
   "cell_type": "code",
   "execution_count": 14,
   "metadata": {},
   "outputs": [
    {
     "data": {
      "text/plain": [
       "280"
      ]
     },
     "execution_count": 14,
     "metadata": {},
     "output_type": "execute_result"
    }
   ],
   "source": [
    "len(low_rate_review)"
   ]
  },
  {
   "cell_type": "code",
   "execution_count": 15,
   "metadata": {},
   "outputs": [
    {
     "data": {
      "text/plain": [
       "1     첨엔 좋았는데 쓰다보면 자주 은행 연동 끊기고 오류 나는 거 계속 반복되고 고객센터...\n",
       "78                                     들어가자 마자 오류떠서 안떠요\n",
       "73                 벌써 3번이나 지문인식이 안먹히네요 인식해도 비밀번호 다시쳐야하고\n",
       "19    은행 추가해서 관리하다가 카드 추가하면 기존 데이터 다 초기화됩니다. 문의 넣으면 ...\n",
       "20    신용카드 미분류가 너무 많음. 미분류 건 업체별로 한번 업종 선택하면 다음것도 알아...\n",
       "80                               현대차증권도 추가해 주시면 고맙겠습니다.\n",
       "66                                     카뱅은 왜 연동이 안될까요..\n",
       "72                            증권사 이베스트증권 연동 시도시 앱 다운되네요\n",
       "67                 잘 사용하고있었는데 휴대폰초기화후 재설치했더니 연동오류가자주납니다\n",
       "34               카카오뱅크는... 추가 안되나요? 카카오뱅크만 써서.......ㅠㅠㅠ\n",
       "Name: review_text, dtype: object"
      ]
     },
     "execution_count": 15,
     "metadata": {},
     "output_type": "execute_result"
    }
   ],
   "source": [
    "low_rate_review[:10]"
   ]
  },
  {
   "cell_type": "markdown",
   "metadata": {},
   "source": [
    "- 전처리 : 글자만 남기고 제거"
   ]
  },
  {
   "cell_type": "code",
   "execution_count": 19,
   "metadata": {},
   "outputs": [],
   "source": [
    "low_rate_review = low_rate_review.apply(lambda x:re.sub('[^가-힣\\s\\d]',\"\",x))"
   ]
  },
  {
   "cell_type": "code",
   "execution_count": 20,
   "metadata": {},
   "outputs": [
    {
     "data": {
      "text/plain": [
       "1     첨엔 좋았는데 쓰다보면 자주 은행 연동 끊기고 오류 나는 거 계속 반복되고 고객센터...\n",
       "78                                     들어가자 마자 오류떠서 안떠요\n",
       "73                  벌써 번이나 지문인식이 안먹히네요 인식해도 비밀번호 다시쳐야하고\n",
       "19    은행 추가해서 관리하다가 카드 추가하면 기존 데이터 다 초기화됩니다 문의 넣으면 친...\n",
       "20    신용카드 미분류가 너무 많음 미분류 건 업체별로 한번 업종 선택하면 다음것도 알아서...\n",
       "80                                현대차증권도 추가해 주시면 고맙겠습니다\n",
       "66                                       카뱅은 왜 연동이 안될까요\n",
       "72                            증권사 이베스트증권 연동 시도시 앱 다운되네요\n",
       "67                 잘 사용하고있었는데 휴대폰초기화후 재설치했더니 연동오류가자주납니다\n",
       "34                             카카오뱅크는 추가 안되나요 카카오뱅크만 써서\n",
       "Name: review_text, dtype: object"
      ]
     },
     "execution_count": 20,
     "metadata": {},
     "output_type": "execute_result"
    }
   ],
   "source": [
    "low_rate_review[:10]"
   ]
  },
  {
   "cell_type": "markdown",
   "metadata": {},
   "source": [
    "### 자연어 처리\n",
    "- 단어 word count 정도만 체크\n",
    "- 리뷰라 없을 것 같지만 1단어만 작성한 것은 제외"
   ]
  },
  {
   "cell_type": "code",
   "execution_count": 21,
   "metadata": {},
   "outputs": [],
   "source": [
    "tagger = Twitter()"
   ]
  },
  {
   "cell_type": "code",
   "execution_count": 23,
   "metadata": {},
   "outputs": [],
   "source": [
    "def get_word(sentence):\n",
    "    nouns = tagger.nouns(sentence)\n",
    "    return [noun for noun in nouns if len(noun) > 1] "
   ]
  },
  {
   "cell_type": "code",
   "execution_count": 24,
   "metadata": {},
   "outputs": [],
   "source": [
    "cv = CountVectorizer(tokenizer=get_word, max_features=300)\n",
    "tdf = cv.fit_transform(low_rate_review)\n",
    "words = cv.get_feature_names()"
   ]
  },
  {
   "cell_type": "code",
   "execution_count": 26,
   "metadata": {},
   "outputs": [
    {
     "data": {
      "text/plain": [
       "['가계부', '가나', '가요', '가입', '가장']"
      ]
     },
     "execution_count": 26,
     "metadata": {},
     "output_type": "execute_result"
    }
   ],
   "source": [
    "words[:5]"
   ]
  },
  {
   "cell_type": "code",
   "execution_count": 27,
   "metadata": {},
   "outputs": [
    {
     "data": {
      "text/plain": [
       "matrix([[ 16,   1,  16,  11,   4,   7,   4,   4,   4,   6,   2,   8,   2,\n",
       "           3,  27,  19,   2,   4,   2,   2,   3,  34,   3,   3,   4,   8,\n",
       "           2,   7,   4,   5,  11,   9,   2,   2,   2,   4,   3,   2,   6,\n",
       "           2,  22,   2,   2,   9,  16,   2,   2,  25,   2,   2,   2,   9,\n",
       "          10,   2,   5,   7,   5,   3,  15,   7,   3,   3,   2,   2,   2,\n",
       "           5,   3,   2,   7,   2,   3,   3,   6,   2,   2,   9,   3,   6,\n",
       "           3,   2,   6,   2,   2,   4,   3,   4,  87,   4,   2,   3,   2,\n",
       "           2,   2,   3,  15,   3,   3,   3,  15,   7,   2,   8,   2,  16,\n",
       "           2,   3,  14,   2,   7,   2,   2,  11,   2,   2,   4,   4,   2,\n",
       "           4,   2,  11,   9,   2,   6,   2,   2,   2,   2,   2,   2,   2,\n",
       "           3,   2,  12,   2,   2,   5,  13,   6,   2,   2,   6,   3,  32,\n",
       "           6,   3,  23,   5,   3,   2,  15, 120,   2,   4,   2,  57,   2,\n",
       "           2,   4,   2,   2,   1,   1,   1,   1,   1,   1,   1,   1,   2,\n",
       "           1,   2,  31,   1,   2,   2,   1,   2,   2,   2,   3,   2,   2,\n",
       "           9,   4,   2,   6,   1,  23,  37,   1,   3,   3,   2,   1,   1,\n",
       "           2,   1,   6,   1,   3,   2,  10,   9,  12,   7,   3,   3,  11,\n",
       "           2,   2,   2,   3,   2,   3,   7,  10,   2,   2,   4,   5,   5,\n",
       "           2,   2,   3,   2,   2,   7,   3,   9,   2,   3,   2,   2,  32,\n",
       "           5,  10,   9,   2,   5,   6,   3,   2,   3,  12,   4,   2,   4,\n",
       "          39,  11,  83,   2,   2,   2,   3,   3,   2,   4,   2,   4,   2,\n",
       "           3,   4,   2,   2,   4,   2,   3,  10,   1,   1,   2,   1,   2,\n",
       "          12,   1,   2,   1,   1,   1,   4,   3,   3,   5,   2,   2,   8,\n",
       "           4,   3,   1,   2,   4,   3,   1,   1,   8,  16,   1,   1,   5,\n",
       "           6]], dtype=int64)"
      ]
     },
     "execution_count": 27,
     "metadata": {},
     "output_type": "execute_result"
    }
   ],
   "source": [
    "count_mat = tdf.sum(axis=0)\n",
    "count_mat"
   ]
  },
  {
   "cell_type": "code",
   "execution_count": 28,
   "metadata": {},
   "outputs": [],
   "source": [
    "count = np.squeeze(np.asarray(count_mat))\n",
    "word_count = list(zip(words, count))\n",
    "word_count = sorted(word_count, key=lambda t:t[1], reverse=True)"
   ]
  },
  {
   "cell_type": "code",
   "execution_count": 29,
   "metadata": {},
   "outputs": [
    {
     "data": {
      "text/plain": [
       "[('연동', 120),\n",
       " ('뱅크', 87),\n",
       " ('카카오', 83),\n",
       " ('오류', 57),\n",
       " ('카드', 39),\n",
       " ('인증서', 37),\n",
       " ('공인', 34),\n",
       " ('어플', 32),\n",
       " ('지출', 32),\n",
       " ('은행', 31),\n",
       " ('계속', 27),\n",
       " ('다시', 25),\n",
       " ('업데이트', 23),\n",
       " ('인증', 23),\n",
       " ('너무', 22)]"
      ]
     },
     "execution_count": 29,
     "metadata": {},
     "output_type": "execute_result"
    }
   ],
   "source": [
    "word_count[:15]"
   ]
  },
  {
   "cell_type": "markdown",
   "metadata": {},
   "source": [
    "- 자세한 분석은 더 봐야 알겠지만, 아마 \"연동시 발생하는 문제\" 또는 \"카카오뱅크 미연동\" 문제가 큰 것으로 예상\n",
    "    - 보통 유저들이 다시 시도해보거나 업데이트를 함에도 불구하고 특정 문제가 계속 있는 것으로 보임\n",
    "    - UX로 풀던가, FAQ를 보강하는 방법(검색 기능 추가?) 등을 추가해 유저의 이탈을 이 부분에서 막으면 좋을 것 같음\n",
    "- 추후 긍정/부정 분류기 모델을 만들어서 적용 가능할 것 같음"
   ]
  },
  {
   "cell_type": "code",
   "execution_count": null,
   "metadata": {},
   "outputs": [],
   "source": []
  }
 ],
 "metadata": {
  "kernelspec": {
   "display_name": "Python 3",
   "language": "python",
   "name": "python3"
  },
  "language_info": {
   "codemirror_mode": {
    "name": "ipython",
    "version": 3
   },
   "file_extension": ".py",
   "mimetype": "text/x-python",
   "name": "python",
   "nbconvert_exporter": "python",
   "pygments_lexer": "ipython3",
   "version": "3.6.5"
  },
  "varInspector": {
   "cols": {
    "lenName": 16,
    "lenType": 16,
    "lenVar": 40
   },
   "kernels_config": {
    "python": {
     "delete_cmd_postfix": "",
     "delete_cmd_prefix": "del ",
     "library": "var_list.py",
     "varRefreshCmd": "print(var_dic_list())"
    },
    "r": {
     "delete_cmd_postfix": ") ",
     "delete_cmd_prefix": "rm(",
     "library": "var_list.r",
     "varRefreshCmd": "cat(var_dic_list()) "
    }
   },
   "types_to_exclude": [
    "module",
    "function",
    "builtin_function_or_method",
    "instance",
    "_Feature"
   ],
   "window_display": false
  }
 },
 "nbformat": 4,
 "nbformat_minor": 2
}
