{
 "cells": [
  {
   "cell_type": "markdown",
   "metadata": {},
   "source": [
    "# xlsxWriter\n",
    "\n",
    "## [tutorial](https://xlsxwriter.readthedocs.io/)\n",
    "\n",
    "\n",
    "## install\n",
    "> sudo pip install XlsxWriter\n",
    "\n",
    "- 아나콘다 설치시 기본적으로 내장되어 있음\n"
   ]
  },
  {
   "cell_type": "code",
   "execution_count": 3,
   "metadata": {
    "collapsed": true
   },
   "outputs": [],
   "source": [
    "import xlsxwriter"
   ]
  },
  {
   "cell_type": "code",
   "execution_count": 8,
   "metadata": {
    "collapsed": false
   },
   "outputs": [],
   "source": [
    "workbook = xlsxwriter.Workbook('hello.xlsx')\n",
    "worksheet = workbook.add_worksheet()\n",
    "\n",
    "worksheet.write('A1', 'Hello world')\n",
    "\n",
    "workbook.close()"
   ]
  },
  {
   "cell_type": "markdown",
   "metadata": {},
   "source": [
    "# tutorial 1: Created a Simple XLSX file"
   ]
  },
  {
   "cell_type": "code",
   "execution_count": 9,
   "metadata": {
    "collapsed": true
   },
   "outputs": [],
   "source": [
    "expenses = (\n",
    "    ['Rent', 1000],\n",
    "    ['Gas',   100],\n",
    "    ['Food',  300],\n",
    "    ['Gym',    50],\n",
    ")"
   ]
  },
  {
   "cell_type": "code",
   "execution_count": 12,
   "metadata": {
    "collapsed": true
   },
   "outputs": [],
   "source": [
    "workbook = xlsxwriter.Workbook('Expenses01.xlsx')\n",
    "\n",
    "# worksheet은 sheet1, sheet2, ... 기본 이름이지만 이름을 별도로 붙일 수 있음!\n",
    "worksheet = workbook.add_worksheet()\n",
    "\n",
    "# start from the first cell! zero index\n",
    "row = 0\n",
    "col = 0\n",
    "\n",
    "\n",
    "for item, cost in (expenses):\n",
    "    worksheet.write(row, col, item)\n",
    "    worksheet.write(row, col+1, cost)\n",
    "    row += 1\n",
    "    \n",
    "# 데이터 입력할 경우 write 사용\n",
    "worksheet.write(row, 0, 'Total')\n",
    "worksheet.write(row, 1, '=SUM(B1:B4)')\n",
    "\n",
    "workbook.close() # 항상 닫아줘야함"
   ]
  },
  {
   "cell_type": "markdown",
   "metadata": {},
   "source": [
    "<img src=\"https://xlsxwriter.readthedocs.io/_images/tutorial01.png\">"
   ]
  },
  {
   "cell_type": "markdown",
   "metadata": {},
   "source": [
    "- XlsxWriter can only create new files. It cannot read or modify existing files.\n",
    "- 수정하진 못함 주륵..!"
   ]
  },
  {
   "cell_type": "code",
   "execution_count": 11,
   "metadata": {
    "collapsed": true
   },
   "outputs": [],
   "source": [
    "# default는 sheet1, sheet2 .... 임\n",
    "worksheet1 = workbook.add_worksheet() # sheet1\n",
    "worksheet2 = workbook.add_worksheet('Data')\n",
    "worksheet3 = workbook.add_worksheet() # sheet3"
   ]
  },
  {
   "cell_type": "markdown",
   "metadata": {},
   "source": [
    "# Tutorial 2 : Adding formatting to the XLSX file\n",
    "- 특정 포맷..! bold처리 같은 것들\n",
    "\n",
    "<img src=\"https://xlsxwriter.readthedocs.io/_images/tutorial02.png\">"
   ]
  },
  {
   "cell_type": "code",
   "execution_count": 14,
   "metadata": {
    "collapsed": true
   },
   "outputs": [],
   "source": [
    "workbook = xlsxwriter.Workbook(\"Expenses02.xlsx\")\n",
    "worksheet = workbook.add_worksheet(\"Sheet1\")\n",
    "\n",
    "# bold 처리\n",
    "bold = workbook.add_format({\"bold\": True})\n",
    "\n",
    "# format for cells\n",
    "money = workbook.add_format({\"num_format\": \"$#,##0\"})\n",
    "\n",
    "# header 설정\n",
    "worksheet.write('A1', 'Item', bold)\n",
    "worksheet.write('B1', 'Cost', bold)\n",
    "\n",
    "expenses = (\n",
    "     ['Rent', 1000],\n",
    "     ['Gas',   100],\n",
    "     ['Food',  300],\n",
    "     ['Gym',    50],\n",
    " )\n",
    "\n",
    "row = 1 # header를 작성했기에 row가 1부터 시작\n",
    "col = 0\n",
    "\n",
    "for item, cost in (expenses):\n",
    "    worksheet.write(row, col, item)\n",
    "    worksheet.write(row, col+1, cost, money) \n",
    "    # write(row, col, 넣을 값(token), 형식[format])\n",
    "    row += 1\n",
    "    \n",
    "worksheet.write(row, 0, \"Total\", bold)\n",
    "worksheet.write(row, 1, \"=sum(B2:B5)\", money)\n",
    "\n",
    "workbook.close()"
   ]
  },
  {
   "cell_type": "markdown",
   "metadata": {},
   "source": [
    "# Tutorial 3: Writing different typs of data to the XLSX file\n",
    "\n",
    "- 다른 타입의 데이터를 넣기!\n",
    "\n",
    "<img src=\"https://xlsxwriter.readthedocs.io/_images/tutorial03.png\">\n"
   ]
  },
  {
   "cell_type": "code",
   "execution_count": 16,
   "metadata": {
    "collapsed": false
   },
   "outputs": [],
   "source": [
    "from datetime import datetime\n",
    "\n",
    "workbook = xlsxwriter.Workbook(\"Expenses03.xlsx\")\n",
    "worksheet = workbook.add_worksheet()\n",
    "\n",
    "bold = workbook.add_format({\"bold\":1})\n",
    "\n",
    "money_format = workbook.add_format({\"num_format\": \"$#,##0\"})\n",
    "\n",
    "date_format = workbook.add_format({\"num_format\": \"mmmm d yyyy\"})\n",
    "\n",
    "worksheet.set_column(1, 1, 15) # column의 width 조절\n",
    "\n",
    "worksheet.write(\"A1\", \"Item\", bold)\n",
    "worksheet.write(\"B1\", \"Date\", bold)\n",
    "worksheet.write(\"C1\", \"Cost\", bold)\n",
    "\n",
    "expenses = (\n",
    "     ['Rent', '2013-01-13', 1000],\n",
    "     ['Gas',  '2013-01-14',  100],\n",
    "     ['Food', '2013-01-16',  300],\n",
    "     ['Gym',  '2013-01-20',   50],\n",
    " )\n",
    "\n",
    " # Start from the first cell below the headers.\n",
    "row = 1\n",
    "col = 0\n",
    "\n",
    "for item, date_str, cost in (expenses):\n",
    "    date = datetime.strptime(date_str, \"%Y-%m-%d\")\n",
    "\n",
    "    worksheet.write_string  (row, col, item)\n",
    "    worksheet.write_datetime(row, col + 1, date, date_format )\n",
    "    worksheet.write_number  (row, col + 2, cost, money_format)\n",
    "    row += 1\n",
    "\n",
    "# Write a total using a formula.\n",
    "worksheet.write(row, 0, 'Total', bold)\n",
    "worksheet.write(row, 2, '=SUM(C2:C5)', money_format)\n",
    "\n",
    "workbook.close()"
   ]
  },
  {
   "cell_type": "markdown",
   "metadata": {},
   "source": [
    "## write() method\n",
    "\n",
    "\n",
    "[여기에 더 많은 정보가 있어요](https://xlsxwriter.readthedocs.io/worksheet.html#write_blank)\n",
    "\n",
    "write_string()\n",
    "\n",
    "write_number()\n",
    "\n",
    "write_blank()\n",
    "\n",
    "write_formula()\n",
    "\n",
    "write_datetime()\n",
    "\n",
    "write_boolean()\n",
    "\n",
    "write_url()"
   ]
  },
  {
   "cell_type": "markdown",
   "metadata": {},
   "source": [
    "# workbook class\n",
    "\n",
    "\n",
    "## constant_memory : 메모리에 있는 데이터를 효율적으로 관리\n",
    "workbook = xlsxwriter.Workbook(filename, {\"constant_memory\":True})\n",
    "\n",
    "## tmpdir : 임시 파일을 저장할 장소..!\n",
    "workbook = xlsxwriter.Workbook(filename, {'tmpdir': '/home/user/tmp'})"
   ]
  },
  {
   "cell_type": "markdown",
   "metadata": {},
   "source": [
    "# working with python pandas and xlsxwriter\n",
    "\n",
    "- xlwt와 openpyxl or xlsxWriter 모듈사용"
   ]
  },
  {
   "cell_type": "code",
   "execution_count": 17,
   "metadata": {
    "collapsed": true
   },
   "outputs": [],
   "source": [
    "import pandas as pd"
   ]
  },
  {
   "cell_type": "code",
   "execution_count": 18,
   "metadata": {
    "collapsed": true
   },
   "outputs": [],
   "source": [
    "df = pd.DataFrame({\"Data\": [10, 20, 30, 20, 15, 30, 45]})"
   ]
  },
  {
   "cell_type": "code",
   "execution_count": 19,
   "metadata": {
    "collapsed": false
   },
   "outputs": [
    {
     "data": {
      "text/html": [
       "<div>\n",
       "<table border=\"1\" class=\"dataframe\">\n",
       "  <thead>\n",
       "    <tr style=\"text-align: right;\">\n",
       "      <th></th>\n",
       "      <th>Data</th>\n",
       "    </tr>\n",
       "  </thead>\n",
       "  <tbody>\n",
       "    <tr>\n",
       "      <th>0</th>\n",
       "      <td>10</td>\n",
       "    </tr>\n",
       "    <tr>\n",
       "      <th>1</th>\n",
       "      <td>20</td>\n",
       "    </tr>\n",
       "    <tr>\n",
       "      <th>2</th>\n",
       "      <td>30</td>\n",
       "    </tr>\n",
       "    <tr>\n",
       "      <th>3</th>\n",
       "      <td>20</td>\n",
       "    </tr>\n",
       "    <tr>\n",
       "      <th>4</th>\n",
       "      <td>15</td>\n",
       "    </tr>\n",
       "    <tr>\n",
       "      <th>5</th>\n",
       "      <td>30</td>\n",
       "    </tr>\n",
       "    <tr>\n",
       "      <th>6</th>\n",
       "      <td>45</td>\n",
       "    </tr>\n",
       "  </tbody>\n",
       "</table>\n",
       "</div>"
      ],
      "text/plain": [
       "   Data\n",
       "0    10\n",
       "1    20\n",
       "2    30\n",
       "3    20\n",
       "4    15\n",
       "5    30\n",
       "6    45"
      ]
     },
     "execution_count": 19,
     "metadata": {},
     "output_type": "execute_result"
    }
   ],
   "source": [
    "df"
   ]
  },
  {
   "cell_type": "code",
   "execution_count": 30,
   "metadata": {
    "collapsed": false
   },
   "outputs": [],
   "source": [
    "## pandas로 xlsxwriter 접근하기\n",
    "df = pd.DataFrame({'Data': [10, 20, 30, 20, 15, 30, 45]})\n",
    "\n",
    "writer = pd.ExcelWriter(\"pandas_simple.xlsx\", engine=\"xlsxwriter\")\n",
    "\n",
    "df.to_excel(writer, sheet_name=\"Sheet1\")\n",
    "\n",
    "\n",
    "workbook = writer.book\n",
    "worksheet = writer.sheets[\"Sheet1\"]\n",
    "\n",
    "# chart 객체 생성\n",
    "chart = workbook.add_chart({\"type\":'column'})\n",
    "\n",
    "\n",
    "# dataframe 데이터에서 chart 범위설정\n",
    "chart.add_series({\"values\":\"=Sheet1!$B$2:$B$8\"})\n",
    "\n",
    "# worksheet에 chart 삽입\n",
    "worksheet.insert_chart(\"D2\", chart)\n",
    "\n",
    "writer.save()"
   ]
  },
  {
   "cell_type": "markdown",
   "metadata": {},
   "source": [
    "<img src=\"https://xlsxwriter.readthedocs.io/_images/pandas_chart.png\">"
   ]
  },
  {
   "cell_type": "code",
   "execution_count": 31,
   "metadata": {
    "collapsed": true
   },
   "outputs": [],
   "source": [
    "# 차트 속성을 수정하려면 어떻게 해야할까..!"
   ]
  },
  {
   "cell_type": "code",
   "execution_count": null,
   "metadata": {
    "collapsed": true
   },
   "outputs": [],
   "source": [
    "# dataframe formatting 색깔 설정\n",
    "worksheet.conditional_format('B2:B8', {'type': '3_color_scale'})\n",
    "\n",
    "# 이걸 하면 알록달록 아래처럼 나옴"
   ]
  },
  {
   "cell_type": "markdown",
   "metadata": {},
   "source": [
    "<img src=\"https://xlsxwriter.readthedocs.io/_images/pandas_conditional.png\">"
   ]
  },
  {
   "cell_type": "code",
   "execution_count": 32,
   "metadata": {
    "collapsed": true
   },
   "outputs": [],
   "source": [
    "\n",
    "df1 = pd.DataFrame({'Data': [11, 12, 13, 14]})\n",
    "df2 = pd.DataFrame({'Data': [21, 22, 23, 24]})\n",
    "df3 = pd.DataFrame({'Data': [31, 32, 33, 34]})\n",
    "df4 = pd.DataFrame({'Data': [41, 42, 43, 44]})\n",
    "\n",
    "# writer 설정\n",
    "writer = pd.ExcelWriter('pandas_positioning.xlsx', engine='xlsxwriter')\n",
    "\n",
    "# df1을 넣는 위치 설정\n",
    "df1.to_excel(writer, sheet_name='Sheet1')  # 기초 A1\n",
    "df2.to_excel(writer, sheet_name='Sheet1', startcol=3) # col 4번째(3)부터 시작\n",
    "df3.to_excel(writer, sheet_name='Sheet1', startrow=6) # row 7번째부터 시작\n",
    "\n",
    "# header와 index 없이 설정가능! 단 시작 위치는 고려해야함\n",
    "df4.to_excel(writer, sheet_name='Sheet1',\n",
    "             startrow=7, startcol=4, header=False, index=False)\n",
    "\n",
    "# writer를 닫음\n",
    "writer.save()"
   ]
  },
  {
   "cell_type": "markdown",
   "metadata": {},
   "source": [
    "<img src=\"https://xlsxwriter.readthedocs.io/_images/pandas_positioning.png\">"
   ]
  },
  {
   "cell_type": "markdown",
   "metadata": {},
   "source": [
    "# pandas + xlsx writer + vincent 로 차트 그리기"
   ]
  },
  {
   "cell_type": "code",
   "execution_count": 35,
   "metadata": {
    "collapsed": false
   },
   "outputs": [],
   "source": [
    "list_data = [10, 20, 30, 20, 15, 30, 45]\n",
    "df = pd.DataFrame(list_data)"
   ]
  },
  {
   "cell_type": "code",
   "execution_count": 38,
   "metadata": {
    "collapsed": false
   },
   "outputs": [],
   "source": [
    "excel_file = 'column.xlsx'\n",
    "sheet_name = 'Sheet1'\n",
    "\n",
    "writer = pd.ExcelWriter(excel_file, engine='xlsxwriter')\n",
    "\n",
    "df.to_excel(writer, sheet_name=sheet_name)\n",
    "\n",
    "workbook = writer.book\n",
    "worksheet = writer.sheets[sheet_name]\n",
    "\n",
    "chart = workbook.add_chart({'type': 'column'})\n",
    "\n",
    "chart.add_series({\n",
    "        'values': '=Sheet1!$B$2:$B$8',\n",
    "        'gap': 2 # 여백\n",
    "    })\n",
    "\n",
    "# chart : y axis 설정\n",
    "chart.set_y_axis({'major_gridlines': {'visible': False}})\n",
    "\n",
    "# chart legend(범주) 해제\n",
    "chart.set_legend({'position': 'none'})\n",
    "\n",
    "# insert the chart into the worksheet\n",
    "worksheet.insert_chart('D2', chart) # d2는 에러나고 D2라고 해야되요\n",
    "\n",
    "writer.save()"
   ]
  },
  {
   "cell_type": "markdown",
   "metadata": {},
   "source": [
    "<img src=\"https://pandas-xlsxwriter-charts.readthedocs.io//_images/chart_column.png\">"
   ]
  },
  {
   "cell_type": "code",
   "execution_count": null,
   "metadata": {
    "collapsed": true
   },
   "outputs": [],
   "source": []
  }
 ],
 "metadata": {
  "anaconda-cloud": {},
  "kernelspec": {
   "display_name": "Python [conda root]",
   "language": "python",
   "name": "conda-root-py"
  },
  "language_info": {
   "codemirror_mode": {
    "name": "ipython",
    "version": 3
   },
   "file_extension": ".py",
   "mimetype": "text/x-python",
   "name": "python",
   "nbconvert_exporter": "python",
   "pygments_lexer": "ipython3",
   "version": "3.5.2"
  }
 },
 "nbformat": 4,
 "nbformat_minor": 1
}
