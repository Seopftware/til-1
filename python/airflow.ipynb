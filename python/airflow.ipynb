{
 "cells": [
  {
   "cell_type": "code",
   "execution_count": null,
   "metadata": {
    "collapsed": true
   },
   "outputs": [],
   "source": [
    "from airflow import DAG\n",
    "from airflow.operators.bash_operator import BashOperator\n",
    "from airflow.operators.mysql_operator import MySqlOperator\n",
    "from gcloud import storage\n",
    "\n",
    "from datetime import datetime, date, timedelta\n",
    "from dateutil.relativedelta import relativedelta, SU"
   ]
  },
  {
   "cell_type": "code",
   "execution_count": null,
   "metadata": {
    "collapsed": true
   },
   "outputs": [],
   "source": [
    "default_args = {\n",
    "    'owner': 'sy',\n",
    "    'depends_on_past': False,\n",
    "    'start_date': datetime(2018, 1, 8),\n",
    "    'email': ['snugyun01@gmail.com'],\n",
    "    'email_on_failure': True,\n",
    "    'email_on_retry': True,\n",
    "    'retries': 1,\n",
    "    'retry_delay': timedelta(minutes=5),\n",
    "}"
   ]
  },
  {
   "cell_type": "code",
   "execution_count": null,
   "metadata": {
    "collapsed": true
   },
   "outputs": [],
   "source": [
    "dag = DAG('first_dag', description='dag', default_args=default_args,\n",
    "          schedule_interval='@once', catchup=False)\n",
    "\n",
    "\n",
    "t = date.today() + relativedelta(weekday=SU(-2))\n",
    "suffix = t.strftime(\"%Y%m%d\")\n",
    "\n",
    "first_task = BashOperator(\n",
    "                    task_id='first_task_ios_{}'.format(t),\n",
    "                    bash_command='bash script1.sh ios {t}'.format(t=t),\n",
    "                    dag=dag)\n",
    "\n",
    "second_task = BashOperator(\n",
    "                    task_id='second_task_ios_{}'.format(t),\n",
    "                    bash_command='bash script2.sh ios {t}'.format(t=t),\n",
    "                    dag=dag)\n",
    "\n",
    "# Google Storage Bucket에 있는 파일 개수 체크\n",
    "client = storage.Client(project='project-name')\n",
    "bucket = client.bucket(\"bucket-name\")\n",
    "blobs_file_ios = bucket.list_blobs(prefix='prefix_file_name_{}'.format(suffix))\n",
    "\n",
    "query = \"LOAD DATA LOCAL INFILE '~/airflow/download/{}' INTO TABLE {table} CHARACTER SET utf8 \" \\\n",
    "        \"FIELDS TERMINATED BY ',' LINES TERMINATED BY '\\\\n' IGNORE 1 LINES \"\n",
    "\n",
    "i = 0\n",
    "bulk_insert_tasks = []\n",
    "for blob in blobs_file_ios:\n",
    "    blob_name = blob.name\n",
    "    file_name = blob_name.split(\"/\")[2]\n",
    "    task = MySqlOperator(task_id='insert_{}_{}'.format(t, i),\n",
    "                         sql=query.format(file_name), mysql_conn_id='mysql_default', dag=dag)\n",
    "    bulk_insert_tasks.append(task)\n",
    "    i += 1\n",
    "\n",
    "\n",
    "first_task >> second_task\n",
    "second_task >> bulk_insert_tasks\n"
   ]
  }
 ],
 "metadata": {
  "kernelspec": {
   "display_name": "Python 3",
   "language": "python",
   "name": "python3"
  },
  "language_info": {
   "codemirror_mode": {
    "name": "ipython",
    "version": 3
   },
   "file_extension": ".py",
   "mimetype": "text/x-python",
   "name": "python",
   "nbconvert_exporter": "python",
   "pygments_lexer": "ipython3",
   "version": "3.6.3"
  },
  "latex_envs": {
   "LaTeX_envs_menu_present": true,
   "autocomplete": true,
   "bibliofile": "biblio.bib",
   "cite_by": "apalike",
   "current_citInitial": 1,
   "eqLabelWithNumbers": true,
   "eqNumInitial": 1,
   "hotkeys": {
    "equation": "Ctrl-E",
    "itemize": "Ctrl-I"
   },
   "labels_anchors": false,
   "latex_user_defs": false,
   "report_style_numbering": false,
   "user_envs_cfg": false
  },
  "varInspector": {
   "cols": {
    "lenName": 16,
    "lenType": 16,
    "lenVar": 40
   },
   "kernels_config": {
    "python": {
     "delete_cmd_postfix": "",
     "delete_cmd_prefix": "del ",
     "library": "var_list.py",
     "varRefreshCmd": "print(var_dic_list())"
    },
    "r": {
     "delete_cmd_postfix": ") ",
     "delete_cmd_prefix": "rm(",
     "library": "var_list.r",
     "varRefreshCmd": "cat(var_dic_list()) "
    }
   },
   "types_to_exclude": [
    "module",
    "function",
    "builtin_function_or_method",
    "instance",
    "_Feature"
   ],
   "window_display": false
  }
 },
 "nbformat": 4,
 "nbformat_minor": 2
}
