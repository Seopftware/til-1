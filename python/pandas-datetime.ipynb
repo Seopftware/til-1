{
 "cells": [
  {
   "cell_type": "code",
   "execution_count": 1,
   "metadata": {},
   "outputs": [],
   "source": [
    "import pandas"
   ]
  },
  {
   "cell_type": "code",
   "execution_count": null,
   "metadata": {},
   "outputs": [],
   "source": [
    "df['created_at'] = pd.to_datetime(df['created_at'])\n",
    "df['created_at'] = df['created_at'].dt.tz_localize('UTC').dt.tz_convert('Asia/Seoul')\n",
    "df['cancelled_wait_time'] = df['cancelled_at'] - df['created_at']\n",
    "df['year'] = df['created_at'].dt.year\n",
    "df['month'] = df['created_at'].dt.month\n",
    "df['day'] = df['created_at'].dt.day\n",
    "df['date'] = df['created_at'].dt.date\n",
    "df['time'] = df['created_at'].dt.time\n",
    "df['quarter'] = df['created_at'].dt.quarter\n",
    "df['weekday'] = df['created_at'].dt.weekday\n",
    "df['hour'] = df['created_at'].dt.hour\n",
    "df['created_at'] = pd.to_datetime(df['created_at']) + pd.DateOffset(hours=9)\n",
    "df['created_at_30min'] = df['created_at'].dt.floor(\"30min\")\n",
    "df['created_at_hour'] = df['created_at'].dt.round(\"H\")\n"
   ]
  }
 ],
 "metadata": {
  "kernelspec": {
   "display_name": "Python 3",
   "language": "python",
   "name": "python3"
  },
  "language_info": {
   "codemirror_mode": {
    "name": "ipython",
    "version": 3
   },
   "file_extension": ".py",
   "mimetype": "text/x-python",
   "name": "python",
   "nbconvert_exporter": "python",
   "pygments_lexer": "ipython3",
   "version": "3.6.5"
  },
  "varInspector": {
   "cols": {
    "lenName": 16,
    "lenType": 16,
    "lenVar": 40
   },
   "kernels_config": {
    "python": {
     "delete_cmd_postfix": "",
     "delete_cmd_prefix": "del ",
     "library": "var_list.py",
     "varRefreshCmd": "print(var_dic_list())"
    },
    "r": {
     "delete_cmd_postfix": ") ",
     "delete_cmd_prefix": "rm(",
     "library": "var_list.r",
     "varRefreshCmd": "cat(var_dic_list()) "
    }
   },
   "types_to_exclude": [
    "module",
    "function",
    "builtin_function_or_method",
    "instance",
    "_Feature"
   ],
   "window_display": false
  }
 },
 "nbformat": 4,
 "nbformat_minor": 2
}
