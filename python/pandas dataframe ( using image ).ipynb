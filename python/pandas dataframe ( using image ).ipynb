{
 "cells": [
  {
   "cell_type": "code",
   "execution_count": 1,
   "metadata": {
    "collapsed": true
   },
   "outputs": [],
   "source": [
    "import matplotlib.pyplot as plt\n",
    "import pandas as pd\n",
    "from pandas.tools.plotting import table\n",
    "import numpy as np\n",
    "\n",
    "%matplotlib inline"
   ]
  },
  {
   "cell_type": "markdown",
   "metadata": {},
   "source": [
    "# dataframe to png ( image )"
   ]
  },
  {
   "cell_type": "code",
   "execution_count": 44,
   "metadata": {
    "scrolled": true
   },
   "outputs": [
    {
     "name": "stderr",
     "output_type": "stream",
     "text": [
      "/usr/local/lib/python3.6/site-packages/ipykernel_launcher.py:8: FutureWarning: 'pandas.tools.plotting.table' is deprecated, import 'pandas.plotting.table' instead.\n",
      "  \n"
     ]
    },
    {
     "data": {
      "image/png": "[encoded data removed]",
      "text/plain": [
       "<matplotlib.figure.Figure at 0x10b274cc0>"
      ]
     },
     "metadata": {},
     "output_type": "display_data"
    }
   ],
   "source": [
    "plt.clf() # clear\n",
    "ax = plt.subplot(111, frame_on=False) # visible frame option false\n",
    "ax.xaxis.set_visible(False)  # hide the x axis\n",
    "ax.yaxis.set_visible(False)  # hide the y axis\n",
    "\n",
    "df = pd.DataFrame(np.random.randn(10,5)) # make random dataframe\n",
    "\n",
    "table(ax, df) \n",
    "\n",
    "plt.savefig('./image/mytable.png')"
   ]
  },
  {
   "cell_type": "markdown",
   "metadata": {},
   "source": [
    "# insert image in pandas dataframe ( to html )\n"
   ]
  },
  {
   "cell_type": "code",
   "execution_count": 2,
   "metadata": {},
   "outputs": [
    {
     "data": {
      "text/html": [
       "<style  type=\"text/css\" >\n",
       "    #T_ea085b00_4123_11e7_9214_f40f241fca98 tr:hover {\n",
       "          background-color: #ffff99;\n",
       "    }    #T_ea085b00_4123_11e7_9214_f40f241fca98 th {\n",
       "          font-size: 150%;\n",
       "          text-align: center;\n",
       "    }    #T_ea085b00_4123_11e7_9214_f40f241fca98 caption {\n",
       "          caption-side: bottom;\n",
       "    }</style>  \n",
       "<table id=\"T_ea085b00_4123_11e7_9214_f40f241fca98\" ><caption>Hover to highlight.</caption> \n",
       "<thead>    <tr> \n",
       "        <th class=\"blank level0\" ></th> \n",
       "        <th class=\"col_heading level0 col0\" >A</th> \n",
       "        <th class=\"col_heading level0 col1\" >image</th> \n",
       "        <th class=\"col_heading level0 col2\" >new</th> \n",
       "    </tr></thead> \n",
       "<tbody>    <tr> \n",
       "        <th id=\"T_ea085b00_4123_11e7_9214_f40f241fca98\" class=\"row_heading level0 row0\" >0</th> \n",
       "        <td id=\"T_ea085b00_4123_11e7_9214_f40f241fca98row0_col0\" class=\"data row0 col0\" >1</td> \n",
       "        <td id=\"T_ea085b00_4123_11e7_9214_f40f241fca98row0_col1\" class=\"data row0 col1\" >retrica.png</td> \n",
       "        <td id=\"T_ea085b00_4123_11e7_9214_f40f241fca98row0_col2\" class=\"data row0 col2\" ><img src=\"./image/retrica.png\" width=\"80%\" height=\"80%\"/></td> \n",
       "    </tr>    <tr> \n",
       "        <th id=\"T_ea085b00_4123_11e7_9214_f40f241fca98\" class=\"row_heading level0 row1\" >1</th> \n",
       "        <td id=\"T_ea085b00_4123_11e7_9214_f40f241fca98row1_col0\" class=\"data row1 col0\" >2</td> \n",
       "        <td id=\"T_ea085b00_4123_11e7_9214_f40f241fca98row1_col1\" class=\"data row1 col1\" >retrica.png</td> \n",
       "        <td id=\"T_ea085b00_4123_11e7_9214_f40f241fca98row1_col2\" class=\"data row1 col2\" ><img src=\"./image/retrica.png\" width=\"80%\" height=\"80%\"/></td> \n",
       "    </tr>    <tr> \n",
       "        <th id=\"T_ea085b00_4123_11e7_9214_f40f241fca98\" class=\"row_heading level0 row2\" >2</th> \n",
       "        <td id=\"T_ea085b00_4123_11e7_9214_f40f241fca98row2_col0\" class=\"data row2 col0\" >3</td> \n",
       "        <td id=\"T_ea085b00_4123_11e7_9214_f40f241fca98row2_col1\" class=\"data row2 col1\" >retrica_1.png</td> \n",
       "        <td id=\"T_ea085b00_4123_11e7_9214_f40f241fca98row2_col2\" class=\"data row2 col2\" ><img src=\"./image/retrica_1.png\" width=\"80%\" height=\"80%\"/></td> \n",
       "    </tr></tbody> \n",
       "</table> "
      ],
      "text/plain": [
       "<pandas.io.formats.style.Styler at 0x11416d7f0>"
      ]
     },
     "execution_count": 2,
     "metadata": {},
     "output_type": "execute_result"
    }
   ],
   "source": [
    "from IPython.display import HTML\n",
    "df = pd.DataFrame({'A': np.linspace(1, 3, 3)})\n",
    "df['image'] = 'retrica.png'\n",
    "df.iloc[2,1] = 'retrica_1.png'\n",
    "df['new'] = df['image'].apply(lambda x: '<img src=\"./image/{}\" width=\"80%\" height=\"80%\"/>'.format(x) if x else '')\n",
    "\n",
    "\n",
    "def hover(hover_color=\"#ffff99\"):\n",
    "    return dict(selector=\"tr:hover\",\n",
    "                props=[(\"background-color\", \"%s\" % hover_color)])\n",
    "\n",
    "styles = [\n",
    "    hover(),\n",
    "    dict(selector=\"th\", props=[(\"font-size\", \"150%\"),\n",
    "                               (\"text-align\", \"center\")]),\n",
    "    dict(selector=\"caption\", props=[(\"caption-side\", \"bottom\")])\n",
    "]\n",
    "html = (df.style.set_table_styles(styles)\n",
    "          .set_caption(\"Hover to highlight.\"))\n",
    "\n",
    "html"
   ]
  },
  {
   "cell_type": "code",
   "execution_count": 43,
   "metadata": {},
   "outputs": [
    {
     "data": {
      "text/html": [
       "<div>\n",
       "<style>\n",
       "    .dataframe thead tr:only-child th {\n",
       "        text-align: right;\n",
       "    }\n",
       "\n",
       "    .dataframe thead th {\n",
       "        text-align: left;\n",
       "    }\n",
       "\n",
       "    .dataframe tbody tr th {\n",
       "        vertical-align: top;\n",
       "    }\n",
       "</style>\n",
       "<table border=\"1\" class=\"dataframe\">\n",
       "  <thead>\n",
       "    <tr style=\"text-align: right;\">\n",
       "      <th></th>\n",
       "      <th>A</th>\n",
       "      <th>image</th>\n",
       "      <th>new</th>\n",
       "    </tr>\n",
       "  </thead>\n",
       "  <tbody>\n",
       "    <tr>\n",
       "      <th>0</th>\n",
       "      <td>1.0</td>\n",
       "      <td>retrica.png</td>\n",
       "      <td>&lt;img src=\"retrica.png\"/&gt;</td>\n",
       "    </tr>\n",
       "    <tr>\n",
       "      <th>1</th>\n",
       "      <td>2.0</td>\n",
       "      <td>retrica.png</td>\n",
       "      <td>&lt;img src=\"retrica.png\"/&gt;</td>\n",
       "    </tr>\n",
       "    <tr>\n",
       "      <th>2</th>\n",
       "      <td>3.0</td>\n",
       "      <td>retrica_1.png</td>\n",
       "      <td>&lt;img src=\"retrica_1.png\"/&gt;</td>\n",
       "    </tr>\n",
       "  </tbody>\n",
       "</table>\n",
       "</div>"
      ],
      "text/plain": [
       "     A          image                         new\n",
       "0  1.0    retrica.png    <img src=\"retrica.png\"/>\n",
       "1  2.0    retrica.png    <img src=\"retrica.png\"/>\n",
       "2  3.0  retrica_1.png  <img src=\"retrica_1.png\"/>"
      ]
     },
     "execution_count": 43,
     "metadata": {},
     "output_type": "execute_result"
    }
   ],
   "source": [
    "df"
   ]
  }
 ],
 "metadata": {
  "kernelspec": {
   "display_name": "Python 3",
   "language": "python",
   "name": "python3"
  },
  "language_info": {
   "codemirror_mode": {
    "name": "ipython",
    "version": 3
   },
   "file_extension": ".py",
   "mimetype": "text/x-python",
   "name": "python",
   "nbconvert_exporter": "python",
   "pygments_lexer": "ipython3",
   "version": "3.6.1"
  }
 },
 "nbformat": 4,
 "nbformat_minor": 2
}
