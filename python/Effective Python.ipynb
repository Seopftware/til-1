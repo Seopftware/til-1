{
 "cells": [
  {
   "cell_type": "markdown",
   "metadata": {},
   "source": [
    "# Effective Python\n"
   ]
  },
  {
   "cell_type": "markdown",
   "metadata": {},
   "source": [
    "## Better way 3\n",
    "\n",
    "- 파이썬 3 문자 시퀀스 - bytes (raw 8비트) / str (유니코드 문자)\n",
    "- 파이썬 2 문자 시퀀스 - str (raw 8비트) / unicode (유니코드 문자)\n",
    "\n",
    "유니코드 문자 -> 바이너리 데이터(raw 8비트)로 표현하는 방법은 많음. 일반적으로 UTF-8\n",
    "\n",
    "- 파이썬 3의 str 인스턴스와 파이썬 2의 unicode 인스턴스는 연관된 바이너리 인코딩이 없음\n",
    "- 유니코드 문자를 바이너리 데이터로 변환하려면 encode 메서드를 사용, 바이너리를 유니코드 문자로 변환할 경우 decode 메서드 사용\n",
    "\n"
   ]
  },
  {
   "cell_type": "markdown",
   "metadata": {
    "collapsed": true
   },
   "source": [
    "# better way 45\n",
    "- 지역 시간은 time이 아닌 datetime으로 표현\n",
    "- UTC (협정 세계시) : 시간대에 의존하지 않는 표준 시간 표현.\n",
    "\n",
    "### time\n",
    "- 내장 모듈 time의 localtime 함수는 호스트 컴퓨터의 시간대로 변환\n",
    "\n",
    "### datetime\n",
    "- 한 지역의 시간을 다른 지역 시간으로 신뢰성 있게 변경ㅎ나, tzinfo 클래스와 관련 메서드를 이용한 시간대 변환 기능만 제공\n",
    "\n",
    "### pytz\n",
    "- 모든 시간대에 대한 정의를 담은 전체 데이터베이스를 포함-!\n",
    "- 지역 시간 -> utc -> 지역 시간"
   ]
  },
  {
   "cell_type": "code",
   "execution_count": null,
   "metadata": {
    "collapsed": true
   },
   "outputs": [],
   "source": []
  }
 ],
 "metadata": {
  "kernelspec": {
   "display_name": "Python 3",
   "language": "python",
   "name": "python3"
  },
  "language_info": {
   "codemirror_mode": {
    "name": "ipython",
    "version": 3
   },
   "file_extension": ".py",
   "mimetype": "text/x-python",
   "name": "python",
   "nbconvert_exporter": "python",
   "pygments_lexer": "ipython3",
   "version": "3.6.1"
  }
 },
 "nbformat": 4,
 "nbformat_minor": 2
}
