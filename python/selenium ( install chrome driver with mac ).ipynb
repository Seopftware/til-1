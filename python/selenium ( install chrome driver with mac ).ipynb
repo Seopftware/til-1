{
 "cells": [
  {
   "cell_type": "markdown",
   "metadata": {
    "deletable": true,
    "editable": true
   },
   "source": [
    "# selenium path 설정 ( chrome driver )\n",
    "\n",
    "- [chorome driver 다운](https://sites.google.com/a/chromium.org/chromedriver/downloads)\n",
    "- 다운로드한 파일을 finder에서 더블클릭하면 파일이 나옴\n",
    "- 그 후 terminal을 열어서 echo $PATH 입력\n",
    "- 환경변수 폴더가 나오는데, /usr/local/bin/으로 파일을 옮기면 됩니다!\n",
    "~~~\n",
    "cd Downloads\n",
    "cp chromedriver /usr/local/bin/\n",
    "cd /usr/local/bin/\n",
    "~~~\n",
    "\n",
    "- 확인해보면 이제 크롬으로도 셀레니움 사용 가능!"
   ]
  },
  {
   "cell_type": "markdown",
   "metadata": {
    "deletable": true,
    "editable": true
   },
   "source": [
    "- phantomjs의 경우도 다운받아서 bin파일에 넣는 방법도 있고, 터미널에서 아래와 같이 입력해도됨\n",
    "~~~\n",
    "brew install phantomjs\n",
    "~~~"
   ]
  },
  {
   "cell_type": "markdown",
   "metadata": {},
   "source": [
    "## 최근 selenium을 사용하는 경우, 파이어폭스는 geckodriver를 설치해야함\n",
    "\n",
    "[gecko driver](https://github.com/mozilla/geckodriver/releases)\n",
    "\n",
    "다운로드 후, /usr/local/bin/으로 옮기면 됩니다"
   ]
  },
  {
   "cell_type": "code",
   "execution_count": null,
   "metadata": {
    "collapsed": true,
    "deletable": true,
    "editable": true
   },
   "outputs": [],
   "source": []
  }
 ],
 "metadata": {
  "kernelspec": {
   "display_name": "Python 3",
   "language": "python",
   "name": "python3"
  },
  "language_info": {
   "codemirror_mode": {
    "name": "ipython",
    "version": 3
   },
   "file_extension": ".py",
   "mimetype": "text/x-python",
   "name": "python",
   "nbconvert_exporter": "python",
   "pygments_lexer": "ipython3",
   "version": "3.6.0"
  }
 },
 "nbformat": 4,
 "nbformat_minor": 2
}
