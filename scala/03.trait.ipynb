{
 "cells": [
  {
   "cell_type": "markdown",
   "metadata": {},
   "source": [
    "# 03. trait"
   ]
  },
  {
   "cell_type": "markdown",
   "metadata": {},
   "source": [
    "### Trait\n",
    "- 비슷한 속성을 지닌 Classes들을 한 번에 다루기!!"
   ]
  },
  {
   "cell_type": "code",
   "execution_count": 2,
   "metadata": {},
   "outputs": [
    {
     "name": "stdout",
     "output_type": "stream",
     "text": [
      "Ok!\n"
     ]
    },
    {
     "data": {
      "text/plain": [
       "\u001b[32mimport \u001b[39m\u001b[36mjava.time.{Duration, LocalDateTime}\n",
       "\u001b[39m\n",
       "defined \u001b[32mtrait\u001b[39m \u001b[36mVisitor\u001b[39m\n",
       "defined \u001b[32mclass\u001b[39m \u001b[36mAnonymous\u001b[39m\n",
       "defined \u001b[32mclass\u001b[39m \u001b[36mUser\u001b[39m"
      ]
     },
     "execution_count": 2,
     "metadata": {},
     "output_type": "execute_result"
    }
   ],
   "source": [
    "import java.time.{Duration, LocalDateTime} // import 몰아쓰기\n",
    "\n",
    "trait Visitor {\n",
    "  def id: String\n",
    "  def createdAt: LocalDateTime\n",
    "  def age = Duration.between(createdAt, LocalDateTime.now())\n",
    "}\n",
    "case class Anonymous(\n",
    "  id: String,\n",
    "  createdAt: LocalDateTime = LocalDateTime.now()\n",
    ") extends Visitor\n",
    "case class User(\n",
    "  id: String,\n",
    "  email: String,\n",
    "  createdAt: LocalDateTime = LocalDateTime.now()\n",
    ") extends Visitor\n",
    "println(\"Ok!\")"
   ]
  },
  {
   "cell_type": "code",
   "execution_count": 5,
   "metadata": {},
   "outputs": [
    {
     "name": "stdout",
     "output_type": "stream",
     "text": [
      "Ok!\n"
     ]
    },
    {
     "data": {
      "text/plain": [
       "\u001b[32mimport \u001b[39m\u001b[36mjava.time.Duration\n",
       "\u001b[39m\n",
       "\u001b[32mimport \u001b[39m\u001b[36mjava.time.LocalDateTime\n",
       "\n",
       "\u001b[39m\n",
       "defined \u001b[32mtrait\u001b[39m \u001b[36mVisitor\u001b[39m\n",
       "defined \u001b[32mclass\u001b[39m \u001b[36mAnonymous\u001b[39m\n",
       "defined \u001b[32mclass\u001b[39m \u001b[36mUser\u001b[39m"
      ]
     },
     "execution_count": 5,
     "metadata": {},
     "output_type": "execute_result"
    }
   ],
   "source": [
    "import java.time.Duration\n",
    "import java.time.LocalDateTime\n",
    "\n",
    "trait Visitor {\n",
    "  def id: String\n",
    "  def createdAt: LocalDateTime\n",
    "  def age = java.time.Duration.between(createdAt, LocalDateTime.now())\n",
    "}\n",
    "case class Anonymous(\n",
    "  id: String,\n",
    "  createdAt: LocalDateTime = LocalDateTime.now()\n",
    ") extends Visitor\n",
    "case class User(\n",
    "  id: String,\n",
    "  email: String,\n",
    "  createdAt: LocalDateTime = LocalDateTime.now()\n",
    ") extends Visitor\n",
    "println(\"Ok!\")"
   ]
  },
  {
   "cell_type": "code",
   "execution_count": 6,
   "metadata": {},
   "outputs": [
    {
     "name": "stdout",
     "output_type": "stream",
     "text": [
      "Ok!\n"
     ]
    },
    {
     "data": {
      "text/plain": [
       "\u001b[32mimport \u001b[39m\u001b[36mjava.time.{Duration => D, LocalDateTime}\n",
       "\n",
       "\u001b[39m\n",
       "defined \u001b[32mtrait\u001b[39m \u001b[36mVisitor\u001b[39m\n",
       "defined \u001b[32mclass\u001b[39m \u001b[36mAnonymous\u001b[39m\n",
       "defined \u001b[32mclass\u001b[39m \u001b[36mUser\u001b[39m"
      ]
     },
     "execution_count": 6,
     "metadata": {},
     "output_type": "execute_result"
    }
   ],
   "source": [
    "import java.time.{Duration => D, LocalDateTime}\n",
    "\n",
    "trait Visitor {\n",
    "  def id: String\n",
    "  def createdAt: LocalDateTime\n",
    "  def age = D.between(createdAt, LocalDateTime.now())\n",
    "}\n",
    "case class Anonymous(\n",
    "  id: String,\n",
    "  createdAt: LocalDateTime = LocalDateTime.now()\n",
    ") extends Visitor\n",
    "case class User(\n",
    "  id: String,\n",
    "  email: String,\n",
    "  createdAt: LocalDateTime = LocalDateTime.now()\n",
    ") extends Visitor\n",
    "println(\"Ok!\")"
   ]
  },
  {
   "cell_type": "code",
   "execution_count": 6,
   "metadata": {},
   "outputs": [],
   "source": [
    "// 익명인 사람과 아닌 사람을 확인할 때 사용\n",
    "// 구현 된 method와 안된 method가 존재함. 위에선 구현된 것을 재사용\n",
    "// extends ~는 상속 받는다는 것을 의미\n",
    "// Trait : Java의 인터페이스와 유사함"
   ]
  },
  {
   "cell_type": "markdown",
   "metadata": {},
   "source": [
    "## Sealed Trait\n",
    "- 달라진 것은 sealed라는 호칭이 하나 더 붙은 것\n",
    "- 같은 file에만 존재한다는 의미! 다른 파일은 상속받는 사람이 없다!\n",
    "- sealed를 사용할 경우 장점은 Visitor는 Anonymous와 User뿐! 잘못된 코딩을 예방할 수 있음"
   ]
  },
  {
   "cell_type": "code",
   "execution_count": 7,
   "metadata": {},
   "outputs": [
    {
     "data": {
      "text/plain": [
       "\u001b[32mimport \u001b[39m\u001b[36mjava.time.{Duration, LocalDateTime}\n",
       "\u001b[39m\n",
       "defined \u001b[32mtrait\u001b[39m \u001b[36mVisitor\u001b[39m\n",
       "defined \u001b[32mclass\u001b[39m \u001b[36mAnonymous\u001b[39m\n",
       "defined \u001b[32mclass\u001b[39m \u001b[36mUser\u001b[39m"
      ]
     },
     "execution_count": 7,
     "metadata": {},
     "output_type": "execute_result"
    }
   ],
   "source": [
    "import java.time.{Duration, LocalDateTime}\n",
    "sealed trait Visitor {\n",
    "  def id: String\n",
    "  def createdAt: LocalDateTime\n",
    "  def age = Duration.between(createdAt, LocalDateTime.now())\n",
    "}\n",
    "case class Anonymous(\n",
    "  id: String,\n",
    "  createdAt: LocalDateTime = LocalDateTime.now()\n",
    ") extends Visitor\n",
    "case class User(\n",
    "  id: String,\n",
    "  email: String,\n",
    "  createdAt: LocalDateTime = LocalDateTime.now()\n",
    ") extends Visitor"
   ]
  },
  {
   "cell_type": "code",
   "execution_count": 8,
   "metadata": {},
   "outputs": [
    {
     "data": {
      "text/plain": [
       "defined \u001b[32mfunction\u001b[39m \u001b[36mmissingCase\u001b[39m"
      ]
     },
     "execution_count": 8,
     "metadata": {},
     "output_type": "execute_result"
    }
   ],
   "source": [
    "def missingCase(v: Visitor) = v match {\n",
    "  case User(_, _, _) => \"Got a user\"\n",
    "}"
   ]
  },
  {
   "cell_type": "code",
   "execution_count": 8,
   "metadata": {},
   "outputs": [],
   "source": [
    "<pastie>:18: warning: match may not be exhaustive.\n",
    "It would fail on the following input: Anonymous(_, _)\n",
    "def missingCase(v: Visitor) = v match {\n",
    "                              ^\n",
    "missingCase: (v: Visitor)String"
   ]
  },
  {
   "cell_type": "markdown",
   "metadata": {},
   "source": [
    "## Final\n",
    "- 특정 클래스는 더이상 extend가 불가능하다고 이야기하고 싶을 때!\n",
    "- 상속이 더 안됨!"
   ]
  },
  {
   "cell_type": "code",
   "execution_count": 9,
   "metadata": {},
   "outputs": [
    {
     "data": {
      "text/plain": [
       "defined \u001b[32mtrait\u001b[39m \u001b[36mVisitor\u001b[39m\n",
       "defined \u001b[32mclass\u001b[39m \u001b[36mUser\u001b[39m\n",
       "defined \u001b[32mclass\u001b[39m \u001b[36mAnonymous\u001b[39m"
      ]
     },
     "execution_count": 9,
     "metadata": {},
     "output_type": "execute_result"
    }
   ],
   "source": [
    "sealed trait Visitor { /* ... */ }\n",
    "final case class User(/* ... */) extends Visitor\n",
    "final case class Anonymous(/* ... */) extends Visitor"
   ]
  },
  {
   "cell_type": "markdown",
   "metadata": {},
   "source": [
    "## PRODUCT TYPE PATTERN\n",
    "- Foo가 a(type A), b(type B), c(type C)를 가졌으면:"
   ]
  },
  {
   "cell_type": "code",
   "execution_count": 9,
   "metadata": {},
   "outputs": [],
   "source": [
    "case class Foo(a: A, b: B, c: C)"
   ]
  },
  {
   "cell_type": "markdown",
   "metadata": {},
   "source": [
    "## SUM TYPE PATTERN\n",
    "- Foo가 A, B 또는 C이면:\n",
    "- 이거 아니면 저거"
   ]
  },
  {
   "cell_type": "code",
   "execution_count": null,
   "metadata": {},
   "outputs": [],
   "source": [
    "sealed trait Foo\n",
    "final case class A() extends Foo\n",
    "final case class B() extends Foo\n",
    "final case class C() extends Foo"
   ]
  },
  {
   "cell_type": "markdown",
   "metadata": {},
   "source": [
    "## FOO HAS A, B OR C"
   ]
  },
  {
   "cell_type": "code",
   "execution_count": 10,
   "metadata": {},
   "outputs": [
    {
     "data": {
      "text/plain": [
       "defined \u001b[32mtrait\u001b[39m \u001b[36mFoo\u001b[39m\n",
       "defined \u001b[32mtrait\u001b[39m \u001b[36mBar\u001b[39m\n",
       "defined \u001b[32mclass\u001b[39m \u001b[36mA\u001b[39m\n",
       "defined \u001b[32mclass\u001b[39m \u001b[36mB\u001b[39m\n",
       "defined \u001b[32mclass\u001b[39m \u001b[36mC\u001b[39m"
      ]
     },
     "execution_count": 10,
     "metadata": {},
     "output_type": "execute_result"
    }
   ],
   "source": [
    "trait Foo {\n",
    "  def bar: Bar\n",
    "}\n",
    "sealed trait Bar\n",
    "final case class A() extends Bar\n",
    "final case class B() extends Bar\n",
    "final case class C() extends Bar\n",
    "// 이런 방식을 더 선호"
   ]
  },
  {
   "cell_type": "code",
   "execution_count": 11,
   "metadata": {},
   "outputs": [
    {
     "data": {
      "text/plain": [
       "defined \u001b[32mtrait\u001b[39m \u001b[36mFoo\u001b[39m\n",
       "defined \u001b[32mclass\u001b[39m \u001b[36mBar\u001b[39m\n",
       "defined \u001b[32mclass\u001b[39m \u001b[36mBaz\u001b[39m\n",
       "defined \u001b[32mclass\u001b[39m \u001b[36mQux\u001b[39m"
      ]
     },
     "execution_count": 11,
     "metadata": {},
     "output_type": "execute_result"
    }
   ],
   "source": [
    "sealed trait Foo\n",
    "final case class Bar(a: A) extends Foo\n",
    "final case class Baz(b: B) extends Foo\n",
    "final case class Qux(c: C) extends Foo"
   ]
  },
  {
   "cell_type": "code",
   "execution_count": 12,
   "metadata": {},
   "outputs": [
    {
     "data": {
      "text/plain": [
       "defined \u001b[32mtrait\u001b[39m \u001b[36mA\u001b[39m\n",
       "defined \u001b[32mtrait\u001b[39m \u001b[36mB\u001b[39m\n",
       "defined \u001b[32mtrait\u001b[39m \u001b[36mC\u001b[39m\n",
       "defined \u001b[32mtrait\u001b[39m \u001b[36mFoo\u001b[39m"
      ]
     },
     "execution_count": 12,
     "metadata": {},
     "output_type": "execute_result"
    }
   ],
   "source": [
    "// FOO IS A, B AND C : with\n",
    "// 다중 상속!\n",
    "// trait에서만 다중 상속\n",
    "// trait만 상속하고 나머지에선 상속을 안하는 것을 추천드립니다\n",
    "\n",
    "\n",
    "trait A\n",
    "trait B\n",
    "trait C\n",
    "trait Foo extends A with B with C"
   ]
  },
  {
   "cell_type": "markdown",
   "metadata": {},
   "source": [
    "## DIAMOND INHERITANCE PROBLEMS"
   ]
  },
  {
   "cell_type": "code",
   "execution_count": 13,
   "metadata": {},
   "outputs": [
    {
     "data": {
      "text/plain": [
       "defined \u001b[32mtrait\u001b[39m \u001b[36mFoo\u001b[39m\n",
       "defined \u001b[32mtrait\u001b[39m \u001b[36mBar\u001b[39m\n",
       "defined \u001b[32mtrait\u001b[39m \u001b[36mBaz\u001b[39m\n",
       "defined \u001b[32mobject\u001b[39m \u001b[36mQux\u001b[39m"
      ]
     },
     "execution_count": 13,
     "metadata": {},
     "output_type": "execute_result"
    }
   ],
   "source": [
    "trait Foo {\n",
    "  def sound: String\n",
    "}\n",
    "trait Bar extends Foo {\n",
    "  override def sound = \"Baaaaaaar!\"\n",
    "}\n",
    "trait Baz extends Foo {\n",
    "  override def sound = \"Baaaaaaaaz!\"\n",
    "}\n",
    "case object Qux extends Bar with Baz\n",
    "// Bar를 하고 Baz를 덮어씀! 제일 우측에 있는 것이 적용됨\n",
    "// override : method를 덮어 씌워라!"
   ]
  },
  {
   "cell_type": "code",
   "execution_count": 15,
   "metadata": {},
   "outputs": [
    {
     "data": {
      "text/plain": [
       "\u001b[36mres14\u001b[39m: \u001b[32mString\u001b[39m = \u001b[32m\"Baaaaaaaaz!\"\u001b[39m"
      ]
     },
     "execution_count": 15,
     "metadata": {},
     "output_type": "execute_result"
    }
   ],
   "source": [
    "Qux.sound"
   ]
  },
  {
   "cell_type": "markdown",
   "metadata": {},
   "source": [
    "## POLYMORPHISM VS PATTERN MATCHING\n",
    "- POLYMORPHISM : 상속을 받아 내용을 바꾸는 것\n",
    "- PATTERN MATCHING : 케이스를 쪼개서 분기 처리\n",
    "\n",
    "- 둘 다 구현 가능! \n",
    "\n",
    "### POLYMORPHISM EXAMPLE"
   ]
  },
  {
   "cell_type": "code",
   "execution_count": 16,
   "metadata": {},
   "outputs": [
    {
     "data": {
      "text/plain": [
       "defined \u001b[32mtrait\u001b[39m \u001b[36mAnimal\u001b[39m\n",
       "defined \u001b[32mclass\u001b[39m \u001b[36mCat\u001b[39m\n",
       "defined \u001b[32mclass\u001b[39m \u001b[36mDog\u001b[39m"
      ]
     },
     "execution_count": 16,
     "metadata": {},
     "output_type": "execute_result"
    }
   ],
   "source": [
    "trait Animal {\n",
    "  def sound: String\n",
    "}\n",
    "class Cat extends Animal {\n",
    "  override def sound: String = \"mew\"\n",
    "}\n",
    "class Dog extends Animal {\n",
    "  override def sound: String = \"bowwow\"\n",
    "}\n"
   ]
  },
  {
   "cell_type": "code",
   "execution_count": 17,
   "metadata": {},
   "outputs": [
    {
     "data": {
      "text/plain": [
       "\u001b[36mcat1\u001b[39m: \u001b[32mCat\u001b[39m = $sess.cmd15Wrapper$Helper$Cat@474c6562"
      ]
     },
     "execution_count": 17,
     "metadata": {},
     "output_type": "execute_result"
    }
   ],
   "source": [
    "val cat1 = new Cat"
   ]
  },
  {
   "cell_type": "code",
   "execution_count": 18,
   "metadata": {},
   "outputs": [
    {
     "data": {
      "text/plain": [
       "\u001b[36mres17\u001b[39m: \u001b[32mString\u001b[39m = \u001b[32m\"mew\"\u001b[39m"
      ]
     },
     "execution_count": 18,
     "metadata": {},
     "output_type": "execute_result"
    }
   ],
   "source": [
    "cat1.sound"
   ]
  },
  {
   "cell_type": "markdown",
   "metadata": {},
   "source": [
    "## PATTERN MATCHING\n",
    "- 상위 trait에 this match"
   ]
  },
  {
   "cell_type": "code",
   "execution_count": 19,
   "metadata": {},
   "outputs": [
    {
     "data": {
      "text/plain": [
       "defined \u001b[32mtrait\u001b[39m \u001b[36mInteger\u001b[39m\n",
       "defined \u001b[32mclass\u001b[39m \u001b[36mNaturalNumber\u001b[39m\n",
       "defined \u001b[32mclass\u001b[39m \u001b[36mNegativeInteger\u001b[39m\n",
       "defined \u001b[32mobject\u001b[39m \u001b[36mZero\u001b[39m"
      ]
     },
     "execution_count": 19,
     "metadata": {},
     "output_type": "execute_result"
    }
   ],
   "source": [
    "sealed trait Integer {\n",
    "  def abs: Int = this match {\n",
    "    case NaturalNumber(n) => n\n",
    "    case Zero => 0\n",
    "    case NegativeInteger(n) => -n\n",
    "  }\n",
    "}\n",
    "final case class NaturalNumber(n: Int) extends Integer\n",
    "final case class NegativeInteger(n: Int) extends Integer\n",
    "final case object Zero extends Integer"
   ]
  },
  {
   "cell_type": "markdown",
   "metadata": {},
   "source": [
    "- 어떤 경우에 POLYMORPHISM?\n",
    "    - 케이스를 계속 늘려갈 경우\n",
    "- 어떤 경우 PATTERN MATCHING?\n",
    "    - 자료 구조는 그대로고 method가 변하는 경우\n",
    "    - sealed, final을 이용해 빠지는 method을 검사해서 사용 가능\n",
    "    - 이 형태가 조금 더 functional에 가까움"
   ]
  },
  {
   "cell_type": "code",
   "execution_count": 19,
   "metadata": {},
   "outputs": [
    {
     "ename": "",
     "evalue": "",
     "output_type": "error",
     "traceback": [
      "SyntaxError: found \"}\\n    def area: Doub\", expected TypePattern | BindPattern at index 227",
      "    }",
      "    ^"
     ]
    }
   ],
   "source": [
    "sealed trait shape{\n",
    "\n",
    "    def sides: Double = this match {\n",
    "        case Circle(r) => 0\n",
    "        case Rectagle(r) => 4\n",
    "        case Square(r) => 4\n",
    "    }\n",
    "    def perimeter: Double = this match {\n",
    "        case Circle(r) => \n",
    "        case\n",
    "    }\n",
    "    def area: Double = this match {\n",
    "        case Circle(r) =>\n",
    "        case Recta\n",
    "    }\n",
    "}"
   ]
  },
  {
   "cell_type": "markdown",
   "metadata": {},
   "source": [
    "## 실습 : Shape trait을 구현\n",
    "- sides는 변의 숫자를 구합니다.\n",
    "- perimeter는 둘레를 구합니다.\n",
    "- area는 면적을 구합니다"
   ]
  },
  {
   "cell_type": "code",
   "execution_count": 22,
   "metadata": {},
   "outputs": [
    {
     "name": "stdout",
     "output_type": "stream",
     "text": [
      "OK\n"
     ]
    },
    {
     "data": {
      "text/plain": [
       "defined \u001b[32mtrait\u001b[39m \u001b[36mShape\u001b[39m\n",
       "defined \u001b[32mclass\u001b[39m \u001b[36mCircle\u001b[39m\n",
       "defined \u001b[32mclass\u001b[39m \u001b[36mRectangel\u001b[39m\n",
       "defined \u001b[32mclass\u001b[39m \u001b[36mSquare\u001b[39m"
      ]
     },
     "execution_count": 22,
     "metadata": {},
     "output_type": "execute_result"
    }
   ],
   "source": [
    "sealed trait Shape {\n",
    "    def sides: Int\n",
    "    def perimeter: Double\n",
    "    def area: Double\n",
    "}\n",
    "\n",
    "case class Circle(radius: Double) extends Shape{\n",
    "    override val sides = 0\n",
    "    override val perimeter = 2 * math.Pi * radius\n",
    "    override val area = math.Pi * radius * radius\n",
    "}\n",
    "\n",
    "case class Rectangle(width: Double, height: Double) extends Shape {\n",
    "    override val sides = 4\n",
    "    override val perimeter = 2 * (width + height)\n",
    "    override val area = width * height\n",
    "}\n",
    "\n",
    "case class Square(side: Double) extends Shape {\n",
    "    override val sides = 4\n",
    "    override val perimeter = 4 * side\n",
    "    override val area = side * side\n",
    "}\n",
    "println(\"OK\")"
   ]
  },
  {
   "cell_type": "markdown",
   "metadata": {},
   "source": [
    "### Rectanguler 시리즈로 묶는다면"
   ]
  },
  {
   "cell_type": "code",
   "execution_count": 23,
   "metadata": {},
   "outputs": [
    {
     "name": "stdout",
     "output_type": "stream",
     "text": [
      "OK\n"
     ]
    },
    {
     "data": {
      "text/plain": [
       "defined \u001b[32mtrait\u001b[39m \u001b[36mShape\u001b[39m\n",
       "defined \u001b[32mclass\u001b[39m \u001b[36mCircle\u001b[39m\n",
       "defined \u001b[32mtrait\u001b[39m \u001b[36mRectangular\u001b[39m\n",
       "defined \u001b[32mclass\u001b[39m \u001b[36mRectangle\u001b[39m\n",
       "defined \u001b[32mclass\u001b[39m \u001b[36mSquare\u001b[39m"
      ]
     },
     "execution_count": 23,
     "metadata": {},
     "output_type": "execute_result"
    }
   ],
   "source": [
    "sealed trait Shape {\n",
    "    def sides: Int\n",
    "    def perimeter: Double\n",
    "    def area: Double\n",
    "}\n",
    "\n",
    "case class Circle(radius: Double) extends Shape{\n",
    "    override val sides = 0\n",
    "    override val perimeter = 2 * math.Pi * radius\n",
    "    override val area = math.Pi * radius * radius\n",
    "}\n",
    "\n",
    "trait Rectangular extends Shape {\n",
    "    def width: Double\n",
    "    def height: Double\n",
    "    \n",
    "    override val sides = 4\n",
    "    override val perimeter = 2 * (width + height)\n",
    "    override val area = width * height    \n",
    "}\n",
    "\n",
    "case class Rectangle(width: Double, height: Double) extends Rectangular\n",
    "case class Square(side: Double) extends Rectangular {\n",
    "    override val width = side\n",
    "    override val height = side\n",
    "}\n",
    "\n",
    "println(\"OK\")"
   ]
  },
  {
   "cell_type": "code",
   "execution_count": null,
   "metadata": {},
   "outputs": [],
   "source": []
  },
  {
   "cell_type": "markdown",
   "metadata": {},
   "source": [
    "## 연습 : 신호등\n",
    "- Red, Green, Yellow로 구성된\n",
    "\n",
    "- TrafficLight 데이터타입을 구현해보세요"
   ]
  },
  {
   "cell_type": "markdown",
   "metadata": {},
   "source": [
    "- Red → Green → Yellow → Red 로 순환되는 method next를 구현해보세요.\n",
    "\n",
    "- 메소드를 클래스 외부에 구현해보세요.\n",
    "- 메소드를 클래스 내부에 polymorphism으로 구현해보세요.\n",
    "- 메소드를 클래스 내부에 패턴 매칭으로 구현해보세요.\n",
    "- 어떤 방법이 가장 나은가요? 그 이유는?"
   ]
  },
  {
   "cell_type": "markdown",
   "metadata": {},
   "source": [
    "### 외부"
   ]
  },
  {
   "cell_type": "code",
   "execution_count": 29,
   "metadata": {},
   "outputs": [
    {
     "name": "stdout",
     "output_type": "stream",
     "text": [
      "OK\n"
     ]
    },
    {
     "data": {
      "text/plain": [
       "defined \u001b[32mtrait\u001b[39m \u001b[36mTrafficLight\u001b[39m\n",
       "defined \u001b[32mobject\u001b[39m \u001b[36mRed\u001b[39m\n",
       "defined \u001b[32mobject\u001b[39m \u001b[36mGreen\u001b[39m\n",
       "defined \u001b[32mobject\u001b[39m \u001b[36mYellow\u001b[39m\n",
       "defined \u001b[32mfunction\u001b[39m \u001b[36mnext\u001b[39m"
      ]
     },
     "execution_count": 29,
     "metadata": {},
     "output_type": "execute_result"
    }
   ],
   "source": [
    "sealed trait TrafficLight \n",
    "\n",
    "case object Red extends TrafficLight\n",
    "case object Green extends TrafficLight\n",
    "case object Yellow extends TrafficLight\n",
    "// 파라미터가 필요하지 않기 떄문에 case object로!!!!\n",
    "\n",
    "def next(current: TrafficLight): TrafficLight = current match {\n",
    "    case Red => Green\n",
    "    case Green => Yellow\n",
    "    case Yellow => Red\n",
    "}\n",
    "\n",
    "\n",
    "assert(next(Red) == Green)\n",
    "assert(next(Green) == Yellow)\n",
    "assert(next(Yellow) == Red)\n",
    "\n",
    "println(\"OK\")"
   ]
  },
  {
   "cell_type": "markdown",
   "metadata": {},
   "source": [
    "- 케이스 외부 : 아예 밖에 해보라는 것"
   ]
  },
  {
   "cell_type": "code",
   "execution_count": 26,
   "metadata": {},
   "outputs": [
    {
     "data": {
      "text/plain": [
       "\u001b[36mres25\u001b[39m: \u001b[32mTrafficLight\u001b[39m = Green"
      ]
     },
     "execution_count": 26,
     "metadata": {},
     "output_type": "execute_result"
    }
   ],
   "source": [
    "next(Red)"
   ]
  },
  {
   "cell_type": "code",
   "execution_count": 27,
   "metadata": {},
   "outputs": [
    {
     "data": {
      "text/plain": [
       "\u001b[36mres26\u001b[39m: \u001b[32mTrafficLight\u001b[39m = Yellow"
      ]
     },
     "execution_count": 27,
     "metadata": {},
     "output_type": "execute_result"
    }
   ],
   "source": [
    "next(Green)"
   ]
  },
  {
   "cell_type": "code",
   "execution_count": 28,
   "metadata": {},
   "outputs": [
    {
     "data": {
      "text/plain": [
       "\u001b[36mres27\u001b[39m: \u001b[32mTrafficLight\u001b[39m = Red"
      ]
     },
     "execution_count": 28,
     "metadata": {},
     "output_type": "execute_result"
    }
   ],
   "source": [
    "next(Yellow)"
   ]
  },
  {
   "cell_type": "markdown",
   "metadata": {},
   "source": [
    "### this : 파이썬의 self와 같은 존재!!!! 클래스 내부에서 존재"
   ]
  },
  {
   "cell_type": "markdown",
   "metadata": {},
   "source": [
    "### 내부 polymorphism"
   ]
  },
  {
   "cell_type": "markdown",
   "metadata": {},
   "source": [
    "- 인자가 없으니 case object"
   ]
  },
  {
   "cell_type": "code",
   "execution_count": 36,
   "metadata": {},
   "outputs": [
    {
     "data": {
      "text/plain": [
       "defined \u001b[32mtrait\u001b[39m \u001b[36mTrafficLight\u001b[39m\n",
       "defined \u001b[32mobject\u001b[39m \u001b[36mRed\u001b[39m\n",
       "defined \u001b[32mobject\u001b[39m \u001b[36mGreen\u001b[39m\n",
       "defined \u001b[32mobject\u001b[39m \u001b[36mYellow\u001b[39m"
      ]
     },
     "execution_count": 36,
     "metadata": {},
     "output_type": "execute_result"
    }
   ],
   "source": [
    "sealed trait TrafficLight {\n",
    "    def next: TrafficLight\n",
    "}\n",
    "\n",
    "case object Red extends TrafficLight {\n",
    "    override lazy val next: TrafficLight = Green\n",
    "}\n",
    "\n",
    "case object Green extends TrafficLight {\n",
    "    override lazy val next: TrafficLight = Yellow\n",
    "}\n",
    "\n",
    "case object Yellow extends TrafficLight {\n",
    "    override lazy val next: TrafficLight = Red\n",
    "}\n",
    "\n",
    "assert(Red.next == Green)\n",
    "assert(Green.next == Yellow)\n",
    "assert(Yellow.next == Red)"
   ]
  },
  {
   "cell_type": "markdown",
   "metadata": {},
   "source": [
    "- lazy를 안하니 StackOverFlow Error가 발생했는데, 이건 재귀적인 무언가 에러같은데 lazy를 넣어서 중간에 끊어주면 됨"
   ]
  },
  {
   "cell_type": "markdown",
   "metadata": {},
   "source": [
    "### 내부에 패턴 매칭"
   ]
  },
  {
   "cell_type": "code",
   "execution_count": 41,
   "metadata": {},
   "outputs": [
    {
     "name": "stdout",
     "output_type": "stream",
     "text": [
      "OK\n"
     ]
    },
    {
     "data": {
      "text/plain": [
       "defined \u001b[32mtrait\u001b[39m \u001b[36mTrafficLight\u001b[39m\n",
       "defined \u001b[32mobject\u001b[39m \u001b[36mRed\u001b[39m\n",
       "defined \u001b[32mobject\u001b[39m \u001b[36mGreen\u001b[39m\n",
       "defined \u001b[32mobject\u001b[39m \u001b[36mYellow\u001b[39m"
      ]
     },
     "execution_count": 41,
     "metadata": {},
     "output_type": "execute_result"
    }
   ],
   "source": [
    "sealed trait TrafficLight {\n",
    "    def next: TrafficLight = this match {\n",
    "        case Red => Green\n",
    "        case Green => Yellow\n",
    "        case Yellow => Red\n",
    "    }\n",
    "}\n",
    "\n",
    "case object Red extends TrafficLight\n",
    "case object Green extends TrafficLight\n",
    "case object Yellow extends TrafficLight\n",
    "\n",
    "\n",
    "assert(Red.next == Green)\n",
    "assert(Green.next == Yellow)\n",
    "assert(Yellow.next == Red)\n",
    "\n",
    "println(\"OK\")"
   ]
  },
  {
   "cell_type": "markdown",
   "metadata": {},
   "source": [
    "- 신호등은 3개밖에 존재하지 않기 때문에 패턴 매칭이 더 나음\n",
    "- 클래스 외부에 구현하는 것은 여러가지 구현이 있으면 가능하지만, default처럼 쓰려면 내부에\n",
    "- 순서가 바뀌지 않는 전제가 있다면 내부에 패턴 매칭이 제일 적절"
   ]
  },
  {
   "cell_type": "markdown",
   "metadata": {},
   "source": [
    "## RECURSIVE DATA\n",
    "- functional 함수에선 재귀적인 스타일로 많이 짬"
   ]
  },
  {
   "cell_type": "code",
   "execution_count": 42,
   "metadata": {},
   "outputs": [
    {
     "data": {
      "text/plain": [
       "defined \u001b[32mtrait\u001b[39m \u001b[36mPeanoNumber\u001b[39m\n",
       "defined \u001b[32mobject\u001b[39m \u001b[36mZero\u001b[39m\n",
       "defined \u001b[32mclass\u001b[39m \u001b[36mSucc\u001b[39m"
      ]
     },
     "execution_count": 42,
     "metadata": {},
     "output_type": "execute_result"
    }
   ],
   "source": [
    "sealed trait PeanoNumber {\n",
    "  def toInt: Int = this match {\n",
    "    case Zero => 0\n",
    "    case Succ(prev) => 1 + prev.toInt\n",
    "  }\n",
    "}\n",
    "final case object Zero extends PeanoNumber\n",
    "final case class Succ(prev: PeanoNumber) extends PeanoNumber\n"
   ]
  },
  {
   "cell_type": "markdown",
   "metadata": {},
   "source": [
    "- 모든 자연수를 표현할 수 있음\n",
    "- 재귀적 케이스"
   ]
  },
  {
   "cell_type": "code",
   "execution_count": 43,
   "metadata": {},
   "outputs": [
    {
     "data": {
      "text/plain": [
       "\u001b[36mres42\u001b[39m: \u001b[32mInt\u001b[39m = \u001b[32m0\u001b[39m"
      ]
     },
     "execution_count": 43,
     "metadata": {},
     "output_type": "execute_result"
    }
   ],
   "source": [
    "Zero.toInt"
   ]
  },
  {
   "cell_type": "code",
   "execution_count": 44,
   "metadata": {},
   "outputs": [
    {
     "data": {
      "text/plain": [
       "\u001b[36mres43\u001b[39m: \u001b[32mInt\u001b[39m = \u001b[32m3\u001b[39m"
      ]
     },
     "execution_count": 44,
     "metadata": {},
     "output_type": "execute_result"
    }
   ],
   "source": [
    "Succ(Succ(Succ(Zero))).toInt"
   ]
  },
  {
   "cell_type": "code",
   "execution_count": 45,
   "metadata": {},
   "outputs": [
    {
     "data": {
      "text/plain": [
       "\u001b[36mres44\u001b[39m: \u001b[32mInt\u001b[39m = \u001b[32m2\u001b[39m"
      ]
     },
     "execution_count": 45,
     "metadata": {},
     "output_type": "execute_result"
    }
   ],
   "source": [
    "Succ(Succ(Zero)).toInt"
   ]
  },
  {
   "cell_type": "code",
   "execution_count": 46,
   "metadata": {},
   "outputs": [
    {
     "data": {
      "text/plain": [
       "defined \u001b[32mtrait\u001b[39m \u001b[36mTree\u001b[39m\n",
       "defined \u001b[32mobject\u001b[39m \u001b[36mLeaf\u001b[39m\n",
       "defined \u001b[32mclass\u001b[39m \u001b[36mNode\u001b[39m"
      ]
     },
     "execution_count": 46,
     "metadata": {},
     "output_type": "execute_result"
    }
   ],
   "source": [
    "// 구조만 있는 Tree 저장은 없어용\n",
    "sealed trait Tree\n",
    "final case object Leaf extends Tree\n",
    "final case class Node(left: Tree, right: Tree) extends Tree\n",
    "// 이건 Tail Recurson을 만들 수는 없음! 그러나 StackOverflow Error를 방지하기 위해 Heap을 사용함"
   ]
  },
  {
   "cell_type": "markdown",
   "metadata": {},
   "source": [
    "- Stack : 빠르게 Access할 수 있는, 재귀를 다루는 친구\n",
    "- Heap : object를 선언할 경우 외부의 heap에 만들어주고 관리. 느리지만 오래 가는 친구"
   ]
  },
  {
   "cell_type": "code",
   "execution_count": 47,
   "metadata": {},
   "outputs": [
    {
     "data": {
      "text/plain": [
       "defined \u001b[32mfunction\u001b[39m \u001b[36mheight\u001b[39m"
      ]
     },
     "execution_count": 47,
     "metadata": {},
     "output_type": "execute_result"
    }
   ],
   "source": [
    "def height(tree: Tree): Int = tree match {\n",
    "  case Leaf => 0\n",
    "  case Node(left, right) => 1 + (height(left) max height(right))\n",
    "}\n"
   ]
  },
  {
   "cell_type": "markdown",
   "metadata": {},
   "source": [
    "(height(left) max height(right)) : 둘 중 큰거를 해라!"
   ]
  },
  {
   "cell_type": "code",
   "execution_count": 48,
   "metadata": {},
   "outputs": [
    {
     "data": {
      "text/plain": [
       "\u001b[36mres47\u001b[39m: \u001b[32mInt\u001b[39m = \u001b[32m3\u001b[39m"
      ]
     },
     "execution_count": 48,
     "metadata": {},
     "output_type": "execute_result"
    }
   ],
   "source": [
    "height(Node(Node(Node(Leaf, Leaf), Leaf), Leaf))"
   ]
  },
  {
   "cell_type": "markdown",
   "metadata": {},
   "source": [
    "## TAIL RECURSON\n",
    "- 재귀적인 것을 사용해서 StackOverflow Error가 발생할 수 있어서 이런 것을 사용\n",
    "- 재귀함수로 구현했어도 컴파일 타임에 어떤 조건을 맞추면 루프로 바꿔서 돌려줌 => Overflow가 안나옴\n",
    "- 이것을 Checkt하는 것이 @annotation.tailrec\n",
    "    - 결과값을 다시 사용하지 않음!! acc + 1, 이전에는 1 + prev.toInt\n",
    "    - accumurate에 더하는 방식으로 사용"
   ]
  },
  {
   "cell_type": "code",
   "execution_count": 50,
   "metadata": {},
   "outputs": [
    {
     "data": {
      "text/plain": [
       "defined \u001b[32mtrait\u001b[39m \u001b[36mPeanoNumber\u001b[39m\n",
       "defined \u001b[32mobject\u001b[39m \u001b[36mZero\u001b[39m\n",
       "defined \u001b[32mclass\u001b[39m \u001b[36mSucc\u001b[39m"
      ]
     },
     "execution_count": 50,
     "metadata": {},
     "output_type": "execute_result"
    }
   ],
   "source": [
    "sealed trait PeanoNumber {\n",
    "  @annotation.tailrec\n",
    "  def toInt(acc: Int = 0): Int = this match {\n",
    "    case Zero => acc\n",
    "    case Succ(prev) => prev.toInt(acc + 1)\n",
    "  }\n",
    "}\n",
    "final case object Zero extends PeanoNumber\n",
    "final case class Succ(prev: PeanoNumber) extends PeanoNumber"
   ]
  },
  {
   "cell_type": "code",
   "execution_count": 53,
   "metadata": {},
   "outputs": [
    {
     "data": {
      "text/plain": [
       "\u001b[36mres52\u001b[39m: \u001b[32mInt\u001b[39m = \u001b[32m0\u001b[39m"
      ]
     },
     "execution_count": 53,
     "metadata": {},
     "output_type": "execute_result"
    }
   ],
   "source": [
    "Zero.toInt()\n",
    "// 괄호가 있어야 함!! acc가 있어서!"
   ]
  },
  {
   "cell_type": "code",
   "execution_count": 52,
   "metadata": {},
   "outputs": [
    {
     "data": {
      "text/plain": [
       "\u001b[36mres51\u001b[39m: \u001b[32mInt\u001b[39m = \u001b[32m3\u001b[39m"
      ]
     },
     "execution_count": 52,
     "metadata": {},
     "output_type": "execute_result"
    }
   ],
   "source": [
    "Succ(Succ(Succ(Zero))).toInt()"
   ]
  },
  {
   "cell_type": "markdown",
   "metadata": {},
   "source": [
    "## 연습: INTLIST\n",
    "- 다음 IntList정의를 활용해서 length 메소드를 구현해보세요\n",
    "- 맨 끝 단을 base case라고 하고, 그 이후에 나머지를 채우는 방식으로 코딩하세요"
   ]
  },
  {
   "cell_type": "code",
   "execution_count": 65,
   "metadata": {},
   "outputs": [
    {
     "name": "stdout",
     "output_type": "stream",
     "text": [
      "OK\n"
     ]
    },
    {
     "data": {
      "text/plain": [
       "defined \u001b[32mtrait\u001b[39m \u001b[36mIntList\u001b[39m\n",
       "defined \u001b[32mobject\u001b[39m \u001b[36mEnd\u001b[39m\n",
       "defined \u001b[32mclass\u001b[39m \u001b[36mPair\u001b[39m\n",
       "\u001b[36mexample\u001b[39m: \u001b[32mwrapper\u001b[39m.\u001b[32mwrapper\u001b[39m.\u001b[32mPair\u001b[39m = Pair(1,Pair(2,Pair(3,End)))"
      ]
     },
     "execution_count": 65,
     "metadata": {},
     "output_type": "execute_result"
    }
   ],
   "source": [
    "sealed trait IntList {\n",
    "    def length: Int = this match {\n",
    "        case End => 0\n",
    "        case Pair(head, tail) => tail.length + 1\n",
    "    }\n",
    "    \n",
    "}\n",
    "final case object End extends IntList\n",
    "final case class Pair(head: Int, tail: IntList) extends IntList\n",
    "\n",
    "val example = Pair(1, Pair(2, Pair(3, End)))\n",
    "\n",
    "assert(example.length == 3)\n",
    "assert(example.tail.length == 2)\n",
    "assert(End.length == 0)\n",
    "\n",
    "println(\"OK\")"
   ]
  },
  {
   "cell_type": "code",
   "execution_count": 66,
   "metadata": {},
   "outputs": [
    {
     "name": "stdout",
     "output_type": "stream",
     "text": [
      "Ok\n"
     ]
    },
    {
     "data": {
      "text/plain": [
       "defined \u001b[32mtrait\u001b[39m \u001b[36mIntList\u001b[39m\n",
       "defined \u001b[32mobject\u001b[39m \u001b[36mEnd\u001b[39m\n",
       "defined \u001b[32mclass\u001b[39m \u001b[36mPair\u001b[39m\n",
       "\u001b[36mexample\u001b[39m: \u001b[32mwrapper\u001b[39m.\u001b[32mwrapper\u001b[39m.\u001b[32mPair\u001b[39m = Pair(1,Pair(2,Pair(3,End)))"
      ]
     },
     "execution_count": 66,
     "metadata": {},
     "output_type": "execute_result"
    }
   ],
   "source": [
    "sealed trait IntList {\n",
    "  def length: Int = {\n",
    "    @annotation.tailrec\n",
    "    def loop(current: IntList, acc: Int = 0): Int = current match {\n",
    "      case End => acc\n",
    "      case Pair(head, tail) => loop(tail, acc + 1)\n",
    "    }\n",
    "    loop(this)\n",
    "  }\n",
    "}\n",
    "final case object End extends IntList\n",
    "final case class Pair(head: Int, tail: IntList) extends IntList\n",
    "\n",
    "val example = Pair(1, Pair(2, Pair(3, End)))\n",
    "\n",
    "assert(example.length == 3)\n",
    "assert(example.tail.length == 2)\n",
    "assert(End.length == 0)\n",
    "\n",
    "println(\"Ok\")"
   ]
  },
  {
   "cell_type": "markdown",
   "metadata": {},
   "source": [
    "## 연습: CALCULATOR\n",
    "- Expression은 Addition, Subtraction, 혹은 Number입니다.\n",
    "- Addition은 left와 right Expression을 가지고 있습니다.\n",
    "- Subtraction은 left와 right Expression을 가지고 있습니다.\n",
    "- Number는 Double타입의 value 하나를 갖고 있습니다,\n",
    "- Expression을 실제로 계산해서 Double로 바꿔주는 eval 메소드를 구현\n",
    "\n",
    "- 실패할 수 있는 계산도 있습니다.\n",
    "- Double에는 NaN이라는 값이 이를 나타내긴 합니다만, 계산 실패와 그 이유를 명시적으로 나타내면 더 좋을 겁니다.\n",
    "\n",
    "- 적절한 데이터 타입 Success, Failure을 구현하시고 eval을 그에 맞추어 수정\n",
    "\n",
    "- Division과 SquareRoot 연산을 추가해보세요. 다음을 통과할 수 있어야 합니다"
   ]
  },
  {
   "cell_type": "code",
   "execution_count": 74,
   "metadata": {},
   "outputs": [
    {
     "name": "stdout",
     "output_type": "stream",
     "text": [
      "OK\n"
     ]
    },
    {
     "data": {
      "text/plain": [
       "defined \u001b[32mtrait\u001b[39m \u001b[36mExpression\u001b[39m\n",
       "defined \u001b[32mclass\u001b[39m \u001b[36mAddition\u001b[39m\n",
       "defined \u001b[32mclass\u001b[39m \u001b[36mSubstraction\u001b[39m\n",
       "defined \u001b[32mclass\u001b[39m \u001b[36mNumber\u001b[39m"
      ]
     },
     "execution_count": 74,
     "metadata": {},
     "output_type": "execute_result"
    }
   ],
   "source": [
    "sealed trait Expression \n",
    "\n",
    "final case class Addition(left: Expression, right: Expression) extends Expression\n",
    "final case class Substraction(left: Expression, right: Expression) extends Expression\n",
    "final case class Number(value: Double) extends Expression\n",
    "\n",
    "println(\"OK\")"
   ]
  },
  {
   "cell_type": "code",
   "execution_count": 74,
   "metadata": {},
   "outputs": [],
   "source": [
    "// eval method 구현"
   ]
  },
  {
   "cell_type": "code",
   "execution_count": 75,
   "metadata": {},
   "outputs": [
    {
     "name": "stdout",
     "output_type": "stream",
     "text": [
      "OK\n"
     ]
    },
    {
     "data": {
      "text/plain": [
       "defined \u001b[32mtrait\u001b[39m \u001b[36mExpression\u001b[39m\n",
       "defined \u001b[32mclass\u001b[39m \u001b[36mAddition\u001b[39m\n",
       "defined \u001b[32mclass\u001b[39m \u001b[36mSubstraction\u001b[39m\n",
       "defined \u001b[32mclass\u001b[39m \u001b[36mNumber\u001b[39m"
      ]
     },
     "execution_count": 75,
     "metadata": {},
     "output_type": "execute_result"
    }
   ],
   "source": [
    "sealed trait Expression {\n",
    "    def eval: Double = this match{\n",
    "        case Number(v) => v\n",
    "        case Addition(l, r) => l.eval + r.eval\n",
    "        case Substraction(l, r) => l.eval - r.eval\n",
    "    }\n",
    "}\n",
    "\n",
    "\n",
    "\n",
    "final case class Addition(left: Expression, right: Expression) extends Expression\n",
    "final case class Substraction(left: Expression, right: Expression) extends Expression\n",
    "final case class Number(value: Double) extends Expression\n",
    "\n",
    "println(\"OK\")"
   ]
  },
  {
   "cell_type": "markdown",
   "metadata": {},
   "source": [
    "- 데이터 자료는 case class로 만드는 것이 좋음"
   ]
  },
  {
   "cell_type": "code",
   "execution_count": 75,
   "metadata": {},
   "outputs": [],
   "source": [
    "// 실패 계산\n",
    "// data type을 success, failure"
   ]
  },
  {
   "cell_type": "code",
   "execution_count": 76,
   "metadata": {},
   "outputs": [
    {
     "name": "stdout",
     "output_type": "stream",
     "text": [
      "OK\n"
     ]
    },
    {
     "data": {
      "text/plain": [
       "defined \u001b[32mtrait\u001b[39m \u001b[36mExpression\u001b[39m\n",
       "defined \u001b[32mclass\u001b[39m \u001b[36mAddition\u001b[39m\n",
       "defined \u001b[32mclass\u001b[39m \u001b[36mSubstraction\u001b[39m\n",
       "defined \u001b[32mclass\u001b[39m \u001b[36mNumber\u001b[39m\n",
       "defined \u001b[32mtrait\u001b[39m \u001b[36mResult\u001b[39m\n",
       "defined \u001b[32mclass\u001b[39m \u001b[36mSuccess\u001b[39m\n",
       "defined \u001b[32mclass\u001b[39m \u001b[36mFailure\u001b[39m"
      ]
     },
     "execution_count": 76,
     "metadata": {},
     "output_type": "execute_result"
    }
   ],
   "source": [
    "sealed trait Expression {\n",
    "    def eval: Result = this match{\n",
    "        case Number(v) => Success(v)\n",
    "        case Addition(l, r) => (l.eval, r.eval) match {\n",
    "            case (Success(v1), Success(v2)) => Success(v1 + v2)\n",
    "            case (Failure(m), _) => Failure(m)\n",
    "            case (_, Failure(m)) => Failure(m)\n",
    "        }\n",
    "        case Substraction(l, r) => (l.eval, r.eval) match {\n",
    "            case (Success(v1), Success(v2)) => Success(v1 - v2)\n",
    "            case (Failure(m), _) => Failure(m)\n",
    "            case (_, Failure(m)) => Failure(m)\n",
    "        }\n",
    "    }\n",
    "}\n",
    "\n",
    "final case class Addition(left: Expression, right: Expression) extends Expression\n",
    "final case class Substraction(left: Expression, right: Expression) extends Expression\n",
    "final case class Number(value: Double) extends Expression\n",
    "\n",
    "sealed trait Result\n",
    "final case class Success(value: Double) extends Result\n",
    "final case class Failure(msg: String) extends Result\n",
    "\n",
    "println(\"OK\")"
   ]
  },
  {
   "cell_type": "markdown",
   "metadata": {},
   "source": [
    "## 강사님이 수정한 것"
   ]
  },
  {
   "cell_type": "code",
   "execution_count": 1,
   "metadata": {},
   "outputs": [
    {
     "name": "stdout",
     "output_type": "stream",
     "text": [
      "Ok\n"
     ]
    },
    {
     "data": {
      "text/plain": [
       "defined \u001b[32mtrait\u001b[39m \u001b[36mExpression\u001b[39m\n",
       "defined \u001b[32mclass\u001b[39m \u001b[36mAddition\u001b[39m\n",
       "defined \u001b[32mclass\u001b[39m \u001b[36mSubtraction\u001b[39m\n",
       "defined \u001b[32mclass\u001b[39m \u001b[36mNumber\u001b[39m\n",
       "defined \u001b[32mtrait\u001b[39m \u001b[36mResult\u001b[39m\n",
       "defined \u001b[32mclass\u001b[39m \u001b[36mSuccess\u001b[39m\n",
       "defined \u001b[32mclass\u001b[39m \u001b[36mFailure\u001b[39m"
      ]
     },
     "execution_count": 1,
     "metadata": {},
     "output_type": "execute_result"
    }
   ],
   "source": [
    "sealed trait Expression {\n",
    "  def eval: Result = this match {\n",
    "    case Number(v) => Success(v)\n",
    "    case Addition(l, r) => l.eval match {\n",
    "      case Success(lv) => r.eval match {\n",
    "        case Success(rv) => Success(lv + rv)\n",
    "        case Failure(msg) => Failure(msg)\n",
    "      }\n",
    "      case Failure(msg) => Failure(msg)\n",
    "    }\n",
    "    case Subtraction(l, r) => l.eval match {\n",
    "      case Success(lv) => r.eval match {\n",
    "        case Success(rv) => Success(lv - rv)\n",
    "        case Failure(msg) => Failure(msg)\n",
    "      }\n",
    "      case Failure(msg) => Failure(msg)\n",
    "    }\n",
    "  }\n",
    "}\n",
    "final case class Addition(left: Expression, right: Expression) extends Expression\n",
    "final case class Subtraction(left: Expression, right: Expression) extends Expression\n",
    "final case class Number(value: Double) extends Expression\n",
    "\n",
    "sealed trait Result\n",
    "final case class Success(value: Double) extends Result\n",
    "final case class Failure(msg: String) extends Result\n",
    "\n",
    "println(\"Ok\")"
   ]
  },
  {
   "cell_type": "code",
   "execution_count": null,
   "metadata": {},
   "outputs": [],
   "source": []
  }
 ],
 "metadata": {
  "kernelspec": {
   "display_name": "Scala",
   "language": "scala",
   "name": "scala"
  },
  "language_info": {
   "codemirror_mode": "text/x-scala",
   "file_extension": ".scala",
   "mimetype": "text/x-scala",
   "name": "scala211",
   "nbconvert_exporter": "script",
   "pygments_lexer": "scala",
   "version": "2.11.11"
  }
 },
 "nbformat": 4,
 "nbformat_minor": 2
}
