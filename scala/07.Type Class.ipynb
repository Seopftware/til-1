{
 "cells": [
  {
   "cell_type": "markdown",
   "metadata": {},
   "source": [
    "# Type Class\n",
    "- 원래 하스켈에 있던 개념\n",
    "- Trait로 구현"
   ]
  },
  {
   "cell_type": "markdown",
   "metadata": {},
   "source": [
    "## Example : SHOW TYPE CLASS"
   ]
  },
  {
   "cell_type": "code",
   "execution_count": 1,
   "metadata": {},
   "outputs": [
    {
     "data": {
      "text/plain": [
       "defined \u001b[32mtrait\u001b[39m \u001b[36mShow\u001b[39m\n",
       "defined \u001b[32mobject\u001b[39m \u001b[36mShow\u001b[39m"
      ]
     },
     "execution_count": 1,
     "metadata": {},
     "output_type": "execute_result"
    }
   ],
   "source": [
    "trait Show[A] {\n",
    "  def show(a: A): String\n",
    "}\n",
    "object Show {\n",
    "  val intCanShow: Show[Int] = new Show[Int] {\n",
    "    def show(int: Int): String = s\"int $int\"\n",
    "  }\n",
    "}"
   ]
  },
  {
   "cell_type": "code",
   "execution_count": 2,
   "metadata": {},
   "outputs": [
    {
     "name": "stdout",
     "output_type": "stream",
     "text": [
      "int 42\n"
     ]
    },
    {
     "data": {
      "text/plain": [
       "\u001b[32mimport \u001b[39m\u001b[36mShow._\n",
       "\u001b[39m"
      ]
     },
     "execution_count": 2,
     "metadata": {},
     "output_type": "execute_result"
    }
   ],
   "source": [
    "import Show._\n",
    "println(intCanShow.show(42))"
   ]
  },
  {
   "cell_type": "markdown",
   "metadata": {},
   "source": [
    "## Implicit parameters / implicit values\n",
    "- 명시적으로 값을 넣어주지 않아도 컴파일 타임에 알아서 집어넣어줌\n",
    "- 노트북에선 다시 쓰면 에러를 뱉음...! 제플린이나 ide에서 해야될 것 같습니다"
   ]
  },
  {
   "cell_type": "code",
   "execution_count": 6,
   "metadata": {},
   "outputs": [],
   "source": [
    "object Show {\n",
    "  def show[A](a: A)(implicit sh: Show[A]): String = sh.show(a)\n",
    "\n",
    "  implicit val intCanShow: Show[Int] = new Show[Int] {\n",
    "    def show(int: Int): String = s\"int $int\"\n",
    "  }\n",
    "}\n"
   ]
  },
  {
   "cell_type": "code",
   "execution_count": 6,
   "metadata": {},
   "outputs": [
    {
     "name": "stdout",
     "output_type": "stream",
     "text": [
      "int 42\n"
     ]
    },
    {
     "data": {
      "text/plain": [
       "\u001b[32mimport \u001b[39m\u001b[36mShow._\n",
       "\u001b[39m"
      ]
     },
     "execution_count": 6,
     "metadata": {},
     "output_type": "execute_result"
    }
   ],
   "source": [
    "import Show._\n",
    "println(show(42))"
   ]
  },
  {
   "cell_type": "code",
   "execution_count": 5,
   "metadata": {},
   "outputs": [
    {
     "data": {
      "text/plain": [
       "\u001b[36mres4\u001b[39m: \u001b[32mString\u001b[39m = \u001b[32m\"int 42\"\u001b[39m"
      ]
     },
     "execution_count": 5,
     "metadata": {},
     "output_type": "execute_result"
    }
   ],
   "source": [
    "Show.show(42)"
   ]
  },
  {
   "cell_type": "code",
   "execution_count": 6,
   "metadata": {},
   "outputs": [
    {
     "name": "stderr",
     "output_type": "stream",
     "text": [
      "cmd6.sc:1: could not find implicit value for parameter sh: cmd6Wrapper.this.cmd2.cmd0.wrapper.Show[String]\n",
      "val res6 = Show.show(\"42\")\n",
      "                    ^"
     ]
    },
    {
     "ename": "",
     "evalue": "",
     "output_type": "error",
     "traceback": [
      "Compilation Failed"
     ]
    }
   ],
   "source": [
    "Show.show(\"42\")"
   ]
  },
  {
   "cell_type": "markdown",
   "metadata": {},
   "source": [
    "## 참고: IMPLICIT VALUES 선언방법"
   ]
  },
  {
   "cell_type": "code",
   "execution_count": null,
   "metadata": {},
   "outputs": [],
   "source": [
    "implicit val example1 = ???\n",
    "implicit var example2 = ???\n",
    "implicit def example3 = ???\n",
    "implicit object example4 {}"
   ]
  },
  {
   "cell_type": "markdown",
   "metadata": {},
   "source": [
    "## Implicitly"
   ]
  },
  {
   "cell_type": "code",
   "execution_count": 7,
   "metadata": {},
   "outputs": [
    {
     "data": {
      "text/plain": [
       "defined \u001b[32mfunction\u001b[39m \u001b[36mimplicitly\u001b[39m"
      ]
     },
     "execution_count": 7,
     "metadata": {},
     "output_type": "execute_result"
    }
   ],
   "source": [
    "def implicitly[T](implicit e: T): T = e"
   ]
  },
  {
   "cell_type": "code",
   "execution_count": 8,
   "metadata": {},
   "outputs": [
    {
     "data": {
      "text/plain": [
       "\u001b[32mimport \u001b[39m\u001b[36mShow._\n",
       "\u001b[39m"
      ]
     },
     "execution_count": 8,
     "metadata": {},
     "output_type": "execute_result"
    }
   ],
   "source": [
    "import Show._\n"
   ]
  },
  {
   "cell_type": "code",
   "execution_count": 8,
   "metadata": {},
   "outputs": [
    {
     "name": "stderr",
     "output_type": "stream",
     "text": [
      "cmd8.sc:1: not found: type Show\n",
      "val res8 = implicitly[Show[Int]].show(42)\n",
      "                      ^"
     ]
    },
    {
     "ename": "",
     "evalue": "",
     "output_type": "error",
     "traceback": [
      "Compilation Failed"
     ]
    }
   ],
   "source": [
    "implicitly[Show[Int]].show(42)"
   ]
  },
  {
   "cell_type": "markdown",
   "metadata": {},
   "source": [
    "## CONTEXT BOUND"
   ]
  },
  {
   "cell_type": "code",
   "execution_count": 8,
   "metadata": {},
   "outputs": [],
   "source": [
    "def show[A: Show](a: A): String = implicitly[Show[A]].show(a)"
   ]
  },
  {
   "cell_type": "markdown",
   "metadata": {},
   "source": [
    "- 너무 기니까 그냥 apply로 변경"
   ]
  },
  {
   "cell_type": "code",
   "execution_count": null,
   "metadata": {},
   "outputs": [],
   "source": [
    "def apply[A](implicit sh: Show[A]): Show[A] = sh"
   ]
  },
  {
   "cell_type": "code",
   "execution_count": null,
   "metadata": {},
   "outputs": [],
   "source": [
    "def show[A: Show](a: A): String = Show.apply[A].show(a)"
   ]
  },
  {
   "cell_type": "code",
   "execution_count": null,
   "metadata": {},
   "outputs": [],
   "source": [
    "def show[A: Show](a: A): String = Show[A].show(a)"
   ]
  },
  {
   "cell_type": "markdown",
   "metadata": {},
   "source": [
    "### Type Class interface Pattern"
   ]
  },
  {
   "cell_type": "code",
   "execution_count": 8,
   "metadata": {},
   "outputs": [],
   "source": [
    "trait ExampleTypeClass[A] {\n",
    "  def doSomething(in: A): Foo\n",
    "}\n",
    "object ExampleTypeClass {\n",
    "  def apply[A](implicit instance: ExampleTypeClass[A]): ExampleTypeClass = instance\n",
    "}"
   ]
  },
  {
   "cell_type": "markdown",
   "metadata": {},
   "source": [
    "## Implicit classes\n",
    "- 뒤에 ops로 다는 것이 컨벤션"
   ]
  },
  {
   "cell_type": "code",
   "execution_count": 8,
   "metadata": {},
   "outputs": [],
   "source": [
    "implicit class ShowOps[A: Show](a: A) {\n",
    "  def show: String = Show[A].show(a)\n",
    "}"
   ]
  },
  {
   "cell_type": "code",
   "execution_count": null,
   "metadata": {},
   "outputs": [],
   "source": [
    "import Show._\n",
    "println(42.show)"
   ]
  },
  {
   "cell_type": "code",
   "execution_count": null,
   "metadata": {},
   "outputs": [],
   "source": [
    "implicit class IntOps(n: Int) {\n",
    "    def shout: Unit = for (i<-0 until n) println(\"Shout!\")\n",
    "    def ! : Int = (1 /: (1 ton))(_ * _)\n",
    "}"
   ]
  },
  {
   "cell_type": "code",
   "execution_count": null,
   "metadata": {},
   "outputs": [],
   "source": [
    "3.shout\n",
    "3(IntOps).shout //랑 동일\n",
    "println(3!) // factorial을 구현\n",
    "// Shout!\n",
    "// Shout!\n",
    "// Shout!"
   ]
  },
  {
   "cell_type": "markdown",
   "metadata": {},
   "source": [
    "- 필요할 경우 method를 확장시키는 용도로 사용!"
   ]
  },
  {
   "cell_type": "markdown",
   "metadata": {},
   "source": [
    "## VALUE CLASSES\n",
    "- 선언하기 위한 조건이 있음\n",
    "- 런타임에 존재하지 않음 ( 런타임 오버헤드가 없음 )"
   ]
  },
  {
   "cell_type": "code",
   "execution_count": null,
   "metadata": {},
   "outputs": [],
   "source": [
    "implicit class ShowOps[A](val a: A) extends AnyVal {\n",
    "  def show(implicit sh: Show[A]): String = sh.show(a)\n",
    "}"
   ]
  },
  {
   "cell_type": "markdown",
   "metadata": {},
   "source": [
    "## 중간요약 2"
   ]
  },
  {
   "cell_type": "code",
   "execution_count": null,
   "metadata": {},
   "outputs": [],
   "source": [
    "trait Show[A] {\n",
    "  def show(a: A): String\n",
    "}\n",
    "object Show {\n",
    "  def apply[A](implicit sh: Show[A]): Show[A] = sh\n",
    "  def show[A: Show](a: A): String = Show[A].show(a)\n",
    "  implicit class ShowOps[A](val a: A) extends AnyVal {\n",
    "    def show(implicit sh: Show[A]): String = sh.show(a)\n",
    "  }\n",
    "  implicit val intCanShow: Show[Int] = new Show[Int] {\n",
    "    def show(int: Int): String = s\"int $int\"\n",
    "  }\n",
    "}"
   ]
  },
  {
   "cell_type": "markdown",
   "metadata": {},
   "source": [
    "## 다른 타입도 지원"
   ]
  },
  {
   "cell_type": "code",
   "execution_count": null,
   "metadata": {},
   "outputs": [],
   "source": [
    "implicit val stringCanShow: Show[String] = new Show[String] {\n",
    "  def show(str: String): String = s\"string $str\"\n",
    "}"
   ]
  },
  {
   "cell_type": "markdown",
   "metadata": {},
   "source": [
    "- 중복이 많으니 공통 부분을 뽑자"
   ]
  },
  {
   "cell_type": "code",
   "execution_count": null,
   "metadata": {},
   "outputs": [],
   "source": [
    "def instance[A](f: A => String): Show[A] = new Show[A] {\n",
    "  def show(a: A): String = f(a)\n",
    "}\n",
    "\n",
    "implicit val intCanShow: Show[Int] = instance(int => s\"int $int\")\n",
    "implicit val stringCanShow: Show[String] = instance(str => s\"string $str\")"
   ]
  },
  {
   "cell_type": "markdown",
   "metadata": {},
   "source": [
    "- 스칼라 2.12 버전 : sam conversion\n",
    "- method만 define하면 컴파일 타임에 알아서 바꿔줌"
   ]
  },
  {
   "cell_type": "code",
   "execution_count": null,
   "metadata": {},
   "outputs": [],
   "source": [
    "implicit val intCanShow: Show[Int] = int => s\"int $int\"\n",
    "implicit val stringCanShow: Show[String] = str => s\"string $str\""
   ]
  },
  {
   "cell_type": "markdown",
   "metadata": {},
   "source": [
    "## 중간요약 3"
   ]
  },
  {
   "cell_type": "code",
   "execution_count": null,
   "metadata": {},
   "outputs": [],
   "source": [
    "trait Show[A] {\n",
    "  def show(a: A): String\n",
    "}\n",
    "object Show {\n",
    "  def apply[A](implicit sh: Show[A]): Show[A] = sh\n",
    "  def show[A: Show](a: A): String = Show[A].show(a)\n",
    "  implicit class ShowOps[A](val a: A) extends AnyVal {\n",
    "    def show(implicit sh: Show[A]): String = sh.show(a)\n",
    "  }\n",
    "  implicit val intCanShow: Show[Int] = int => s\"int $int\"\n",
    "  implicit val stringCanShow: Show[String] = str => s\"string $str\"\n",
    "}"
   ]
  },
  {
   "cell_type": "markdown",
   "metadata": {},
   "source": [
    "## Tuple"
   ]
  },
  {
   "cell_type": "code",
   "execution_count": null,
   "metadata": {},
   "outputs": [],
   "source": [
    "implicit def tupleCanShow[A, B](implicit sa: Show[A], sb: Show[B]): Show[(A, B)] = {\n",
    "  case (a, b) => s\"tuple (${a.show}, ${b.show})\"\n",
    "}"
   ]
  },
  {
   "cell_type": "code",
   "execution_count": null,
   "metadata": {},
   "outputs": [],
   "source": [
    "implicit def tupleCanShow[A: Show, B: Show]: Show[(A, B)] = {\n",
    "  case (a, b) => s\"tuple (${a.show}, ${b.show})\"\n",
    "}"
   ]
  },
  {
   "cell_type": "markdown",
   "metadata": {},
   "source": [
    "## 최종 결과물"
   ]
  },
  {
   "cell_type": "code",
   "execution_count": null,
   "metadata": {},
   "outputs": [],
   "source": [
    "trait Show[A] {\n",
    "  def show(a: A): String\n",
    "}\n",
    "object Show {\n",
    "  def apply[A](implicit sh: Show[A]): Show[A] = sh\n",
    "  def show[A: Show](a: A): String = Show[A].show(a)\n",
    "  implicit class ShowOps[A](val a: A) extends AnyVal {\n",
    "    def show(implicit sh: Show[A]): String = sh.show(a)\n",
    "  }\n",
    "  implicit val intCanShow: Show[Int] = int => s\"int $int\"\n",
    "  implicit val stringCanShow: Show[String] = str => s\"string $str\"\n",
    "  implicit def tupleCanShow[A: Show, B: Show]: Show[(A, B)] = {\n",
    "    case (a, b) => s\"tuple (${a.show}, ${b.show})\"\n",
    "  }\n",
    "}"
   ]
  },
  {
   "cell_type": "code",
   "execution_count": null,
   "metadata": {},
   "outputs": [],
   "source": [
    "println((2, 2).show)"
   ]
  },
  {
   "cell_type": "markdown",
   "metadata": {},
   "source": [
    "## 연습 : Eq"
   ]
  },
  {
   "cell_type": "code",
   "execution_count": 10,
   "metadata": {},
   "outputs": [
    {
     "data": {
      "text/plain": [
       "defined \u001b[32mtrait\u001b[39m \u001b[36mEq\u001b[39m\n",
       "defined \u001b[32mobject\u001b[39m \u001b[36mEq\u001b[39m"
      ]
     },
     "execution_count": 10,
     "metadata": {},
     "output_type": "execute_result"
    }
   ],
   "source": [
    "trait Eq[A] {\n",
    "    def eq(a1: A, a2: A): Boolean\n",
    "}\n",
    "object Eq {\n",
    "    implicit val eqInt: Eq[Int] = new Eq[Int] {\n",
    "        def eq(a1: Int, a2: Int): Boolean = a1 == a2\n",
    "    }\n",
    "}"
   ]
  },
  {
   "cell_type": "code",
   "execution_count": 11,
   "metadata": {},
   "outputs": [
    {
     "name": "stdout",
     "output_type": "stream",
     "text": [
      "OK!\n"
     ]
    }
   ],
   "source": [
    "assert(implicitly[Eq[Int]].eq(1, 1) == true)\n",
    "assert(implicitly[Eq[Int]].eq(1, 2) == false)\n",
    "println(\"OK!\")"
   ]
  },
  {
   "cell_type": "markdown",
   "metadata": {},
   "source": [
    "- implicitly 없이 더 줄이면!\n",
    "- hint : apply method 구현"
   ]
  },
  {
   "cell_type": "code",
   "execution_count": 11,
   "metadata": {},
   "outputs": [],
   "source": [
    "trait Eq[A] {\n",
    "    def eq(a1: A, a2: A): Boolean\n",
    "}\n",
    "object Eq {\n",
    "    def apply[A](implicit eq: Eq[A]): Eq[A] = eq\n",
    "    implicit val eqInt: Eq[Int] = _ == _\n",
    "}\n",
    "\n",
    "assert(Eq[Int].eq(1, 1) == true)\n",
    "assert(Eq[Int].eq(1, 2) == false)\n",
    "println(\"OK!\")"
   ]
  },
  {
   "cell_type": "markdown",
   "metadata": {},
   "source": [
    "- 위 코드는 쥬피터 노트북에선 에러가 발생~~ 스칼라피들에선 정상 작동"
   ]
  },
  {
   "cell_type": "markdown",
   "metadata": {},
   "source": [
    "- 이젠 ==== mehot를 만들어 봅시다!!\n",
    "- 여기선 import Eq._ 해야하거나 밖에서 정의해야함"
   ]
  },
  {
   "cell_type": "code",
   "execution_count": 11,
   "metadata": {},
   "outputs": [],
   "source": [
    "//밖에서 정의하기\n",
    "trait Eq[A] {\n",
    "    def eq(a1: A, a2: A): Boolean\n",
    "}\n",
    "object Eq {\n",
    "    def apply[A](implicit eq: Eq[A]): Eq[A] = eq\n",
    "    implicit val eqInt: Eq[Int] = _ == _\n",
    "}\n",
    "\n",
    "implicit class EqOps[A](a: A)(implicit eq: Eq[A]) {\n",
    "    def ==== (that: A): Boolean = Eq[A].eq(a, that)\n",
    "}\n",
    "\n",
    "assert((1 ==== 1) == true)\n",
    "assert((1 ==== 2) == false)\n",
    "println(\"OK!\")"
   ]
  },
  {
   "cell_type": "code",
   "execution_count": null,
   "metadata": {},
   "outputs": [],
   "source": [
    "// 또 정리하면"
   ]
  },
  {
   "cell_type": "code",
   "execution_count": null,
   "metadata": {},
   "outputs": [],
   "source": [
    "trait Eq[A] {\n",
    "  def eq(a1: A, a2: A): Boolean\n",
    "}\n",
    "object Eq {\n",
    "  def apply[A](implicit eq: Eq[A]): Eq[A] = eq\n",
    "  implicit val eqInt: Eq[Int] = _ == _\n",
    "}\n",
    "implicit class EqOps[A](val a: A) extends AnyVal {\n",
    "  def ==== (that: A)(implicit eq: Eq[A]): Boolean = eq.eq(a, that)\n",
    "}\n",
    "assert((1 ==== 1) == true)\n",
    "assert((1 ==== 2) == false)\n",
    "println(\"Ok!\")"
   ]
  },
  {
   "cell_type": "markdown",
   "metadata": {},
   "source": [
    "- string도 되로록 변경해봅시다"
   ]
  },
  {
   "cell_type": "code",
   "execution_count": 11,
   "metadata": {},
   "outputs": [],
   "source": [
    "trait Eq[A] {\n",
    "  def eq(a1: A, a2: A): Boolean\n",
    "}\n",
    "object Eq {\n",
    "  def apply[A](implicit eq: Eq[A]): Eq[A] = eq\n",
    "  implicit val eqInt: Eq[Int] = _ == _\n",
    "  implicit val eqStr: Eq[String] = _ == _\n",
    "}\n",
    "implicit class EqOps[A](val a: A) extends AnyVal {\n",
    "  def ==== (that: A)(implicit eq: Eq[A]): Boolean = eq.eq(a, that)\n",
    "}\n",
    "assert((1 ==== 1) == true)\n",
    "assert((1 ==== 2) == false)\n",
    "assert((\"foo\" ==== \"foo\") == true)\n",
    "assert((\"foo\" ==== \"bar\") == false)\n",
    "println(\"Ok!\")"
   ]
  },
  {
   "cell_type": "markdown",
   "metadata": {},
   "source": [
    "- 이젠 list도 되도록!!"
   ]
  },
  {
   "cell_type": "code",
   "execution_count": null,
   "metadata": {},
   "outputs": [],
   "source": [
    "trait Eq[A] {\n",
    "  def eq(a1: A, a2: A): Boolean\n",
    "}\n",
    "object Eq {\n",
    "  def apply[A](implicit eq: Eq[A]): Eq[A] = eq\n",
    "  implicit val eqInt: Eq[Int] = _ == _\n",
    "  implicit val eqStr: Eq[String] = _ == _\n",
    "  implicit def eqList[A: Eq]: Eq[List[A]] = {\n",
    "    case (Nil, Nil) => true\n",
    "    case (x :: xs, Nil) => false\n",
    "    case (Nil, y :: ys) => false\n",
    "    case (x :: xs, y :: ys) => Eq[A].eq(x, y) && Eq[List[A]].eq(xs, ys)\n",
    "  }\n",
    "}\n",
    "implicit class EqOps[A](val a: A) extends AnyVal {\n",
    "  def ==== (that: A)(implicit eq: Eq[A]): Boolean = eq.eq(a, that)\n",
    "}\n",
    "assert((1 ==== 1) == true)\n",
    "assert((1 ==== 2) == false)\n",
    "assert((\"foo\" ==== \"foo\") == true)\n",
    "assert((\"foo\" ==== \"bar\") == false)\n",
    "assert((List(1, 2) ==== List(1, 2)) == true)\n",
    "assert((List(1, 2) ==== List(1, 3)) == false)\n",
    "assert((List(\"foo\", \"bar\") ==== List(\"foo\", \"bar\")) == true)\n",
    "assert((List(\"foo\") ==== List(\"foo\", \"bar\")) == false)\n",
    "println(\"Ok!\")"
   ]
  },
  {
   "cell_type": "markdown",
   "metadata": {},
   "source": [
    "## 연습 : Show 심화\n",
    "- list도 show 가능하도록 만들기"
   ]
  },
  {
   "cell_type": "code",
   "execution_count": null,
   "metadata": {},
   "outputs": [],
   "source": [
    "// list.mkString -> ['a','b','c] => abc\n",
    "// list.mkString(\"[\",\",, \",\"]\") => [a, b, c]\n",
    "\n",
    "trait Show[A] {\n",
    "  def show(a: A): String\n",
    "}\n",
    "object Show {\n",
    "  def apply[A](implicit sh: Show[A]): Show[A] = sh\n",
    "  def show[A: Show](a: A): String = Show[A].show(a)\n",
    "  implicit class ShowOps[A](val a: A) extends AnyVal {\n",
    "    def show(implicit sh: Show[A]): String = sh.show(a)\n",
    "  }\n",
    "  implicit val intCanShow: Show[Int] = int => s\"int $int\"\n",
    "  implicit val stringCanShow: Show[String] = str => s\"string $str\"\n",
    "  implicit def tupleCanShow[A: Show, B: Show]: Show[(A, B)] = {\n",
    "    case (a, b) => s\"tuple (${a.show}, ${b.show})\"\n",
    "  }\n",
    "  implicit def listCanShow[A: Show]: Show[List[A]] = _ map Show[A].show mkString(\"list [\", \", \", \"]\")\n",
    "  \n",
    "}\n",
    "import Show._\n",
    "assert(List(\"foo\", \"bar\").show == \"list [string foo, string bar]\")\n",
    "println(\"Ok!\")"
   ]
  },
  {
   "cell_type": "markdown",
   "metadata": {},
   "source": [
    "## 연습 : MONOID\n",
    "- 항등원(zero)과 combine operation이 정의되는 타입클래스를 Monoid라고 합니다."
   ]
  },
  {
   "cell_type": "code",
   "execution_count": 9,
   "metadata": {},
   "outputs": [
    {
     "data": {
      "text/plain": [
       "defined \u001b[32mtrait\u001b[39m \u001b[36mMonoid\u001b[39m"
      ]
     },
     "execution_count": 9,
     "metadata": {},
     "output_type": "execute_result"
    }
   ],
   "source": [
    "trait Monoid[A] {\n",
    "  def zero: A\n",
    "  def combine(a1: A, a2: A): A\n",
    "}\n",
    "object Monoid {\n",
    "  implicit val intMonoid: Monoid[Int] = new Monoid[Int] {\n",
    "      def zero: Int = 0\n",
    "      def combine(a1: Int, a2:  Int): Int = a1 + a2\n",
    "  }\n",
    "}\n",
    "assert(implicitly[Monoid[Int]].zero == 0)\n",
    "println(\"Ok!\")"
   ]
  },
  {
   "cell_type": "code",
   "execution_count": 11,
   "metadata": {},
   "outputs": [],
   "source": [
    "// 미래를 대비해 instance를 정의해서 리팩토링하면"
   ]
  },
  {
   "cell_type": "code",
   "execution_count": null,
   "metadata": {},
   "outputs": [],
   "source": [
    "trait Monoid[A] {\n",
    "  def zero: A\n",
    "  def combine(a1: A, a2: A): A\n",
    "}\n",
    "object Monoid {\n",
    "  \n",
    "  def instance[A](z: A)(f: (A, A) => A): Monoid[A] = new Monoid[A] {\n",
    "    def zero: A = z\n",
    "    def combine(a1: A, a2: A): A = f(a1, a2)\n",
    "  }\n",
    "  implicit val intMonoid: Monoid[Int] = instance(0)(_ + _)\n",
    "}\n",
    "assert(implicitly[Monoid[Int]].zero == 0)\n",
    "assert(implicitly[Monoid[Int]].combine(10, 20) == 30)\n",
    "println(\"Ok!\")"
   ]
  },
  {
   "cell_type": "code",
   "execution_count": 11,
   "metadata": {},
   "outputs": [],
   "source": [
    "// implicity 가 없어도 되도록 리팩토링"
   ]
  },
  {
   "cell_type": "code",
   "execution_count": null,
   "metadata": {},
   "outputs": [],
   "source": [
    "trait Monoid[A] {\n",
    "  def zero: A\n",
    "  def combine(a1: A, a2: A): A\n",
    "}\n",
    "object Monoid {\n",
    "  def apply[A](implicit m: Monoid[A]): Monoid[A] = m\n",
    "  def instance[A](z: A)(f: (A, A) => A): Monoid[A] = new Monoid[A] {\n",
    "    def zero: A = z\n",
    "    def combine(a1: A, a2: A): A = f(a1, a2)\n",
    "  }\n",
    "  implicit val intMonoid: Monoid[Int] = instance(0)(_ + _)\n",
    "}\n",
    "assert(Monoid[Int].zero == 0)\n",
    "assert(Monoid[Int].combine(10, 20) == 30)\n",
    "println(\"Ok!\")"
   ]
  },
  {
   "cell_type": "code",
   "execution_count": null,
   "metadata": {},
   "outputs": [],
   "source": [
    "// |+| 연산자가 가능하도록 리팩토링"
   ]
  },
  {
   "cell_type": "code",
   "execution_count": null,
   "metadata": {},
   "outputs": [],
   "source": [
    "trait Monoid[A] {\n",
    "  def zero: A\n",
    "  def combine(a1: A, a2: A): A\n",
    "}\n",
    "object Monoid {\n",
    "  def apply[A](implicit m: Monoid[A]): Monoid[A] = m\n",
    "  def instance[A](z: A)(f: (A, A) => A): Monoid[A] = new Monoid[A] {\n",
    "    def zero: A = z\n",
    "    def combine(a1: A, a2: A): A = f(a1, a2)\n",
    "  }\n",
    "  implicit val intMonoid: Monoid[Int] = instance(0)(_ + _)\n",
    "}\n",
    "\n",
    "implicit class MonoidOps[A](val a: A) extends AnyVal {\n",
    "    def |+| (that: A)(implicit m: Monoid[A]): A = m.combine(a, that)\n",
    "}\n",
    "assert((10 |+| 20) == 30)\n",
    "assert(Monoid[Int].zero == 0)\n",
    "assert(Monoid[Int].combine(10, 20) == 30)\n",
    "println(\"Ok!\")"
   ]
  },
  {
   "cell_type": "code",
   "execution_count": null,
   "metadata": {},
   "outputs": [],
   "source": [
    "// zero를 정의해서 Monoid[Int].zero를 Monoid.zero[Int]로 축약\n",
    "\n",
    "trait Monoid[A] {\n",
    "  def zero: A\n",
    "  def combine(a1: A, a2: A): A\n",
    "}\n",
    "object Monoid {\n",
    "  def apply[A](implicit m: Monoid[A]): Monoid[A] = m\n",
    "  def zero[A: Monoid]: A = Monoid[A].zero\n",
    "  def instance[A](z: A)(f: (A, A) => A): Monoid[A] = new Monoid[A] {\n",
    "    def zero: A = z\n",
    "    def combine(a1: A, a2: A): A = f(a1, a2)\n",
    "  }\n",
    "  implicit val intMonoid: Monoid[Int] = instance(0)(_ + _)\n",
    "}\n",
    "\n",
    "implicit class MonoidOps[A](val a: A) extends AnyVal {\n",
    "  def |+| (that: A)(implicit m: Monoid[A]): A = m.combine(a, that)\n",
    "}\n",
    "assert((10 |+| 20) == 30)                          // 덧셈\n",
    "assert((10 |+| Monoid.zero[Int]) == 10)            // 항등원\n",
    "assert((Monoid.zero[Int] |+| 10) == 10)            // 항등원\n",
    "assert((10 |+| 20 |+| 30) == (10 |+| (20 |+| 30))) // 결합법칙\n",
    "println(\"Ok!\")"
   ]
  },
  {
   "cell_type": "code",
   "execution_count": null,
   "metadata": {},
   "outputs": [],
   "source": [
    "// list에서도 가능하도록 리팩토링"
   ]
  },
  {
   "cell_type": "code",
   "execution_count": null,
   "metadata": {},
   "outputs": [],
   "source": [
    "trait Monoid[A] {\n",
    "  def zero: A\n",
    "  def combine(a1: A, a2: A): A\n",
    "}\n",
    "object Monoid {\n",
    "  def apply[A](implicit m: Monoid[A]): Monoid[A] = m\n",
    "  def zero[A: Monoid]: A = Monoid[A].zero\n",
    "  def instance[A](z: A)(f: (A, A) => A): Monoid[A] = new Monoid[A] {\n",
    "    def zero: A = z\n",
    "    def combine(a1: A, a2: A): A = f(a1, a2)\n",
    "  }\n",
    "  implicit val intMonoid: Monoid[Int] = instance(0)(_ + _)\n",
    "  implicit def listMonoid[A]: Monoid[List[A]] = instance(List.empty[A])(_ ::: _)\n",
    "}\n",
    "\n",
    "implicit class MonoidOps[A](val a: A) extends AnyVal {\n",
    "  def |+| (that: A)(implicit m: Monoid[A]): A = m.combine(a, that)\n",
    "}\n",
    "assert((List(1, 2, 3) |+| List(4, 5, 6)) == List(1, 2, 3, 4, 5, 6))\n",
    "assert((List(1, 2, 3) |+| Monoid.zero[List[Int]]) == List(1, 2, 3))\n",
    "assert((10 |+| 20) == 30)                          // 덧셈\n",
    "assert((10 |+| Monoid.zero[Int]) == 10)            // 항등원\n",
    "assert((Monoid.zero[Int] |+| 10) == 10)            // 항등원\n",
    "assert((10 |+| 20 |+| 30) == (10 |+| (20 |+| 30))) // 결합법칙\n",
    "println(\"Ok!\")"
   ]
  },
  {
   "cell_type": "code",
   "execution_count": 11,
   "metadata": {},
   "outputs": [],
   "source": [
    "// tuple도 가능하도록"
   ]
  },
  {
   "cell_type": "code",
   "execution_count": null,
   "metadata": {},
   "outputs": [],
   "source": [
    "trait Monoid[A] {\n",
    "  def zero: A\n",
    "  def combine(a1: A, a2: A): A\n",
    "}\n",
    "object Monoid {\n",
    "  def apply[A](implicit m: Monoid[A]): Monoid[A] = m\n",
    "  def zero[A: Monoid]: A = Monoid[A].zero\n",
    "  def instance[A](z: A)(f: (A, A) => A): Monoid[A] = new Monoid[A] {\n",
    "    def zero: A = z\n",
    "    def combine(a1: A, a2: A): A = f(a1, a2)\n",
    "  }\n",
    "  implicit val intMonoid: Monoid[Int] = instance(0)(_ + _)\n",
    "  implicit def listMonoid[A]: Monoid[List[A]] = instance(List.empty[A])(_ ::: _)\n",
    "  implicit def tuple2Monoid[A, B](implicit ma: Monoid[A], mb: Monoid[B]): Monoid[(A, B)] =\n",
    "    instance((ma.zero, mb.zero)){ case ((a1, b1), (a2, b2)) => (ma.combine(a1, a2), mb.combine(b1, b2)) }\n",
    "}\n",
    "\n",
    "implicit class MonoidOps[A](val a: A) extends AnyVal {\n",
    "  def |+| (that: A)(implicit m: Monoid[A]): A = m.combine(a, that)\n",
    "}\n",
    "assert((10 |+| 20) == 30)                          // 덧셈\n",
    "assert((10 |+| Monoid.zero[Int]) == 10)            // 항등원\n",
    "assert((Monoid.zero[Int] |+| 10) == 10)            // 항등원\n",
    "assert((10 |+| 20 |+| 30) == (10 |+| (20 |+| 30))) // 결합법칙\n",
    "assert((List(1, 2, 3) |+| List(4, 5, 6)) == List(1, 2, 3, 4, 5, 6))\n",
    "assert((List(1, 2, 3) |+| Monoid.zero[List[Int]]) == List(1, 2, 3))\n",
    "val lhs = (List(1, 2), (1, List(\"a\")))\n",
    "val rhs = (List(3, 4), (2, List(\"b\")))\n",
    "assert((lhs |+| rhs) == (List(1, 2, 3, 4), (3, List(\"a\", \"b\"))))\n",
    "println(\"Ok!\")"
   ]
  },
  {
   "cell_type": "code",
   "execution_count": null,
   "metadata": {},
   "outputs": [],
   "source": [
    "trait Monoid[A] {\n",
    "  def zero: A\n",
    "  def combine(a1: A, a2: A): A\n",
    "}\n",
    "object Monoid {\n",
    "  def apply[A](implicit m: Monoid[A]): Monoid[A] = m\n",
    "  def zero[A: Monoid]: A = Monoid[A].zero\n",
    "  def instance[A](z: A)(f: (A, A) => A): Monoid[A] = new Monoid[A] {\n",
    "    def zero: A = z\n",
    "    def combine(a1: A, a2: A): A = f(a1, a2)\n",
    "  }\n",
    "  implicit val intMonoid: Monoid[Int] = instance(0)(_ + _)\n",
    "  implicit def listMonoid[A]: Monoid[List[A]] = instance(List.empty[A])(_ ::: _)\n",
    "  implicit def tuple2Monoid[A: Monoid, B: Monoid]: Monoid[(A, B)] =\n",
    "    instance((zero[A], zero[B])){ case ((a1, b1), (a2, b2)) => (a1 |+| a2, b1 |+| b2) }\n",
    "}\n",
    "\n",
    "implicit class MonoidOps[A](val a: A) extends AnyVal {\n",
    "  def |+| (that: A)(implicit m: Monoid[A]): A = m.combine(a, that)\n",
    "}\n",
    "assert((10 |+| 20) == 30)                          // 덧셈\n",
    "assert((10 |+| Monoid.zero[Int]) == 10)            // 항등원\n",
    "assert((Monoid.zero[Int] |+| 10) == 10)            // 항등원\n",
    "assert((10 |+| 20 |+| 30) == (10 |+| (20 |+| 30))) // 결합법칙\n",
    "assert((List(1, 2, 3) |+| List(4, 5, 6)) == List(1, 2, 3, 4, 5, 6))\n",
    "assert((List(1, 2, 3) |+| Monoid.zero[List[Int]]) == List(1, 2, 3))\n",
    "val lhs = (List(1, 2), (1, List(\"a\")))\n",
    "val rhs = (List(3, 4), (2, List(\"b\")))\n",
    "assert((lhs |+| rhs) == (List(1, 2, 3, 4), (3, List(\"a\", \"b\"))))\n",
    "println(\"Ok!\")"
   ]
  }
 ],
 "metadata": {
  "kernelspec": {
   "display_name": "Scala",
   "language": "scala",
   "name": "scala"
  },
  "language_info": {
   "codemirror_mode": "text/x-scala",
   "file_extension": ".scala",
   "mimetype": "text/x-scala",
   "name": "scala211",
   "nbconvert_exporter": "script",
   "pygments_lexer": "scala",
   "version": "2.11.11"
  },
  "varInspector": {
   "cols": {
    "lenName": 16,
    "lenType": 16,
    "lenVar": 40
   },
   "kernels_config": {
    "python": {
     "delete_cmd_postfix": "",
     "delete_cmd_prefix": "del ",
     "library": "var_list.py",
     "varRefreshCmd": "print(var_dic_list())"
    },
    "r": {
     "delete_cmd_postfix": ") ",
     "delete_cmd_prefix": "rm(",
     "library": "var_list.r",
     "varRefreshCmd": "cat(var_dic_list()) "
    }
   },
   "types_to_exclude": [
    "module",
    "function",
    "builtin_function_or_method",
    "instance",
    "_Feature"
   ],
   "window_display": false
  }
 },
 "nbformat": 4,
 "nbformat_minor": 2
}
