{
 "cells": [
  {
   "cell_type": "markdown",
   "metadata": {},
   "source": [
    "## Collection-Library"
   ]
  },
  {
   "cell_type": "code",
   "execution_count": 0,
   "metadata": {},
   "outputs": [],
   "source": [
    "// 강사님이 만들어두신 MAYBE, LINKEDLIST"
   ]
  },
  {
   "cell_type": "code",
   "execution_count": 3,
   "metadata": {},
   "outputs": [
    {
     "data": {
      "text/plain": [
       "defined \u001b[32mtrait\u001b[39m \u001b[36mMaybe\u001b[39m\n",
       "defined \u001b[32mobject\u001b[39m \u001b[36mEmpty\u001b[39m\n",
       "defined \u001b[32mclass\u001b[39m \u001b[36mJust\u001b[39m\n",
       "defined \u001b[32mtrait\u001b[39m \u001b[36mLinkedList\u001b[39m\n",
       "defined \u001b[32mobject\u001b[39m \u001b[36mEnd\u001b[39m\n",
       "defined \u001b[32mclass\u001b[39m \u001b[36mPair\u001b[39m\n",
       "defined \u001b[32mobject\u001b[39m \u001b[36mLinkedList\u001b[39m"
      ]
     },
     "execution_count": 3,
     "metadata": {},
     "output_type": "execute_result"
    }
   ],
   "source": [
    "sealed trait Maybe[+A]\n",
    "case object Empty extends Maybe[Nothing]\n",
    "case class Just[A](a: A) extends Maybe[A]\n",
    "\n",
    "sealed trait LinkedList[+A]\n",
    "case object End extends LinkedList[Nothing]\n",
    "final case class Pair[A](head: A, tail: LinkedList[A]) extends LinkedList[A]\n",
    "object LinkedList {\n",
    "  def apply[A](xs: A*): LinkedList[A] =\n",
    "    if (xs.isEmpty) End else Pair(xs.head, apply(xs.tail: _*))\n",
    "}"
   ]
  },
  {
   "cell_type": "code",
   "execution_count": 4,
   "metadata": {},
   "outputs": [
    {
     "name": "stdout",
     "output_type": "stream",
     "text": [
      "Pair(1,Pair(2,Pair(3,Pair(4,Pair(5,End)))))\n"
     ]
    },
    {
     "data": {
      "text/plain": [
       "\u001b[36ml\u001b[39m: \u001b[32mLinkedList\u001b[39m[\u001b[32mInt\u001b[39m] = Pair(1,Pair(2,Pair(3,Pair(4,Pair(5,End)))))"
      ]
     },
     "execution_count": 4,
     "metadata": {},
     "output_type": "execute_result"
    }
   ],
   "source": [
    "val l = LinkedList(1, 2, 3,4, 5)\n",
    "println(l)"
   ]
  },
  {
   "cell_type": "code",
   "execution_count": 4,
   "metadata": {},
   "outputs": [
    {
     "name": "stderr",
     "output_type": "stream",
     "text": [
      "cmd4.sc:1: not found: type A\n",
      "def get(n: Int): Maybe[A] = ???\n",
      "                       ^"
     ]
    },
    {
     "ename": "",
     "evalue": "",
     "output_type": "error",
     "traceback": [
      "Compilation Failed"
     ]
    }
   ],
   "source": [
    "// GET 함수 구현\n",
    "def get(n: Int): Maybe[A] = ???\n"
   ]
  },
  {
   "cell_type": "code",
   "execution_count": 8,
   "metadata": {},
   "outputs": [
    {
     "data": {
      "text/plain": [
       "defined \u001b[32mtrait\u001b[39m \u001b[36mMaybe\u001b[39m\n",
       "defined \u001b[32mobject\u001b[39m \u001b[36mEmpty\u001b[39m\n",
       "defined \u001b[32mclass\u001b[39m \u001b[36mJust\u001b[39m\n",
       "defined \u001b[32mtrait\u001b[39m \u001b[36mLinkedList\u001b[39m\n",
       "defined \u001b[32mobject\u001b[39m \u001b[36mEnd\u001b[39m\n",
       "defined \u001b[32mclass\u001b[39m \u001b[36mPair\u001b[39m\n",
       "defined \u001b[32mobject\u001b[39m \u001b[36mLinkedList\u001b[39m"
      ]
     },
     "execution_count": 8,
     "metadata": {},
     "output_type": "execute_result"
    }
   ],
   "source": [
    "sealed trait Maybe[+A]\n",
    "case object Empty extends Maybe[Nothing]\n",
    "case class Just[A](a: A) extends Maybe[A]\n",
    "\n",
    "sealed trait LinkedList[+A] {\n",
    "    def get(n: Int): Maybe[A] = this match {\n",
    "        case End => Empty\n",
    "        case Pair(h, t) => if (n == 0) Just(h) else t.get(n-1)\n",
    "    }\n",
    "}\n",
    "case object End extends LinkedList[Nothing]\n",
    "final case class Pair[A](head: A, tail: LinkedList[A]) extends LinkedList[A]\n",
    "object LinkedList {\n",
    "  def apply[A](xs: A*): LinkedList[A] =\n",
    "    if (xs.isEmpty) End else Pair(xs.head, apply(xs.tail: _*))\n",
    "}"
   ]
  },
  {
   "cell_type": "code",
   "execution_count": 9,
   "metadata": {},
   "outputs": [
    {
     "name": "stdout",
     "output_type": "stream",
     "text": [
      "ok!\n"
     ]
    },
    {
     "data": {
      "text/plain": [
       "\u001b[36ml\u001b[39m: \u001b[32mLinkedList\u001b[39m[\u001b[32mInt\u001b[39m] = Pair(1,Pair(2,Pair(3,Pair(4,Pair(5,End)))))"
      ]
     },
     "execution_count": 9,
     "metadata": {},
     "output_type": "execute_result"
    }
   ],
   "source": [
    "val l = LinkedList(1, 2, 3, 4, 5)\n",
    "assert(l.get(0) == Just(1))\n",
    "assert(l.get(6) == Empty)\n",
    "println(\"ok!\")"
   ]
  },
  {
   "cell_type": "markdown",
   "metadata": {},
   "source": [
    "## Length"
   ]
  },
  {
   "cell_type": "code",
   "execution_count": 22,
   "metadata": {},
   "outputs": [
    {
     "data": {
      "text/plain": [
       "defined \u001b[32mtrait\u001b[39m \u001b[36mMaybe\u001b[39m\n",
       "defined \u001b[32mobject\u001b[39m \u001b[36mEmpty\u001b[39m\n",
       "defined \u001b[32mclass\u001b[39m \u001b[36mJust\u001b[39m\n",
       "defined \u001b[32mtrait\u001b[39m \u001b[36mLinkedList\u001b[39m\n",
       "defined \u001b[32mobject\u001b[39m \u001b[36mEnd\u001b[39m\n",
       "defined \u001b[32mclass\u001b[39m \u001b[36mPair\u001b[39m\n",
       "defined \u001b[32mobject\u001b[39m \u001b[36mLinkedList\u001b[39m"
      ]
     },
     "execution_count": 22,
     "metadata": {},
     "output_type": "execute_result"
    }
   ],
   "source": [
    "sealed trait Maybe[+A]\n",
    "case object Empty extends Maybe[Nothing]\n",
    "case class Just[A](a: A) extends Maybe[A]\n",
    "\n",
    "sealed trait LinkedList[+A] {\n",
    "    def get(n: Int): Maybe[A] = this match {\n",
    "        case End => Empty\n",
    "        case Pair(h, t) => if (n == 0) Just(h) else t.get(n-1)\n",
    "    }\n",
    "    def length: Int = this match {\n",
    "        case End => 0\n",
    "        case Pair(h, t) => 1 + t.length\n",
    "    }\n",
    "}\n",
    "case object End extends LinkedList[Nothing]\n",
    "final case class Pair[A](head: A, tail: LinkedList[A]) extends LinkedList[A]\n",
    "object LinkedList {\n",
    "  def apply[A](xs: A*): LinkedList[A] =\n",
    "    if (xs.isEmpty) End else Pair(xs.head, apply(xs.tail: _*))\n",
    "}"
   ]
  },
  {
   "cell_type": "code",
   "execution_count": 23,
   "metadata": {},
   "outputs": [
    {
     "name": "stdout",
     "output_type": "stream",
     "text": [
      "ok!\n"
     ]
    },
    {
     "data": {
      "text/plain": [
       "\u001b[36ml\u001b[39m: \u001b[32mLinkedList\u001b[39m[\u001b[32mInt\u001b[39m] = Pair(1,Pair(2,Pair(3,Pair(4,Pair(5,End)))))"
      ]
     },
     "execution_count": 23,
     "metadata": {},
     "output_type": "execute_result"
    }
   ],
   "source": [
    "val l = LinkedList(1, 2, 3, 4, 5)\n",
    "assert(l.get(0) == Just(1))\n",
    "assert(l.get(6) == Empty)\n",
    "assert(End.length == 0)\n",
    "assert(l.length == 5)\n",
    "println(\"ok!\")\n"
   ]
  },
  {
   "cell_type": "code",
   "execution_count": 24,
   "metadata": {},
   "outputs": [
    {
     "data": {
      "text/plain": [
       "defined \u001b[32mtrait\u001b[39m \u001b[36mMaybe\u001b[39m\n",
       "defined \u001b[32mobject\u001b[39m \u001b[36mEmpty\u001b[39m\n",
       "defined \u001b[32mclass\u001b[39m \u001b[36mJust\u001b[39m\n",
       "defined \u001b[32mtrait\u001b[39m \u001b[36mLinkedList\u001b[39m\n",
       "defined \u001b[32mobject\u001b[39m \u001b[36mEnd\u001b[39m\n",
       "defined \u001b[32mclass\u001b[39m \u001b[36mPair\u001b[39m\n",
       "defined \u001b[32mobject\u001b[39m \u001b[36mLinkedList\u001b[39m"
      ]
     },
     "execution_count": 24,
     "metadata": {},
     "output_type": "execute_result"
    }
   ],
   "source": [
    "// get은 Tail recursion을 사용 가능 ( 호출하고 그 다음에 사용하는 것이 없음 )\n",
    "// length는 그냥은 안됨 (1을 더하니깐)\n",
    "sealed trait Maybe[+A]\n",
    "case object Empty extends Maybe[Nothing]\n",
    "case class Just[A](a: A) extends Maybe[A]\n",
    "\n",
    "sealed trait LinkedList[+A] {\n",
    "    @annotation.tailrec\n",
    "    def get(n: Int): Maybe[A] = this match {\n",
    "        case End => Empty\n",
    "        case Pair(h, t) => if (n == 0) Just(h) else t.get(n-1)\n",
    "    }\n",
    "    def length: Int = this match {\n",
    "        case End => 0\n",
    "        case Pair(h, t) => 1 + t.length\n",
    "    }\n",
    "}\n",
    "case object End extends LinkedList[Nothing]\n",
    "final case class Pair[A](head: A, tail: LinkedList[A]) extends LinkedList[A]\n",
    "object LinkedList {\n",
    "  def apply[A](xs: A*): LinkedList[A] =\n",
    "    if (xs.isEmpty) End else Pair(xs.head, apply(xs.tail: _*))\n",
    "}"
   ]
  },
  {
   "cell_type": "code",
   "execution_count": null,
   "metadata": {},
   "outputs": [],
   "source": [
    "// length을 Tail recursion하려면 아래와 같이\n",
    "sealed trait Maybe[+A]\n",
    "case object Empty extends Maybe[Nothing]\n",
    "case class Just[A](a: A) extends Maybe[A]\n",
    "\n",
    "sealed trait LinkedList[+A] {\n",
    "  @annotation.tailrec\n",
    "  def get(n: Int): Maybe[A] = this match {\n",
    "    case End => Empty\n",
    "    case Pair(h, t) => if (n == 0) Just(h) else t.get(n - 1)\n",
    "  }\n",
    "\n",
    "  def length: Int = length()\n",
    "\n",
    "  @annotation.tailrec\n",
    "  def length(acc: Int = 0): Int = this match {\n",
    "    case End => acc\n",
    "    case Pair(h, t) => t.length(acc + 1)\n",
    "  }\n",
    "}\n",
    "case object End extends LinkedList[Nothing]\n",
    "final case class Pair[A](head: A, tail: LinkedList[A]) extends LinkedList[A]\n",
    "object LinkedList {\n",
    " def apply[A](xs: A*): LinkedList[A] =\n",
    "   if (xs.isEmpty) End else Pair(xs.head, apply(xs.tail: _*))\n",
    "}"
   ]
  },
  {
   "cell_type": "code",
   "execution_count": 24,
   "metadata": {},
   "outputs": [],
   "source": [
    "val l = LinkedList(1, 2, 3, 4, 5)\n",
    "assert(l.get(0) == Just(1))\n",
    "assert(l.get(6) == Empty)\n",
    "assert(End.length == 0)\n",
    "assert(l.length == 5)\n",
    "println(\"Ok!\")"
   ]
  },
  {
   "cell_type": "markdown",
   "metadata": {},
   "source": [
    "## contains"
   ]
  },
  {
   "cell_type": "code",
   "execution_count": 24,
   "metadata": {},
   "outputs": [],
   "source": [
    "def contains[AA >: A](elem: AA): Boolean = ???"
   ]
  },
  {
   "cell_type": "code",
   "execution_count": 25,
   "metadata": {},
   "outputs": [
    {
     "data": {
      "text/plain": [
       "defined \u001b[32mtrait\u001b[39m \u001b[36mMaybe\u001b[39m\n",
       "defined \u001b[32mobject\u001b[39m \u001b[36mEmpty\u001b[39m\n",
       "defined \u001b[32mclass\u001b[39m \u001b[36mJust\u001b[39m\n",
       "defined \u001b[32mtrait\u001b[39m \u001b[36mLinkedList\u001b[39m\n",
       "defined \u001b[32mobject\u001b[39m \u001b[36mEnd\u001b[39m\n",
       "defined \u001b[32mclass\u001b[39m \u001b[36mPair\u001b[39m\n",
       "defined \u001b[32mobject\u001b[39m \u001b[36mLinkedList\u001b[39m"
      ]
     },
     "execution_count": 25,
     "metadata": {},
     "output_type": "execute_result"
    }
   ],
   "source": [
    "sealed trait Maybe[+A]\n",
    "case object Empty extends Maybe[Nothing]\n",
    "case class Just[A](a: A) extends Maybe[A]\n",
    "\n",
    "sealed trait LinkedList[+A] {\n",
    "  @annotation.tailrec\n",
    "  def get(n: Int): Maybe[A] = this match {\n",
    "    case End => Empty\n",
    "    case Pair(h, t) => if (n == 0) Just(h) else t.get(n - 1)\n",
    "  }\n",
    "\n",
    "  def length: Int = length()\n",
    "\n",
    "  @annotation.tailrec\n",
    "  def length(acc: Int = 0): Int = this match {\n",
    "    case End => acc\n",
    "    case Pair(h, t) => t.length(acc + 1)\n",
    "  }\n",
    "\n",
    "  @annotation.tailrec\n",
    "  def contains[AA >: A](elem: AA): Boolean = this match {\n",
    "    case End => false\n",
    "    case Pair(h, t) => if (h == elem) true else t.contains(elem)\n",
    "  }\n",
    "}\n",
    "case object End extends LinkedList[Nothing]\n",
    "final case class Pair[A](head: A, tail: LinkedList[A]) extends LinkedList[A]\n",
    "object LinkedList {\n",
    " def apply[A](xs: A*): LinkedList[A] =\n",
    "   if (xs.isEmpty) End else Pair(xs.head, apply(xs.tail: _*))\n",
    "}"
   ]
  },
  {
   "cell_type": "code",
   "execution_count": 47,
   "metadata": {},
   "outputs": [
    {
     "data": {
      "text/plain": [
       "defined \u001b[32mtrait\u001b[39m \u001b[36mMaybe\u001b[39m\n",
       "defined \u001b[32mobject\u001b[39m \u001b[36mEmpty\u001b[39m\n",
       "defined \u001b[32mclass\u001b[39m \u001b[36mJust\u001b[39m\n",
       "defined \u001b[32mtrait\u001b[39m \u001b[36mLinkedList\u001b[39m\n",
       "defined \u001b[32mobject\u001b[39m \u001b[36mEnd\u001b[39m\n",
       "defined \u001b[32mclass\u001b[39m \u001b[36mPair\u001b[39m\n",
       "defined \u001b[32mobject\u001b[39m \u001b[36mLinkedList\u001b[39m"
      ]
     },
     "execution_count": 47,
     "metadata": {},
     "output_type": "execute_result"
    }
   ],
   "source": [
    "sealed trait Maybe[+A]\n",
    "case object Empty extends Maybe[Nothing]\n",
    "case class Just[A](a: A) extends Maybe[A]\n",
    "\n",
    "sealed trait LinkedList[+A] {\n",
    "  @annotation.tailrec\n",
    "  def get(n: Int): Maybe[A] = this match {\n",
    "    case End => Empty\n",
    "    case Pair(h, t) => if (n == 0) Just(h) else t.get(n - 1)\n",
    "  }\n",
    "\n",
    "  def length: Int = length()\n",
    "\n",
    "  @annotation.tailrec\n",
    "  def length(acc: Int = 0): Int = this match {\n",
    "    case End => acc\n",
    "    case Pair(h, t) => t.length(acc + 1)\n",
    "  }\n",
    "\n",
    "  @annotation.tailrec\n",
    "  def contains[AA >: A](elem: AA): Boolean = this match {\n",
    "    case End => false\n",
    "    case Pair(h, t) => if (h == elem) true else t.contains(elem)\n",
    "  }\n",
    "\n",
    "}\n",
    "case object End extends LinkedList[Nothing]\n",
    "final case class Pair[A](head: A, tail: LinkedList[A]) extends LinkedList[A]\n",
    "object LinkedList {\n",
    " def apply[A](xs: A*): LinkedList[A] =\n",
    "   if (xs.isEmpty) End else Pair(xs.head, apply(xs.tail: _*))\n",
    "}"
   ]
  },
  {
   "cell_type": "code",
   "execution_count": 48,
   "metadata": {},
   "outputs": [
    {
     "name": "stdout",
     "output_type": "stream",
     "text": [
      "Ok!\n"
     ]
    },
    {
     "data": {
      "text/plain": [
       "\u001b[36ml\u001b[39m: \u001b[32mLinkedList\u001b[39m[\u001b[32mInt\u001b[39m] = Pair(1,Pair(2,Pair(3,Pair(4,Pair(5,End)))))"
      ]
     },
     "execution_count": 48,
     "metadata": {},
     "output_type": "execute_result"
    }
   ],
   "source": [
    "val l = LinkedList(1, 2, 3, 4, 5)\n",
    "assert(l.get(0) == Just(1))\n",
    "assert(l.get(6) == Empty)\n",
    "assert(End.length == 0)\n",
    "assert(l.length == 5)\n",
    "assert(l.contains(1) == true)\n",
    "assert(l.contains(0) == false)\n",
    "\n",
    "println(\"Ok!\")"
   ]
  },
  {
   "cell_type": "markdown",
   "metadata": {},
   "source": [
    "## Find\n",
    "- 특정 조건이 들어오고 이걸 True로 만들어주는 친구가 있는지 알려줌\n",
    "- 하나만 반환"
   ]
  },
  {
   "cell_type": "code",
   "execution_count": null,
   "metadata": {},
   "outputs": [],
   "source": [
    "def find(p: A => Boolean): Maybe[A] = ???"
   ]
  },
  {
   "cell_type": "code",
   "execution_count": 44,
   "metadata": {},
   "outputs": [
    {
     "data": {
      "text/plain": [
       "defined \u001b[32mtrait\u001b[39m \u001b[36mMaybe\u001b[39m\n",
       "defined \u001b[32mobject\u001b[39m \u001b[36mEmpty\u001b[39m\n",
       "defined \u001b[32mclass\u001b[39m \u001b[36mJust\u001b[39m\n",
       "defined \u001b[32mtrait\u001b[39m \u001b[36mLinkedList\u001b[39m\n",
       "defined \u001b[32mobject\u001b[39m \u001b[36mEnd\u001b[39m\n",
       "defined \u001b[32mclass\u001b[39m \u001b[36mPair\u001b[39m\n",
       "defined \u001b[32mobject\u001b[39m \u001b[36mLinkedList\u001b[39m"
      ]
     },
     "execution_count": 44,
     "metadata": {},
     "output_type": "execute_result"
    }
   ],
   "source": [
    "sealed trait Maybe[+A]\n",
    "case object Empty extends Maybe[Nothing]\n",
    "case class Just[A](a: A) extends Maybe[A]\n",
    "\n",
    "sealed trait LinkedList[+A] {\n",
    "  @annotation.tailrec\n",
    "  def get(n: Int): Maybe[A] = this match {\n",
    "    case End => Empty\n",
    "    case Pair(h, t) => if (n == 0) Just(h) else t.get(n - 1)\n",
    "  }\n",
    "\n",
    "  def length: Int = length()\n",
    "\n",
    "  @annotation.tailrec\n",
    "  def length(acc: Int = 0): Int = this match {\n",
    "    case End => acc\n",
    "    case Pair(h, t) => t.length(acc + 1)\n",
    "  }\n",
    "\n",
    "  @annotation.tailrec\n",
    "  def contains[AA >: A](elem: AA): Boolean = this match {\n",
    "    case End => false\n",
    "    case Pair(h, t) => if (h == elem) true else t.contains(elem)\n",
    "  }\n",
    "\n",
    "  @annotation.tailrec\n",
    "  def find(p: A => Boolean): Maybe[A] = this match {\n",
    "    case End => Empty\n",
    "    case Pair(h, t) => if (p(h)) Just(h) else t.find(p)\n",
    "  }\n",
    "\n",
    "}\n",
    "case object End extends LinkedList[Nothing]\n",
    "final case class Pair[A](head: A, tail: LinkedList[A]) extends LinkedList[A]\n",
    "object LinkedList {\n",
    " def apply[A](xs: A*): LinkedList[A] =\n",
    "   if (xs.isEmpty) End else Pair(xs.head, apply(xs.tail: _*))\n",
    "}"
   ]
  },
  {
   "cell_type": "code",
   "execution_count": 45,
   "metadata": {},
   "outputs": [
    {
     "name": "stdout",
     "output_type": "stream",
     "text": [
      "Ok!\n"
     ]
    },
    {
     "data": {
      "text/plain": [
       "\u001b[36ml\u001b[39m: \u001b[32mLinkedList\u001b[39m[\u001b[32mInt\u001b[39m] = Pair(1,Pair(2,Pair(3,Pair(4,Pair(5,End)))))"
      ]
     },
     "execution_count": 45,
     "metadata": {},
     "output_type": "execute_result"
    }
   ],
   "source": [
    "val l = LinkedList(1, 2, 3, 4, 5)\n",
    "assert(l.get(0) == Just(1))\n",
    "assert(l.get(6) == Empty)\n",
    "assert(End.length == 0)\n",
    "assert(l.length == 5)\n",
    "assert(l.contains(1) == true)\n",
    "assert(l.contains(0) == false)\n",
    "assert(l.find(_ % 2 == 0) == Just(2))\n",
    "assert(l.find(_ % 6 == 0) == Empty)\n",
    "\n",
    "println(\"Ok!\")"
   ]
  },
  {
   "cell_type": "markdown",
   "metadata": {},
   "source": [
    "## Filter"
   ]
  },
  {
   "cell_type": "code",
   "execution_count": null,
   "metadata": {},
   "outputs": [],
   "source": [
    "def filter(p: A => Boolean): LinkedList[A] = ???"
   ]
  },
  {
   "cell_type": "code",
   "execution_count": null,
   "metadata": {},
   "outputs": [],
   "source": []
  },
  {
   "cell_type": "code",
   "execution_count": 42,
   "metadata": {},
   "outputs": [
    {
     "data": {
      "text/plain": [
       "defined \u001b[32mtrait\u001b[39m \u001b[36mMaybe\u001b[39m\n",
       "defined \u001b[32mobject\u001b[39m \u001b[36mEmpty\u001b[39m\n",
       "defined \u001b[32mclass\u001b[39m \u001b[36mJust\u001b[39m\n",
       "defined \u001b[32mtrait\u001b[39m \u001b[36mLinkedList\u001b[39m\n",
       "defined \u001b[32mobject\u001b[39m \u001b[36mEnd\u001b[39m\n",
       "defined \u001b[32mclass\u001b[39m \u001b[36mPair\u001b[39m\n",
       "defined \u001b[32mobject\u001b[39m \u001b[36mLinkedList\u001b[39m"
      ]
     },
     "execution_count": 42,
     "metadata": {},
     "output_type": "execute_result"
    }
   ],
   "source": [
    "sealed trait Maybe[+A]\n",
    "case object Empty extends Maybe[Nothing]\n",
    "case class Just[A](a: A) extends Maybe[A]\n",
    "\n",
    "sealed trait LinkedList[+A] {\n",
    "  @annotation.tailrec\n",
    "  def get(n: Int): Maybe[A] = this match {\n",
    "    case End => Empty\n",
    "    case Pair(h, t) => if (n == 0) Just(h) else t.get(n - 1)\n",
    "  }\n",
    "\n",
    "  def length: Int = length()\n",
    "\n",
    "  @annotation.tailrec\n",
    "  def length(acc: Int = 0): Int = this match {\n",
    "    case End => acc\n",
    "    case Pair(h, t) => t.length(acc + 1)\n",
    "  }\n",
    "\n",
    "  @annotation.tailrec\n",
    "  def contains[AA >: A](elem: AA): Boolean = this match {\n",
    "    case End => false\n",
    "    case Pair(h, t) => if (h == elem) true else t.contains(elem)\n",
    "  }\n",
    "\n",
    "  @annotation.tailrec\n",
    "  def find(p: A => Boolean): Maybe[A] = this match {\n",
    "    case End => Empty\n",
    "    case Pair(h, t) => if (p(h)) Just(h) else t.find(p)\n",
    "  }\n",
    "\n",
    "  def filter(p: A => Boolean): LinkedList[A] = this match {\n",
    "    case End => End\n",
    "    case Pair(h, t) =>\n",
    "      val tf = t filter p\n",
    "      if (p(h)) Pair(h, tf) else tf\n",
    "  }\n",
    "\n",
    "}\n",
    "case object End extends LinkedList[Nothing]\n",
    "final case class Pair[A](head: A, tail: LinkedList[A]) extends LinkedList[A]\n",
    "object LinkedList {\n",
    " def apply[A](xs: A*): LinkedList[A] =\n",
    "   if (xs.isEmpty) End else Pair(xs.head, apply(xs.tail: _*))\n",
    "}"
   ]
  },
  {
   "cell_type": "code",
   "execution_count": 43,
   "metadata": {},
   "outputs": [
    {
     "name": "stdout",
     "output_type": "stream",
     "text": [
      "Ok!\n"
     ]
    },
    {
     "data": {
      "text/plain": [
       "\u001b[36ml\u001b[39m: \u001b[32mLinkedList\u001b[39m[\u001b[32mInt\u001b[39m] = Pair(1,Pair(2,Pair(3,Pair(4,Pair(5,End)))))"
      ]
     },
     "execution_count": 43,
     "metadata": {},
     "output_type": "execute_result"
    }
   ],
   "source": [
    "val l = LinkedList(1, 2, 3, 4, 5)\n",
    "assert(l.get(0) == Just(1))\n",
    "assert(l.get(6) == Empty)\n",
    "assert(End.length == 0)\n",
    "assert(l.length == 5)\n",
    "assert(l.contains(1) == true)\n",
    "assert(l.contains(0) == false)\n",
    "assert(l.find(_ % 2 == 0) == Just(2))\n",
    "assert(l.find(_ % 6 == 0) == Empty)\n",
    "assert(l.filter(_ % 2 == 0) == LinkedList(2, 4))\n",
    "assert(l.filter(_ % 6 == 0) == LinkedList())\n",
    "\n",
    "println(\"Ok!\")"
   ]
  },
  {
   "cell_type": "markdown",
   "metadata": {},
   "source": [
    "## MAP"
   ]
  },
  {
   "cell_type": "code",
   "execution_count": null,
   "metadata": {},
   "outputs": [],
   "source": [
    "def map[B](f: A => B): LinkedList[B] = ???"
   ]
  },
  {
   "cell_type": "code",
   "execution_count": null,
   "metadata": {},
   "outputs": [],
   "source": [
    "assert(l.map(_ + 1) == LinkedList(2, 3, 4, 5, 6))"
   ]
  },
  {
   "cell_type": "code",
   "execution_count": 37,
   "metadata": {},
   "outputs": [
    {
     "data": {
      "text/plain": [
       "defined \u001b[32mtrait\u001b[39m \u001b[36mMaybe\u001b[39m\n",
       "defined \u001b[32mobject\u001b[39m \u001b[36mEmpty\u001b[39m\n",
       "defined \u001b[32mclass\u001b[39m \u001b[36mJust\u001b[39m\n",
       "defined \u001b[32mtrait\u001b[39m \u001b[36mLinkedList\u001b[39m\n",
       "defined \u001b[32mobject\u001b[39m \u001b[36mEnd\u001b[39m\n",
       "defined \u001b[32mclass\u001b[39m \u001b[36mPair\u001b[39m\n",
       "defined \u001b[32mobject\u001b[39m \u001b[36mLinkedList\u001b[39m"
      ]
     },
     "execution_count": 37,
     "metadata": {},
     "output_type": "execute_result"
    }
   ],
   "source": [
    "sealed trait Maybe[+A]\n",
    "case object Empty extends Maybe[Nothing]\n",
    "case class Just[A](a: A) extends Maybe[A]\n",
    "\n",
    "sealed trait LinkedList[+A] {\n",
    "  @annotation.tailrec\n",
    "  def get(n: Int): Maybe[A] = this match {\n",
    "    case End => Empty\n",
    "    case Pair(h, t) => if (n == 0) Just(h) else t.get(n - 1)\n",
    "  }\n",
    "\n",
    "  def length: Int = length()\n",
    "\n",
    "  @annotation.tailrec\n",
    "  def length(acc: Int = 0): Int = this match {\n",
    "    case End => acc\n",
    "    case Pair(h, t) => t.length(acc + 1)\n",
    "  }\n",
    "\n",
    "  @annotation.tailrec\n",
    "  def contains[AA >: A](elem: AA): Boolean = this match {\n",
    "    case End => false\n",
    "    case Pair(h, t) => if (h == elem) true else t.contains(elem)\n",
    "  }\n",
    "\n",
    "  @annotation.tailrec\n",
    "  def find(p: A => Boolean): Maybe[A] = this match {\n",
    "    case End => Empty\n",
    "    case Pair(h, t) => if (p(h)) Just(h) else t.find(p)\n",
    "  }\n",
    "\n",
    "  def filter(p: A => Boolean): LinkedList[A] = this match {\n",
    "    case End => End\n",
    "    case Pair(h, t) =>\n",
    "      val tf = t filter p\n",
    "      if (p(h)) Pair(h, tf) else tf\n",
    "  }\n",
    "\n",
    "  def map[B](f: A => B): LinkedList[B] = this match {\n",
    "    case End => End\n",
    "    case Pair(h, t) => Pair(f(h), t.map(f))\n",
    "  }\n",
    "  \n",
    "}\n",
    "case object End extends LinkedList[Nothing]\n",
    "final case class Pair[A](head: A, tail: LinkedList[A]) extends LinkedList[A]\n",
    "object LinkedList {\n",
    " def apply[A](xs: A*): LinkedList[A] =\n",
    "   if (xs.isEmpty) End else Pair(xs.head, apply(xs.tail: _*))\n",
    "}"
   ]
  },
  {
   "cell_type": "code",
   "execution_count": 38,
   "metadata": {},
   "outputs": [
    {
     "data": {
      "text/plain": [
       "\u001b[36ml\u001b[39m: \u001b[32mLinkedList\u001b[39m[\u001b[32mInt\u001b[39m] = Pair(1,Pair(2,Pair(3,Pair(4,Pair(5,End)))))"
      ]
     },
     "execution_count": 38,
     "metadata": {},
     "output_type": "execute_result"
    }
   ],
   "source": [
    "val l = LinkedList(1, 2, 3, 4, 5)"
   ]
  },
  {
   "cell_type": "code",
   "execution_count": 41,
   "metadata": {},
   "outputs": [
    {
     "name": "stdout",
     "output_type": "stream",
     "text": [
      "Ok!\n"
     ]
    }
   ],
   "source": [
    "\n",
    "assert(l.get(0) == Just(1))\n",
    "assert(l.get(6) == Empty)\n",
    "assert(End.length == 0)\n",
    "assert(l.length == 5)\n",
    "assert(l.contains(1) == true)\n",
    "assert(l.contains(0) == false)\n",
    "assert(l.find(_ % 2 == 0) == Just(2))\n",
    "assert(l.find(_ % 6 == 0) == Empty)\n",
    "assert(l.filter(_ % 2 == 0) == LinkedList(2, 4))\n",
    "assert(l.filter(_ % 6 == 0) == LinkedList())\n",
    "assert(l.map(_ + 1) == LinkedList(2, 3, 4, 5, 6))\n",
    "\n",
    "println(\"Ok!\")"
   ]
  },
  {
   "cell_type": "markdown",
   "metadata": {},
   "source": [
    "## FLATMAP"
   ]
  },
  {
   "cell_type": "code",
   "execution_count": null,
   "metadata": {},
   "outputs": [],
   "source": [
    "def flatMap[B](f: A => LinkedList[B]): LinkedList[B] = ???"
   ]
  },
  {
   "cell_type": "code",
   "execution_count": null,
   "metadata": {},
   "outputs": [],
   "source": [
    "def ++ 해서.. (list 2개 concat)"
   ]
  },
  {
   "cell_type": "code",
   "execution_count": 39,
   "metadata": {},
   "outputs": [
    {
     "data": {
      "text/plain": [
       "defined \u001b[32mtrait\u001b[39m \u001b[36mMaybe\u001b[39m\n",
       "defined \u001b[32mobject\u001b[39m \u001b[36mEmpty\u001b[39m\n",
       "defined \u001b[32mclass\u001b[39m \u001b[36mJust\u001b[39m\n",
       "defined \u001b[32mtrait\u001b[39m \u001b[36mLinkedList\u001b[39m\n",
       "defined \u001b[32mobject\u001b[39m \u001b[36mEnd\u001b[39m\n",
       "defined \u001b[32mclass\u001b[39m \u001b[36mPair\u001b[39m\n",
       "defined \u001b[32mobject\u001b[39m \u001b[36mLinkedList\u001b[39m"
      ]
     },
     "execution_count": 39,
     "metadata": {},
     "output_type": "execute_result"
    }
   ],
   "source": [
    "sealed trait Maybe[+A]\n",
    "case object Empty extends Maybe[Nothing]\n",
    "case class Just[A](a: A) extends Maybe[A]\n",
    "\n",
    "sealed trait LinkedList[+A] {\n",
    "  @annotation.tailrec\n",
    "  def get(n: Int): Maybe[A] = this match {\n",
    "    case End => Empty\n",
    "    case Pair(h, t) => if (n == 0) Just(h) else t.get(n - 1)\n",
    "  }\n",
    "\n",
    "  def length: Int = length()\n",
    "\n",
    "  @annotation.tailrec\n",
    "  def length(acc: Int = 0): Int = this match {\n",
    "    case End => acc\n",
    "    case Pair(h, t) => t.length(acc + 1)\n",
    "  }\n",
    "\n",
    "  @annotation.tailrec\n",
    "  def contains[AA >: A](elem: AA): Boolean = this match {\n",
    "    case End => false\n",
    "    case Pair(h, t) => if (h == elem) true else t.contains(elem)\n",
    "  }\n",
    "\n",
    "  @annotation.tailrec\n",
    "  def find(p: A => Boolean): Maybe[A] = this match {\n",
    "    case End => Empty\n",
    "    case Pair(h, t) => if (p(h)) Just(h) else t.find(p)\n",
    "  }\n",
    "\n",
    "  def filter(p: A => Boolean): LinkedList[A] = this match {\n",
    "    case End => End\n",
    "    case Pair(h, t) =>\n",
    "      val tf = t filter p\n",
    "      if (p(h)) Pair(h, tf) else tf\n",
    "  }\n",
    "\n",
    "  def map[B](f: A => B): LinkedList[B] = this match {\n",
    "    case End => End\n",
    "    case Pair(h, t) => Pair(f(h), t.map(f))\n",
    "  }\n",
    "  \n",
    "  def flatMap[B](f: A => LinkedList[B]): LinkedList[B] = this match {\n",
    "    case End => End\n",
    "    case Pair(h, t) => f(h) ++ t.flatMap(f)\n",
    "  }\n",
    "\n",
    "  def ++[AA >: A](that: LinkedList[AA]): LinkedList[AA] = this match {\n",
    "    case End => that\n",
    "    case Pair(h, t) => Pair(h, t ++ that)\n",
    "  }\n",
    "\n",
    " \n",
    "}\n",
    "case object End extends LinkedList[Nothing]\n",
    "final case class Pair[A](head: A, tail: LinkedList[A]) extends LinkedList[A]\n",
    "object LinkedList {\n",
    " def apply[A](xs: A*): LinkedList[A] =\n",
    "   if (xs.isEmpty) End else Pair(xs.head, apply(xs.tail: _*))\n",
    "}"
   ]
  },
  {
   "cell_type": "code",
   "execution_count": 40,
   "metadata": {},
   "outputs": [
    {
     "name": "stdout",
     "output_type": "stream",
     "text": [
      "Ok!\n"
     ]
    },
    {
     "data": {
      "text/plain": [
       "\u001b[36ml\u001b[39m: \u001b[32mLinkedList\u001b[39m[\u001b[32mInt\u001b[39m] = Pair(1,Pair(2,Pair(3,Pair(4,Pair(5,End)))))"
      ]
     },
     "execution_count": 40,
     "metadata": {},
     "output_type": "execute_result"
    }
   ],
   "source": [
    "val l = LinkedList(1, 2, 3, 4, 5)\n",
    "assert(l.get(0) == Just(1))\n",
    "assert(l.get(6) == Empty)\n",
    "assert(End.length == 0)\n",
    "assert(l.length == 5)\n",
    "assert(l.contains(1) == true)\n",
    "assert(l.contains(0) == false)\n",
    "assert(l.find(_ % 2 == 0) == Just(2))\n",
    "assert(l.find(_ % 6 == 0) == Empty)\n",
    "assert(l.filter(_ % 2 == 0) == LinkedList(2, 4))\n",
    "assert(l.filter(_ % 6 == 0) == LinkedList())\n",
    "assert(l.map(_ + 1) == LinkedList(2, 3, 4, 5, 6))\n",
    "assert(l.flatMap(n => LinkedList(n, n + 1)) ==\n",
    "  LinkedList(1, 2, 2, 3, 3, 4, 4, 5, 5, 6)\n",
    ")\n",
    "println(\"Ok!\")"
   ]
  },
  {
   "cell_type": "code",
   "execution_count": null,
   "metadata": {},
   "outputs": [],
   "source": []
  },
  {
   "cell_type": "markdown",
   "metadata": {},
   "source": [
    "## FOLDLEFT"
   ]
  },
  {
   "cell_type": "code",
   "execution_count": 49,
   "metadata": {},
   "outputs": [
    {
     "data": {
      "text/plain": [
       "defined \u001b[32mtrait\u001b[39m \u001b[36mMaybe\u001b[39m\n",
       "defined \u001b[32mobject\u001b[39m \u001b[36mEmpty\u001b[39m\n",
       "defined \u001b[32mclass\u001b[39m \u001b[36mJust\u001b[39m\n",
       "defined \u001b[32mtrait\u001b[39m \u001b[36mLinkedList\u001b[39m\n",
       "defined \u001b[32mobject\u001b[39m \u001b[36mEnd\u001b[39m\n",
       "defined \u001b[32mclass\u001b[39m \u001b[36mPair\u001b[39m\n",
       "defined \u001b[32mobject\u001b[39m \u001b[36mLinkedList\u001b[39m"
      ]
     },
     "execution_count": 49,
     "metadata": {},
     "output_type": "execute_result"
    }
   ],
   "source": [
    "sealed trait Maybe[+A]\n",
    "case object Empty extends Maybe[Nothing]\n",
    "case class Just[A](a: A) extends Maybe[A]\n",
    "\n",
    "sealed trait LinkedList[+A] {\n",
    "  @annotation.tailrec\n",
    "  def get(n: Int): Maybe[A] = this match {\n",
    "    case End => Empty\n",
    "    case Pair(h, t) => if (n == 0) Just(h) else t.get(n - 1)\n",
    "  }\n",
    "\n",
    "  def length: Int = length()\n",
    "\n",
    "  @annotation.tailrec\n",
    "  def length(acc: Int = 0): Int = this match {\n",
    "    case End => acc\n",
    "    case Pair(h, t) => t.length(acc + 1)\n",
    "  }\n",
    "\n",
    "  @annotation.tailrec\n",
    "  def contains[AA >: A](elem: AA): Boolean = this match {\n",
    "    case End => false\n",
    "    case Pair(h, t) => if (h == elem) true else t.contains(elem)\n",
    "  }\n",
    "\n",
    "  @annotation.tailrec\n",
    "  def find(p: A => Boolean): Maybe[A] = this match {\n",
    "    case End => Empty\n",
    "    case Pair(h, t) => if (p(h)) Just(h) else t.find(p)\n",
    "  }\n",
    "\n",
    "  def filter(p: A => Boolean): LinkedList[A] = this match {\n",
    "    case End => End\n",
    "    case Pair(h, t) =>\n",
    "      val tf = t filter p\n",
    "      if (p(h)) Pair(h, tf) else tf\n",
    "  }\n",
    "\n",
    "  def map[B](f: A => B): LinkedList[B] = this match {\n",
    "    case End => End\n",
    "    case Pair(h, t) => Pair(f(h), t.map(f))\n",
    "  }\n",
    "  \n",
    "  def flatMap[B](f: A => LinkedList[B]): LinkedList[B] = this match {\n",
    "    case End => End\n",
    "    case Pair(h, t) => f(h) ++ t.flatMap(f)\n",
    "  }\n",
    "\n",
    "  def ++[AA >: A](that: LinkedList[AA]): LinkedList[AA] = this match {\n",
    "    case End => that\n",
    "    case Pair(h, t) => Pair(h, t ++ that)\n",
    "  }\n",
    "\n",
    "  def foldLeft[B](z: B)(op: (B, A) => B): B = this match {\n",
    "      case End => z\n",
    "      case Pair(h, t) => t.foldLeft(op(z, h))(op)\n",
    "  }\n",
    "}\n",
    "case object End extends LinkedList[Nothing]\n",
    "final case class Pair[A](head: A, tail: LinkedList[A]) extends LinkedList[A]\n",
    "object LinkedList {\n",
    " def apply[A](xs: A*): LinkedList[A] =\n",
    "   if (xs.isEmpty) End else Pair(xs.head, apply(xs.tail: _*))\n",
    "}"
   ]
  },
  {
   "cell_type": "code",
   "execution_count": 50,
   "metadata": {},
   "outputs": [
    {
     "name": "stdout",
     "output_type": "stream",
     "text": [
      "Ok!\n"
     ]
    },
    {
     "data": {
      "text/plain": [
       "\u001b[36ml\u001b[39m: \u001b[32mLinkedList\u001b[39m[\u001b[32mInt\u001b[39m] = Pair(1,Pair(2,Pair(3,Pair(4,Pair(5,End)))))"
      ]
     },
     "execution_count": 50,
     "metadata": {},
     "output_type": "execute_result"
    }
   ],
   "source": [
    "val l = LinkedList(1, 2, 3, 4, 5)\n",
    "assert(l.foldLeft(\"\")(_ + _ + 1) == \"1121314151\")\n",
    "assert(l.get(0) == Just(1))\n",
    "assert(l.get(6) == Empty)\n",
    "assert(End.length == 0)\n",
    "assert(l.length == 5)\n",
    "assert(l.contains(1) == true)\n",
    "assert(l.contains(0) == false)\n",
    "assert(l.find(_ % 2 == 0) == Just(2))\n",
    "assert(l.find(_ % 6 == 0) == Empty)\n",
    "assert(l.filter(_ % 2 == 0) == LinkedList(2, 4))\n",
    "assert(l.filter(_ % 6 == 0) == LinkedList())\n",
    "assert(l.map(_ + 1) == LinkedList(2, 3, 4, 5, 6))\n",
    "assert(l.flatMap(n => LinkedList(n, n + 1)) ==\n",
    "  LinkedList(1, 2, 2, 3, 3, 4, 4, 5, 5, 6)\n",
    ")\n",
    "println(\"Ok!\")"
   ]
  },
  {
   "cell_type": "markdown",
   "metadata": {},
   "source": [
    "## FoldRight(1/2)"
   ]
  },
  {
   "cell_type": "code",
   "execution_count": null,
   "metadata": {},
   "outputs": [],
   "source": [
    "def foldRight[B](z: B)(op: (A, B) => B): B = ???"
   ]
  },
  {
   "cell_type": "code",
   "execution_count": 52,
   "metadata": {},
   "outputs": [
    {
     "data": {
      "text/plain": [
       "defined \u001b[32mtrait\u001b[39m \u001b[36mMaybe\u001b[39m\n",
       "defined \u001b[32mobject\u001b[39m \u001b[36mEmpty\u001b[39m\n",
       "defined \u001b[32mclass\u001b[39m \u001b[36mJust\u001b[39m\n",
       "defined \u001b[32mtrait\u001b[39m \u001b[36mLinkedList\u001b[39m\n",
       "defined \u001b[32mobject\u001b[39m \u001b[36mEnd\u001b[39m\n",
       "defined \u001b[32mclass\u001b[39m \u001b[36mPair\u001b[39m\n",
       "defined \u001b[32mobject\u001b[39m \u001b[36mLinkedList\u001b[39m"
      ]
     },
     "execution_count": 52,
     "metadata": {},
     "output_type": "execute_result"
    }
   ],
   "source": [
    "sealed trait Maybe[+A]\n",
    "case object Empty extends Maybe[Nothing]\n",
    "case class Just[A](a: A) extends Maybe[A]\n",
    "\n",
    "sealed trait LinkedList[+A] {\n",
    "  @annotation.tailrec\n",
    "  def get(n: Int): Maybe[A] = this match {\n",
    "    case End => Empty\n",
    "    case Pair(h, t) => if (n == 0) Just(h) else t.get(n - 1)\n",
    "  }\n",
    "\n",
    "  def length: Int = length()\n",
    "\n",
    "  @annotation.tailrec\n",
    "  def length(acc: Int = 0): Int = this match {\n",
    "    case End => acc\n",
    "    case Pair(h, t) => t.length(acc + 1)\n",
    "  }\n",
    "\n",
    "  @annotation.tailrec\n",
    "  def contains[AA >: A](elem: AA): Boolean = this match {\n",
    "    case End => false\n",
    "    case Pair(h, t) => if (h == elem) true else t.contains(elem)\n",
    "  }\n",
    "\n",
    "  @annotation.tailrec\n",
    "  def find(p: A => Boolean): Maybe[A] = this match {\n",
    "    case End => Empty\n",
    "    case Pair(h, t) => if (p(h)) Just(h) else t.find(p)\n",
    "  }\n",
    "\n",
    "  def filter(p: A => Boolean): LinkedList[A] = this match {\n",
    "    case End => End\n",
    "    case Pair(h, t) =>\n",
    "      val tf = t filter p\n",
    "      if (p(h)) Pair(h, tf) else tf\n",
    "  }\n",
    "\n",
    "  def map[B](f: A => B): LinkedList[B] = this match {\n",
    "    case End => End\n",
    "    case Pair(h, t) => Pair(f(h), t.map(f))\n",
    "  }\n",
    "  \n",
    "  def flatMap[B](f: A => LinkedList[B]): LinkedList[B] = this match {\n",
    "    case End => End\n",
    "    case Pair(h, t) => f(h) ++ t.flatMap(f)\n",
    "  }\n",
    "\n",
    "  def ++[AA >: A](that: LinkedList[AA]): LinkedList[AA] = this match {\n",
    "    case End => that\n",
    "    case Pair(h, t) => Pair(h, t ++ that)\n",
    "  }\n",
    "\n",
    "  def foldLeft[B](z: B)(op: (B, A) => B): B = this match {\n",
    "      case End => z\n",
    "      case Pair(h, t) => t.foldLeft(op(z, h))(op)\n",
    "  }\n",
    "    \n",
    "  def foldRight[B](z: B)(op: (A, B) => B): B = this match {\n",
    "      case End => z\n",
    "      case Pair(h, t) => op(h, t.foldRight(z)(op))\n",
    "  }\n",
    "}\n",
    "case object End extends LinkedList[Nothing]\n",
    "final case class Pair[A](head: A, tail: LinkedList[A]) extends LinkedList[A]\n",
    "object LinkedList {\n",
    " def apply[A](xs: A*): LinkedList[A] =\n",
    "   if (xs.isEmpty) End else Pair(xs.head, apply(xs.tail: _*))\n",
    "}"
   ]
  },
  {
   "cell_type": "code",
   "execution_count": 54,
   "metadata": {},
   "outputs": [
    {
     "name": "stdout",
     "output_type": "stream",
     "text": [
      "Ok!\n"
     ]
    },
    {
     "data": {
      "text/plain": [
       "\u001b[36ml\u001b[39m: \u001b[32mLinkedList\u001b[39m[\u001b[32mInt\u001b[39m] = Pair(1,Pair(2,Pair(3,Pair(4,Pair(5,End)))))"
      ]
     },
     "execution_count": 54,
     "metadata": {},
     "output_type": "execute_result"
    }
   ],
   "source": [
    "val l = LinkedList(1, 2, 3, 4, 5)\n",
    "assert(l.foldRight(\"\")(1 + _ + _) == \"23456\")\n",
    "assert(l.foldLeft(\"\")(_ + _ + 1) == \"1121314151\")\n",
    "assert(l.get(0) == Just(1))\n",
    "assert(l.get(6) == Empty)\n",
    "assert(End.length == 0)\n",
    "assert(l.length == 5)\n",
    "assert(l.contains(1) == true)\n",
    "assert(l.contains(0) == false)\n",
    "assert(l.find(_ % 2 == 0) == Just(2))\n",
    "assert(l.find(_ % 6 == 0) == Empty)\n",
    "assert(l.filter(_ % 2 == 0) == LinkedList(2, 4))\n",
    "assert(l.filter(_ % 6 == 0) == LinkedList())\n",
    "assert(l.map(_ + 1) == LinkedList(2, 3, 4, 5, 6))\n",
    "assert(l.flatMap(n => LinkedList(n, n + 1)) ==\n",
    "  LinkedList(1, 2, 2, 3, 3, 4, 4, 5, 5, 6)\n",
    ")\n",
    "println(\"Ok!\")"
   ]
  },
  {
   "cell_type": "markdown",
   "metadata": {},
   "source": [
    "## Reverse\n",
    "- hint : foldLeft 이용"
   ]
  },
  {
   "cell_type": "code",
   "execution_count": null,
   "metadata": {},
   "outputs": [],
   "source": [
    "def reverse: LinkedList[A] = ???"
   ]
  },
  {
   "cell_type": "code",
   "execution_count": 55,
   "metadata": {},
   "outputs": [
    {
     "data": {
      "text/plain": [
       "defined \u001b[32mtrait\u001b[39m \u001b[36mMaybe\u001b[39m\n",
       "defined \u001b[32mobject\u001b[39m \u001b[36mEmpty\u001b[39m\n",
       "defined \u001b[32mclass\u001b[39m \u001b[36mJust\u001b[39m\n",
       "defined \u001b[32mtrait\u001b[39m \u001b[36mLinkedList\u001b[39m\n",
       "defined \u001b[32mobject\u001b[39m \u001b[36mEnd\u001b[39m\n",
       "defined \u001b[32mclass\u001b[39m \u001b[36mPair\u001b[39m\n",
       "defined \u001b[32mobject\u001b[39m \u001b[36mLinkedList\u001b[39m"
      ]
     },
     "execution_count": 55,
     "metadata": {},
     "output_type": "execute_result"
    }
   ],
   "source": [
    "sealed trait Maybe[+A]\n",
    "case object Empty extends Maybe[Nothing]\n",
    "case class Just[A](a: A) extends Maybe[A]\n",
    "\n",
    "sealed trait LinkedList[+A] {\n",
    "  @annotation.tailrec\n",
    "  def get(n: Int): Maybe[A] = this match {\n",
    "    case End => Empty\n",
    "    case Pair(h, t) => if (n == 0) Just(h) else t.get(n - 1)\n",
    "  }\n",
    "\n",
    "  def length: Int = length()\n",
    "\n",
    "  @annotation.tailrec\n",
    "  def length(acc: Int = 0): Int = this match {\n",
    "    case End => acc\n",
    "    case Pair(h, t) => t.length(acc + 1)\n",
    "  }\n",
    "\n",
    "  @annotation.tailrec\n",
    "  def contains[AA >: A](elem: AA): Boolean = this match {\n",
    "    case End => false\n",
    "    case Pair(h, t) => if (h == elem) true else t.contains(elem)\n",
    "  }\n",
    "\n",
    "  @annotation.tailrec\n",
    "  def find(p: A => Boolean): Maybe[A] = this match {\n",
    "    case End => Empty\n",
    "    case Pair(h, t) => if (p(h)) Just(h) else t.find(p)\n",
    "  }\n",
    "\n",
    "  def filter(p: A => Boolean): LinkedList[A] = this match {\n",
    "    case End => End\n",
    "    case Pair(h, t) =>\n",
    "      val tf = t filter p\n",
    "      if (p(h)) Pair(h, tf) else tf\n",
    "  }\n",
    "\n",
    "  def map[B](f: A => B): LinkedList[B] = this match {\n",
    "    case End => End\n",
    "    case Pair(h, t) => Pair(f(h), t.map(f))\n",
    "  }\n",
    "  \n",
    "  def flatMap[B](f: A => LinkedList[B]): LinkedList[B] = this match {\n",
    "    case End => End\n",
    "    case Pair(h, t) => f(h) ++ t.flatMap(f)\n",
    "  }\n",
    "\n",
    "  def ++[AA >: A](that: LinkedList[AA]): LinkedList[AA] = this match {\n",
    "    case End => that\n",
    "    case Pair(h, t) => Pair(h, t ++ that)\n",
    "  }\n",
    "\n",
    "  def foldLeft[B](z: B)(op: (B, A) => B): B = this match {\n",
    "      case End => z\n",
    "      case Pair(h, t) => t.foldLeft(op(z, h))(op)\n",
    "  }\n",
    "    \n",
    "  def foldRight[B](z: B)(op: (A, B) => B): B = this match {\n",
    "      case End => z\n",
    "      case Pair(h, t) => op(h, t.foldRight(z)(op))\n",
    "  }\n",
    "\n",
    "  def reverse: LinkedList[A] = foldLeft[LinkedList[A]](End){ // LinkedList[A] Type이라고 명시\n",
    "      (list, a) => Pair(a, list)\n",
    "  }\n",
    "    \n",
    "}\n",
    "case object End extends LinkedList[Nothing]\n",
    "final case class Pair[A](head: A, tail: LinkedList[A]) extends LinkedList[A]\n",
    "object LinkedList {\n",
    " def apply[A](xs: A*): LinkedList[A] =\n",
    "   if (xs.isEmpty) End else Pair(xs.head, apply(xs.tail: _*))\n",
    "}"
   ]
  },
  {
   "cell_type": "code",
   "execution_count": 56,
   "metadata": {},
   "outputs": [
    {
     "name": "stdout",
     "output_type": "stream",
     "text": [
      "Ok!\n"
     ]
    },
    {
     "data": {
      "text/plain": [
       "\u001b[36ml\u001b[39m: \u001b[32mLinkedList\u001b[39m[\u001b[32mInt\u001b[39m] = Pair(1,Pair(2,Pair(3,Pair(4,Pair(5,End)))))"
      ]
     },
     "execution_count": 56,
     "metadata": {},
     "output_type": "execute_result"
    }
   ],
   "source": [
    "val l = LinkedList(1, 2, 3, 4, 5)\n",
    "assert(l.reverse == LinkedList(5, 4, 3, 2, 1))\n",
    "assert(l.foldRight(\"\")(1 + _ + _) == \"23456\")\n",
    "assert(l.foldLeft(\"\")(_ + _ + 1) == \"1121314151\")\n",
    "assert(l.get(0) == Just(1))\n",
    "assert(l.get(6) == Empty)\n",
    "assert(End.length == 0)\n",
    "assert(l.length == 5)\n",
    "assert(l.contains(1) == true)\n",
    "assert(l.contains(0) == false)\n",
    "assert(l.find(_ % 2 == 0) == Just(2))\n",
    "assert(l.find(_ % 6 == 0) == Empty)\n",
    "assert(l.filter(_ % 2 == 0) == LinkedList(2, 4))\n",
    "assert(l.filter(_ % 6 == 0) == LinkedList())\n",
    "assert(l.map(_ + 1) == LinkedList(2, 3, 4, 5, 6))\n",
    "assert(l.flatMap(n => LinkedList(n, n + 1)) ==\n",
    "  LinkedList(1, 2, 2, 3, 3, 4, 4, 5, 5, 6)\n",
    ")\n",
    "println(\"Ok!\")\n"
   ]
  },
  {
   "cell_type": "markdown",
   "metadata": {},
   "source": [
    "## FOLDRIGHT(2/2)\n",
    "- foldLeft는 쉽게 tail recursion을 적용해 구현할 수 있는 반면, foldRight를 그냥 구현하면 tail recursion이 적용되지 않는 형태가 되기 쉽습니다.\n",
    "\n",
    "- foldRight을 foldLeft를 써서 구현해보세요."
   ]
  },
  {
   "cell_type": "code",
   "execution_count": 57,
   "metadata": {},
   "outputs": [
    {
     "data": {
      "text/plain": [
       "defined \u001b[32mtrait\u001b[39m \u001b[36mMaybe\u001b[39m\n",
       "defined \u001b[32mobject\u001b[39m \u001b[36mEmpty\u001b[39m\n",
       "defined \u001b[32mclass\u001b[39m \u001b[36mJust\u001b[39m\n",
       "defined \u001b[32mtrait\u001b[39m \u001b[36mLinkedList\u001b[39m\n",
       "defined \u001b[32mobject\u001b[39m \u001b[36mEnd\u001b[39m\n",
       "defined \u001b[32mclass\u001b[39m \u001b[36mPair\u001b[39m\n",
       "defined \u001b[32mobject\u001b[39m \u001b[36mLinkedList\u001b[39m"
      ]
     },
     "execution_count": 57,
     "metadata": {},
     "output_type": "execute_result"
    }
   ],
   "source": [
    "sealed trait Maybe[+A]\n",
    "case object Empty extends Maybe[Nothing]\n",
    "case class Just[A](a: A) extends Maybe[A]\n",
    "\n",
    "sealed trait LinkedList[+A] {\n",
    "  @annotation.tailrec\n",
    "  def get(n: Int): Maybe[A] = this match {\n",
    "    case End => Empty\n",
    "    case Pair(h, t) => if (n == 0) Just(h) else t.get(n - 1)\n",
    "  }\n",
    "\n",
    "  def length: Int = length()\n",
    "\n",
    "  @annotation.tailrec\n",
    "  def length(acc: Int = 0): Int = this match {\n",
    "    case End => acc\n",
    "    case Pair(h, t) => t.length(acc + 1)\n",
    "  }\n",
    "\n",
    "  @annotation.tailrec\n",
    "  def contains[AA >: A](elem: AA): Boolean = this match {\n",
    "    case End => false\n",
    "    case Pair(h, t) => if (h == elem) true else t.contains(elem)\n",
    "  }\n",
    "\n",
    "  @annotation.tailrec\n",
    "  def find(p: A => Boolean): Maybe[A] = this match {\n",
    "    case End => Empty\n",
    "    case Pair(h, t) => if (p(h)) Just(h) else t.find(p)\n",
    "  }\n",
    "\n",
    "  def filter(p: A => Boolean): LinkedList[A] = this match {\n",
    "    case End => End\n",
    "    case Pair(h, t) =>\n",
    "      val tf = t filter p\n",
    "      if (p(h)) Pair(h, tf) else tf\n",
    "  }\n",
    "\n",
    "  def map[B](f: A => B): LinkedList[B] = this match {\n",
    "    case End => End\n",
    "    case Pair(h, t) => Pair(f(h), t.map(f))\n",
    "  }\n",
    "  \n",
    "  def flatMap[B](f: A => LinkedList[B]): LinkedList[B] = this match {\n",
    "    case End => End\n",
    "    case Pair(h, t) => f(h) ++ t.flatMap(f)\n",
    "  }\n",
    "\n",
    "  def ++[AA >: A](that: LinkedList[AA]): LinkedList[AA] = this match {\n",
    "    case End => that\n",
    "    case Pair(h, t) => Pair(h, t ++ that)\n",
    "  }\n",
    "    \n",
    "  @annotation.tailrec\n",
    "  def foldLeft[B](z: B)(op: (B, A) => B): B = this match {\n",
    "      case End => z\n",
    "      case Pair(h, t) => t.foldLeft(op(z, h))(op)\n",
    "  }\n",
    "    \n",
    "  def foldRight[B](z: B)(op: (A, B) => B): B = reverse.foldLeft(z){\n",
    "      (b, a) => op(a, b)\n",
    "  }\n",
    "    \n",
    "  def reverse: LinkedList[A] = foldLeft[LinkedList[A]](End){ \n",
    "      (list, a) => Pair(a, list)\n",
    "  }\n",
    "    \n",
    "}\n",
    "case object End extends LinkedList[Nothing]\n",
    "final case class Pair[A](head: A, tail: LinkedList[A]) extends LinkedList[A]\n",
    "object LinkedList {\n",
    " def apply[A](xs: A*): LinkedList[A] =\n",
    "   if (xs.isEmpty) End else Pair(xs.head, apply(xs.tail: _*))\n",
    "}"
   ]
  },
  {
   "cell_type": "code",
   "execution_count": 58,
   "metadata": {},
   "outputs": [
    {
     "name": "stdout",
     "output_type": "stream",
     "text": [
      "Ok!\n"
     ]
    },
    {
     "data": {
      "text/plain": [
       "\u001b[36ml\u001b[39m: \u001b[32mLinkedList\u001b[39m[\u001b[32mInt\u001b[39m] = Pair(1,Pair(2,Pair(3,Pair(4,Pair(5,End)))))"
      ]
     },
     "execution_count": 58,
     "metadata": {},
     "output_type": "execute_result"
    }
   ],
   "source": [
    "val l = LinkedList(1, 2, 3, 4, 5)\n",
    "assert(l.reverse == LinkedList(5, 4, 3, 2, 1))\n",
    "assert(l.foldRight(\"\")(1 + _ + _) == \"23456\")\n",
    "assert(l.foldLeft(\"\")(_ + _ + 1) == \"1121314151\")\n",
    "assert(l.get(0) == Just(1))\n",
    "assert(l.get(6) == Empty)\n",
    "assert(End.length == 0)\n",
    "assert(l.length == 5)\n",
    "assert(l.contains(1) == true)\n",
    "assert(l.contains(0) == false)\n",
    "assert(l.find(_ % 2 == 0) == Just(2))\n",
    "assert(l.find(_ % 6 == 0) == Empty)\n",
    "assert(l.filter(_ % 2 == 0) == LinkedList(2, 4))\n",
    "assert(l.filter(_ % 6 == 0) == LinkedList())\n",
    "assert(l.map(_ + 1) == LinkedList(2, 3, 4, 5, 6))\n",
    "assert(l.flatMap(n => LinkedList(n, n + 1)) ==\n",
    "  LinkedList(1, 2, 2, 3, 3, 4, 4, 5, 5, 6)\n",
    ")\n",
    "println(\"Ok!\")"
   ]
  },
  {
   "cell_type": "markdown",
   "metadata": {},
   "source": [
    "# 실습 Part 2\n",
    "- [Exercise 2](https://github.com/sungkmi/scala-slides/blob/master/exercise2.md)"
   ]
  },
  {
   "cell_type": "code",
   "execution_count": 59,
   "metadata": {},
   "outputs": [
    {
     "data": {
      "text/plain": [
       "defined \u001b[32mfunction\u001b[39m \u001b[36msum\u001b[39m"
      ]
     },
     "execution_count": 59,
     "metadata": {},
     "output_type": "execute_result"
    }
   ],
   "source": [
    "def sum(f: Int => Int)(a: Int, b: Int) = (a to b map f).sum"
   ]
  },
  {
   "cell_type": "code",
   "execution_count": 61,
   "metadata": {},
   "outputs": [
    {
     "data": {
      "text/plain": [
       "\u001b[36mres60\u001b[39m: \u001b[32mInt\u001b[39m = \u001b[32m385\u001b[39m"
      ]
     },
     "execution_count": 61,
     "metadata": {},
     "output_type": "execute_result"
    }
   ],
   "source": [
    "sum(x => x * x)(1, 10)\n",
    "// 1부터 10까지의 합"
   ]
  },
  {
   "cell_type": "code",
   "execution_count": 62,
   "metadata": {},
   "outputs": [
    {
     "data": {
      "text/plain": [
       "\u001b[36mres61\u001b[39m: \u001b[32mInt\u001b[39m = \u001b[32m110\u001b[39m"
      ]
     },
     "execution_count": 62,
     "metadata": {},
     "output_type": "execute_result"
    }
   ],
   "source": [
    "sum(_ * 2)(1, 10)"
   ]
  },
  {
   "cell_type": "code",
   "execution_count": 63,
   "metadata": {},
   "outputs": [
    {
     "data": {
      "text/plain": [
       "defined \u001b[32mfunction\u001b[39m \u001b[36mf\u001b[39m"
      ]
     },
     "execution_count": 63,
     "metadata": {},
     "output_type": "execute_result"
    }
   ],
   "source": [
    "def f(a: Int, b: Int): Int = a * b"
   ]
  },
  {
   "cell_type": "code",
   "execution_count": 64,
   "metadata": {},
   "outputs": [
    {
     "data": {
      "text/plain": [
       "defined \u001b[32mfunction\u001b[39m \u001b[36mg\u001b[39m"
      ]
     },
     "execution_count": 64,
     "metadata": {},
     "output_type": "execute_result"
    }
   ],
   "source": [
    "def g(a: Int)(b: Int): Int = a * b"
   ]
  },
  {
   "cell_type": "code",
   "execution_count": 65,
   "metadata": {},
   "outputs": [
    {
     "data": {
      "text/plain": [
       "\u001b[36mres64\u001b[39m: \u001b[32mInt\u001b[39m = \u001b[32m6\u001b[39m"
      ]
     },
     "execution_count": 65,
     "metadata": {},
     "output_type": "execute_result"
    }
   ],
   "source": [
    "f(2, 3)"
   ]
  },
  {
   "cell_type": "code",
   "execution_count": 66,
   "metadata": {},
   "outputs": [
    {
     "data": {
      "text/plain": [
       "\u001b[36mres65\u001b[39m: \u001b[32mInt\u001b[39m = \u001b[32m6\u001b[39m"
      ]
     },
     "execution_count": 66,
     "metadata": {},
     "output_type": "execute_result"
    }
   ],
   "source": [
    "g(2)(3)"
   ]
  },
  {
   "cell_type": "code",
   "execution_count": 67,
   "metadata": {},
   "outputs": [
    {
     "data": {
      "text/plain": [
       "\u001b[36mres66\u001b[39m: \u001b[32mInt\u001b[39m = \u001b[32m110\u001b[39m"
      ]
     },
     "execution_count": 67,
     "metadata": {},
     "output_type": "execute_result"
    }
   ],
   "source": [
    "sum(g(2))(1,10)"
   ]
  },
  {
   "cell_type": "code",
   "execution_count": 68,
   "metadata": {},
   "outputs": [
    {
     "data": {
      "text/plain": [
       "\u001b[36mpair\u001b[39m: (\u001b[32mString\u001b[39m, \u001b[32mInt\u001b[39m) = (\u001b[32m\"ans\"\u001b[39m, \u001b[32m42\u001b[39m)"
      ]
     },
     "execution_count": 68,
     "metadata": {},
     "output_type": "execute_result"
    }
   ],
   "source": [
    "val pair = (\"ans\", 42)"
   ]
  },
  {
   "cell_type": "code",
   "execution_count": 71,
   "metadata": {},
   "outputs": [
    {
     "data": {
      "text/plain": [
       "\u001b[36mlabel\u001b[39m: \u001b[32mString\u001b[39m = \u001b[32m\"ans\"\u001b[39m\n",
       "\u001b[36mvalue\u001b[39m: \u001b[32mInt\u001b[39m = \u001b[32m42\u001b[39m"
      ]
     },
     "execution_count": 71,
     "metadata": {},
     "output_type": "execute_result"
    }
   ],
   "source": [
    "val (label, value) = pair"
   ]
  },
  {
   "cell_type": "code",
   "execution_count": 70,
   "metadata": {},
   "outputs": [
    {
     "data": {
      "text/plain": [
       "\u001b[36mres69\u001b[39m: \u001b[32mString\u001b[39m = \u001b[32m\"ans\"\u001b[39m"
      ]
     },
     "execution_count": 70,
     "metadata": {},
     "output_type": "execute_result"
    }
   ],
   "source": [
    "pair._1"
   ]
  },
  {
   "cell_type": "code",
   "execution_count": 72,
   "metadata": {},
   "outputs": [
    {
     "data": {
      "text/plain": [
       "\u001b[36mres71\u001b[39m: \u001b[32mInt\u001b[39m = \u001b[32m42\u001b[39m"
      ]
     },
     "execution_count": 72,
     "metadata": {},
     "output_type": "execute_result"
    }
   ],
   "source": [
    "pair._2"
   ]
  },
  {
   "cell_type": "code",
   "execution_count": 72,
   "metadata": {},
   "outputs": [
    {
     "name": "stderr",
     "output_type": "stream",
     "text": [
      "cmd72.sc:1: value _0 is not a member of (String, Int)\n",
      "val res72 = pair._0\n",
      "                 ^"
     ]
    },
    {
     "ename": "",
     "evalue": "",
     "output_type": "error",
     "traceback": [
      "Compilation Failed"
     ]
    }
   ],
   "source": [
    "pair._0"
   ]
  },
  {
   "cell_type": "code",
   "execution_count": 73,
   "metadata": {},
   "outputs": [
    {
     "data": {
      "text/plain": [
       "\u001b[36ma\u001b[39m: \u001b[32mInt\u001b[39m = \u001b[32m1\u001b[39m\n",
       "\u001b[36mb\u001b[39m: \u001b[32mInt\u001b[39m = \u001b[32m2\u001b[39m\n",
       "\u001b[36mc\u001b[39m: \u001b[32mInt\u001b[39m = \u001b[32m3\u001b[39m"
      ]
     },
     "execution_count": 73,
     "metadata": {},
     "output_type": "execute_result"
    }
   ],
   "source": [
    "val List(a, b, c) = List(1, 2, 3)"
   ]
  },
  {
   "cell_type": "code",
   "execution_count": 74,
   "metadata": {},
   "outputs": [
    {
     "data": {
      "text/plain": [
       "\u001b[36ma\u001b[39m: \u001b[32mString\u001b[39m = \u001b[32m\"1\"\u001b[39m\n",
       "\u001b[36mb\u001b[39m: \u001b[32mString\u001b[39m = \u001b[32m\"2\"\u001b[39m\n",
       "\u001b[36mc\u001b[39m: \u001b[32mString\u001b[39m = \u001b[32m\"3\"\u001b[39m"
      ]
     },
     "execution_count": 74,
     "metadata": {},
     "output_type": "execute_result"
    }
   ],
   "source": [
    "val Array(a, b, c) = \"1 2 3\" split ' '"
   ]
  },
  {
   "cell_type": "code",
   "execution_count": 75,
   "metadata": {},
   "outputs": [
    {
     "data": {
      "text/plain": [
       "\u001b[36mres74\u001b[39m: \u001b[32mRange\u001b[39m.\u001b[32mInclusive\u001b[39m = \u001b[33mRange\u001b[39m(\u001b[32m1\u001b[39m, \u001b[32m2\u001b[39m, \u001b[32m3\u001b[39m, \u001b[32m4\u001b[39m, \u001b[32m5\u001b[39m, \u001b[32m6\u001b[39m, \u001b[32m7\u001b[39m, \u001b[32m8\u001b[39m, \u001b[32m9\u001b[39m, \u001b[32m10\u001b[39m)"
      ]
     },
     "execution_count": 75,
     "metadata": {},
     "output_type": "execute_result"
    }
   ],
   "source": [
    "1 to 10"
   ]
  },
  {
   "cell_type": "code",
   "execution_count": 76,
   "metadata": {},
   "outputs": [
    {
     "data": {
      "text/plain": [
       "\u001b[36mres75\u001b[39m: \u001b[32mRange\u001b[39m = \u001b[33mRange\u001b[39m(\u001b[32m1\u001b[39m, \u001b[32m2\u001b[39m, \u001b[32m3\u001b[39m, \u001b[32m4\u001b[39m, \u001b[32m5\u001b[39m, \u001b[32m6\u001b[39m, \u001b[32m7\u001b[39m, \u001b[32m8\u001b[39m, \u001b[32m9\u001b[39m)"
      ]
     },
     "execution_count": 76,
     "metadata": {},
     "output_type": "execute_result"
    }
   ],
   "source": [
    "1 until 10"
   ]
  },
  {
   "cell_type": "code",
   "execution_count": 77,
   "metadata": {},
   "outputs": [
    {
     "data": {
      "text/plain": [
       "\u001b[36mres76\u001b[39m: \u001b[32mRange\u001b[39m = \u001b[33mRange\u001b[39m(\u001b[32m1\u001b[39m, \u001b[32m4\u001b[39m, \u001b[32m7\u001b[39m, \u001b[32m10\u001b[39m)"
      ]
     },
     "execution_count": 77,
     "metadata": {},
     "output_type": "execute_result"
    }
   ],
   "source": [
    "1 to 10 by 3"
   ]
  },
  {
   "cell_type": "code",
   "execution_count": 78,
   "metadata": {},
   "outputs": [
    {
     "data": {
      "text/plain": [
       "\u001b[36mres77\u001b[39m: \u001b[32mRange\u001b[39m = \u001b[33mRange\u001b[39m(\u001b[32m6\u001b[39m, \u001b[32m4\u001b[39m, \u001b[32m2\u001b[39m)"
      ]
     },
     "execution_count": 78,
     "metadata": {},
     "output_type": "execute_result"
    }
   ],
   "source": [
    "6 to 1 by -2"
   ]
  },
  {
   "cell_type": "code",
   "execution_count": 79,
   "metadata": {},
   "outputs": [
    {
     "data": {
      "text/plain": [
       "\u001b[36mres78\u001b[39m: \u001b[32mRange\u001b[39m.\u001b[32mInclusive\u001b[39m = \u001b[33mRange\u001b[39m(\u001b[32m1\u001b[39m, \u001b[32m2\u001b[39m, \u001b[32m3\u001b[39m, \u001b[32m4\u001b[39m, \u001b[32m5\u001b[39m, \u001b[32m6\u001b[39m, \u001b[32m7\u001b[39m, \u001b[32m8\u001b[39m, \u001b[32m9\u001b[39m, \u001b[32m10\u001b[39m)"
      ]
     },
     "execution_count": 79,
     "metadata": {},
     "output_type": "execute_result"
    }
   ],
   "source": [
    "1.to(10)"
   ]
  },
  {
   "cell_type": "code",
   "execution_count": 81,
   "metadata": {},
   "outputs": [
    {
     "data": {
      "text/plain": [
       "\u001b[36maaa\u001b[39m: \u001b[32mSeq\u001b[39m[\u001b[32mInt\u001b[39m] = \u001b[33mList\u001b[39m(\u001b[32m1\u001b[39m, \u001b[32m1\u001b[39m, \u001b[32m2\u001b[39m, \u001b[32m2\u001b[39m, \u001b[32m3\u001b[39m, \u001b[32m3\u001b[39m)"
      ]
     },
     "execution_count": 81,
     "metadata": {},
     "output_type": "execute_result"
    }
   ],
   "source": [
    "val aaa = Seq(1, 1, 2, 2, 3, 3)"
   ]
  },
  {
   "cell_type": "code",
   "execution_count": 83,
   "metadata": {},
   "outputs": [
    {
     "data": {
      "text/plain": [
       "\u001b[36mres82\u001b[39m: \u001b[32mSet\u001b[39m[\u001b[32mInt\u001b[39m] = \u001b[33mSet\u001b[39m(\u001b[32m1\u001b[39m, \u001b[32m2\u001b[39m, \u001b[32m3\u001b[39m)"
      ]
     },
     "execution_count": 83,
     "metadata": {},
     "output_type": "execute_result"
    }
   ],
   "source": [
    "Set(1, 1, 2, 2, 3, 3)"
   ]
  },
  {
   "cell_type": "code",
   "execution_count": 84,
   "metadata": {},
   "outputs": [
    {
     "data": {
      "text/plain": [
       "\u001b[36mres83\u001b[39m: \u001b[32mIndexedSeq\u001b[39m[\u001b[32mInt\u001b[39m] = \u001b[33mVector\u001b[39m(\u001b[32m1\u001b[39m, \u001b[32m2\u001b[39m, \u001b[32m3\u001b[39m)"
      ]
     },
     "execution_count": 84,
     "metadata": {},
     "output_type": "execute_result"
    }
   ],
   "source": [
    "IndexedSeq(1, 2, 3)"
   ]
  },
  {
   "cell_type": "code",
   "execution_count": 85,
   "metadata": {},
   "outputs": [
    {
     "data": {
      "text/plain": [
       "\u001b[36mres84\u001b[39m: \u001b[32mIndexedSeq\u001b[39m[\u001b[32mInt\u001b[39m] = \u001b[33mVector\u001b[39m(\u001b[32m1\u001b[39m, \u001b[32m2\u001b[39m, \u001b[32m3\u001b[39m, \u001b[32m4\u001b[39m)"
      ]
     },
     "execution_count": 85,
     "metadata": {},
     "output_type": "execute_result"
    }
   ],
   "source": [
    "IndexedSeq(1, 2, 3) :+ 4"
   ]
  },
  {
   "cell_type": "code",
   "execution_count": 86,
   "metadata": {},
   "outputs": [
    {
     "data": {
      "text/plain": [
       "\u001b[36mres85\u001b[39m: \u001b[32mIndexedSeq\u001b[39m[\u001b[32mInt\u001b[39m] = \u001b[33mVector\u001b[39m(\u001b[32m0\u001b[39m, \u001b[32m1\u001b[39m, \u001b[32m2\u001b[39m, \u001b[32m3\u001b[39m)"
      ]
     },
     "execution_count": 86,
     "metadata": {},
     "output_type": "execute_result"
    }
   ],
   "source": [
    "0 +: IndexedSeq(1, 2, 3)"
   ]
  },
  {
   "cell_type": "code",
   "execution_count": 87,
   "metadata": {},
   "outputs": [
    {
     "data": {
      "text/plain": [
       "\u001b[36mres86\u001b[39m: \u001b[32mList\u001b[39m[\u001b[32mInt\u001b[39m] = \u001b[33mList\u001b[39m(\u001b[32m1\u001b[39m, \u001b[32m2\u001b[39m, \u001b[32m3\u001b[39m)"
      ]
     },
     "execution_count": 87,
     "metadata": {},
     "output_type": "execute_result"
    }
   ],
   "source": [
    "List(1, 2, 3)"
   ]
  },
  {
   "cell_type": "code",
   "execution_count": 88,
   "metadata": {},
   "outputs": [
    {
     "data": {
      "text/plain": [
       "\u001b[36mres87\u001b[39m: \u001b[32mList\u001b[39m[\u001b[32mInt\u001b[39m] = \u001b[33mList\u001b[39m(\u001b[32m1\u001b[39m, \u001b[32m2\u001b[39m, \u001b[32m3\u001b[39m)"
      ]
     },
     "execution_count": 88,
     "metadata": {},
     "output_type": "execute_result"
    }
   ],
   "source": [
    "1::(2::(3::Nil))"
   ]
  },
  {
   "cell_type": "code",
   "execution_count": 89,
   "metadata": {},
   "outputs": [
    {
     "data": {
      "text/plain": [
       "\u001b[36mres88\u001b[39m: \u001b[32mList\u001b[39m[\u001b[32mInt\u001b[39m] = \u001b[33mList\u001b[39m(\u001b[32m1\u001b[39m, \u001b[32m2\u001b[39m, \u001b[32m3\u001b[39m)"
      ]
     },
     "execution_count": 89,
     "metadata": {},
     "output_type": "execute_result"
    }
   ],
   "source": [
    "1::2::3::Nil"
   ]
  },
  {
   "cell_type": "code",
   "execution_count": 90,
   "metadata": {},
   "outputs": [
    {
     "data": {
      "text/plain": [
       "\u001b[36mres89\u001b[39m: \u001b[32mList\u001b[39m[\u001b[32mInt\u001b[39m] = \u001b[33mList\u001b[39m(\u001b[32m1\u001b[39m, \u001b[32m2\u001b[39m, \u001b[32m3\u001b[39m)"
      ]
     },
     "execution_count": 90,
     "metadata": {},
     "output_type": "execute_result"
    }
   ],
   "source": [
    "Nil.::(3).::(2).::(1)"
   ]
  },
  {
   "cell_type": "code",
   "execution_count": 91,
   "metadata": {},
   "outputs": [
    {
     "data": {
      "text/plain": [
       "\u001b[36mxs\u001b[39m: \u001b[32mList\u001b[39m[\u001b[32mInt\u001b[39m] = \u001b[33mList\u001b[39m(\u001b[32m1\u001b[39m, \u001b[32m1\u001b[39m, \u001b[32m2\u001b[39m, \u001b[32m2\u001b[39m, \u001b[32m3\u001b[39m, \u001b[32m3\u001b[39m)\n",
       "\u001b[36mys\u001b[39m: \u001b[32mIndexedSeq\u001b[39m[\u001b[32mInt\u001b[39m] = \u001b[33mVector\u001b[39m(\u001b[32m1\u001b[39m, \u001b[32m2\u001b[39m, \u001b[32m3\u001b[39m)"
      ]
     },
     "execution_count": 91,
     "metadata": {},
     "output_type": "execute_result"
    }
   ],
   "source": [
    "val (xs, ys) = (List(1, 1, 2, 2, 3, 3), IndexedSeq(1, 2, 3))"
   ]
  },
  {
   "cell_type": "code",
   "execution_count": 92,
   "metadata": {},
   "outputs": [
    {
     "data": {
      "text/plain": [
       "\u001b[36mres91\u001b[39m: \u001b[32mInt\u001b[39m = \u001b[32m1\u001b[39m"
      ]
     },
     "execution_count": 92,
     "metadata": {},
     "output_type": "execute_result"
    }
   ],
   "source": [
    "xs.head"
   ]
  },
  {
   "cell_type": "code",
   "execution_count": 93,
   "metadata": {},
   "outputs": [
    {
     "data": {
      "text/plain": [
       "\u001b[36mres92\u001b[39m: \u001b[32mList\u001b[39m[\u001b[32mInt\u001b[39m] = \u001b[33mList\u001b[39m(\u001b[32m1\u001b[39m, \u001b[32m2\u001b[39m, \u001b[32m2\u001b[39m, \u001b[32m3\u001b[39m, \u001b[32m3\u001b[39m)"
      ]
     },
     "execution_count": 93,
     "metadata": {},
     "output_type": "execute_result"
    }
   ],
   "source": [
    "xs.tail"
   ]
  },
  {
   "cell_type": "code",
   "execution_count": 94,
   "metadata": {},
   "outputs": [
    {
     "data": {
      "text/plain": [
       "\u001b[36mres93\u001b[39m: \u001b[32mInt\u001b[39m = \u001b[32m3\u001b[39m"
      ]
     },
     "execution_count": 94,
     "metadata": {},
     "output_type": "execute_result"
    }
   ],
   "source": [
    "ys.last"
   ]
  },
  {
   "cell_type": "code",
   "execution_count": 95,
   "metadata": {},
   "outputs": [
    {
     "data": {
      "text/plain": [
       "\u001b[36mres94\u001b[39m: \u001b[32mIndexedSeq\u001b[39m[\u001b[32mInt\u001b[39m] = \u001b[33mVector\u001b[39m(\u001b[32m1\u001b[39m, \u001b[32m2\u001b[39m)"
      ]
     },
     "execution_count": 95,
     "metadata": {},
     "output_type": "execute_result"
    }
   ],
   "source": [
    "ys.init"
   ]
  },
  {
   "cell_type": "code",
   "execution_count": 96,
   "metadata": {},
   "outputs": [
    {
     "data": {
      "text/plain": [
       "\u001b[36mres95\u001b[39m: \u001b[32mInt\u001b[39m = \u001b[32m1\u001b[39m"
      ]
     },
     "execution_count": 96,
     "metadata": {},
     "output_type": "execute_result"
    }
   ],
   "source": [
    "ys.head"
   ]
  },
  {
   "cell_type": "code",
   "execution_count": 97,
   "metadata": {},
   "outputs": [
    {
     "data": {
      "text/plain": [
       "\u001b[36mres96\u001b[39m: \u001b[32mList\u001b[39m[\u001b[32mInt\u001b[39m] = \u001b[33mList\u001b[39m(\u001b[32m1\u001b[39m, \u001b[32m1\u001b[39m, \u001b[32m2\u001b[39m, \u001b[32m2\u001b[39m)"
      ]
     },
     "execution_count": 97,
     "metadata": {},
     "output_type": "execute_result"
    }
   ],
   "source": [
    "xs take 4"
   ]
  },
  {
   "cell_type": "code",
   "execution_count": 98,
   "metadata": {},
   "outputs": [
    {
     "data": {
      "text/plain": [
       "\u001b[36mres97\u001b[39m: \u001b[32mList\u001b[39m[\u001b[32mInt\u001b[39m] = \u001b[33mList\u001b[39m(\u001b[32m3\u001b[39m, \u001b[32m3\u001b[39m)"
      ]
     },
     "execution_count": 98,
     "metadata": {},
     "output_type": "execute_result"
    }
   ],
   "source": [
    "xs drop 4"
   ]
  },
  {
   "cell_type": "code",
   "execution_count": 99,
   "metadata": {},
   "outputs": [
    {
     "data": {
      "text/plain": [
       "\u001b[36mres98\u001b[39m: \u001b[32mInt\u001b[39m = \u001b[32m2\u001b[39m"
      ]
     },
     "execution_count": 99,
     "metadata": {},
     "output_type": "execute_result"
    }
   ],
   "source": [
    "ys(1)"
   ]
  },
  {
   "cell_type": "code",
   "execution_count": 100,
   "metadata": {},
   "outputs": [
    {
     "data": {
      "text/plain": [
       "\u001b[36mres99\u001b[39m: \u001b[32mList\u001b[39m[\u001b[32mInt\u001b[39m] = \u001b[33mList\u001b[39m(\u001b[32m1\u001b[39m, \u001b[32m1\u001b[39m, \u001b[32m2\u001b[39m, \u001b[32m2\u001b[39m, \u001b[32m3\u001b[39m, \u001b[32m3\u001b[39m, \u001b[32m1\u001b[39m, \u001b[32m2\u001b[39m, \u001b[32m3\u001b[39m)"
      ]
     },
     "execution_count": 100,
     "metadata": {},
     "output_type": "execute_result"
    }
   ],
   "source": [
    "xs ++ ys"
   ]
  },
  {
   "cell_type": "code",
   "execution_count": 101,
   "metadata": {},
   "outputs": [
    {
     "data": {
      "text/plain": [
       "\u001b[36mres100\u001b[39m: \u001b[32mList\u001b[39m[\u001b[32mInt\u001b[39m] = \u001b[33mList\u001b[39m(\u001b[32m1\u001b[39m, \u001b[32m1\u001b[39m, \u001b[32m2\u001b[39m, \u001b[32m2\u001b[39m, \u001b[32m3\u001b[39m, \u001b[32m3\u001b[39m)"
      ]
     },
     "execution_count": 101,
     "metadata": {},
     "output_type": "execute_result"
    }
   ],
   "source": [
    "xs"
   ]
  },
  {
   "cell_type": "code",
   "execution_count": 102,
   "metadata": {},
   "outputs": [
    {
     "data": {
      "text/plain": [
       "\u001b[36mres101\u001b[39m: \u001b[32mIndexedSeq\u001b[39m[\u001b[32mInt\u001b[39m] = \u001b[33mVector\u001b[39m(\u001b[32m1\u001b[39m, \u001b[32m2\u001b[39m, \u001b[32m3\u001b[39m)"
      ]
     },
     "execution_count": 102,
     "metadata": {},
     "output_type": "execute_result"
    }
   ],
   "source": [
    "ys"
   ]
  },
  {
   "cell_type": "code",
   "execution_count": 103,
   "metadata": {},
   "outputs": [
    {
     "data": {
      "text/plain": [
       "\u001b[36mres102\u001b[39m: \u001b[32mIndexedSeq\u001b[39m[\u001b[32mInt\u001b[39m] = \u001b[33mVector\u001b[39m(\u001b[32m1\u001b[39m, \u001b[32m2\u001b[39m, \u001b[32m3\u001b[39m, \u001b[32m1\u001b[39m, \u001b[32m1\u001b[39m, \u001b[32m2\u001b[39m, \u001b[32m2\u001b[39m, \u001b[32m3\u001b[39m, \u001b[32m3\u001b[39m)"
      ]
     },
     "execution_count": 103,
     "metadata": {},
     "output_type": "execute_result"
    }
   ],
   "source": [
    "ys ++ xs"
   ]
  },
  {
   "cell_type": "code",
   "execution_count": 103,
   "metadata": {},
   "outputs": [],
   "source": [
    "// 앞의 자료형을 따라감"
   ]
  },
  {
   "cell_type": "code",
   "execution_count": 104,
   "metadata": {},
   "outputs": [
    {
     "data": {
      "text/plain": [
       "\u001b[36mres103\u001b[39m: \u001b[32mList\u001b[39m[\u001b[32mInt\u001b[39m] = \u001b[33mList\u001b[39m(\u001b[32m3\u001b[39m, \u001b[32m3\u001b[39m, \u001b[32m2\u001b[39m, \u001b[32m2\u001b[39m, \u001b[32m1\u001b[39m, \u001b[32m1\u001b[39m)"
      ]
     },
     "execution_count": 104,
     "metadata": {},
     "output_type": "execute_result"
    }
   ],
   "source": [
    "xs.reverse"
   ]
  },
  {
   "cell_type": "code",
   "execution_count": 105,
   "metadata": {},
   "outputs": [
    {
     "data": {
      "text/plain": [
       "\u001b[36mres104\u001b[39m: \u001b[32mIndexedSeq\u001b[39m[\u001b[32mInt\u001b[39m] = \u001b[33mVector\u001b[39m(\u001b[32m1\u001b[39m, \u001b[32m10\u001b[39m, \u001b[32m3\u001b[39m)"
      ]
     },
     "execution_count": 105,
     "metadata": {},
     "output_type": "execute_result"
    }
   ],
   "source": [
    "ys updated(1, 10)"
   ]
  },
  {
   "cell_type": "code",
   "execution_count": 106,
   "metadata": {},
   "outputs": [
    {
     "data": {
      "text/plain": [
       "\u001b[36mres105\u001b[39m: \u001b[32mIndexedSeq\u001b[39m[\u001b[32mInt\u001b[39m] = \u001b[33mVector\u001b[39m(\u001b[32m1\u001b[39m, \u001b[32m2\u001b[39m, \u001b[32m3\u001b[39m)"
      ]
     },
     "execution_count": 106,
     "metadata": {},
     "output_type": "execute_result"
    }
   ],
   "source": [
    "ys"
   ]
  },
  {
   "cell_type": "code",
   "execution_count": 107,
   "metadata": {},
   "outputs": [
    {
     "data": {
      "text/plain": [
       "\u001b[36mres106\u001b[39m: \u001b[32mInt\u001b[39m = \u001b[32m4\u001b[39m"
      ]
     },
     "execution_count": 107,
     "metadata": {},
     "output_type": "execute_result"
    }
   ],
   "source": [
    "xs indexOf 3"
   ]
  },
  {
   "cell_type": "code",
   "execution_count": 108,
   "metadata": {},
   "outputs": [
    {
     "data": {
      "text/plain": [
       "\u001b[36mres107\u001b[39m: \u001b[32mBoolean\u001b[39m = \u001b[32mtrue\u001b[39m"
      ]
     },
     "execution_count": 108,
     "metadata": {},
     "output_type": "execute_result"
    }
   ],
   "source": [
    "xs contains 3"
   ]
  },
  {
   "cell_type": "code",
   "execution_count": 109,
   "metadata": {},
   "outputs": [
    {
     "data": {
      "text/plain": [
       "\u001b[36mres108\u001b[39m: \u001b[32mBoolean\u001b[39m = \u001b[32mfalse\u001b[39m"
      ]
     },
     "execution_count": 109,
     "metadata": {},
     "output_type": "execute_result"
    }
   ],
   "source": [
    "xs contains 4"
   ]
  },
  {
   "cell_type": "code",
   "execution_count": 110,
   "metadata": {},
   "outputs": [
    {
     "data": {
      "text/plain": [
       "\u001b[36mres109\u001b[39m: \u001b[32mList\u001b[39m[(\u001b[32mInt\u001b[39m, \u001b[32mInt\u001b[39m)] = \u001b[33mList\u001b[39m((\u001b[32m1\u001b[39m, \u001b[32m1\u001b[39m), (\u001b[32m1\u001b[39m, \u001b[32m2\u001b[39m), (\u001b[32m2\u001b[39m, \u001b[32m3\u001b[39m))"
      ]
     },
     "execution_count": 110,
     "metadata": {},
     "output_type": "execute_result"
    }
   ],
   "source": [
    "xs zip ys"
   ]
  },
  {
   "cell_type": "code",
   "execution_count": 111,
   "metadata": {},
   "outputs": [
    {
     "data": {
      "text/plain": [
       "\u001b[36mres110\u001b[39m: \u001b[32mIndexedSeq\u001b[39m[(\u001b[32mInt\u001b[39m, \u001b[32mInt\u001b[39m)] = \u001b[33mVector\u001b[39m((\u001b[32m1\u001b[39m, \u001b[32m1\u001b[39m), (\u001b[32m2\u001b[39m, \u001b[32m1\u001b[39m), (\u001b[32m3\u001b[39m, \u001b[32m2\u001b[39m))"
      ]
     },
     "execution_count": 111,
     "metadata": {},
     "output_type": "execute_result"
    }
   ],
   "source": [
    "ys zip xs"
   ]
  },
  {
   "cell_type": "code",
   "execution_count": 112,
   "metadata": {},
   "outputs": [
    {
     "data": {
      "text/plain": [
       "\u001b[36mres111\u001b[39m: \u001b[32mInt\u001b[39m = \u001b[32m12\u001b[39m"
      ]
     },
     "execution_count": 112,
     "metadata": {},
     "output_type": "execute_result"
    }
   ],
   "source": [
    "xs.sum"
   ]
  },
  {
   "cell_type": "code",
   "execution_count": 113,
   "metadata": {},
   "outputs": [
    {
     "data": {
      "text/plain": [
       "\u001b[36mres112\u001b[39m: \u001b[32mInt\u001b[39m = \u001b[32m36\u001b[39m"
      ]
     },
     "execution_count": 113,
     "metadata": {},
     "output_type": "execute_result"
    }
   ],
   "source": [
    "xs.product"
   ]
  },
  {
   "cell_type": "code",
   "execution_count": 114,
   "metadata": {},
   "outputs": [
    {
     "data": {
      "text/plain": [
       "\u001b[36mres113\u001b[39m: \u001b[32mList\u001b[39m[\u001b[32mInt\u001b[39m] = \u001b[33mList\u001b[39m(\u001b[32m1\u001b[39m, \u001b[32m1\u001b[39m, \u001b[32m2\u001b[39m, \u001b[32m2\u001b[39m, \u001b[32m3\u001b[39m, \u001b[32m3\u001b[39m)"
      ]
     },
     "execution_count": 114,
     "metadata": {},
     "output_type": "execute_result"
    }
   ],
   "source": [
    "xs"
   ]
  },
  {
   "cell_type": "code",
   "execution_count": 115,
   "metadata": {},
   "outputs": [
    {
     "data": {
      "text/plain": [
       "\u001b[36mres114\u001b[39m: \u001b[32mInt\u001b[39m = \u001b[32m3\u001b[39m"
      ]
     },
     "execution_count": 115,
     "metadata": {},
     "output_type": "execute_result"
    }
   ],
   "source": [
    "xs.max"
   ]
  },
  {
   "cell_type": "code",
   "execution_count": 116,
   "metadata": {},
   "outputs": [
    {
     "data": {
      "text/plain": [
       "\u001b[36mres115\u001b[39m: \u001b[32mInt\u001b[39m = \u001b[32m1\u001b[39m"
      ]
     },
     "execution_count": 116,
     "metadata": {},
     "output_type": "execute_result"
    }
   ],
   "source": [
    "xs.min"
   ]
  },
  {
   "cell_type": "code",
   "execution_count": 117,
   "metadata": {},
   "outputs": [
    {
     "data": {
      "text/plain": [
       "\u001b[36mres116\u001b[39m: \u001b[32mList\u001b[39m[\u001b[32mInt\u001b[39m] = \u001b[33mList\u001b[39m(\u001b[32m2\u001b[39m, \u001b[32m2\u001b[39m)"
      ]
     },
     "execution_count": 117,
     "metadata": {},
     "output_type": "execute_result"
    }
   ],
   "source": [
    "xs filter (x => x%2 == 0)"
   ]
  },
  {
   "cell_type": "code",
   "execution_count": 118,
   "metadata": {},
   "outputs": [
    {
     "data": {
      "text/plain": [
       "\u001b[36mres117\u001b[39m: \u001b[32mList\u001b[39m[\u001b[32mInt\u001b[39m] = \u001b[33mList\u001b[39m(\u001b[32m1\u001b[39m, \u001b[32m1\u001b[39m, \u001b[32m3\u001b[39m, \u001b[32m3\u001b[39m)"
      ]
     },
     "execution_count": 118,
     "metadata": {},
     "output_type": "execute_result"
    }
   ],
   "source": [
    "xs filterNot (x => x%2 ==0)"
   ]
  },
  {
   "cell_type": "code",
   "execution_count": 119,
   "metadata": {},
   "outputs": [
    {
     "data": {
      "text/plain": [
       "\u001b[36mres118\u001b[39m: \u001b[32mList\u001b[39m[\u001b[32mInt\u001b[39m] = \u001b[33mList\u001b[39m(\u001b[32m2\u001b[39m, \u001b[32m2\u001b[39m)"
      ]
     },
     "execution_count": 119,
     "metadata": {},
     "output_type": "execute_result"
    }
   ],
   "source": [
    "xs filter (_%2 == 0)"
   ]
  },
  {
   "cell_type": "code",
   "execution_count": 120,
   "metadata": {},
   "outputs": [
    {
     "data": {
      "text/plain": [
       "\u001b[36mres119\u001b[39m: (\u001b[32mList\u001b[39m[\u001b[32mInt\u001b[39m], \u001b[32mList\u001b[39m[\u001b[32mInt\u001b[39m]) = (\u001b[33mList\u001b[39m(\u001b[32m2\u001b[39m, \u001b[32m2\u001b[39m), \u001b[33mList\u001b[39m(\u001b[32m1\u001b[39m, \u001b[32m1\u001b[39m, \u001b[32m3\u001b[39m, \u001b[32m3\u001b[39m))"
      ]
     },
     "execution_count": 120,
     "metadata": {},
     "output_type": "execute_result"
    }
   ],
   "source": [
    "xs partition (_%2 == 0)"
   ]
  },
  {
   "cell_type": "code",
   "execution_count": 121,
   "metadata": {},
   "outputs": [
    {
     "data": {
      "text/plain": [
       "\u001b[36mres120\u001b[39m: \u001b[32mList\u001b[39m[\u001b[32mInt\u001b[39m] = \u001b[33mList\u001b[39m(\u001b[32m1\u001b[39m, \u001b[32m1\u001b[39m, \u001b[32m2\u001b[39m, \u001b[32m2\u001b[39m)"
      ]
     },
     "execution_count": 121,
     "metadata": {},
     "output_type": "execute_result"
    }
   ],
   "source": [
    "xs takeWhile (_%3 > 0)"
   ]
  },
  {
   "cell_type": "code",
   "execution_count": 122,
   "metadata": {},
   "outputs": [
    {
     "data": {
      "text/plain": [
       "\u001b[36mres121\u001b[39m: \u001b[32mList\u001b[39m[\u001b[32mInt\u001b[39m] = \u001b[33mList\u001b[39m(\u001b[32m1\u001b[39m, \u001b[32m1\u001b[39m, \u001b[32m2\u001b[39m, \u001b[32m2\u001b[39m, \u001b[32m3\u001b[39m, \u001b[32m3\u001b[39m)"
      ]
     },
     "execution_count": 122,
     "metadata": {},
     "output_type": "execute_result"
    }
   ],
   "source": [
    "xs"
   ]
  },
  {
   "cell_type": "code",
   "execution_count": 123,
   "metadata": {},
   "outputs": [
    {
     "data": {
      "text/plain": [
       "\u001b[36mres122\u001b[39m: \u001b[32mList\u001b[39m[\u001b[32mInt\u001b[39m] = \u001b[33mList\u001b[39m(\u001b[32m3\u001b[39m, \u001b[32m3\u001b[39m)"
      ]
     },
     "execution_count": 123,
     "metadata": {},
     "output_type": "execute_result"
    }
   ],
   "source": [
    "xs dropWhile (_%3 > 0)"
   ]
  },
  {
   "cell_type": "code",
   "execution_count": 124,
   "metadata": {},
   "outputs": [
    {
     "data": {
      "text/plain": [
       "\u001b[36mres123\u001b[39m: (\u001b[32mList\u001b[39m[\u001b[32mInt\u001b[39m], \u001b[32mList\u001b[39m[\u001b[32mInt\u001b[39m]) = (\u001b[33mList\u001b[39m(\u001b[32m1\u001b[39m, \u001b[32m1\u001b[39m, \u001b[32m2\u001b[39m, \u001b[32m2\u001b[39m), \u001b[33mList\u001b[39m(\u001b[32m3\u001b[39m, \u001b[32m3\u001b[39m))"
      ]
     },
     "execution_count": 124,
     "metadata": {},
     "output_type": "execute_result"
    }
   ],
   "source": [
    "xs span (_%3 > 0)"
   ]
  },
  {
   "cell_type": "code",
   "execution_count": 125,
   "metadata": {},
   "outputs": [
    {
     "data": {
      "text/plain": [
       "\u001b[36mres124\u001b[39m: \u001b[32mList\u001b[39m[\u001b[32mInt\u001b[39m] = \u001b[33mList\u001b[39m(\u001b[32m2\u001b[39m, \u001b[32m2\u001b[39m, \u001b[32m4\u001b[39m, \u001b[32m4\u001b[39m, \u001b[32m6\u001b[39m, \u001b[32m6\u001b[39m)"
      ]
     },
     "execution_count": 125,
     "metadata": {},
     "output_type": "execute_result"
    }
   ],
   "source": [
    "xs map (x => x * 2)"
   ]
  },
  {
   "cell_type": "code",
   "execution_count": 131,
   "metadata": {},
   "outputs": [
    {
     "name": "stderr",
     "output_type": "stream",
     "text": [
      "cmd131.sc:1: not found: value square\n",
      "val res131 = xs map square\n",
      "                    ^"
     ]
    },
    {
     "ename": "",
     "evalue": "",
     "output_type": "error",
     "traceback": [
      "Compilation Failed"
     ]
    }
   ],
   "source": [
    "xs map square"
   ]
  },
  {
   "cell_type": "code",
   "execution_count": 126,
   "metadata": {},
   "outputs": [
    {
     "data": {
      "text/plain": [
       "\u001b[36mres125\u001b[39m: \u001b[32mMap\u001b[39m[\u001b[32mInt\u001b[39m, \u001b[32mList\u001b[39m[\u001b[32mInt\u001b[39m]] = \u001b[33mMap\u001b[39m(\u001b[32m1\u001b[39m -> \u001b[33mList\u001b[39m(\u001b[32m1\u001b[39m, \u001b[32m1\u001b[39m, \u001b[32m3\u001b[39m, \u001b[32m3\u001b[39m), \u001b[32m0\u001b[39m -> \u001b[33mList\u001b[39m(\u001b[32m2\u001b[39m, \u001b[32m2\u001b[39m))"
      ]
     },
     "execution_count": 126,
     "metadata": {},
     "output_type": "execute_result"
    }
   ],
   "source": [
    "xs groupBy (_ % 2)"
   ]
  },
  {
   "cell_type": "code",
   "execution_count": 128,
   "metadata": {},
   "outputs": [
    {
     "data": {
      "text/plain": [
       "\u001b[36mres127\u001b[39m: \u001b[32mInt\u001b[39m = \u001b[32m12\u001b[39m"
      ]
     },
     "execution_count": 128,
     "metadata": {},
     "output_type": "execute_result"
    }
   ],
   "source": [
    "xs.reduceLeft((acc, x) => acc + x)\n"
   ]
  },
  {
   "cell_type": "code",
   "execution_count": 129,
   "metadata": {},
   "outputs": [
    {
     "data": {
      "text/plain": [
       "\u001b[36mres128\u001b[39m: \u001b[32mInt\u001b[39m = \u001b[32m22\u001b[39m"
      ]
     },
     "execution_count": 129,
     "metadata": {},
     "output_type": "execute_result"
    }
   ],
   "source": [
    "xs.foldLeft(10)((acc, x) => acc + x)\n"
   ]
  },
  {
   "cell_type": "code",
   "execution_count": 130,
   "metadata": {},
   "outputs": [
    {
     "data": {
      "text/plain": [
       "\u001b[36mres129\u001b[39m: \u001b[32mInt\u001b[39m = \u001b[32m22\u001b[39m"
      ]
     },
     "execution_count": 130,
     "metadata": {},
     "output_type": "execute_result"
    }
   ],
   "source": [
    "xs.foldLeft(10)(_ + _)"
   ]
  },
  {
   "cell_type": "code",
   "execution_count": 131,
   "metadata": {},
   "outputs": [
    {
     "data": {
      "text/plain": [
       "\u001b[36mres130\u001b[39m: \u001b[32mInt\u001b[39m = \u001b[32m22\u001b[39m"
      ]
     },
     "execution_count": 131,
     "metadata": {},
     "output_type": "execute_result"
    }
   ],
   "source": [
    "(10 /: xs)(_ + _)"
   ]
  },
  {
   "cell_type": "markdown",
   "metadata": {},
   "source": [
    "# SEQ\n",
    "- 열\n",
    "    - 숫자열\n",
    "    - 문자열\n",
    "- apply method를 사용해서 만들면 default로 list로 만들어짐"
   ]
  },
  {
   "cell_type": "code",
   "execution_count": 132,
   "metadata": {},
   "outputs": [
    {
     "data": {
      "text/plain": [
       "\u001b[36msequence\u001b[39m: \u001b[32mSeq\u001b[39m[\u001b[32mInt\u001b[39m] = \u001b[33mList\u001b[39m(\u001b[32m1\u001b[39m, \u001b[32m2\u001b[39m, \u001b[32m3\u001b[39m)"
      ]
     },
     "execution_count": 132,
     "metadata": {},
     "output_type": "execute_result"
    }
   ],
   "source": [
    "val sequence = Seq(1, 2, 3)"
   ]
  },
  {
   "cell_type": "code",
   "execution_count": 133,
   "metadata": {},
   "outputs": [
    {
     "data": {
      "text/plain": [
       "\u001b[36mres132\u001b[39m: \u001b[32mInt\u001b[39m = \u001b[32m1\u001b[39m"
      ]
     },
     "execution_count": 133,
     "metadata": {},
     "output_type": "execute_result"
    }
   ],
   "source": [
    "sequence.apply(0)"
   ]
  },
  {
   "cell_type": "code",
   "execution_count": 134,
   "metadata": {},
   "outputs": [
    {
     "data": {
      "text/plain": [
       "\u001b[36mres133\u001b[39m: \u001b[32mInt\u001b[39m = \u001b[32m1\u001b[39m"
      ]
     },
     "execution_count": 134,
     "metadata": {},
     "output_type": "execute_result"
    }
   ],
   "source": [
    "sequence(0)"
   ]
  },
  {
   "cell_type": "code",
   "execution_count": 135,
   "metadata": {},
   "outputs": [
    {
     "ename": "",
     "evalue": "",
     "output_type": "error",
     "traceback": [
      "\u001b[31mjava.lang.IndexOutOfBoundsException: 3\u001b[39m",
      "  scala.collection.LinearSeqOptimized$class.apply(\u001b[32mLinearSeqOptimized.scala\u001b[39m:\u001b[32m65\u001b[39m)",
      "  scala.collection.immutable.List.apply(\u001b[32mList.scala\u001b[39m:\u001b[32m84\u001b[39m)",
      "  $sess.cmd134Wrapper$Helper.<init>(\u001b[32mcmd134.sc\u001b[39m:\u001b[32m1\u001b[39m)",
      "  $sess.cmd134Wrapper.<init>(\u001b[32mcmd134.sc\u001b[39m:\u001b[32m1149\u001b[39m)",
      "  $sess.cmd134$.<init>(\u001b[32mcmd134.sc\u001b[39m:\u001b[32m597\u001b[39m)",
      "  $sess.cmd134$.<clinit>(\u001b[32mcmd134.sc\u001b[39m:\u001b[32m-1\u001b[39m)"
     ]
    }
   ],
   "source": [
    "sequence(3)"
   ]
  },
  {
   "cell_type": "code",
   "execution_count": 137,
   "metadata": {},
   "outputs": [
    {
     "ename": "",
     "evalue": "",
     "output_type": "error",
     "traceback": [
      "\u001b[31mjava.lang.IndexOutOfBoundsException: -1\u001b[39m",
      "  scala.collection.LinearSeqOptimized$class.apply(\u001b[32mLinearSeqOptimized.scala\u001b[39m:\u001b[32m65\u001b[39m)",
      "  scala.collection.immutable.List.apply(\u001b[32mList.scala\u001b[39m:\u001b[32m84\u001b[39m)",
      "  $sess.cmd136Wrapper$Helper.<init>(\u001b[32mcmd136.sc\u001b[39m:\u001b[32m1\u001b[39m)",
      "  $sess.cmd136Wrapper.<init>(\u001b[32mcmd136.sc\u001b[39m:\u001b[32m1149\u001b[39m)",
      "  $sess.cmd136$.<init>(\u001b[32mcmd136.sc\u001b[39m:\u001b[32m597\u001b[39m)",
      "  $sess.cmd136$.<clinit>(\u001b[32mcmd136.sc\u001b[39m:\u001b[32m-1\u001b[39m)"
     ]
    }
   ],
   "source": [
    "sequence(-1)\n",
    "// - dksehlsp"
   ]
  },
  {
   "cell_type": "code",
   "execution_count": 138,
   "metadata": {},
   "outputs": [
    {
     "data": {
      "text/plain": [
       "\u001b[36mres137\u001b[39m: \u001b[32mInt\u001b[39m = \u001b[32m1\u001b[39m"
      ]
     },
     "execution_count": 138,
     "metadata": {},
     "output_type": "execute_result"
    }
   ],
   "source": [
    "sequence.head"
   ]
  },
  {
   "cell_type": "code",
   "execution_count": 139,
   "metadata": {},
   "outputs": [
    {
     "data": {
      "text/plain": [
       "\u001b[36mres138\u001b[39m: \u001b[32mSeq\u001b[39m[\u001b[32mInt\u001b[39m] = \u001b[33mList\u001b[39m(\u001b[32m2\u001b[39m, \u001b[32m3\u001b[39m)"
      ]
     },
     "execution_count": 139,
     "metadata": {},
     "output_type": "execute_result"
    }
   ],
   "source": [
    "sequence.tail"
   ]
  },
  {
   "cell_type": "code",
   "execution_count": 141,
   "metadata": {},
   "outputs": [
    {
     "data": {
      "text/plain": [
       "\u001b[36mres140\u001b[39m: \u001b[32mOption\u001b[39m[\u001b[32mInt\u001b[39m] = \u001b[33mSome\u001b[39m(\u001b[32m1\u001b[39m)"
      ]
     },
     "execution_count": 141,
     "metadata": {},
     "output_type": "execute_result"
    }
   ],
   "source": [
    "sequence.headOption\n",
    "// exception을 안 일으키고 작성 가능"
   ]
  },
  {
   "cell_type": "code",
   "execution_count": 142,
   "metadata": {},
   "outputs": [
    {
     "data": {
      "text/plain": [
       "\u001b[36mres141\u001b[39m: \u001b[32mInt\u001b[39m = \u001b[32m3\u001b[39m"
      ]
     },
     "execution_count": 142,
     "metadata": {},
     "output_type": "execute_result"
    }
   ],
   "source": [
    "sequence.length"
   ]
  },
  {
   "cell_type": "code",
   "execution_count": 143,
   "metadata": {},
   "outputs": [
    {
     "data": {
      "text/plain": [
       "\u001b[36mres142\u001b[39m: \u001b[32mBoolean\u001b[39m = \u001b[32mtrue\u001b[39m"
      ]
     },
     "execution_count": 143,
     "metadata": {},
     "output_type": "execute_result"
    }
   ],
   "source": [
    "sequence.contains(2)"
   ]
  },
  {
   "cell_type": "code",
   "execution_count": 144,
   "metadata": {},
   "outputs": [
    {
     "data": {
      "text/plain": [
       "\u001b[36mres143\u001b[39m: \u001b[32mOption\u001b[39m[\u001b[32mInt\u001b[39m] = \u001b[33mSome\u001b[39m(\u001b[32m3\u001b[39m)"
      ]
     },
     "execution_count": 144,
     "metadata": {},
     "output_type": "execute_result"
    }
   ],
   "source": [
    "sequence.find(_ == 3)"
   ]
  },
  {
   "cell_type": "code",
   "execution_count": 145,
   "metadata": {},
   "outputs": [
    {
     "data": {
      "text/plain": [
       "\u001b[36mres144\u001b[39m: \u001b[32mOption\u001b[39m[\u001b[32mInt\u001b[39m] = None"
      ]
     },
     "execution_count": 145,
     "metadata": {},
     "output_type": "execute_result"
    }
   ],
   "source": [
    "sequence.find(_ > 4)"
   ]
  },
  {
   "cell_type": "code",
   "execution_count": 146,
   "metadata": {},
   "outputs": [
    {
     "data": {
      "text/plain": [
       "\u001b[36mres145\u001b[39m: \u001b[32mSeq\u001b[39m[\u001b[32mInt\u001b[39m] = \u001b[33mList\u001b[39m(\u001b[32m2\u001b[39m, \u001b[32m3\u001b[39m)"
      ]
     },
     "execution_count": 146,
     "metadata": {},
     "output_type": "execute_result"
    }
   ],
   "source": [
    "sequence.filter(_ > 1)"
   ]
  },
  {
   "cell_type": "code",
   "execution_count": 147,
   "metadata": {},
   "outputs": [
    {
     "data": {
      "text/plain": [
       "\u001b[36mres146\u001b[39m: \u001b[32mSeq\u001b[39m[\u001b[32mInt\u001b[39m] = \u001b[33mList\u001b[39m(\u001b[32m3\u001b[39m, \u001b[32m2\u001b[39m, \u001b[32m1\u001b[39m)"
      ]
     },
     "execution_count": 147,
     "metadata": {},
     "output_type": "execute_result"
    }
   ],
   "source": [
    "sequence.sortWith(_ >  _)"
   ]
  },
  {
   "cell_type": "markdown",
   "metadata": {},
   "source": [
    "### APPEND / PREPEND / CONCAT"
   ]
  },
  {
   "cell_type": "markdown",
   "metadata": {},
   "source": [
    "- append는 앞에, prepend는 뒤에\n",
    "- :로 끝나는 오퍼레이터는 순서가 뒤바뀜"
   ]
  },
  {
   "cell_type": "code",
   "execution_count": 148,
   "metadata": {},
   "outputs": [
    {
     "data": {
      "text/plain": [
       "\u001b[36mres147\u001b[39m: \u001b[32mSeq\u001b[39m[\u001b[32mInt\u001b[39m] = \u001b[33mList\u001b[39m(\u001b[32m1\u001b[39m, \u001b[32m2\u001b[39m, \u001b[32m3\u001b[39m, \u001b[32m4\u001b[39m)"
      ]
     },
     "execution_count": 148,
     "metadata": {},
     "output_type": "execute_result"
    }
   ],
   "source": [
    "sequence.:+(4)"
   ]
  },
  {
   "cell_type": "code",
   "execution_count": 149,
   "metadata": {},
   "outputs": [
    {
     "data": {
      "text/plain": [
       "\u001b[36mres148\u001b[39m: \u001b[32mSeq\u001b[39m[\u001b[32mInt\u001b[39m] = \u001b[33mList\u001b[39m(\u001b[32m1\u001b[39m, \u001b[32m2\u001b[39m, \u001b[32m3\u001b[39m, \u001b[32m4\u001b[39m)"
      ]
     },
     "execution_count": 149,
     "metadata": {},
     "output_type": "execute_result"
    }
   ],
   "source": [
    "sequence :+ 4"
   ]
  },
  {
   "cell_type": "code",
   "execution_count": 150,
   "metadata": {},
   "outputs": [
    {
     "data": {
      "text/plain": [
       "\u001b[36mres149\u001b[39m: \u001b[32mSeq\u001b[39m[\u001b[32mInt\u001b[39m] = \u001b[33mList\u001b[39m(\u001b[32m0\u001b[39m, \u001b[32m1\u001b[39m, \u001b[32m2\u001b[39m, \u001b[32m3\u001b[39m)"
      ]
     },
     "execution_count": 150,
     "metadata": {},
     "output_type": "execute_result"
    }
   ],
   "source": [
    "sequence.+:(0)"
   ]
  },
  {
   "cell_type": "code",
   "execution_count": 151,
   "metadata": {},
   "outputs": [
    {
     "data": {
      "text/plain": [
       "\u001b[36mres150\u001b[39m: \u001b[32mSeq\u001b[39m[\u001b[32mInt\u001b[39m] = \u001b[33mList\u001b[39m(\u001b[32m0\u001b[39m, \u001b[32m1\u001b[39m, \u001b[32m2\u001b[39m, \u001b[32m3\u001b[39m)"
      ]
     },
     "execution_count": 151,
     "metadata": {},
     "output_type": "execute_result"
    }
   ],
   "source": [
    "0 +: sequence"
   ]
  },
  {
   "cell_type": "code",
   "execution_count": 152,
   "metadata": {},
   "outputs": [
    {
     "data": {
      "text/plain": [
       "\u001b[36mres151\u001b[39m: \u001b[32mSeq\u001b[39m[\u001b[32mInt\u001b[39m] = \u001b[33mList\u001b[39m(\u001b[32m1\u001b[39m, \u001b[32m2\u001b[39m, \u001b[32m3\u001b[39m, \u001b[32m4\u001b[39m, \u001b[32m5\u001b[39m, \u001b[32m6\u001b[39m)"
      ]
     },
     "execution_count": 152,
     "metadata": {},
     "output_type": "execute_result"
    }
   ],
   "source": [
    "sequence ++ Seq(4, 5, 6)"
   ]
  },
  {
   "cell_type": "code",
   "execution_count": 153,
   "metadata": {},
   "outputs": [
    {
     "data": {
      "text/plain": [
       "\u001b[36mres152\u001b[39m: \u001b[32mSeq\u001b[39m[\u001b[32mString\u001b[39m] = \u001b[33mList\u001b[39m(\u001b[32m\"1\"\u001b[39m, \u001b[32m\"2\"\u001b[39m, \u001b[32m\"3\"\u001b[39m)"
      ]
     },
     "execution_count": 153,
     "metadata": {},
     "output_type": "execute_result"
    }
   ],
   "source": [
    "sequence.map(_.toString)"
   ]
  },
  {
   "cell_type": "code",
   "execution_count": 154,
   "metadata": {},
   "outputs": [
    {
     "data": {
      "text/plain": [
       "\u001b[36mres153\u001b[39m: \u001b[32mSeq\u001b[39m[\u001b[32mInt\u001b[39m] = \u001b[33mList\u001b[39m(\u001b[32m1\u001b[39m, \u001b[32m2\u001b[39m, \u001b[32m2\u001b[39m, \u001b[32m3\u001b[39m, \u001b[32m3\u001b[39m, \u001b[32m4\u001b[39m)"
      ]
     },
     "execution_count": 154,
     "metadata": {},
     "output_type": "execute_result"
    }
   ],
   "source": [
    "sequence.flatMap(x => Seq(x, x + 1))"
   ]
  },
  {
   "cell_type": "code",
   "execution_count": 155,
   "metadata": {},
   "outputs": [
    {
     "name": "stdout",
     "output_type": "stream",
     "text": [
      "1\n",
      "2\n",
      "3\n"
     ]
    }
   ],
   "source": [
    "sequence foreach println\n",
    "// foreach : return 값이 없고 사이드 이펙트!"
   ]
  },
  {
   "cell_type": "code",
   "execution_count": 156,
   "metadata": {},
   "outputs": [
    {
     "data": {
      "text/plain": [
       "\u001b[36mres155\u001b[39m: \u001b[32mString\u001b[39m = \u001b[32m\"112131\"\u001b[39m"
      ]
     },
     "execution_count": 156,
     "metadata": {},
     "output_type": "execute_result"
    }
   ],
   "source": [
    "sequence.foldLeft(\"\")(_ + _ + 1)\n",
    "// 아래 표현과 동일"
   ]
  },
  {
   "cell_type": "code",
   "execution_count": 157,
   "metadata": {},
   "outputs": [
    {
     "data": {
      "text/plain": [
       "\u001b[36mres156\u001b[39m: \u001b[32mString\u001b[39m = \u001b[32m\"112131\"\u001b[39m"
      ]
     },
     "execution_count": 157,
     "metadata": {},
     "output_type": "execute_result"
    }
   ],
   "source": [
    "(\"\" /: sequence)(_ + _ + 1)"
   ]
  },
  {
   "cell_type": "code",
   "execution_count": 158,
   "metadata": {},
   "outputs": [
    {
     "data": {
      "text/plain": [
       "\u001b[36mres157\u001b[39m: \u001b[32mString\u001b[39m = \u001b[32m\"234\"\u001b[39m"
      ]
     },
     "execution_count": 158,
     "metadata": {},
     "output_type": "execute_result"
    }
   ],
   "source": [
    "sequence.foldRight(\"\")(1 + _ + _)"
   ]
  },
  {
   "cell_type": "code",
   "execution_count": 159,
   "metadata": {},
   "outputs": [
    {
     "data": {
      "text/plain": [
       "\u001b[36mres158\u001b[39m: \u001b[32mString\u001b[39m = \u001b[32m\"234\"\u001b[39m"
      ]
     },
     "execution_count": 159,
     "metadata": {},
     "output_type": "execute_result"
    }
   ],
   "source": [
    "(sequence :\\ \"\")(1 + _ + _)"
   ]
  },
  {
   "cell_type": "code",
   "execution_count": 161,
   "metadata": {},
   "outputs": [
    {
     "data": {
      "text/plain": [
       "\u001b[36mres160\u001b[39m: \u001b[32mNil\u001b[39m.type = \u001b[33mList\u001b[39m()"
      ]
     },
     "execution_count": 161,
     "metadata": {},
     "output_type": "execute_result"
    }
   ],
   "source": [
    "Nil\n",
    "// nil list"
   ]
  },
  {
   "cell_type": "markdown",
   "metadata": {},
   "source": [
    "### CONS\n",
    "- construct"
   ]
  },
  {
   "cell_type": "code",
   "execution_count": 162,
   "metadata": {},
   "outputs": [
    {
     "data": {
      "text/plain": [
       "\u001b[36mlist\u001b[39m: \u001b[32mList\u001b[39m[\u001b[32mInt\u001b[39m] = \u001b[33mList\u001b[39m(\u001b[32m1\u001b[39m, \u001b[32m2\u001b[39m, \u001b[32m3\u001b[39m)"
      ]
     },
     "execution_count": 162,
     "metadata": {},
     "output_type": "execute_result"
    }
   ],
   "source": [
    "val list = 1 :: 2 :: 3 :: Nil"
   ]
  },
  {
   "cell_type": "code",
   "execution_count": 163,
   "metadata": {},
   "outputs": [
    {
     "data": {
      "text/plain": [
       "\u001b[36mres162\u001b[39m: \u001b[32mList\u001b[39m[\u001b[32mInt\u001b[39m] = \u001b[33mList\u001b[39m(\u001b[32m4\u001b[39m, \u001b[32m5\u001b[39m, \u001b[32m1\u001b[39m, \u001b[32m2\u001b[39m, \u001b[32m3\u001b[39m)"
      ]
     },
     "execution_count": 163,
     "metadata": {},
     "output_type": "execute_result"
    }
   ],
   "source": [
    "4 :: 5 :: list"
   ]
  },
  {
   "cell_type": "code",
   "execution_count": null,
   "metadata": {},
   "outputs": [],
   "source": [
    "앞에서 작업을 할 때 list 주로 사용"
   ]
  },
  {
   "cell_type": "code",
   "execution_count": null,
   "metadata": {},
   "outputs": [],
   "source": []
  },
  {
   "cell_type": "code",
   "execution_count": 164,
   "metadata": {},
   "outputs": [
    {
     "data": {
      "text/plain": [
       "\u001b[36mres163\u001b[39m: \u001b[32mList\u001b[39m[\u001b[32mInt\u001b[39m] = \u001b[33mList\u001b[39m(\u001b[32m1\u001b[39m, \u001b[32m2\u001b[39m, \u001b[32m3\u001b[39m, \u001b[32m4\u001b[39m, \u001b[32m5\u001b[39m, \u001b[32m6\u001b[39m)"
      ]
     },
     "execution_count": 164,
     "metadata": {},
     "output_type": "execute_result"
    }
   ],
   "source": [
    "List(1, 2, 3) ::: List(4, 5, 6)"
   ]
  },
  {
   "cell_type": "markdown",
   "metadata": {},
   "source": [
    ":::는 리스트끼리 합치고\n",
    "\n",
    "::는 두개 그냥 합침"
   ]
  },
  {
   "cell_type": "markdown",
   "metadata": {},
   "source": [
    "### 패턴 매칭"
   ]
  },
  {
   "cell_type": "code",
   "execution_count": 165,
   "metadata": {},
   "outputs": [
    {
     "data": {
      "text/plain": [
       "defined \u001b[32mfunction\u001b[39m \u001b[36mmap\u001b[39m"
      ]
     },
     "execution_count": 165,
     "metadata": {},
     "output_type": "execute_result"
    }
   ],
   "source": [
    "def map[A, B](list: List[A])(f: A => B): List[B] = list match {\n",
    "  case Nil => Nil\n",
    "  case x :: xs => f(x) :: map(xs)(f)\n",
    "}"
   ]
  },
  {
   "cell_type": "markdown",
   "metadata": {},
   "source": [
    "### INDEXEDSEQ"
   ]
  },
  {
   "cell_type": "code",
   "execution_count": 167,
   "metadata": {},
   "outputs": [
    {
     "data": {
      "text/plain": [
       "\u001b[36mres166\u001b[39m: \u001b[32mIndexedSeq\u001b[39m[\u001b[32mInt\u001b[39m] = \u001b[33mVector\u001b[39m(\u001b[32m1\u001b[39m, \u001b[32m2\u001b[39m, \u001b[32m3\u001b[39m)"
      ]
     },
     "execution_count": 167,
     "metadata": {},
     "output_type": "execute_result"
    }
   ],
   "source": [
    "IndexedSeq(1, 2, 3)"
   ]
  },
  {
   "cell_type": "code",
   "execution_count": 168,
   "metadata": {},
   "outputs": [
    {
     "data": {
      "text/plain": [
       "\u001b[32mimport \u001b[39m\u001b[36mcollection.immutable.Queue\u001b[39m"
      ]
     },
     "execution_count": 168,
     "metadata": {},
     "output_type": "execute_result"
    }
   ],
   "source": [
    "import collection.immutable.Queue"
   ]
  },
  {
   "cell_type": "code",
   "execution_count": 169,
   "metadata": {},
   "outputs": [
    {
     "data": {
      "text/plain": [
       "\u001b[36mres168\u001b[39m: \u001b[32mQueue\u001b[39m[\u001b[32mInt\u001b[39m] = \u001b[33mQueue\u001b[39m(\u001b[32m1\u001b[39m, \u001b[32m2\u001b[39m, \u001b[32m3\u001b[39m)"
      ]
     },
     "execution_count": 169,
     "metadata": {},
     "output_type": "execute_result"
    }
   ],
   "source": [
    "Queue(1, 2, 3)"
   ]
  },
  {
   "cell_type": "markdown",
   "metadata": {},
   "source": [
    "### RANGE"
   ]
  },
  {
   "cell_type": "code",
   "execution_count": 170,
   "metadata": {},
   "outputs": [
    {
     "data": {
      "text/plain": [
       "\u001b[36mres169\u001b[39m: \u001b[32mRange\u001b[39m.\u001b[32mInclusive\u001b[39m = \u001b[33mRange\u001b[39m(\u001b[32m1\u001b[39m, \u001b[32m2\u001b[39m, \u001b[32m3\u001b[39m, \u001b[32m4\u001b[39m, \u001b[32m5\u001b[39m, \u001b[32m6\u001b[39m, \u001b[32m7\u001b[39m, \u001b[32m8\u001b[39m, \u001b[32m9\u001b[39m, \u001b[32m10\u001b[39m)"
      ]
     },
     "execution_count": 170,
     "metadata": {},
     "output_type": "execute_result"
    }
   ],
   "source": [
    "1 to 10"
   ]
  },
  {
   "cell_type": "code",
   "execution_count": 171,
   "metadata": {},
   "outputs": [
    {
     "data": {
      "text/plain": [
       "\u001b[36mres170\u001b[39m: \u001b[32mList\u001b[39m[\u001b[32mInt\u001b[39m] = \u001b[33mList\u001b[39m(\u001b[32m1\u001b[39m, \u001b[32m2\u001b[39m, \u001b[32m3\u001b[39m, \u001b[32m4\u001b[39m, \u001b[32m5\u001b[39m, \u001b[32m6\u001b[39m, \u001b[32m7\u001b[39m, \u001b[32m8\u001b[39m, \u001b[32m9\u001b[39m, \u001b[32m10\u001b[39m)"
      ]
     },
     "execution_count": 171,
     "metadata": {},
     "output_type": "execute_result"
    }
   ],
   "source": [
    "(1 to 10).toList"
   ]
  },
  {
   "cell_type": "code",
   "execution_count": 172,
   "metadata": {},
   "outputs": [
    {
     "data": {
      "text/plain": [
       "\u001b[36mres171\u001b[39m: \u001b[32mRange\u001b[39m = \u001b[33mRange\u001b[39m(\u001b[32m1\u001b[39m, \u001b[32m3\u001b[39m, \u001b[32m5\u001b[39m, \u001b[32m7\u001b[39m, \u001b[32m9\u001b[39m)"
      ]
     },
     "execution_count": 172,
     "metadata": {},
     "output_type": "execute_result"
    }
   ],
   "source": [
    "(1 to 10 by 2)"
   ]
  },
  {
   "cell_type": "code",
   "execution_count": 173,
   "metadata": {},
   "outputs": [
    {
     "data": {
      "text/plain": [
       "\u001b[36mres172\u001b[39m: \u001b[32mList\u001b[39m[\u001b[32mInt\u001b[39m] = \u001b[33mList\u001b[39m(\u001b[32m1\u001b[39m, \u001b[32m2\u001b[39m, \u001b[32m3\u001b[39m, \u001b[32m4\u001b[39m, \u001b[32m5\u001b[39m, \u001b[32m6\u001b[39m, \u001b[32m7\u001b[39m, \u001b[32m8\u001b[39m, \u001b[32m9\u001b[39m)"
      ]
     },
     "execution_count": 173,
     "metadata": {},
     "output_type": "execute_result"
    }
   ],
   "source": [
    "(1 until 10).toList"
   ]
  },
  {
   "cell_type": "markdown",
   "metadata": {},
   "source": [
    "### STREAM\n",
    "- list랑 거의 같은데, #:: 가 cons\n",
    "- 맨 앞의 head 값만 계산하고 뒤의 값들은 계산을 안해둔 상태. lazy!\n",
    "- [링크](https://docs.scala-lang.org/overviews/collections/concrete-immutable-collection-classes.html#streams)"
   ]
  },
  {
   "cell_type": "markdown",
   "metadata": {},
   "source": [
    "## EXERCISE: RUNLENGTH"
   ]
  },
  {
   "cell_type": "code",
   "execution_count": 177,
   "metadata": {},
   "outputs": [
    {
     "data": {
      "text/plain": [
       "defined \u001b[32mfunction\u001b[39m \u001b[36mrunLength\u001b[39m"
      ]
     },
     "execution_count": 177,
     "metadata": {},
     "output_type": "execute_result"
    }
   ],
   "source": [
    "def runLength[A](l: List[A]): List[(A, Int)] = l.foldLeft(List.empty[(A, Int)]) { // 빈 리스트인데 타입이 튜플!\n",
    "    case ((x, n) :: xs, a) if x == a => (x, n + 1) :: xs\n",
    "    case (acc, a) => (a, 1) :: acc\n",
    "}.reverse"
   ]
  },
  {
   "cell_type": "code",
   "execution_count": 178,
   "metadata": {},
   "outputs": [
    {
     "name": "stdout",
     "output_type": "stream",
     "text": [
      "List((a,1), (b,3), (c,2))\n"
     ]
    }
   ],
   "source": [
    "println(runLength(\"abbbcc\".toList))"
   ]
  },
  {
   "cell_type": "code",
   "execution_count": 179,
   "metadata": {},
   "outputs": [],
   "source": [
    "assert(runLength(\"abbbcc\".toList) ==\n",
    "  List(('a', 1), ('b', 3), ('c', 2))\n",
    ")"
   ]
  },
  {
   "cell_type": "code",
   "execution_count": 180,
   "metadata": {},
   "outputs": [
    {
     "name": "stdout",
     "output_type": "stream",
     "text": [
      "List(a, b, b, b, c, c)\n"
     ]
    }
   ],
   "source": [
    "println(\"abbbcc\".toList)"
   ]
  },
  {
   "cell_type": "markdown",
   "metadata": {},
   "source": [
    "### EXERCISE: FIZZBUZZ\n",
    "- 유명한 코딩 테스트\n",
    "- 3의 배수 fizz\n",
    "- 5의 배수 buzz\n",
    "- 3,5 배수 동시에 하면 fizz buzz\n",
    "- \\* : variable argument로 숫자를 여러개 넣을 수 있음\n",
    "- 숙제"
   ]
  },
  {
   "cell_type": "code",
   "execution_count": null,
   "metadata": {},
   "outputs": [],
   "source": [
    "def fizzBuzz(n: Int)(cond: (Int, String)*): Unit = ???"
   ]
  },
  {
   "cell_type": "code",
   "execution_count": null,
   "metadata": {},
   "outputs": [],
   "source": [
    "fizzBuzz(20)((3, \"Fizz\"), (5, \"Buzz\"))"
   ]
  }
 ],
 "metadata": {
  "kernelspec": {
   "display_name": "Scala",
   "language": "scala",
   "name": "scala"
  },
  "language_info": {
   "codemirror_mode": "text/x-scala",
   "file_extension": ".scala",
   "mimetype": "text/x-scala",
   "name": "scala211",
   "nbconvert_exporter": "script",
   "pygments_lexer": "scala",
   "version": "2.11.11"
  },
  "varInspector": {
   "cols": {
    "lenName": 16,
    "lenType": 16,
    "lenVar": 40
   },
   "kernels_config": {
    "python": {
     "delete_cmd_postfix": "",
     "delete_cmd_prefix": "del ",
     "library": "var_list.py",
     "varRefreshCmd": "print(var_dic_list())"
    },
    "r": {
     "delete_cmd_postfix": ") ",
     "delete_cmd_prefix": "rm(",
     "library": "var_list.r",
     "varRefreshCmd": "cat(var_dic_list()) "
    }
   },
   "types_to_exclude": [
    "module",
    "function",
    "builtin_function_or_method",
    "instance",
    "_Feature"
   ],
   "window_display": false
  }
 },
 "nbformat": 4,
 "nbformat_minor": 2
}
