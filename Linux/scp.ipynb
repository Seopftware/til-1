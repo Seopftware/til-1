{
 "cells": [
  {
   "cell_type": "markdown",
   "metadata": {},
   "source": [
    "# scp"
   ]
  },
  {
   "cell_type": "markdown",
   "metadata": {},
   "source": [
    "1. 사용방법\n",
    "    1) 원격 서버 → 로컬 서버로 파일 전송\n",
    "        # scp [옵션] [계정명]@[원격지IP주소]:[원본 경로 및 파일] [전송받을 위치]\n",
    "\n",
    "        예제1) IP 111.222.333.444 서버의 abc라는 계정으로 /home/abc/index.html 파일을 로컬서버 /home/me/ 디렉토리에 전송 받기\n",
    "                    # scp abc@111.222.333.444:/home/abc/index.html /home/me/\n",
    " \n",
    "    2) 로컬 서버 → 원격 서버로 파일 전송\n",
    "        # scp [옵션] [원본 경로 및 파일] [계정명]@[원격지IP주소]:[전송할 경로]\n",
    "\n",
    "        예제2) 로컬서버 /home/me/wow.html 파일을 IP 111.222.333.444 서버의 /home/abc/ 디렉토리에 전송 하기\n",
    "                   # scp /home/me/wow.html abc@111.222.333.444:/home/abc/\n",
    " \n",
    "    3) ssh포트를 기본 22번으로 사용하고 있지 않는 서버로의 전송\n",
    "\n",
    "        예제3) 2222번인 SSH포트를 사용한다면 아래와 같이 –P 옵션과 포트번호를 넣어준다.\n",
    "                  # scp –P 2222 abc@111.222.333.444:/home/abc/index.html /home/me/\n",
    "                  # scp –P 2222 /home/me/wow.html abc@111.222.333.444:/home/abc/\n",
    " \n",
    "        [주의사항]\n",
    "        옵션중에 –P와 –p가 있으니 대/소문자 확인을 하여야 한다.\n",
    "        -P : 포트번호를 지정함\n",
    "        -p : 원본파일 수정/사용시간 및 권한을 유지함\n",
    "        -r : 하위 디렉토리 및 파일 모두 복사함"
   ]
  },
  {
   "cell_type": "markdown",
   "metadata": {},
   "source": [
    "scp -i ~~~~~ ubuntu@ ~~ :/     , 전송받을 위치"
   ]
  },
  {
   "cell_type": "code",
   "execution_count": null,
   "metadata": {
    "collapsed": true
   },
   "outputs": [],
   "source": []
  }
 ],
 "metadata": {
  "kernelspec": {
   "display_name": "Python 3",
   "language": "python",
   "name": "python3"
  },
  "language_info": {
   "codemirror_mode": {
    "name": "ipython",
    "version": 3
   },
   "file_extension": ".py",
   "mimetype": "text/x-python",
   "name": "python",
   "nbconvert_exporter": "python",
   "pygments_lexer": "ipython3",
   "version": "3.6.1"
  }
 },
 "nbformat": 4,
 "nbformat_minor": 2
}
