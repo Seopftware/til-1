{
 "cells": [
  {
   "cell_type": "markdown",
   "metadata": {},
   "source": [
    "# 1. 네트워크란?\n",
    "- 네트워크 : 무언가와 무언가에 의해 연결되어서 무언가를 주고받는 것\n",
    "- 컴퓨터 네트워크만 있는 것이 아닌, 물류 네트워크 혈관 네트워크 전화 네트워크 등이 있음\n",
    "- 앞으로는 네트워크라고 하면 컴퓨터 네트워크를 뜻함"
   ]
  },
  {
   "cell_type": "markdown",
   "metadata": {},
   "source": [
    "# 2. 네트워크의 장점\n",
    "- 네트워크는 컴퓨터와 통신 매체, 데이터로 이루어짐\n",
    "- 리소스를 공유하는 것이 네트워크의 장점\n",
    "- 데이터를 주고받음으로써 리소스를 공유"
   ]
  },
  {
   "cell_type": "markdown",
   "metadata": {},
   "source": [
    "# 3. 데이터 통신 기초\n",
    "- 주고 받는 정보는 비트로 표현\n",
    "- 데이터를 주고받는 데이터 통신을 하기 위해선 기기와 프로토콜이 필요\n",
    "\n",
    "### 프로토콜 : 데이터 통신상의 규칙\n",
    "- 통신 프로토콜 또는 통신 규약은 컴퓨터나 원거리 통신 장비 사이에서 메시지를 주고 받는 양식과 규칙의 체계이다. 통신 프로토콜은 신호 체계, 인증, 그리고 오류 감지 및 수정 기능을 포함할 수 있다. 프로토콜은 형식, 의미론, 그리고 통신의 동기 과정 등을 정의하기는 하지만 구현되는 방법과는 독립적이다. 따라서 프로토콜은 하드웨어 또는 소프트웨어 그리고 때로는 모두를 사용하여 구현되기도 한다.\n",
    "\n",
    "### 프로토콜의 구성\n",
    "- 물리적 측면: 자료 전송에 쓰이는 전송 매체, 접속용 단자 및 전송 신호, 회선 규격 등.\n",
    "- 논리적 측면: 프레임(Frame, 자료의 표현 형식 단위) 구성, 프레임 안에 있는 각 항목의 뜻과 기능, 자료 전송의 절차 등.\n",
    "    - 폐쇄적인 프로토콜: 자사 장치들끼리 통신하기 위한 독자적인 통신 규약이며, 자세한 규격이 공개되어 있지 않아서 크래킹 위협에 상대적으로 안전하다. (보기: IBM의 SNA, SDLC 프로토콜)\n",
    "    - 공개된 범용 프로토콜: 여러 장치들에 쓰이는 널리 알려진 규격이며, 규격이 널리 공개되어 있기 때문에 컴퓨터와 네트워크 크래킹에 취약한 편이다. (보기: 인터넷의 TCP/IP)\n",
    "\n",
    "### 프로토콜의 예시\n",
    "- HTTP : Hyper Text Transfer Protocol\n",
    "- HTTPS : Secure Hyper Text Transfer Protocol\n",
    "- FTP : File Transfer Protocol\n",
    "- SFTP : Secure File Transfer Protocol\n",
    "- Telnet : TErminaL NETwork\n",
    "- POP3 : Post Office Protocol version 3\n",
    "- SMTP : Simple Mail Transfer Protocol\n",
    "- SSH : Secure Shell\n",
    "- SSL : Secure Socket Layer\n",
    "- SOAP : Simple Object Access Protocol\n",
    "- ARP : Adress Resolution Protocol\n",
    "\n",
    "\n",
    "#### [프로토콜 위키](https://ko.wikipedia.org/wiki/%ED%86%B5%EC%8B%A0_%ED%94%84%EB%A1%9C%ED%86%A0%EC%BD%9C)"
   ]
  },
  {
   "cell_type": "markdown",
   "metadata": {},
   "source": [
    "# 4. 회선 교환과 패킷 교환\n",
    "- 데이터 통신에는 회선 교환과 패킷 교환이 있음\n",
    "- 회선 교환은 '파이프'를 교체하는 방식\n",
    "- 패킷 교환은 '패킷'으로 분할해서 송신하는 방식\n",
    "- 컴퓨터 네트워크는 패킷 교환 방식\n"
   ]
  },
  {
   "cell_type": "markdown",
   "metadata": {},
   "source": [
    "# 5. 네트워크의 구조\n",
    "- 패킷 교환 네트워크는 컴퓨터, 통신 매체, 인터페이스, 라우터로 구성\n",
    "- 네트워크는 멀티액세스 네트워크 / 포인트 투 포인트 네트워크 2종류가 존재\n",
    "- 이 2 종류를 조합해 네트워크 전체 구성\n",
    "- 컴퓨터 네트워크 : 컴퓨터 - 라우터 / 라우터 - 라우터 / 라우터 - 컴퓨터로 연결\n",
    "- 컴퓨터 -> 라우터 : 멀티액세스 네트워크\n",
    "- 라우터 -> 라우터 : 포인트 투 포인트 네트워크\n",
    "\n",
    "### 멀티액세스 네트워크\n",
    "- 허브를 사용해 회선에 T자 분배기를 끼우지 않고도 분배가 가능\n",
    "\n",
    "\n"
   ]
  },
  {
   "cell_type": "markdown",
   "metadata": {},
   "source": [
    "# 6. LAN과 WAN\n",
    "### LAN : Local Area Network\n",
    "- 구내에 설치된 네트워크\n",
    "- 학교 구내, 연구실 구내, 대학 내\n",
    "\n",
    "### WAN : Wide Area Network\n",
    "- 떨어져 있는 지역의 LAN끼리 통신 사업자의 통신 케이블을 빌려서 연결한 네트워크\n",
    "- 통신사업자(KT,SKT 등)의 케이블을 사용"
   ]
  },
  {
   "cell_type": "markdown",
   "metadata": {},
   "source": [
    "# 7. OSI 참조 모델\n",
    "- 데이터 통신의 단계 구성도. 데이터 통신 전체를 표준화하기 위해 만든 설계도라고 생각하면 됨\n",
    "\n",
    "\n",
    "- 제 7계층 : 응용계층 / 사용자에게 네트워크 서비스를 제공\n",
    "- 제 6계층 : 표현계층 / 데이터의 형식을 결정\n",
    "- 제 5계층 : 세션계층 / 데이터 송수신의 순서 등을 관리\n",
    "- 제 4계층 : 전송계층 / 신뢰성이 높은(에러가 적은) 전송을 시행\n",
    "- 제 3계층 : 네트워크계층 / 전송 규칙과 수신처를 결정\n",
    "- 제 2계층 : 데이터링크계층 / 인접기기 사이의 데이터 전송을 제어\n",
    "- 제 1계층 : 물리계층 / 전기, 기계적인 부분의 전송을 시행\n",
    "- 7-5 : 내용표현 / 4-3 : 전송물, 2-1:전송 \n",
    "\n",
    "- 단계와 순서가 있으며, 계층은 독립적이며 상위 계층과 하위 계층의 관계를 이해해야함!!!\n",
    "- 송신 : 7계층 -> 1계층 / 수신 : 1계층 -> 7계층 순으로 실행\n",
    "- 특정 계층의 프로토콜 변경은 다른 계층에 영향을 끼치지 않은\n",
    "- 하위 계층은 상위 계층을 위해서 일하고 상위 계층은 하위 계층에 관여하지 않음\n"
   ]
  },
  {
   "cell_type": "markdown",
   "metadata": {
    "collapsed": true
   },
   "source": [
    "# 8. 캡슐화\n",
    "- 택배를 운반하기 위해선 제품(데이터)과 주소 같은 것들을 함께 보내야 함\n",
    "- 이처럼 네트워크상에서 데이터 말고 주소같은 것들을 데이터랑 함께 보내는데, 데이터랑 데이터를 보내기 위해 필요한 것들이 통합된 상태를 프로토콜 데이터 유닛(Protocoal Data Unit : PDU)라고 부름\n",
    "- 계층의 단계를 실시할 때마다 필요한 정보를 추가할 수 있음\n",
    "- 데이터에 제어 정보를 덧붙여서 PDU로 완성하는 것을 캡슐화(Encap-sulation)라고 함. 수신한 쪽은 캡슐을 벗겨가게 됨!\n",
    "- 제어 데이터의 경우 데이터 앞에 붙으면 헤더 (Header), 뒤에 붙이면 꼬리부 (Trailer)라고 부름"
   ]
  },
  {
   "cell_type": "markdown",
   "metadata": {},
   "source": [
    "# 9. 프로토콜\n",
    "- 데이터 통신에 필요한 프로토콜은 1개가 아닌 복수의 프로토콜로 이루어짐\n",
    "- 인터페이스 : 상위 계층 프로토콜이 하위 계층 프로토콜을 이용할 수 있는 구조를 가지고, 하위 계층 프로토콜이 상위 계층 프로토콜에 데이터를 전송할 수 있는 구조를 가지는 구조\n",
    "- 프로토콜군 : 7계층에서 1계층까지 연결된 프로토콜 그룹\n",
    "- 어떤 헤더를 붙일지도 프로토콜이 결정하는것\n",
    "    - 주소나 코드 등에 몇 비트를 사용할지\n",
    "    - 배열하는 순서\n",
    "    - 코드 및 우선도 비트가 나타내는 의미 등\n",
    "    - 데이터를 주고받는 순서 (ex : request - response)\n",
    "- TCP/IP 프로토콜군이 가장 많이 인터넷에서 사용되는 프로토콜군\n",
    "- 표준이 아닌 사실 표준 : 많은 장소에서 사용되고 있어서 표준으로 취급"
   ]
  },
  {
   "cell_type": "code",
   "execution_count": null,
   "metadata": {
    "collapsed": true
   },
   "outputs": [],
   "source": []
  }
 ],
 "metadata": {
  "kernelspec": {
   "display_name": "Python 3",
   "language": "python",
   "name": "python3"
  },
  "language_info": {
   "codemirror_mode": {
    "name": "ipython",
    "version": 3
   },
   "file_extension": ".py",
   "mimetype": "text/x-python",
   "name": "python",
   "nbconvert_exporter": "python",
   "pygments_lexer": "ipython3",
   "version": "3.6.1"
  },
  "latex_envs": {
   "LaTeX_envs_menu_present": true,
   "autocomplete": true,
   "bibliofile": "biblio.bib",
   "cite_by": "apalike",
   "current_citInitial": 1,
   "eqLabelWithNumbers": true,
   "eqNumInitial": 1,
   "hotkeys": {
    "equation": "Ctrl-E",
    "itemize": "Ctrl-I"
   },
   "labels_anchors": false,
   "latex_user_defs": false,
   "report_style_numbering": false,
   "user_envs_cfg": false
  },
  "varInspector": {
   "cols": {
    "lenName": 16,
    "lenType": 16,
    "lenVar": 40
   },
   "kernels_config": {
    "python": {
     "delete_cmd_postfix": "",
     "delete_cmd_prefix": "del ",
     "library": "var_list.py",
     "varRefreshCmd": "print(var_dic_list())"
    },
    "r": {
     "delete_cmd_postfix": ") ",
     "delete_cmd_prefix": "rm(",
     "library": "var_list.r",
     "varRefreshCmd": "cat(var_dic_list()) "
    }
   },
   "types_to_exclude": [
    "module",
    "function",
    "builtin_function_or_method",
    "instance",
    "_Feature"
   ],
   "window_display": false
  }
 },
 "nbformat": 4,
 "nbformat_minor": 2
}
