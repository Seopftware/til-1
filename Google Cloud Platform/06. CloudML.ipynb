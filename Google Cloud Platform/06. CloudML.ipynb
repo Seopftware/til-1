{
 "cells": [
  {
   "cell_type": "markdown",
   "metadata": {},
   "source": [
    "# CloudML\n",
    "- [구글 Cloud ML](https://cloud.google.com/ml-engine/)\n",
    "- 확장 가능한 관리형 기계학습 : 데이터의 유형과 크기와 관계없이 기계학습 모델을 손쉽게 제작할 수 있는 서비스\n",
    "- TensorFlow 프레임워크를 사용\n",
    "- 학습된 모델을 즉시 사용 가능\n",
    "- 사전 처리를 위해 [Google Data Flow](https://cloud.google.com/dataflow/)에 통합되어 있음\n",
    "- 온라인 / 일괄 예측 서비스가 존재\n",
    "- Hypter Tune 기능을 사용해 자동으로 모델 학습을 조정해 나은 결과를 얻을 수 있음\n",
    "- Datalab을 사용해 모델을 쉽게 제작할 수 있음\n",
    "- GPU 가속이 포함된 확장 가능한 분산 학습 인프라\n",
    "\n",
    "\n",
    "### 정리\n",
    "- Google Dataflow, Cloud Storage, Datalab과 함께 작동\n",
    "- HyperTune : 모델에 맞는 값을 직접 찾지 않고 HypterTune 기능으로 자동으로 튜닝\n",
    "- 관리형 서비스 : 인프라에 대한 걱정 없이 모델 개발과 예측에 집중\n",
    "- 확장 가능한 서비스 : CPU / GPU를 지원하는 관리형 분산 학습 인프라\n",
    "- 노트형 개발자 환경 : jupyter 노트북과 같은 Datalab을 사용\n",
    "- 이식 가능한 모델 : TensorFlow SDK를 이용해 샘플 데이터세트에서 로컬로 모델을 학습시키고 규모에 맞게 학습에 사용 가능. Cloud Machine Learning Engine으로 학습시킨 모델은 로컬 실행이나 모바일 통합을 위해 다운로드할 수 있음\n",
    "- [가격 계산 문서](https://cloud.google.com/products/calculator/)를 통해 가격 예측 가능\n",
    "- python2만 지원"
   ]
  },
  {
   "cell_type": "markdown",
   "metadata": {
    "collapsed": true
   },
   "source": [
    "### 가격\n",
    "- [ML Engine 가격 문서](https://cloud.google.com/ml-engine/pricing)\n",
    "<img src=\"./img/google_cloud_mlengine_01.png\" width=\"700\" height=\"700\">\n"
   ]
  },
  {
   "cell_type": "markdown",
   "metadata": {},
   "source": [
    "# 1-1. Quick start using Command-Line\n",
    "### Cloud Shell 이용시\n",
    "- 구글 클라우드 플랫폼의 클라우드 쉘 클릭\n",
    "- 쉘에서 아래와 같은 명령어 입력\n",
    "~~~\n",
    "gcloud config set project project_id\n",
    "~~~\n",
    "- 설치가 되었는지 확인하기\n",
    "~~~\n",
    "gcloud ml-engine models list\n",
    "~~~\n",
    "- Listed 0 items가 나오면 성공\n",
    "\n",
    "### mac 이용시\n",
    "- virtualenv로 가상환경 설정\n",
    "~~~\n",
    "pip install virtualenv\n",
    "virtualenv -p python2 env_name\n",
    "source env_name/bin/activate\n",
    "~~~\n",
    "- [gcloud sdk 설치](https://cloud.google.com/sdk/docs/quickstart-mac-os-x#before-you-begin)\n",
    "~~~\n",
    "gcloud init\n",
    "pip install -U pip\n",
    "pip install --upgrade tensorflow\n",
    "gcloud auth application-default login\n",
    "~~~\n",
    "- 설치가 되었는지 확인하기\n",
    "~~~\n",
    "gcloud ml-engine models list\n",
    "~~~\n",
    "- Listed 0 items가 나오면 성공"
   ]
  },
  {
   "cell_type": "markdown",
   "metadata": {},
   "source": [
    "# 1-2. Quick start using datalab\n",
    "- [Datalab Quick Start](https://cloud.google.com/datalab/docs/quickstarts) 를 진행하고 와주세요\n",
    "- datalab connect instance명으로 datalab에 접속합니다\n",
    "- [BigQuery with datalab](https://github.com/zzsza/bigquery-tutorial/blob/master/tutorials/02-Utils/02.%20Connect%20Datalab.ipynb) 문서도 참고하시면 좋습니다"
   ]
  },
  {
   "cell_type": "markdown",
   "metadata": {},
   "source": [
    "# 2. Get Start\n",
    "- 터미널에서 아래와 같이 입력해서 데이터를 받습니다\n",
    "~~~\n",
    "wget https://github.com/GoogleCloudPlatform/cloudml-samples/archive/master.zip\n",
    "unzip master.zip\n",
    "cd cloudml-samples-master/census/estimator\n",
    "~~~\n",
    "\n",
    "- Cloud Machine Learning Engine : Training / Prediction\n",
    "- Cloud Storage : Input data 저장, trainer package 스테이징, training 구조 작성, 배치 예측을 위한 input 데이터 파일 저장\n",
    "\n",
    "\n",
    "\n",
    "### Local에서 검증 작업\n",
    "- 클라우드에 올리기 전에, Local에서 테스트해봅니다. (테스트를 꼭 해봐야 필요없는 비용이 부과 안되요..! )\n"
   ]
  },
  {
   "cell_type": "code",
   "execution_count": null,
   "metadata": {
    "collapsed": true
   },
   "outputs": [],
   "source": []
  }
 ],
 "metadata": {
  "kernelspec": {
   "display_name": "Python 3",
   "language": "python",
   "name": "python3"
  },
  "language_info": {
   "codemirror_mode": {
    "name": "ipython",
    "version": 3
   },
   "file_extension": ".py",
   "mimetype": "text/x-python",
   "name": "python",
   "nbconvert_exporter": "python",
   "pygments_lexer": "ipython3",
   "version": "3.6.1"
  },
  "latex_envs": {
   "LaTeX_envs_menu_present": true,
   "autocomplete": true,
   "bibliofile": "biblio.bib",
   "cite_by": "apalike",
   "current_citInitial": 1,
   "eqLabelWithNumbers": true,
   "eqNumInitial": 1,
   "hotkeys": {
    "equation": "Ctrl-E",
    "itemize": "Ctrl-I"
   },
   "labels_anchors": false,
   "latex_user_defs": false,
   "report_style_numbering": false,
   "user_envs_cfg": false
  },
  "varInspector": {
   "cols": {
    "lenName": 16,
    "lenType": 16,
    "lenVar": 40
   },
   "kernels_config": {
    "python": {
     "delete_cmd_postfix": "",
     "delete_cmd_prefix": "del ",
     "library": "var_list.py",
     "varRefreshCmd": "print(var_dic_list())"
    },
    "r": {
     "delete_cmd_postfix": ") ",
     "delete_cmd_prefix": "rm(",
     "library": "var_list.r",
     "varRefreshCmd": "cat(var_dic_list()) "
    }
   },
   "types_to_exclude": [
    "module",
    "function",
    "builtin_function_or_method",
    "instance",
    "_Feature"
   ],
   "window_display": false
  }
 },
 "nbformat": 4,
 "nbformat_minor": 2
}
