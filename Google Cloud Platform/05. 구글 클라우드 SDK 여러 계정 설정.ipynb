{
 "cells": [
  {
   "cell_type": "markdown",
   "metadata": {},
   "source": [
    "### 구글 클라우드 SDK 여러 계정 설정 ( Configuring Google Cloud SDK for multiple account )\n"
   ]
  },
  {
   "cell_type": "markdown",
   "metadata": {},
   "source": [
    "구글 클라우드 플랫폼에서 회사 계정과 개인 계정 2개를 사용한다고 하면, 각 계정이 다른 프로젝트를 가지고 있기 때문에 이를 명시해줘야 합니다\n",
    "\n",
    "이를 gcloud SDK를 사용해 해결해 보겠습니다"
   ]
  },
  {
   "cell_type": "markdown",
   "metadata": {},
   "source": [
    "***\n",
    "## 1. gcloud 설치 ( Mac OS )\n",
    "- [공식문서](https://cloud.google.com/sdk/docs/quickstarts)\n",
    "- 터미널에서 아래와 같은 명령어 실행"
   ]
  },
  {
   "cell_type": "markdown",
   "metadata": {},
   "source": [
    "~~~\n",
    "wget https://dl.google.com/dl/cloudsdk/channels/rapid/downloads/google-cloud-sdk-164.0.0-darwin-x86_64.tar.gz\n",
    "tar -zxvf google-cloud-sdk-164.0.0-darwin-x86_64.tar.gz\n",
    "cd google-cloud-sdk\n",
    "./install.sh\n",
    "~~~\n"
   ]
  },
  {
   "cell_type": "markdown",
   "metadata": {},
   "source": []
  }
 ],
 "metadata": {
  "kernelspec": {
   "display_name": "Python 3",
   "language": "python",
   "name": "python3"
  },
  "language_info": {
   "codemirror_mode": {
    "name": "ipython",
    "version": 3
   },
   "file_extension": ".py",
   "mimetype": "text/x-python",
   "name": "python",
   "nbconvert_exporter": "python",
   "pygments_lexer": "ipython3",
   "version": "3.6.1"
  },
  "latex_envs": {
   "LaTeX_envs_menu_present": true,
   "autocomplete": true,
   "bibliofile": "biblio.bib",
   "cite_by": "apalike",
   "current_citInitial": 1,
   "eqLabelWithNumbers": true,
   "eqNumInitial": 1,
   "hotkeys": {
    "equation": "Ctrl-E",
    "itemize": "Ctrl-I"
   },
   "labels_anchors": false,
   "latex_user_defs": false,
   "report_style_numbering": false,
   "user_envs_cfg": false
  }
 },
 "nbformat": 4,
 "nbformat_minor": 2
}
