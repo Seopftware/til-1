{
 "cells": [
  {
   "cell_type": "markdown",
   "metadata": {},
   "source": [
    "### 구글 클라우드 SDK 여러 계정 설정 ( Configuring Google Cloud SDK for multiple account )\n"
   ]
  },
  {
   "cell_type": "markdown",
   "metadata": {},
   "source": [
    "구글 클라우드 플랫폼에서 회사 계정과 개인 계정 2개를 사용한다고 하면, 각 계정이 다른 프로젝트를 가지고 있기 때문에 이를 명시해줘야 합니다\n",
    "\n",
    "이를 gcloud SDK를 사용해 해결해 보겠습니다"
   ]
  },
  {
   "cell_type": "markdown",
   "metadata": {},
   "source": [
    "***\n",
    "## 1. gcloud 설치 ( Mac OS )\n",
    "- [공식문서](https://cloud.google.com/sdk/docs/quickstarts)\n",
    "- 터미널에서 아래와 같은 명령어 실행"
   ]
  },
  {
   "cell_type": "markdown",
   "metadata": {},
   "source": [
    "~~~\n",
    "wget https://dl.google.com/dl/cloudsdk/channels/rapid/downloads/google-cloud-sdk-164.0.0-darwin-x86_64.tar.gz\n",
    "tar -zxvf google-cloud-sdk-164.0.0-darwin-x86_64.tar.gz\n",
    "cd google-cloud-sdk\n",
    "./install.sh\n",
    "~~~\n"
   ]
  },
  {
   "cell_type": "markdown",
   "metadata": {},
   "source": [
    "# 2. gcloud 설정 ( terminal에서 실행 )\n",
    "~~~\n",
    "gcloud init\n",
    "~~~"
   ]
  },
  {
   "cell_type": "markdown",
   "metadata": {},
   "source": [
    "![gcloud init](./img/config_1.png)\n",
    "\n",
    "(https://github.com/zzsza/TIL/blob/master/Google%20Cloud%20Platform/img/config_1.png)"
   ]
  },
  {
   "cell_type": "markdown",
   "metadata": {},
   "source": [
    "- 만약 config가 없다면 바로 진행될 것이고, 아니라면 위 스크린샷처럼 나옵니다\n",
    "- [2] Create a new configuration을 진행하기 위해 2를 입력해줍니다. \n",
    "- 그 후, config의 이름을 설정해줍니다. 저는 byeon으로 진행했습니다\n",
    "- perform operations은 저는 기존에 사용하던 [1]을 선택했습니다 ( 아무것도 안보이는 이유는 제가 가렸습니다..! )"
   ]
  },
  {
   "cell_type": "markdown",
   "metadata": {},
   "source": [
    "![gcloud init](./img/config_2.png)"
   ]
  },
  {
   "cell_type": "markdown",
   "metadata": {},
   "source": [
    "- 그 이후 지역 설정을 하게 됩니다. 저는 'asia-east1'을 선택했습니다! 이제 환경 설정은 끝났습니다\n",
    "- gcloud 관련 명령어를 알고싶어 gcloud --help를 입력했습니다"
   ]
  },
  {
   "cell_type": "markdown",
   "metadata": {},
   "source": [
    "![gcloud init](./img/config_3.png)"
   ]
  },
  {
   "cell_type": "markdown",
   "metadata": {},
   "source": [
    "### gcloud config configurations list\n",
    "- 이 명령어를 입력하면 현재 환경설정 목록이 나옵니다. 저는 개인 계정과 회사 계정 2개가 나왔습니다!\n",
    "\n",
    "\n",
    "### gcloud config configurations activate [config name]\n",
    "- 이 명렁어를 입력하면 해당 환경설정이 활성화됩니다! virtu"
   ]
  },
  {
   "cell_type": "markdown",
   "metadata": {},
   "source": [
    "![gcloud init](./img/config_4.png)"
   ]
  },
  {
   "cell_type": "code",
   "execution_count": null,
   "metadata": {
    "collapsed": true
   },
   "outputs": [],
   "source": []
  }
 ],
 "metadata": {
  "kernelspec": {
   "display_name": "Python 3",
   "language": "python",
   "name": "python3"
  },
  "language_info": {
   "codemirror_mode": {
    "name": "ipython",
    "version": 3
   },
   "file_extension": ".py",
   "mimetype": "text/x-python",
   "name": "python",
   "nbconvert_exporter": "python",
   "pygments_lexer": "ipython3",
   "version": "3.6.1"
  },
  "latex_envs": {
   "LaTeX_envs_menu_present": true,
   "autocomplete": true,
   "bibliofile": "biblio.bib",
   "cite_by": "apalike",
   "current_citInitial": 1,
   "eqLabelWithNumbers": true,
   "eqNumInitial": 1,
   "hotkeys": {
    "equation": "Ctrl-E",
    "itemize": "Ctrl-I"
   },
   "labels_anchors": false,
   "latex_user_defs": false,
   "report_style_numbering": false,
   "user_envs_cfg": false
  }
 },
 "nbformat": 4,
 "nbformat_minor": 2
}
