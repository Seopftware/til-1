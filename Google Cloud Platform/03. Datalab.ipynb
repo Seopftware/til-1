{
 "cells": [
  {
   "cell_type": "markdown",
   "metadata": {},
   "source": [
    "# 03. Datalab\n",
    "\n",
    "- 현재 베타버전이라 항상 바뀔 수 있음!\n",
    "- EDA, 시각화, 분석까지 할 수 있는! 쥬피터 노트북이라고 보면 편함\n",
    "- Docker를 사용..!\n",
    "- Use notebooks with Python, TensorFlow Machine Learning, and Google Analytics, Google BigQuery, and Google Charts APIs"
   ]
  },
  {
   "cell_type": "markdown",
   "metadata": {},
   "source": [
    "# [Local Install](https://cloud.google.com/datalab/docs/quickstarts/quickstart-local)\n",
    "\n",
    "\n",
    "1. [Docker](https://www.docker.com/products/docker) 1.12.0 이후 버전 설치(Docker Toolbox는 지원하지 않아요..)\n",
    "2. [프로젝트 생성 및 선택](https://console.cloud.google.com/flows/enableapi?apiid=compute_component&_ga=1.193756974.267165872.1487136809)\n",
    "3. gcloud projects list 입력 ( [gcloud 다운 필요](https://cloud.google.com/sdk/downloads) )\n",
    "4. Dokcer에서 Shared Drives -> C 공유\n",
    "5. Windows에선 환경변수 추가 필수 : [링크](https://docs.docker.com/engine/tutorials/dockervolumes/)\n",
    "6. 시작할 곳 선정 (??)\n",
    "7. Docker에서 datalab 시작하기\n",
    "~~~\n",
    "docker run -it -p \"127.0.0.1:8081:8080\" \\\n",
    "  -v \"/C/Users/<username>/Documents/:/content\" \\\n",
    "  -e \"PROJECT_ID=<PROJECT_ID>\" \\\n",
    "  gcr.io/cloud-datalab/datalab:local\n",
    "~~~\n",
    "  \n"
   ]
  },
  {
   "cell_type": "markdown",
   "metadata": {},
   "source": [
    "# Datalab 실행\n",
    "1. Docker 에서 datalab 실행\n",
    "2. 그 후 http://localhost:8081 이동\n",
    "3. (첫 접속이라면) Terms of Service 승인\n",
    "4. 사용..!"
   ]
  },
  {
   "cell_type": "markdown",
   "metadata": {},
   "source": [
    "# Reference\n",
    "- Datalab 설치 : https://cloud.google.com/datalab/docs/quickstarts/\n",
    "- Datalab 문서 : http://googledatalab.github.io/pydatalab/"
   ]
  }
 ],
 "metadata": {
  "kernelspec": {
   "display_name": "Python 3",
   "language": "python",
   "name": "python3"
  },
  "language_info": {
   "codemirror_mode": {
    "name": "ipython",
    "version": 3
   },
   "file_extension": ".py",
   "mimetype": "text/x-python",
   "name": "python",
   "nbconvert_exporter": "python",
   "pygments_lexer": "ipython3",
   "version": "3.5.2"
  }
 },
 "nbformat": 4,
 "nbformat_minor": 0
}
