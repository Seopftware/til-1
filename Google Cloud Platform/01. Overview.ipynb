{
 "cells": [
  {
   "cell_type": "markdown",
   "metadata": {},
   "source": [
    "# Google Cloud Platform"
   ]
  },
  {
   "cell_type": "markdown",
   "metadata": {},
   "source": [
    "- 구글 클라우드는 구글의 [데이터센터](https://www.google.com/about/datacenters/) 인프라를 기반으로 컴퓨트, 스토리지, 네트워킹, 머신러닝 등의 서비스를 제공하는 글로벌 클라우드\n",
    "- Regions : Central US, Western Europe, East Asia 존재하며 세부적으로 zones으로 구성\n",
    "\n",
    "![regions-zones](https://cloud.google.com/docs/images/overview/regions-zones.svg)\n",
    "\n",
    "\n",
    "### 구글 클라우드만의 특징\n",
    "- 빅데이터와 머신러닝 서비스\n",
    "- 구글 전용 네트워크를 이용한 글로벌 커버리지\n",
    "- 저렴한 가격 모델\n",
    "\n",
    "\n"
   ]
  },
  {
   "cell_type": "markdown",
   "metadata": {},
   "source": [
    "# Google Cloud Platform Services\n",
    "\n",
    "![Google Cloud Platform Products](https://cloud.google.com/solutions/images/iot-overview-architecture.png)\n",
    "\n",
    "## 1. Big data services\n",
    "### Data Analysis\n",
    "### [BigQuery](https://cloud.google.com/bigquery/what-is-bigquery)\n",
    "- 대규모 저장 및 분석 플랫폼으로 일종의 데이터 웨어하우스, 문법은 SQL와 유사\n",
    "- 속도에 최적화되어 있음\n",
    "\n",
    "[빅쿼리 시작하기](https://cloud.google.com/bigquery/quickstart-web-ui)\n",
    "\n",
    "[Kubernetes, Redis, BigQuery를 이용한 실시간 분석](https://cloud.google.com/solutions/real-time/kubernetes-redis-bigquery)\n",
    "\n",
    "\n",
    "### Batch and streaming data processing\n",
    "### [Cloud Dataflow](https://cloud.google.com/dataflow/what-is-google-cloud-dataflow)\n",
    "- 아파치 스파크, 플링크와 같이 실시간 스트리밍 분석 및 배치 분석을 지원\n",
    "- 수집한 데이터를 변환하거나 여러 데이터 소스와 저장소간의 연결(라우팅)을 담당\n",
    "- ETL(extract - transform - load) 업무에도 좋음\n",
    "\n",
    "### Asynchronous messaging\n",
    "### [Cloud Pub/Sub](https://cloud.google.com/pubsub/docs)\n",
    "- 비동기(asyn) 메세징 서비스\n",
    "- 카프카와 같은 대규모 큐잉 시스템으로 데이터를 대규모로 수집\n",
    "\n",
    "### ETC\n",
    "### Cloud Datalab\n",
    "- Jupyter notebook의 클라우드 버전\n",
    "- 웹 기반의 저작 도구\n",
    "\n",
    "### Dataproc\n",
    "- 하둡 / 스파크의 매니지드 서비스로 클러스터를 90초안에 배포\n",
    "\n",
    "### Data Studio\n",
    "- SQL / 빅쿼리 등의 데이터 소스를 기반으로 시각적인 보고서를 생성해주는 제품\n",
    "\n"
   ]
  },
  {
   "cell_type": "markdown",
   "metadata": {},
   "source": [
    "## [Python on Google Cloud](https://cloud.google.com/python/)"
   ]
  },
  {
   "cell_type": "markdown",
   "metadata": {},
   "source": [
    "## 영어 단어\n",
    "- underlying : (외부로 드러나지 않는) 근본적인\n",
    "  "
   ]
  },
  {
   "cell_type": "code",
   "execution_count": null,
   "metadata": {
    "collapsed": true
   },
   "outputs": [],
   "source": []
  }
 ],
 "metadata": {
  "kernelspec": {
   "display_name": "Python 3",
   "language": "python",
   "name": "python3"
  },
  "language_info": {
   "codemirror_mode": {
    "name": "ipython",
    "version": 3
   },
   "file_extension": ".py",
   "mimetype": "text/x-python",
   "name": "python",
   "nbconvert_exporter": "python",
   "pygments_lexer": "ipython3",
   "version": "3.5.2"
  }
 },
 "nbformat": 4,
 "nbformat_minor": 0
}
