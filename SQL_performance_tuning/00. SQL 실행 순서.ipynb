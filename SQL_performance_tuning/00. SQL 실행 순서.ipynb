{
 "cells": [
  {
   "cell_type": "markdown",
   "metadata": {},
   "source": [
    "## SELECT 실행 순서 \n",
    "\n",
    " \n",
    "### -문법 순서-\n",
    " \n",
    "SELECT - 1\n",
    "\n",
    "FROM - 2\n",
    "\n",
    "WHERE - 3\n",
    "\n",
    "GROUP BY - 4\n",
    "\n",
    "HAVING - 5\n",
    "\n",
    "ORDER BY  - 6\n",
    "\n",
    "\n",
    "### -실행 순서-\n",
    " \n",
    "FROM - 1\n",
    "\n",
    "WHERE - 2\n",
    "\n",
    "GROUP BY - 3\n",
    "\n",
    "HAVING - 4\n",
    "\n",
    "SELECT - 5\n",
    "\n",
    "ORDER BY - 6\n",
    " \n",
    " \n",
    "해당 데이터가 있는 곳을 찾아가서 (FROM)\n",
    "\n",
    "조건에 맞는 데이터만 가져와서 (WHERE)\n",
    "\n",
    "원하는 데이터로 집계 (GROUP BY)\n",
    "\n",
    "집계한 데이터에서 조건에 맞는 것만 (HAVING)\n",
    "\n",
    "뽑아내서 (SELECT)\n",
    "\n",
    "정렬 (ORDER BY)\n",
    " \n",
    "실행순서는 문법, 권한 검사 순서이면서 Alias 등록 순서"
   ]
  },
  {
   "cell_type": "markdown",
   "metadata": {},
   "source": [
    " \n",
    "별칭(Alias)\n",
    "\n",
    "FROM 절에서 테이블에 Alias를 사용했다면       (FROM Table1 AS T1)\n",
    "\n",
    "SELECT, ORDER BY 절에서 사용할 수 있고      (SELECT T1.Col1, ORDER BY T1.Col1)\n",
    "\n",
    "SELECT 절에서 컬럼에 Alias를 사용했다면       (SELECT T1.Col1 AS a)\n",
    "\n",
    "ORDER BY 절에서 사용할 수 있다.                   (ORDER BY AS a)\n",
    " \n",
    "ORDER BY절에 T1.a가 안되는 것으로 보아 a는 T1.col1을 대신!"
   ]
  }
 ],
 "metadata": {
  "kernelspec": {
   "display_name": "Python 3",
   "language": "python",
   "name": "python3"
  },
  "language_info": {
   "codemirror_mode": {
    "name": "ipython",
    "version": 3
   },
   "file_extension": ".py",
   "mimetype": "text/x-python",
   "name": "python",
   "nbconvert_exporter": "python",
   "pygments_lexer": "ipython3",
   "version": "3.6.1"
  },
  "latex_envs": {
   "LaTeX_envs_menu_present": true,
   "autocomplete": true,
   "bibliofile": "biblio.bib",
   "cite_by": "apalike",
   "current_citInitial": 1,
   "eqLabelWithNumbers": true,
   "eqNumInitial": 1,
   "hotkeys": {
    "equation": "Ctrl-E",
    "itemize": "Ctrl-I"
   },
   "labels_anchors": false,
   "latex_user_defs": false,
   "report_style_numbering": false,
   "user_envs_cfg": false
  }
 },
 "nbformat": 4,
 "nbformat_minor": 2
}
