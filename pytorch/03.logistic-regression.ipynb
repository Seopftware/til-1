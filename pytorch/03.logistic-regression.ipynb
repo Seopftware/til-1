{
 "cells": [
  {
   "cell_type": "markdown",
   "metadata": {},
   "source": [
    "# 03. logistic-regression"
   ]
  },
  {
   "cell_type": "code",
   "execution_count": 1,
   "metadata": {
    "ExecuteTime": {
     "end_time": "2017-12-10T06:52:58.372188Z",
     "start_time": "2017-12-10T06:52:58.368358Z"
    },
    "collapsed": true
   },
   "outputs": [],
   "source": [
    "import torch\n",
    "import torch.nn as nn\n",
    "import torchvision.datasets as dsets\n",
    "import torchvision.transforms as transforms\n",
    "from torch.autograd import Variable"
   ]
  },
  {
   "cell_type": "code",
   "execution_count": 2,
   "metadata": {
    "ExecuteTime": {
     "end_time": "2017-12-10T06:53:18.127588Z",
     "start_time": "2017-12-10T06:53:18.124157Z"
    },
    "collapsed": true
   },
   "outputs": [],
   "source": [
    "input_size = 784\n",
    "num_classes = 10\n",
    "num_epochs = 5\n",
    "batch_size = 100\n",
    "learning_rate = 0.001"
   ]
  },
  {
   "cell_type": "code",
   "execution_count": 4,
   "metadata": {
    "ExecuteTime": {
     "end_time": "2017-12-10T06:55:47.381375Z",
     "start_time": "2017-12-10T06:54:57.654962Z"
    }
   },
   "outputs": [
    {
     "name": "stdout",
     "output_type": "stream",
     "text": [
      "Downloading http://yann.lecun.com/exdb/mnist/train-images-idx3-ubyte.gz\n",
      "Downloading http://yann.lecun.com/exdb/mnist/train-labels-idx1-ubyte.gz\n",
      "Downloading http://yann.lecun.com/exdb/mnist/t10k-images-idx3-ubyte.gz\n",
      "Downloading http://yann.lecun.com/exdb/mnist/t10k-labels-idx1-ubyte.gz\n",
      "Processing...\n",
      "Done!\n"
     ]
    }
   ],
   "source": [
    "train_dataset = dsets.MNIST(root='./data', \n",
    "                            train=True, \n",
    "                            transform=transforms.ToTensor(),\n",
    "                            download=True)\n",
    "\n",
    "test_dataset = dsets.MNIST(root='./data', \n",
    "                           train=False, \n",
    "                           transform=transforms.ToTensor())"
   ]
  },
  {
   "cell_type": "code",
   "execution_count": 7,
   "metadata": {
    "ExecuteTime": {
     "end_time": "2017-12-10T06:57:20.126268Z",
     "start_time": "2017-12-10T06:57:20.123368Z"
    },
    "collapsed": true
   },
   "outputs": [],
   "source": [
    "train_loader = torch.utils.data.DataLoader(dataset=train_dataset,\n",
    "                                           batch_size=batch_size,\n",
    "                                           shuffle=True)"
   ]
  },
  {
   "cell_type": "code",
   "execution_count": 6,
   "metadata": {
    "ExecuteTime": {
     "end_time": "2017-12-10T06:57:18.057499Z",
     "start_time": "2017-12-10T06:57:18.054569Z"
    },
    "collapsed": true
   },
   "outputs": [],
   "source": [
    "test_loader = torch.utils.data.DataLoader(dataset=test_dataset,\n",
    "                                          batch_size=batch_size,\n",
    "                                          shuffle=False)"
   ]
  },
  {
   "cell_type": "code",
   "execution_count": 8,
   "metadata": {
    "ExecuteTime": {
     "end_time": "2017-12-10T06:59:55.500556Z",
     "start_time": "2017-12-10T06:59:55.493165Z"
    },
    "collapsed": true
   },
   "outputs": [],
   "source": [
    "class LogisticRegression(nn.Module):\n",
    "    def __init__(self, input_size, num_classes):\n",
    "        super(LogisticRegression, self).__init__()\n",
    "        self.linear = nn.Linear(input_size, num_classes)\n",
    "        \n",
    "    def forward(self, x):\n",
    "        out = self.linear(x)\n",
    "        return out"
   ]
  },
  {
   "cell_type": "code",
   "execution_count": 9,
   "metadata": {
    "ExecuteTime": {
     "end_time": "2017-12-10T07:00:19.680623Z",
     "start_time": "2017-12-10T07:00:19.677613Z"
    },
    "collapsed": true
   },
   "outputs": [],
   "source": [
    "model = LogisticRegression(input_size, num_classes)"
   ]
  },
  {
   "cell_type": "code",
   "execution_count": 10,
   "metadata": {
    "ExecuteTime": {
     "end_time": "2017-12-10T07:00:41.875057Z",
     "start_time": "2017-12-10T07:00:41.871972Z"
    },
    "collapsed": true
   },
   "outputs": [],
   "source": [
    "criterion = nn.CrossEntropyLoss()\n",
    "optimizer = torch.optim.SGD(model.parameters(), lr=learning_rate)"
   ]
  },
  {
   "cell_type": "code",
   "execution_count": 17,
   "metadata": {
    "ExecuteTime": {
     "end_time": "2017-12-10T07:07:22.298428Z",
     "start_time": "2017-12-10T07:07:05.009547Z"
    }
   },
   "outputs": [
    {
     "name": "stdout",
     "output_type": "stream",
     "text": [
      "Epoch: [1/5], Step:[100/600], Loss: 0.9178\n",
      "Epoch: [1/5], Step:[200/600], Loss: 0.8490\n",
      "Epoch: [1/5], Step:[300/600], Loss: 1.0128\n",
      "Epoch: [1/5], Step:[400/600], Loss: 0.9173\n",
      "Epoch: [1/5], Step:[500/600], Loss: 0.8664\n",
      "Epoch: [1/5], Step:[600/600], Loss: 0.8254\n",
      "Epoch: [2/5], Step:[100/600], Loss: 0.8765\n",
      "Epoch: [2/5], Step:[200/600], Loss: 0.7709\n",
      "Epoch: [2/5], Step:[300/600], Loss: 0.9264\n",
      "Epoch: [2/5], Step:[400/600], Loss: 0.9131\n",
      "Epoch: [2/5], Step:[500/600], Loss: 0.8726\n",
      "Epoch: [2/5], Step:[600/600], Loss: 0.8104\n",
      "Epoch: [3/5], Step:[100/600], Loss: 0.8185\n",
      "Epoch: [3/5], Step:[200/600], Loss: 0.8911\n",
      "Epoch: [3/5], Step:[300/600], Loss: 0.7579\n",
      "Epoch: [3/5], Step:[400/600], Loss: 0.7466\n",
      "Epoch: [3/5], Step:[500/600], Loss: 0.8131\n",
      "Epoch: [3/5], Step:[600/600], Loss: 0.6825\n",
      "Epoch: [4/5], Step:[100/600], Loss: 0.7759\n",
      "Epoch: [4/5], Step:[200/600], Loss: 0.7875\n",
      "Epoch: [4/5], Step:[300/600], Loss: 0.7481\n",
      "Epoch: [4/5], Step:[400/600], Loss: 0.6982\n",
      "Epoch: [4/5], Step:[500/600], Loss: 0.8336\n",
      "Epoch: [4/5], Step:[600/600], Loss: 0.7096\n",
      "Epoch: [5/5], Step:[100/600], Loss: 0.5979\n",
      "Epoch: [5/5], Step:[200/600], Loss: 0.7986\n",
      "Epoch: [5/5], Step:[300/600], Loss: 0.7689\n",
      "Epoch: [5/5], Step:[400/600], Loss: 0.7219\n",
      "Epoch: [5/5], Step:[500/600], Loss: 0.6770\n",
      "Epoch: [5/5], Step:[600/600], Loss: 0.6228\n"
     ]
    }
   ],
   "source": [
    "for epoch in range(num_epochs):\n",
    "    for i, (images, labels) in enumerate(train_loader):\n",
    "        images = Variable(images.view(-1, 28*28))\n",
    "        labels = Variable(labels)\n",
    "        \n",
    "        optimizer.zero_grad()\n",
    "        outputs = model(images)\n",
    "        loss = criterion(outputs, labels)\n",
    "        loss.backward()\n",
    "        optimizer.step()\n",
    "        \n",
    "        if (i+1) % 100 == 0:\n",
    "            print(\"Epoch: [{}/{}], Step:[{}/{}], Loss: {:.4f}\".format(\n",
    "            epoch+1, num_epochs, i+1, len(train_dataset)//batch_size, loss.data[0]))"
   ]
  },
  {
   "cell_type": "code",
   "execution_count": 19,
   "metadata": {
    "ExecuteTime": {
     "end_time": "2017-12-10T07:13:50.185436Z",
     "start_time": "2017-12-10T07:13:50.181992Z"
    }
   },
   "outputs": [
    {
     "data": {
      "text/plain": [
       "0.6228074431419373"
      ]
     },
     "execution_count": 19,
     "metadata": {},
     "output_type": "execute_result"
    }
   ],
   "source": [
    "loss.data[0]"
   ]
  },
  {
   "cell_type": "code",
   "execution_count": 22,
   "metadata": {
    "ExecuteTime": {
     "end_time": "2017-12-10T07:14:30.809686Z",
     "start_time": "2017-12-10T07:14:30.806254Z"
    }
   },
   "outputs": [
    {
     "data": {
      "text/plain": [
       "<torch.utils.data.dataloader.DataLoader at 0x10e23cda0>"
      ]
     },
     "execution_count": 22,
     "metadata": {},
     "output_type": "execute_result"
    }
   ],
   "source": [
    "test_loader"
   ]
  },
  {
   "cell_type": "code",
   "execution_count": 23,
   "metadata": {
    "ExecuteTime": {
     "end_time": "2017-12-10T07:15:25.522883Z",
     "start_time": "2017-12-10T07:15:24.975317Z"
    },
    "collapsed": true
   },
   "outputs": [],
   "source": [
    "correct = 0\n",
    "total = 0\n",
    "for images, labels in test_loader:\n",
    "    images = Variable(images.view(-1, 28*28))\n",
    "    outputs = model(images)\n",
    "    _, predicted = torch.max(outputs.data, 1)\n",
    "    total += labels.size(0)\n",
    "    correct += (predicted == labels).sum()"
   ]
  },
  {
   "cell_type": "code",
   "execution_count": 25,
   "metadata": {
    "ExecuteTime": {
     "end_time": "2017-12-10T07:16:08.495685Z",
     "start_time": "2017-12-10T07:16:08.492611Z"
    }
   },
   "outputs": [
    {
     "name": "stdout",
     "output_type": "stream",
     "text": [
      "Accuracy of model on the 10000 test images:85.87%\n"
     ]
    }
   ],
   "source": [
    "print(\"Accuracy of model on the 10000 test images:{}%\".format(100*correct/total))"
   ]
  },
  {
   "cell_type": "code",
   "execution_count": 26,
   "metadata": {
    "ExecuteTime": {
     "end_time": "2017-12-10T07:16:26.268536Z",
     "start_time": "2017-12-10T07:16:26.265164Z"
    },
    "collapsed": true
   },
   "outputs": [],
   "source": [
    "torch.save(model.state_dict(), 'linear_regression_model.pkl')"
   ]
  },
  {
   "cell_type": "code",
   "execution_count": null,
   "metadata": {
    "collapsed": true
   },
   "outputs": [],
   "source": []
  }
 ],
 "metadata": {
  "kernelspec": {
   "display_name": "Python 3",
   "language": "python",
   "name": "python3"
  },
  "language_info": {
   "codemirror_mode": {
    "name": "ipython",
    "version": 3
   },
   "file_extension": ".py",
   "mimetype": "text/x-python",
   "name": "python",
   "nbconvert_exporter": "python",
   "pygments_lexer": "ipython3",
   "version": "3.6.3"
  },
  "latex_envs": {
   "LaTeX_envs_menu_present": true,
   "autocomplete": true,
   "bibliofile": "biblio.bib",
   "cite_by": "apalike",
   "current_citInitial": 1,
   "eqLabelWithNumbers": true,
   "eqNumInitial": 1,
   "hotkeys": {
    "equation": "Ctrl-E",
    "itemize": "Ctrl-I"
   },
   "labels_anchors": false,
   "latex_user_defs": false,
   "report_style_numbering": false,
   "user_envs_cfg": false
  },
  "varInspector": {
   "cols": {
    "lenName": 16,
    "lenType": 16,
    "lenVar": 40
   },
   "kernels_config": {
    "python": {
     "delete_cmd_postfix": "",
     "delete_cmd_prefix": "del ",
     "library": "var_list.py",
     "varRefreshCmd": "print(var_dic_list())"
    },
    "r": {
     "delete_cmd_postfix": ") ",
     "delete_cmd_prefix": "rm(",
     "library": "var_list.r",
     "varRefreshCmd": "cat(var_dic_list()) "
    }
   },
   "types_to_exclude": [
    "module",
    "function",
    "builtin_function_or_method",
    "instance",
    "_Feature"
   ],
   "window_display": false
  }
 },
 "nbformat": 4,
 "nbformat_minor": 2
}
