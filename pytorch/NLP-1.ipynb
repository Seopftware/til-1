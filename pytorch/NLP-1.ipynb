{
 "cells": [
  {
   "cell_type": "code",
   "execution_count": 1,
   "metadata": {
    "ExecuteTime": {
     "end_time": "2018-03-15T05:27:29.488483Z",
     "start_time": "2018-03-15T05:27:27.441222Z"
    }
   },
   "outputs": [],
   "source": [
    "import torch\n",
    "import torch.nn as nn\n",
    "from torch.autograd import Variable\n",
    "import torch.optim as optim\n",
    "import torch.nn.functional as F\n",
    "\n",
    "import nltk\n",
    "from konlpy.tag import Kkma\n",
    "kor_tagger = Kkma()"
   ]
  },
  {
   "cell_type": "markdown",
   "metadata": {},
   "source": [
    "[KoNLPy](http://konlpy-ko.readthedocs.io/ko/v0.4.3/#)"
   ]
  },
  {
   "cell_type": "markdown",
   "metadata": {},
   "source": [
    "# Tokenize\n"
   ]
  },
  {
   "cell_type": "code",
   "execution_count": 2,
   "metadata": {
    "ExecuteTime": {
     "end_time": "2018-03-15T05:27:29.497887Z",
     "start_time": "2018-03-15T05:27:29.495476Z"
    }
   },
   "outputs": [],
   "source": [
    "english_data = \"Hi, Kyle! Welcome to Retrica\""
   ]
  },
  {
   "cell_type": "code",
   "execution_count": 3,
   "metadata": {
    "ExecuteTime": {
     "end_time": "2018-03-15T05:27:29.764943Z",
     "start_time": "2018-03-15T05:27:29.744999Z"
    }
   },
   "outputs": [],
   "source": [
    "token = nltk.word_tokenize(english_data)"
   ]
  },
  {
   "cell_type": "code",
   "execution_count": 4,
   "metadata": {
    "ExecuteTime": {
     "end_time": "2018-03-15T05:27:30.008706Z",
     "start_time": "2018-03-15T05:27:30.005786Z"
    }
   },
   "outputs": [
    {
     "name": "stdout",
     "output_type": "stream",
     "text": [
      "['Hi', ',', 'Kyle', '!', 'Welcome', 'to', 'Retrica']\n"
     ]
    }
   ],
   "source": [
    "print(token)"
   ]
  },
  {
   "cell_type": "code",
   "execution_count": 5,
   "metadata": {
    "ExecuteTime": {
     "end_time": "2018-03-15T05:27:30.264703Z",
     "start_time": "2018-03-15T05:27:30.262033Z"
    }
   },
   "outputs": [],
   "source": [
    "korea_data = \"안녕? 나는 파이토치를 공부하고 있어요.\""
   ]
  },
  {
   "cell_type": "code",
   "execution_count": 6,
   "metadata": {
    "ExecuteTime": {
     "end_time": "2018-03-15T05:27:36.018869Z",
     "start_time": "2018-03-15T05:27:30.498597Z"
    }
   },
   "outputs": [
    {
     "name": "stdout",
     "output_type": "stream",
     "text": [
      "['안녕', '?', '나', '는', '파이', '토치', '를', '공부', '하', '고', '있', '어요', '.']\n"
     ]
    }
   ],
   "source": [
    "token = kor_tagger.morphs(korea_data)\n",
    "print(token)"
   ]
  },
  {
   "cell_type": "code",
   "execution_count": 7,
   "metadata": {
    "ExecuteTime": {
     "end_time": "2018-03-15T05:27:36.028540Z",
     "start_time": "2018-03-15T05:27:36.026046Z"
    }
   },
   "outputs": [],
   "source": [
    "# 꼬꼬마 사전은 처음에 조금 느리지만 성능은 괜찮은 편"
   ]
  },
  {
   "cell_type": "code",
   "execution_count": 8,
   "metadata": {
    "ExecuteTime": {
     "end_time": "2018-03-15T05:27:36.080866Z",
     "start_time": "2018-03-15T05:27:36.035741Z"
    }
   },
   "outputs": [
    {
     "data": {
      "text/plain": [
       "[('안녕', 'NNG'),\n",
       " ('?', 'SF'),\n",
       " ('나', 'NP'),\n",
       " ('는', 'JX'),\n",
       " ('파이', 'NNG'),\n",
       " ('토치', 'NNG'),\n",
       " ('를', 'JKO'),\n",
       " ('공부', 'NNG'),\n",
       " ('하', 'XSV'),\n",
       " ('고', 'ECE'),\n",
       " ('있', 'VXV'),\n",
       " ('어요', 'EFN'),\n",
       " ('.', 'SF')]"
      ]
     },
     "execution_count": 8,
     "metadata": {},
     "output_type": "execute_result"
    }
   ],
   "source": [
    "# Pos\n",
    "kor_tagger.pos(korea_data)"
   ]
  },
  {
   "cell_type": "code",
   "execution_count": 9,
   "metadata": {
    "ExecuteTime": {
     "end_time": "2018-03-15T05:27:36.116473Z",
     "start_time": "2018-03-15T05:27:36.088966Z"
    }
   },
   "outputs": [
    {
     "data": {
      "text/plain": [
       "['안녕? 나는 파이 토치를 공부하고 있어요.']"
      ]
     },
     "execution_count": 9,
     "metadata": {},
     "output_type": "execute_result"
    }
   ],
   "source": [
    "kor_tagger.sentences(korea_data)"
   ]
  },
  {
   "cell_type": "code",
   "execution_count": 10,
   "metadata": {
    "ExecuteTime": {
     "end_time": "2018-03-15T05:27:36.210057Z",
     "start_time": "2018-03-15T05:27:36.125547Z"
    }
   },
   "outputs": [
    {
     "data": {
      "text/plain": [
       "['안녕', '나', '파이', '파이토치', '토치', '공부']"
      ]
     },
     "execution_count": 10,
     "metadata": {},
     "output_type": "execute_result"
    }
   ],
   "source": [
    "kor_tagger.nouns(korea_data)"
   ]
  },
  {
   "cell_type": "markdown",
   "metadata": {},
   "source": [
    "# Build vocab"
   ]
  },
  {
   "cell_type": "code",
   "execution_count": 11,
   "metadata": {
    "ExecuteTime": {
     "end_time": "2018-03-15T05:27:36.227649Z",
     "start_time": "2018-03-15T05:27:36.224318Z"
    }
   },
   "outputs": [],
   "source": [
    "from collections import OrderedDict, defaultdict"
   ]
  },
  {
   "cell_type": "code",
   "execution_count": 12,
   "metadata": {
    "ExecuteTime": {
     "end_time": "2018-03-15T05:27:36.251780Z",
     "start_time": "2018-03-15T05:27:36.238496Z"
    }
   },
   "outputs": [
    {
     "name": "stdout",
     "output_type": "stream",
     "text": [
      "defaultdict(None, {'안녕': 0, '?': 1, '나': 2, '는': 3, '파이': 4, '토치': 5, '를': 6, '공부': 7, '하': 8, '고': 9, '있': 10, '어요': 11, '.': 12})\n"
     ]
    }
   ],
   "source": [
    "word2index = defaultdict()\n",
    "for vo in token:\n",
    "    if not word2index.get(vo):\n",
    "        word2index[vo]=len(word2index)\n",
    "print(word2index)"
   ]
  },
  {
   "cell_type": "markdown",
   "metadata": {},
   "source": [
    "# One-Hot Encoding"
   ]
  },
  {
   "cell_type": "code",
   "execution_count": 13,
   "metadata": {
    "ExecuteTime": {
     "end_time": "2018-03-15T05:27:36.274658Z",
     "start_time": "2018-03-15T05:27:36.265050Z"
    }
   },
   "outputs": [],
   "source": [
    "def one_hot_encoding(word, word2index):\n",
    "    tensor = torch.zeros(len(word2index))\n",
    "    index = word2index[word]\n",
    "    tensor[index]=1.\n",
    "    return tensor"
   ]
  },
  {
   "cell_type": "code",
   "execution_count": 14,
   "metadata": {
    "ExecuteTime": {
     "end_time": "2018-03-15T05:27:36.303855Z",
     "start_time": "2018-03-15T05:27:36.284538Z"
    }
   },
   "outputs": [
    {
     "name": "stdout",
     "output_type": "stream",
     "text": [
      "\n",
      " 0\n",
      " 0\n",
      " 0\n",
      " 0\n",
      " 0\n",
      " 1\n",
      " 0\n",
      " 0\n",
      " 0\n",
      " 0\n",
      " 0\n",
      " 0\n",
      " 0\n",
      "[torch.FloatTensor of size 13]\n",
      "\n"
     ]
    }
   ],
   "source": [
    "torch_vector = one_hot_encoding(\"토치\", word2index)\n",
    "print(torch_vector)"
   ]
  },
  {
   "cell_type": "code",
   "execution_count": 15,
   "metadata": {
    "ExecuteTime": {
     "end_time": "2018-03-15T05:27:36.481060Z",
     "start_time": "2018-03-15T05:27:36.470747Z"
    }
   },
   "outputs": [
    {
     "data": {
      "text/plain": [
       "0.0"
      ]
     },
     "execution_count": 15,
     "metadata": {},
     "output_type": "execute_result"
    }
   ],
   "source": [
    "py_vector = one_hot_encoding(\"파이\",word2index)\n",
    "py_vector.dot(torch_vector)"
   ]
  },
  {
   "cell_type": "code",
   "execution_count": 16,
   "metadata": {
    "ExecuteTime": {
     "end_time": "2018-03-15T05:31:07.525306Z",
     "start_time": "2018-03-15T05:31:07.515088Z"
    }
   },
   "outputs": [],
   "source": [
    "train_data = [[\"배고프다 밥줘\",\"FOOD\"],\n",
    "                [\"뭐 먹을만한거 없냐\",\"FOOD\"],\n",
    "                [\"맛집 추천\",\"FOOD\"],\n",
    "                [\"이 근처 맛있는 음식점 좀\",\"FOOD\"],\n",
    "                [\"밥줘\",\"FOOD\"],\n",
    "                [\"뭐 먹지?\",\"FOOD\"],\n",
    "                [\"삼겹살 먹고싶어\",\"FOOD\"],\n",
    "                [\"영화 보고싶다\",\"MEDIA\"],\n",
    "                [\"요즘 볼만한거 있어?\",\"MEDIA\"],\n",
    "                [\"영화나 예능 추천\",\"MEDIA\"],\n",
    "                [\"재밌는 드라마 보여줘\",\"MEDIA\"],\n",
    "                [\"신과 함께 줄거리 좀 알려줘\",\"MEDIA\"],\n",
    "                [\"고등랩퍼 다시보기 좀\",\"MEDIA\"],\n",
    "                [\"재밌는 영상 하이라이트만 보여줘\",\"MEDIA\"]]\n",
    "\n",
    "test_data = [[\"쭈꾸미 맛집 좀 찾아줘\",\"FOOD\"],\n",
    "               [\"매콤한 떡볶이 먹고싶다\",\"FOOD\"],\n",
    "               [\"강남 씨지비 조조 영화 스케줄표 좀\",\"MEDIA\"],\n",
    "               [\"효리네 민박 보고싶엉\",\"MEDIA\"]]"
   ]
  },
  {
   "cell_type": "code",
   "execution_count": 17,
   "metadata": {
    "ExecuteTime": {
     "end_time": "2018-03-15T05:31:07.841497Z",
     "start_time": "2018-03-15T05:31:07.838563Z"
    }
   },
   "outputs": [],
   "source": [
    "train_X,train_y = list(zip(*train_data))"
   ]
  },
  {
   "cell_type": "code",
   "execution_count": 18,
   "metadata": {
    "ExecuteTime": {
     "end_time": "2018-03-15T05:31:08.285559Z",
     "start_time": "2018-03-15T05:31:08.281859Z"
    }
   },
   "outputs": [
    {
     "data": {
      "text/plain": [
       "('배고프다 밥줘',\n",
       " '뭐 먹을만한거 없냐',\n",
       " '맛집 추천',\n",
       " '이 근처 맛있는 음식점 좀',\n",
       " '밥줘',\n",
       " '뭐 먹지?',\n",
       " '삼겹살 먹고싶어',\n",
       " '영화 보고싶다',\n",
       " '요즘 볼만한거 있어?',\n",
       " '영화나 예능 추천',\n",
       " '재밌는 드라마 보여줘',\n",
       " '신과 함께 줄거리 좀 알려줘',\n",
       " '고등랩퍼 다시보기 좀',\n",
       " '재밌는 영상 하이라이트만 보여줘')"
      ]
     },
     "execution_count": 18,
     "metadata": {},
     "output_type": "execute_result"
    }
   ],
   "source": [
    "train_X"
   ]
  },
  {
   "cell_type": "code",
   "execution_count": 19,
   "metadata": {
    "ExecuteTime": {
     "end_time": "2018-03-15T05:31:08.747047Z",
     "start_time": "2018-03-15T05:31:08.743259Z"
    }
   },
   "outputs": [
    {
     "data": {
      "text/plain": [
       "('FOOD',\n",
       " 'FOOD',\n",
       " 'FOOD',\n",
       " 'FOOD',\n",
       " 'FOOD',\n",
       " 'FOOD',\n",
       " 'FOOD',\n",
       " 'MEDIA',\n",
       " 'MEDIA',\n",
       " 'MEDIA',\n",
       " 'MEDIA',\n",
       " 'MEDIA',\n",
       " 'MEDIA',\n",
       " 'MEDIA')"
      ]
     },
     "execution_count": 19,
     "metadata": {},
     "output_type": "execute_result"
    }
   ],
   "source": [
    "train_y"
   ]
  },
  {
   "cell_type": "code",
   "execution_count": 20,
   "metadata": {
    "ExecuteTime": {
     "end_time": "2018-03-15T05:31:09.615886Z",
     "start_time": "2018-03-15T05:31:09.519060Z"
    }
   },
   "outputs": [
    {
     "name": "stdout",
     "output_type": "stream",
     "text": [
      "[['배고프', '다', '밥', '주', '어'], ['뭐', '먹', '을', '만하', 'ㄴ', '거', '없', '냐'], ['맛', '집', '추천'], ['이', '근처', '맛있', '는', '음식', '점', '좀'], ['밥', '주', '어'], ['뭐', '먹', '지', '?'], ['삼겹살', '먹', '고', '싶', '어'], ['영화', '보', '고', '싶', '다'], ['요즘', '볼만', '하', 'ㄴ', '거', '있', '어', '?'], ['영화', '나', '예능', '추천'], ['재밌', '는', '드라마', '보여주', '어'], ['신', '과', '함께', '줄거리', '좀', '알려주', '어'], ['고등', '랩', '푸', '어', '다시', '보', '기', '좀'], ['재밌', '는', '영상', '하이라이트', '만', '보여주', '어']]\n"
     ]
    }
   ],
   "source": [
    "train_X = [kor_tagger.morphs(x) for x in train_X] # Tokenize\n",
    "print(train_X)"
   ]
  },
  {
   "cell_type": "code",
   "execution_count": 21,
   "metadata": {
    "ExecuteTime": {
     "end_time": "2018-03-15T05:31:50.403537Z",
     "start_time": "2018-03-15T05:31:50.395879Z"
    }
   },
   "outputs": [
    {
     "name": "stdout",
     "output_type": "stream",
     "text": [
      "{'<unk>': 0, '배고프': 1, '다': 2, '밥': 3, '주': 4, '어': 5, '뭐': 6, '먹': 7, '을': 8, '만하': 9, 'ㄴ': 10, '거': 11, '없': 12, '냐': 13, '맛': 14, '집': 15, '추천': 16, '이': 17, '근처': 18, '맛있': 19, '는': 20, '음식': 21, '점': 22, '좀': 23, '지': 24, '?': 25, '삼겹살': 26, '고': 27, '싶': 28, '영화': 29, '보': 30, '요즘': 31, '볼만': 32, '하': 33, '있': 34, '나': 35, '예능': 36, '재밌': 37, '드라마': 38, '보여주': 39, '신': 40, '과': 41, '함께': 42, '줄거리': 43, '알려주': 44, '고등': 45, '랩': 46, '푸': 47, '다시': 48, '기': 49, '영상': 50, '하이라이트': 51, '만': 52}\n",
      "{'FOOD': 0, 'MEDIA': 1}\n"
     ]
    }
   ],
   "source": [
    "word2index={'<unk>' : 0}\n",
    "for x in train_X:\n",
    "    for token in x:\n",
    "        if word2index.get(token)==None:\n",
    "            word2index[token]=len(word2index)\n",
    "            \n",
    "class2index = {'FOOD' : 0, 'MEDIA' : 1}\n",
    "print(word2index)\n",
    "print(class2index)"
   ]
  },
  {
   "cell_type": "code",
   "execution_count": 22,
   "metadata": {
    "ExecuteTime": {
     "end_time": "2018-03-15T05:35:53.799302Z",
     "start_time": "2018-03-15T05:35:53.790805Z"
    }
   },
   "outputs": [],
   "source": [
    "def make_BoW(seq, word2index):\n",
    "    tensor = torch.zeros(len(word2index))\n",
    "    for w in seq:\n",
    "        index = word2index.get(w)\n",
    "        if index != None:\n",
    "            tensor[index]+=1.\n",
    "        else:\n",
    "            index = word2index['<unk>']\n",
    "            tensor[index]+=1.\n",
    "    return tensor"
   ]
  },
  {
   "cell_type": "code",
   "execution_count": 23,
   "metadata": {
    "ExecuteTime": {
     "end_time": "2018-03-15T05:36:02.086663Z",
     "start_time": "2018-03-15T05:36:02.069778Z"
    }
   },
   "outputs": [],
   "source": [
    "train_X = torch.cat([Variable(make_BoW(x,word2index)).view(1,-1) for x in train_X])\n",
    "train_y = torch.cat([Variable(torch.LongTensor([class2index[y]])) for y in train_y])"
   ]
  },
  {
   "cell_type": "code",
   "execution_count": 24,
   "metadata": {
    "ExecuteTime": {
     "end_time": "2018-03-15T05:36:04.776462Z",
     "start_time": "2018-03-15T05:36:04.770466Z"
    }
   },
   "outputs": [
    {
     "data": {
      "text/plain": [
       "Variable containing:\n",
       "\n",
       "Columns 0 to 12 \n",
       "    0     1     1     1     1     1     0     0     0     0     0     0     0\n",
       "    0     0     0     0     0     0     1     1     1     1     1     1     1\n",
       "    0     0     0     0     0     0     0     0     0     0     0     0     0\n",
       "    0     0     0     0     0     0     0     0     0     0     0     0     0\n",
       "    0     0     0     1     1     1     0     0     0     0     0     0     0\n",
       "    0     0     0     0     0     0     1     1     0     0     0     0     0\n",
       "    0     0     0     0     0     1     0     1     0     0     0     0     0\n",
       "    0     0     1     0     0     0     0     0     0     0     0     0     0\n",
       "    0     0     0     0     0     1     0     0     0     0     1     1     0\n",
       "    0     0     0     0     0     0     0     0     0     0     0     0     0\n",
       "    0     0     0     0     0     1     0     0     0     0     0     0     0\n",
       "    0     0     0     0     0     1     0     0     0     0     0     0     0\n",
       "    0     0     0     0     0     1     0     0     0     0     0     0     0\n",
       "    0     0     0     0     0     1     0     0     0     0     0     0     0\n",
       "\n",
       "Columns 13 to 25 \n",
       "    0     0     0     0     0     0     0     0     0     0     0     0     0\n",
       "    1     0     0     0     0     0     0     0     0     0     0     0     0\n",
       "    0     1     1     1     0     0     0     0     0     0     0     0     0\n",
       "    0     0     0     0     1     1     1     1     1     1     1     0     0\n",
       "    0     0     0     0     0     0     0     0     0     0     0     0     0\n",
       "    0     0     0     0     0     0     0     0     0     0     0     1     1\n",
       "    0     0     0     0     0     0     0     0     0     0     0     0     0\n",
       "    0     0     0     0     0     0     0     0     0     0     0     0     0\n",
       "    0     0     0     0     0     0     0     0     0     0     0     0     1\n",
       "    0     0     0     1     0     0     0     0     0     0     0     0     0\n",
       "    0     0     0     0     0     0     0     1     0     0     0     0     0\n",
       "    0     0     0     0     0     0     0     0     0     0     1     0     0\n",
       "    0     0     0     0     0     0     0     0     0     0     1     0     0\n",
       "    0     0     0     0     0     0     0     1     0     0     0     0     0\n",
       "\n",
       "Columns 26 to 38 \n",
       "    0     0     0     0     0     0     0     0     0     0     0     0     0\n",
       "    0     0     0     0     0     0     0     0     0     0     0     0     0\n",
       "    0     0     0     0     0     0     0     0     0     0     0     0     0\n",
       "    0     0     0     0     0     0     0     0     0     0     0     0     0\n",
       "    0     0     0     0     0     0     0     0     0     0     0     0     0\n",
       "    0     0     0     0     0     0     0     0     0     0     0     0     0\n",
       "    1     1     1     0     0     0     0     0     0     0     0     0     0\n",
       "    0     1     1     1     1     0     0     0     0     0     0     0     0\n",
       "    0     0     0     0     0     1     1     1     1     0     0     0     0\n",
       "    0     0     0     1     0     0     0     0     0     1     1     0     0\n",
       "    0     0     0     0     0     0     0     0     0     0     0     1     1\n",
       "    0     0     0     0     0     0     0     0     0     0     0     0     0\n",
       "    0     0     0     0     1     0     0     0     0     0     0     0     0\n",
       "    0     0     0     0     0     0     0     0     0     0     0     1     0\n",
       "\n",
       "Columns 39 to 51 \n",
       "    0     0     0     0     0     0     0     0     0     0     0     0     0\n",
       "    0     0     0     0     0     0     0     0     0     0     0     0     0\n",
       "    0     0     0     0     0     0     0     0     0     0     0     0     0\n",
       "    0     0     0     0     0     0     0     0     0     0     0     0     0\n",
       "    0     0     0     0     0     0     0     0     0     0     0     0     0\n",
       "    0     0     0     0     0     0     0     0     0     0     0     0     0\n",
       "    0     0     0     0     0     0     0     0     0     0     0     0     0\n",
       "    0     0     0     0     0     0     0     0     0     0     0     0     0\n",
       "    0     0     0     0     0     0     0     0     0     0     0     0     0\n",
       "    0     0     0     0     0     0     0     0     0     0     0     0     0\n",
       "    1     0     0     0     0     0     0     0     0     0     0     0     0\n",
       "    0     1     1     1     1     1     0     0     0     0     0     0     0\n",
       "    0     0     0     0     0     0     1     1     1     1     1     0     0\n",
       "    1     0     0     0     0     0     0     0     0     0     0     1     1\n",
       "\n",
       "Columns 52 to 52 \n",
       "    0\n",
       "    0\n",
       "    0\n",
       "    0\n",
       "    0\n",
       "    0\n",
       "    0\n",
       "    0\n",
       "    0\n",
       "    0\n",
       "    0\n",
       "    0\n",
       "    0\n",
       "    1\n",
       "[torch.FloatTensor of size 14x53]"
      ]
     },
     "execution_count": 24,
     "metadata": {},
     "output_type": "execute_result"
    }
   ],
   "source": [
    "train_X"
   ]
  },
  {
   "cell_type": "code",
   "execution_count": 25,
   "metadata": {
    "ExecuteTime": {
     "end_time": "2018-03-15T05:36:18.994817Z",
     "start_time": "2018-03-15T05:36:18.990813Z"
    }
   },
   "outputs": [
    {
     "data": {
      "text/plain": [
       "torch.Size([14, 53])"
      ]
     },
     "execution_count": 25,
     "metadata": {},
     "output_type": "execute_result"
    }
   ],
   "source": [
    "train_X.size()"
   ]
  },
  {
   "cell_type": "code",
   "execution_count": 26,
   "metadata": {
    "ExecuteTime": {
     "end_time": "2018-03-15T13:09:26.035956Z",
     "start_time": "2018-03-15T13:09:26.014921Z"
    }
   },
   "outputs": [],
   "source": [
    "class BoWClassifier(nn.Module):\n",
    "    def __init__(self, vocab_size, output_size):\n",
    "        super(BoWClassifier, self).__init__()\n",
    "        \n",
    "        self.linear = nn.Linear(vocab_size, output_size)\n",
    "        \n",
    "    def forward(self, inputs):\n",
    "        return self.linear(inputs)"
   ]
  },
  {
   "cell_type": "code",
   "execution_count": 27,
   "metadata": {
    "ExecuteTime": {
     "end_time": "2018-03-15T13:09:32.420421Z",
     "start_time": "2018-03-15T13:09:32.405350Z"
    }
   },
   "outputs": [],
   "source": [
    "STEP = 100\n",
    "LR = 0.1\n",
    "model = BoWClassifier(len(word2index),2)\n",
    "loss_function = nn.CrossEntropyLoss()\n",
    "optimizer = optim.SGD(model.parameters(),lr=LR)"
   ]
  },
  {
   "cell_type": "code",
   "execution_count": 28,
   "metadata": {
    "ExecuteTime": {
     "end_time": "2018-03-15T13:09:36.277129Z",
     "start_time": "2018-03-15T13:09:36.228501Z"
    }
   },
   "outputs": [
    {
     "name": "stdout",
     "output_type": "stream",
     "text": [
      "0.7329007387161255\n",
      "0.5580320954322815\n",
      "0.4465262293815613\n",
      "0.36951833963394165\n",
      "0.31345129013061523\n",
      "0.2710380554199219\n",
      "0.2379886358976364\n",
      "0.21161293983459473\n",
      "0.19014276564121246\n",
      "0.17237167060375214\n"
     ]
    }
   ],
   "source": [
    "for step in range(STEP):\n",
    "    model.zero_grad()\n",
    "    preds = model(train_X)\n",
    "    loss = loss_function(preds,train_y)\n",
    "    if step % 10 == 0:\n",
    "        print(loss.data[0])\n",
    "    loss.backward()\n",
    "    optimizer.step()"
   ]
  },
  {
   "cell_type": "code",
   "execution_count": 29,
   "metadata": {
    "ExecuteTime": {
     "end_time": "2018-03-15T13:09:45.009932Z",
     "start_time": "2018-03-15T13:09:45.005874Z"
    }
   },
   "outputs": [],
   "source": [
    "# test\n",
    "index2class = {v:k for k,v in class2index.items()}"
   ]
  },
  {
   "cell_type": "code",
   "execution_count": 30,
   "metadata": {
    "ExecuteTime": {
     "end_time": "2018-03-15T13:09:49.992603Z",
     "start_time": "2018-03-15T13:09:49.831287Z"
    }
   },
   "outputs": [
    {
     "name": "stdout",
     "output_type": "stream",
     "text": [
      "Input : 쭈꾸미 맛집 좀 찾아줘\n",
      "Prediction : FOOD\n",
      "Truth : FOOD\n",
      "\n",
      "\n",
      "Input : 매콤한 떡볶이 먹고싶다\n",
      "Prediction : FOOD\n",
      "Truth : FOOD\n",
      "\n",
      "\n",
      "Input : 강남 씨지비 조조 영화 스케줄표 좀\n",
      "Prediction : MEDIA\n",
      "Truth : MEDIA\n",
      "\n",
      "\n",
      "Input : 효리네 민박 보고싶엉\n",
      "Prediction : MEDIA\n",
      "Truth : MEDIA\n",
      "\n",
      "\n"
     ]
    }
   ],
   "source": [
    "for test in test_data:\n",
    "    X = kor_tagger.morphs(test[0])\n",
    "    X = Variable(make_BoW(X,word2index)).view(1,-1)\n",
    "    \n",
    "    pred = model(X)\n",
    "    pred = pred.max(1)[1].data[0]\n",
    "    print(\"Input : %s\" % test[0])\n",
    "    print(\"Prediction : %s\" % index2class[pred])\n",
    "    print(\"Truth : %s\" % test[1])\n",
    "    print(\"\\n\")"
   ]
  },
  {
   "cell_type": "code",
   "execution_count": null,
   "metadata": {},
   "outputs": [],
   "source": []
  }
 ],
 "metadata": {
  "kernelspec": {
   "display_name": "Python 3",
   "language": "python",
   "name": "python3"
  },
  "language_info": {
   "codemirror_mode": {
    "name": "ipython",
    "version": 3
   },
   "file_extension": ".py",
   "mimetype": "text/x-python",
   "name": "python",
   "nbconvert_exporter": "python",
   "pygments_lexer": "ipython3",
   "version": "3.6.3"
  },
  "latex_envs": {
   "LaTeX_envs_menu_present": true,
   "autocomplete": true,
   "bibliofile": "biblio.bib",
   "cite_by": "apalike",
   "current_citInitial": 1,
   "eqLabelWithNumbers": true,
   "eqNumInitial": 1,
   "hotkeys": {
    "equation": "Ctrl-E",
    "itemize": "Ctrl-I"
   },
   "labels_anchors": false,
   "latex_user_defs": false,
   "report_style_numbering": false,
   "user_envs_cfg": false
  },
  "varInspector": {
   "cols": {
    "lenName": 16,
    "lenType": 16,
    "lenVar": 40
   },
   "kernels_config": {
    "python": {
     "delete_cmd_postfix": "",
     "delete_cmd_prefix": "del ",
     "library": "var_list.py",
     "varRefreshCmd": "print(var_dic_list())"
    },
    "r": {
     "delete_cmd_postfix": ") ",
     "delete_cmd_prefix": "rm(",
     "library": "var_list.r",
     "varRefreshCmd": "cat(var_dic_list()) "
    }
   },
   "position": {
    "height": "144px",
    "left": "1551px",
    "right": "20px",
    "top": "120px",
    "width": "350px"
   },
   "types_to_exclude": [
    "module",
    "function",
    "builtin_function_or_method",
    "instance",
    "_Feature"
   ],
   "window_display": false
  }
 },
 "nbformat": 4,
 "nbformat_minor": 2
}
