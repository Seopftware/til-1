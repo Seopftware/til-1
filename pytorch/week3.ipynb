{
 "cells": [
  {
   "cell_type": "code",
   "execution_count": 1,
   "metadata": {
    "ExecuteTime": {
     "end_time": "2018-02-10T00:17:59.650082Z",
     "start_time": "2018-02-10T00:17:58.878766Z"
    },
    "collapsed": true
   },
   "outputs": [],
   "source": [
    "import torch\n",
    "import torch.nn as nn\n",
    "from torch.autograd import Variable\n",
    "import torch.optim as optim\n",
    "import torch.nn.functional as F\n",
    "import numpy as np\n",
    "import torchvision.transforms as transforms\n",
    "import torchvision.datasets as vdatasets\n",
    "import torchvision.utils as vutils\n",
    "import pickle\n",
    "import os, shutil\n",
    "torch.manual_seed(1)\n",
    "import matplotlib.pyplot as plt\n",
    "%matplotlib inline"
   ]
  },
  {
   "cell_type": "code",
   "execution_count": 7,
   "metadata": {
    "ExecuteTime": {
     "end_time": "2018-02-10T00:21:01.223155Z",
     "start_time": "2018-02-10T00:21:01.219795Z"
    }
   },
   "outputs": [],
   "source": [
    "port = pickle.load(open(\"port.info\", \"rb\"))"
   ]
  },
  {
   "cell_type": "code",
   "execution_count": 14,
   "metadata": {
    "ExecuteTime": {
     "end_time": "2018-02-10T00:23:11.149322Z",
     "start_time": "2018-02-10T00:23:11.146493Z"
    }
   },
   "outputs": [],
   "source": [
    "port = port.get('FAST_CAMPUS')"
   ]
  },
  {
   "cell_type": "code",
   "execution_count": 8,
   "metadata": {
    "ExecuteTime": {
     "end_time": "2018-02-10T00:21:05.408159Z",
     "start_time": "2018-02-10T00:21:05.404414Z"
    }
   },
   "outputs": [
    {
     "data": {
      "text/plain": [
       "'TIL'"
      ]
     },
     "execution_count": 8,
     "metadata": {},
     "output_type": "execute_result"
    }
   ],
   "source": [
    "os.getcwd().split(\"/\")[-2]"
   ]
  },
  {
   "cell_type": "code",
   "execution_count": 9,
   "metadata": {
    "ExecuteTime": {
     "end_time": "2018-02-10T00:22:31.705712Z",
     "start_time": "2018-02-10T00:22:31.702534Z"
    },
    "collapsed": true
   },
   "outputs": [],
   "source": [
    "try:\n",
    "    shutil.rmtree('runs/')\n",
    "except:\n",
    "    pass"
   ]
  },
  {
   "cell_type": "code",
   "execution_count": 12,
   "metadata": {
    "ExecuteTime": {
     "end_time": "2018-02-10T00:22:50.195210Z",
     "start_time": "2018-02-10T00:22:50.109812Z"
    }
   },
   "outputs": [],
   "source": [
    "from tensorboardX import SummaryWriter\n",
    "\n",
    "writer = SummaryWriter(comment=\"-tensorboard-basic\")"
   ]
  },
  {
   "cell_type": "code",
   "execution_count": 16,
   "metadata": {
    "ExecuteTime": {
     "end_time": "2018-02-10T00:35:24.340431Z",
     "start_time": "2018-02-10T00:35:24.229006Z"
    }
   },
   "outputs": [],
   "source": [
    "for n_iter in range(100):\n",
    "    s1 = torch.rand(1)\n",
    "    s2 = torch.rand(1)\n",
    "    writer.add_scalar('data/scalar1', s1[0], n_iter)\n",
    "    writer.add_scalars('data/scalar_group', {\"xsinx\":n_iter*np.sin(n_iter),\n",
    "                                             \"xcosx\":n_iter*np.cos(n_iter),\n",
    "                                             \"arctanx\": np.arctan(n_iter)}, n_iter)"
   ]
  },
  {
   "cell_type": "code",
   "execution_count": 17,
   "metadata": {
    "ExecuteTime": {
     "end_time": "2018-02-10T00:35:31.401854Z",
     "start_time": "2018-02-10T00:35:31.383766Z"
    }
   },
   "outputs": [
    {
     "name": "stdout",
     "output_type": "stream",
     "text": [
      "You are using PyTorch==0.3, use add_graph_onnx()\n"
     ]
    }
   ],
   "source": [
    "model = nn.Sequential(nn.Linear(2,10),nn.Sigmoid(),nn.Linear(10,1))\n",
    "test_inputs = Variable(torch.randn(10,2))\n",
    "outputs = model(test_inputs)\n",
    "\n",
    "writer.add_graph(model,outputs)"
   ]
  },
  {
   "cell_type": "code",
   "execution_count": 18,
   "metadata": {
    "ExecuteTime": {
     "end_time": "2018-02-10T00:36:00.951894Z",
     "start_time": "2018-02-10T00:36:00.827084Z"
    },
    "collapsed": true
   },
   "outputs": [],
   "source": [
    "for name, param in model.named_parameters():\n",
    "    writer.add_histogram(name, param.clone().data.numpy(), 0)\n",
    "    writer.add_histogram(name, param.clone().data.numpy(), 1)"
   ]
  },
  {
   "cell_type": "code",
   "execution_count": 19,
   "metadata": {
    "ExecuteTime": {
     "end_time": "2018-02-10T00:36:07.182160Z",
     "start_time": "2018-02-10T00:36:05.596680Z"
    },
    "collapsed": true
   },
   "outputs": [],
   "source": [
    "dummy_img = torch.rand(32, 3, 64, 64)  # output from network\n",
    "for n_iter in range(10):\n",
    "    x = vutils.make_grid(dummy_img, normalize=True, scale_each=True)\n",
    "    writer.add_image('Image', x, n_iter)\n",
    "\n",
    "    writer.add_text('Text', 'text logged at step:' + str(n_iter), n_iter)"
   ]
  },
  {
   "cell_type": "code",
   "execution_count": 20,
   "metadata": {
    "ExecuteTime": {
     "end_time": "2018-02-10T00:36:46.648399Z",
     "start_time": "2018-02-10T00:36:11.705133Z"
    }
   },
   "outputs": [
    {
     "name": "stdout",
     "output_type": "stream",
     "text": [
      "Downloading http://yann.lecun.com/exdb/mnist/train-images-idx3-ubyte.gz\n",
      "Downloading http://yann.lecun.com/exdb/mnist/train-labels-idx1-ubyte.gz\n",
      "Downloading http://yann.lecun.com/exdb/mnist/t10k-images-idx3-ubyte.gz\n",
      "Downloading http://yann.lecun.com/exdb/mnist/t10k-labels-idx1-ubyte.gz\n",
      "Processing...\n",
      "Done!\n"
     ]
    }
   ],
   "source": [
    "dataset = vdatasets.MNIST('../data/', train=False, download=True)\n",
    "images = dataset.test_data[:100].float()\n",
    "label = dataset.test_labels[:100]\n",
    "\n",
    "features = images.view(100, 784)\n",
    "writer.add_embedding(features, metadata=label, label_img=images.unsqueeze(1))"
   ]
  },
  {
   "cell_type": "code",
   "execution_count": 21,
   "metadata": {
    "ExecuteTime": {
     "end_time": "2018-02-10T00:36:46.883991Z",
     "start_time": "2018-02-10T00:36:46.881616Z"
    },
    "collapsed": true
   },
   "outputs": [],
   "source": [
    "writer.close()"
   ]
  },
  {
   "cell_type": "code",
   "execution_count": 22,
   "metadata": {
    "ExecuteTime": {
     "end_time": "2018-02-10T00:36:47.105448Z",
     "start_time": "2018-02-10T00:36:47.101353Z"
    }
   },
   "outputs": [
    {
     "data": {
      "text/plain": [
       "'6006'"
      ]
     },
     "execution_count": 22,
     "metadata": {},
     "output_type": "execute_result"
    }
   ],
   "source": [
    "port"
   ]
  },
  {
   "cell_type": "code",
   "execution_count": null,
   "metadata": {
    "ExecuteTime": {
     "start_time": "2018-02-10T00:36:47.984Z"
    }
   },
   "outputs": [
    {
     "name": "stdout",
     "output_type": "stream",
     "text": [
      "Starting TensorBoard 54 at http://kyle_Macbook:6006\n",
      "(Press CTRL+C to quit)\n",
      "WARNING:tensorflow:Detected out of order event.step likely caused by a TensorFlow restart. Purging expired events from Tensorboard display between the previous step: 99 (timestamp: 1518222924.34) and current step: 0 (timestamp: 1518222965.68). Removing 100 scalars, 8 histograms, 8 compressed histograms, 1 images, and 0 audio.\n",
      "WARNING:tensorflow:Detected out of order event.step likely caused by a TensorFlow restart. Purging expired events from Tensorboard display between the previous step: 99 (timestamp: 1518222924.34) and current step: 1 (timestamp: 1518222965.84). Removing 0 scalars, 0 histograms, 0 compressed histograms, 1 images, and 0 audio.\n",
      "WARNING:tensorflow:Detected out of order event.step likely caused by a TensorFlow restart. Purging expired events from Tensorboard display between the previous step: 99 (timestamp: 1518222924.34) and current step: 2 (timestamp: 1518222966.0). Removing 0 scalars, 0 histograms, 0 compressed histograms, 1 images, and 0 audio.\n",
      "WARNING:tensorflow:Detected out of order event.step likely caused by a TensorFlow restart. Purging expired events from Tensorboard display between the previous step: 99 (timestamp: 1518222924.34) and current step: 3 (timestamp: 1518222966.16). Removing 0 scalars, 0 histograms, 0 compressed histograms, 1 images, and 0 audio.\n",
      "WARNING:tensorflow:Detected out of order event.step likely caused by a TensorFlow restart. Purging expired events from Tensorboard display between the previous step: 99 (timestamp: 1518222924.34) and current step: 4 (timestamp: 1518222966.32). Removing 0 scalars, 0 histograms, 0 compressed histograms, 1 images, and 0 audio.\n",
      "WARNING:tensorflow:Detected out of order event.step likely caused by a TensorFlow restart. Purging expired events from Tensorboard display between the previous step: 99 (timestamp: 1518222924.34) and current step: 5 (timestamp: 1518222966.48). Removing 0 scalars, 0 histograms, 0 compressed histograms, 1 images, and 0 audio.\n",
      "WARNING:tensorflow:Detected out of order event.step likely caused by a TensorFlow restart. Purging expired events from Tensorboard display between the previous step: 99 (timestamp: 1518222924.34) and current step: 6 (timestamp: 1518222966.64). Removing 0 scalars, 0 histograms, 0 compressed histograms, 1 images, and 0 audio.\n",
      "WARNING:tensorflow:Detected out of order event.step likely caused by a TensorFlow restart. Purging expired events from Tensorboard display between the previous step: 99 (timestamp: 1518222924.34) and current step: 7 (timestamp: 1518222966.8). Removing 0 scalars, 0 histograms, 0 compressed histograms, 1 images, and 0 audio.\n",
      "WARNING:tensorflow:Detected out of order event.step likely caused by a TensorFlow restart. Purging expired events from Tensorboard display between the previous step: 99 (timestamp: 1518222924.34) and current step: 8 (timestamp: 1518222966.97). Removing 0 scalars, 0 histograms, 0 compressed histograms, 1 images, and 0 audio.\n",
      "WARNING:tensorflow:Detected out of order event.step likely caused by a TensorFlow restart. Purging expired events from Tensorboard display between the previous step: 99 (timestamp: 1518222924.34) and current step: 9 (timestamp: 1518222967.13). Removing 0 scalars, 0 histograms, 0 compressed histograms, 1 images, and 0 audio.\n"
     ]
    }
   ],
   "source": [
    "!tensorboard --logdir runs --port 6006"
   ]
  },
  {
   "cell_type": "code",
   "execution_count": null,
   "metadata": {
    "collapsed": true
   },
   "outputs": [],
   "source": []
  }
 ],
 "metadata": {
  "kernelspec": {
   "display_name": "Python 3",
   "language": "python",
   "name": "python3"
  },
  "language_info": {
   "codemirror_mode": {
    "name": "ipython",
    "version": 3
   },
   "file_extension": ".py",
   "mimetype": "text/x-python",
   "name": "python",
   "nbconvert_exporter": "python",
   "pygments_lexer": "ipython3",
   "version": "3.6.3"
  },
  "latex_envs": {
   "LaTeX_envs_menu_present": true,
   "autocomplete": true,
   "bibliofile": "biblio.bib",
   "cite_by": "apalike",
   "current_citInitial": 1,
   "eqLabelWithNumbers": true,
   "eqNumInitial": 1,
   "hotkeys": {
    "equation": "Ctrl-E",
    "itemize": "Ctrl-I"
   },
   "labels_anchors": false,
   "latex_user_defs": false,
   "report_style_numbering": false,
   "user_envs_cfg": false
  },
  "varInspector": {
   "cols": {
    "lenName": 16,
    "lenType": 16,
    "lenVar": 40
   },
   "kernels_config": {
    "python": {
     "delete_cmd_postfix": "",
     "delete_cmd_prefix": "del ",
     "library": "var_list.py",
     "varRefreshCmd": "print(var_dic_list())"
    },
    "r": {
     "delete_cmd_postfix": ") ",
     "delete_cmd_prefix": "rm(",
     "library": "var_list.r",
     "varRefreshCmd": "cat(var_dic_list()) "
    }
   },
   "types_to_exclude": [
    "module",
    "function",
    "builtin_function_or_method",
    "instance",
    "_Feature"
   ],
   "window_display": false
  }
 },
 "nbformat": 4,
 "nbformat_minor": 2
}
