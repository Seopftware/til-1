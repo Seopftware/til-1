{
 "cells": [
  {
   "cell_type": "code",
   "execution_count": 3,
   "metadata": {
    "ExecuteTime": {
     "end_time": "2017-12-09T01:04:32.842114Z",
     "start_time": "2017-12-09T01:04:32.665817Z"
    }
   },
   "outputs": [
    {
     "data": {
      "text/plain": [
       "<torch._C.Generator at 0x107245d20>"
      ]
     },
     "execution_count": 3,
     "metadata": {},
     "output_type": "execute_result"
    }
   ],
   "source": [
    "import torch\n",
    "import torch.nn as nn # 뉴럴넼 관련\n",
    "from torch.autograd import Variable # wrapper. placehoder같이 자동으로 미분 계산\n",
    "import torch.optim as optim # optimizer\n",
    "import torch.nn.functional as F # nn.sigmoid, F.sigmoid 차이 \n",
    "import numpy as np # tensor -> from list or np\n",
    "\n",
    "torch.manual_seed(1) # seed 고정"
   ]
  },
  {
   "cell_type": "markdown",
   "metadata": {},
   "source": [
    "* http://pytorch.org/docs/master/\n",
    "* https://github.com/rguthrie3/DeepLearningForNLPInPytorch"
   ]
  },
  {
   "cell_type": "markdown",
   "metadata": {},
   "source": [
    "# 1. What is a Pytorch? "
   ]
  },
  {
   "cell_type": "markdown",
   "metadata": {},
   "source": [
    "텐서와 옵티마이저, 뉴럴넷 등 GPU 연산에 최적화된 모듈을 이용하여 빠르게 <strong>딥러닝 모델을 구현할 수 있는 프레임워크</strong> <br>\n",
    "Facebook이 밀고 있던 lua 기반의 torch를 python 버전으로 포팅함"
   ]
  },
  {
   "cell_type": "markdown",
   "metadata": {},
   "source": [
    "# 2. What is difference between Pytorch and Tensorflow? "
   ]
  },
  {
   "cell_type": "markdown",
   "metadata": {},
   "source": [
    "* https://medium.com/towards-data-science/pytorch-vs-tensorflow-spotting-the-difference-25c75777377b\n",
    "* http://cs231n.stanford.edu/slides/2017/cs231n_2017_lecture8.pdf\n",
    "* https://devblogs.nvidia.com/parallelforall/recursive-neural-networks-pytorch/?utm_campaign=Revue%20newsletter&utm_medium=Newsletter&utm_source=revue"
   ]
  },
  {
   "cell_type": "markdown",
   "metadata": {},
   "source": [
    "# 3. Why Pytorch? "
   ]
  },
  {
   "cell_type": "markdown",
   "metadata": {},
   "source": [
    "* Pythonic \n",
    "* Easy debugging\n",
    "* Intuitive => Easy to understand"
   ]
  },
  {
   "cell_type": "markdown",
   "metadata": {},
   "source": [
    "# 1> Pytorch Basic "
   ]
  },
  {
   "cell_type": "markdown",
   "metadata": {},
   "source": [
    "* Tensor\n",
    "* Variable"
   ]
  },
  {
   "cell_type": "code",
   "execution_count": null,
   "metadata": {
    "collapsed": true
   },
   "outputs": [],
   "source": [
    "torch.Tensor.\n",
    "# float이 default"
   ]
  },
  {
   "cell_type": "markdown",
   "metadata": {},
   "source": [
    "파이토치의 가장 기본 단위는 Tensor이다. 디폴트 Tensor는 FloatTensor이고, LongTensor, ByteTensor, 등 여러 종류가 있다. "
   ]
  },
  {
   "cell_type": "markdown",
   "metadata": {},
   "source": [
    "## 1. 텐서 만들기 "
   ]
  },
  {
   "cell_type": "code",
   "execution_count": 2,
   "metadata": {
    "ExecuteTime": {
     "end_time": "2017-10-16T11:18:58.412201Z",
     "start_time": "2017-10-16T11:18:58.387640Z"
    }
   },
   "outputs": [
    {
     "name": "stdout",
     "output_type": "stream",
     "text": [
      "\n",
      " 1\n",
      " 2\n",
      " 3\n",
      "[torch.FloatTensor of size 3]\n",
      "\n",
      "\n",
      " 1  2  3\n",
      " 4  5  6\n",
      "[torch.FloatTensor of size 2x3]\n",
      "\n",
      "\n",
      "(0 ,.,.) = \n",
      "  1  2\n",
      "  3  4\n",
      "\n",
      "(1 ,.,.) = \n",
      "  5  6\n",
      "  7  8\n",
      "[torch.FloatTensor of size 2x2x2]\n",
      "\n"
     ]
    }
   ],
   "source": [
    "V_data = [1., 2., 3.] # 벡터\n",
    "V = torch.Tensor(V_data) # 파이썬의 리스트를 바로 랩핑할 수 있다.\n",
    "print(V)\n",
    "\n",
    "M_data = [[1., 2., 3.], [4., 5., 6]] # 매트릭스\n",
    "M = torch.Tensor(M_data)\n",
    "print(M)\n",
    "\n",
    "T_data = [[[1.,2.], [3.,4.]], # 3차원 텐서\n",
    "          [[5.,6.], [7.,8.]]]\n",
    "T = torch.Tensor(T_data)\n",
    "print(T)\n",
    "\n",
    "# 3차원은 RNN"
   ]
  },
  {
   "cell_type": "markdown",
   "metadata": {},
   "source": [
    "numpy 객체도 막 가져올 수 있다"
   ]
  },
  {
   "cell_type": "code",
   "execution_count": 3,
   "metadata": {
    "ExecuteTime": {
     "end_time": "2017-10-16T11:19:04.599911Z",
     "start_time": "2017-10-16T11:19:04.586768Z"
    }
   },
   "outputs": [
    {
     "name": "stdout",
     "output_type": "stream",
     "text": [
      "\n",
      " 1\n",
      " 2\n",
      " 3\n",
      "[torch.FloatTensor of size 3]\n",
      "\n",
      "\n",
      " 1  2  3\n",
      " 4  5  6\n",
      "[torch.FloatTensor of size 2x3]\n",
      "\n",
      "\n",
      "(0 ,.,.) = \n",
      "  1  2\n",
      "  3  4\n",
      "\n",
      "(1 ,.,.) = \n",
      "  5  6\n",
      "  7  8\n",
      "[torch.FloatTensor of size 2x2x2]\n",
      "\n"
     ]
    }
   ],
   "source": [
    "V_data = np.array([1.,2.,3.])# 벡터\n",
    "V = torch.Tensor(V_data) # 파이썬의 리스트를 바로 랩핑할 수 있다.\n",
    "print(V)\n",
    "\n",
    "M_data = np.array([[1., 2., 3.], [4., 5., 6]]) # 매트릭스\n",
    "M = torch.Tensor(M_data)\n",
    "print(M)\n",
    "\n",
    "T_data = np.array([[[1.,2.], [3.,4.]], # 3차원 텐서\n",
    "          [[5.,6.], [7.,8.]]])\n",
    "T = torch.Tensor(T_data)\n",
    "print(T)"
   ]
  },
  {
   "cell_type": "code",
   "execution_count": 4,
   "metadata": {
    "ExecuteTime": {
     "end_time": "2017-10-16T11:19:08.406319Z",
     "start_time": "2017-10-16T11:19:08.396184Z"
    }
   },
   "outputs": [
    {
     "name": "stdout",
     "output_type": "stream",
     "text": [
      "\n",
      "(0 ,.,.) = \n",
      " -2.9718  1.7070 -0.4305 -2.2820  0.5237\n",
      "  0.0004 -1.2039  3.5283  0.4434  0.5848\n",
      "  0.8407  0.5510  0.3863  0.9124 -0.8410\n",
      "  1.2282 -1.8661  1.4146 -1.8781 -0.4674\n",
      "\n",
      "(1 ,.,.) = \n",
      " -0.7576  0.4215 -0.4827 -1.1198  0.3056\n",
      "  1.0386  0.5206 -0.5006  1.2182  0.2117\n",
      " -1.0613 -1.9441 -0.9596  0.5489 -0.9901\n",
      " -0.3826  1.5037  1.8267  0.5561  1.6445\n",
      "\n",
      "(2 ,.,.) = \n",
      "  0.4973 -1.5067  1.7661 -0.3569 -0.1713\n",
      "  0.4068 -0.4284 -1.1299  1.4274 -1.4027\n",
      "  1.4825 -1.1559  1.6190  0.9581  0.7747\n",
      "  0.1940  0.1687  0.3061  1.0743 -1.0327\n",
      "[torch.FloatTensor of size 3x4x5]\n",
      "\n"
     ]
    }
   ],
   "source": [
    "x = torch.randn((3, 4, 5)) # 3x4x5 텐서를 랜덤으로 초기화하기\n",
    "print(x) # FloatTensor가 디폴트"
   ]
  },
  {
   "cell_type": "code",
   "execution_count": 5,
   "metadata": {},
   "outputs": [
    {
     "data": {
      "text/plain": [
       "\n",
       "-2.9718  1.7070 -0.4305 -2.2820  0.5237\n",
       " 0.0004 -1.2039  3.5283  0.4434  0.5848\n",
       " 0.8407  0.5510  0.3863  0.9124 -0.8410\n",
       " 1.2282 -1.8661  1.4146 -1.8781 -0.4674\n",
       "[torch.FloatTensor of size 4x5]"
      ]
     },
     "execution_count": 5,
     "metadata": {},
     "output_type": "execute_result"
    }
   ],
   "source": [
    "x[0] # indexing도 직관적이다"
   ]
  },
  {
   "cell_type": "code",
   "execution_count": 6,
   "metadata": {},
   "outputs": [
    {
     "data": {
      "text/plain": [
       "\n",
       "-2.9718\n",
       " 1.7070\n",
       "-0.4305\n",
       "-2.2820\n",
       " 0.5237\n",
       "[torch.FloatTensor of size 5]"
      ]
     },
     "execution_count": 6,
     "metadata": {},
     "output_type": "execute_result"
    }
   ],
   "source": [
    "x[0][0]"
   ]
  },
  {
   "cell_type": "code",
   "execution_count": 7,
   "metadata": {},
   "outputs": [
    {
     "data": {
      "text/plain": [
       "-2.9718289375305176"
      ]
     },
     "execution_count": 7,
     "metadata": {},
     "output_type": "execute_result"
    }
   ],
   "source": [
    "x[0][0][0]"
   ]
  },
  {
   "cell_type": "code",
   "execution_count": null,
   "metadata": {
    "collapsed": true
   },
   "outputs": [],
   "source": [
    "# 자연어 처리는 Long tensor"
   ]
  },
  {
   "cell_type": "markdown",
   "metadata": {},
   "source": [
    "## 2. 텐서 연산 "
   ]
  },
  {
   "cell_type": "code",
   "execution_count": 8,
   "metadata": {},
   "outputs": [
    {
     "name": "stdout",
     "output_type": "stream",
     "text": [
      "\n",
      " 5\n",
      " 7\n",
      " 9\n",
      "[torch.FloatTensor of size 3]\n",
      "\n"
     ]
    }
   ],
   "source": [
    "x = torch.Tensor([ 1., 2., 3. ])\n",
    "y = torch.Tensor([ 4., 5., 6. ])\n",
    "z = x + y\n",
    "print(z)"
   ]
  },
  {
   "cell_type": "markdown",
   "metadata": {},
   "source": [
    "### 앞으로 자주 쓰게 될 연산 <strong>cat</strong> => concat : 두 텐서를 연결한다"
   ]
  },
  {
   "cell_type": "code",
   "execution_count": 5,
   "metadata": {
    "ExecuteTime": {
     "end_time": "2017-10-16T11:20:45.025789Z",
     "start_time": "2017-10-16T11:20:45.009166Z"
    }
   },
   "outputs": [
    {
     "name": "stdout",
     "output_type": "stream",
     "text": [
      "\n",
      " 1.0930  0.7769 -1.3128  0.7099  0.9944\n",
      "-0.2694 -0.6491 -0.1373 -0.2954 -0.7725\n",
      "-0.2215  0.5074 -0.6794 -1.6115  0.5230\n",
      "-0.8890  0.2620  0.0302  0.0013 -1.3987\n",
      " 1.4666 -0.1028 -0.0097 -0.8420 -0.2067\n",
      "[torch.FloatTensor of size 5x5]\n",
      "\n",
      "\n",
      " 1.0672  0.1732 -0.6873  0.3620  0.3776 -0.2443 -0.5850  2.0812\n",
      " 0.3111  0.2358 -1.0658 -0.1186  0.4903  0.8349  0.8894  0.4148\n",
      "[torch.FloatTensor of size 2x8]\n",
      "\n"
     ]
    }
   ],
   "source": [
    "# By default, it concatenates along the first axis (concatenates rows)\n",
    "x_1 = torch.randn(2, 5)\n",
    "y_1 = torch.randn(3, 5)\n",
    "z_1 =torch.cat([x_1, y_1]) # 디폴트는 첫번째 차원 기준으로 콘캣 (0)\n",
    "print(z_1)\n",
    "\n",
    "# Concatenate columns:\n",
    "x_2 = torch.randn(2, 3)\n",
    "y_2 = torch.randn(2, 5)\n",
    "z_2 = torch.cat([x_2, y_2], 1) # 두번째 인자로 콘캣할 차원축을 선택할 수 있다.\n",
    "print(z_2)"
   ]
  },
  {
   "cell_type": "markdown",
   "metadata": {},
   "source": [
    "### 앞으로 자주 쓰게 될 연산 <strong>view</strong> => reshape"
   ]
  },
  {
   "cell_type": "code",
   "execution_count": 10,
   "metadata": {},
   "outputs": [
    {
     "name": "stdout",
     "output_type": "stream",
     "text": [
      "\n",
      "(0 ,.,.) = \n",
      "  0.0507 -0.9644 -2.0111  0.5245\n",
      "  2.1332 -0.0822  0.8388 -1.3233\n",
      "  0.0701  1.2200  0.4251 -1.2328\n",
      "\n",
      "(1 ,.,.) = \n",
      " -0.6195  1.5133  1.9954 -0.6585\n",
      " -0.4139 -0.2250 -0.6890  0.9882\n",
      "  0.7404 -2.0990  1.2582 -0.3990\n",
      "[torch.FloatTensor of size 2x3x4]\n",
      "\n",
      "\n",
      "\n",
      "Columns 0 to 9 \n",
      " 0.0507 -0.9644 -2.0111  0.5245  2.1332 -0.0822  0.8388 -1.3233  0.0701  1.2200\n",
      "-0.6195  1.5133  1.9954 -0.6585 -0.4139 -0.2250 -0.6890  0.9882  0.7404 -2.0990\n",
      "\n",
      "Columns 10 to 11 \n",
      " 0.4251 -1.2328\n",
      " 1.2582 -0.3990\n",
      "[torch.FloatTensor of size 2x12]\n",
      "\n",
      "\n",
      "\n",
      "Columns 0 to 9 \n",
      " 0.0507 -0.9644 -2.0111  0.5245  2.1332 -0.0822  0.8388 -1.3233  0.0701  1.2200\n",
      "-0.6195  1.5133  1.9954 -0.6585 -0.4139 -0.2250 -0.6890  0.9882  0.7404 -2.0990\n",
      "\n",
      "Columns 10 to 11 \n",
      " 0.4251 -1.2328\n",
      " 1.2582 -0.3990\n",
      "[torch.FloatTensor of size 2x12]\n",
      "\n"
     ]
    }
   ],
   "source": [
    "x = torch.randn(2, 3, 4)\n",
    "print(x)\n",
    "print(x.view(2, 12)) # Reshape to 2 rows, 12 columns\n",
    "print(x.view(2, -1)) # Same as above.  If one of the dimensions is -1, its size can be inferred"
   ]
  },
  {
   "cell_type": "markdown",
   "metadata": {},
   "source": [
    "## 2. Computation Graphs and Automatic Differentiation "
   ]
  },
  {
   "cell_type": "markdown",
   "metadata": {},
   "source": [
    "딥러닝 프레임워크의 가장 큰 장점인 자동 미분 기능을 사용하려면 텐서를 특별한 형태로 바꿔줘야 한다. (<strong>Variable</strong>)"
   ]
  },
  {
   "cell_type": "code",
   "execution_count": 6,
   "metadata": {
    "ExecuteTime": {
     "end_time": "2017-10-16T11:24:23.307719Z",
     "start_time": "2017-10-16T11:24:23.289232Z"
    }
   },
   "outputs": [
    {
     "name": "stdout",
     "output_type": "stream",
     "text": [
      "\n",
      " 1\n",
      " 2\n",
      " 3\n",
      "[torch.FloatTensor of size 3]\n",
      "\n",
      "\n",
      " 5\n",
      " 7\n",
      " 9\n",
      "[torch.FloatTensor of size 3]\n",
      "\n",
      "<torch.autograd.function.AddBackward object at 0x1043d8d68>\n"
     ]
    }
   ],
   "source": [
    "# Variables wrap tensor objects\n",
    "x = Variable( torch.Tensor([1., 2., 3]), requires_grad=True )\n",
    "# requires_grad = 미분을 위해 보간하느냐\n",
    "# You can access the data with the .data attribute\n",
    "print(x.data)\n",
    "\n",
    "# You can also do all the same operations you did with tensors with Variables.\n",
    "y = Variable( torch.Tensor([4., 5., 6]), requires_grad=True )\n",
    "z = x + y\n",
    "print(z.data)\n",
    "\n",
    "# BUT z knows something extra.\n",
    "print(z.grad_fn)"
   ]
  },
  {
   "cell_type": "code",
   "execution_count": 7,
   "metadata": {
    "ExecuteTime": {
     "end_time": "2017-10-16T11:24:40.738296Z",
     "start_time": "2017-10-16T11:24:40.734465Z"
    }
   },
   "outputs": [
    {
     "data": {
      "text/plain": [
       "\n",
       " 1\n",
       " 2\n",
       " 3\n",
       "[torch.FloatTensor of size 3]"
      ]
     },
     "execution_count": 7,
     "metadata": {},
     "output_type": "execute_result"
    }
   ],
   "source": [
    "x.data\n",
    "# variable tensorb"
   ]
  },
  {
   "cell_type": "code",
   "execution_count": 8,
   "metadata": {
    "ExecuteTime": {
     "end_time": "2017-10-16T11:24:54.941372Z",
     "start_time": "2017-10-16T11:24:54.937405Z"
    }
   },
   "outputs": [
    {
     "data": {
      "text/plain": [
       "Variable containing:\n",
       " 1\n",
       " 2\n",
       " 3\n",
       "[torch.FloatTensor of size 3]"
      ]
     },
     "execution_count": 8,
     "metadata": {},
     "output_type": "execute_result"
    }
   ],
   "source": [
    "x"
   ]
  },
  {
   "cell_type": "code",
   "execution_count": 11,
   "metadata": {
    "ExecuteTime": {
     "end_time": "2017-10-16T11:25:57.801272Z",
     "start_time": "2017-10-16T11:25:57.797241Z"
    }
   },
   "outputs": [
    {
     "data": {
      "text/plain": [
       "6.0"
      ]
     },
     "execution_count": 11,
     "metadata": {},
     "output_type": "execute_result"
    }
   ],
   "source": [
    "x.sum().data.tolist()[0]"
   ]
  },
  {
   "cell_type": "code",
   "execution_count": 12,
   "metadata": {
    "ExecuteTime": {
     "end_time": "2017-10-16T11:26:19.847316Z",
     "start_time": "2017-10-16T11:26:19.842904Z"
    }
   },
   "outputs": [
    {
     "name": "stdout",
     "output_type": "stream",
     "text": [
      "Variable containing:\n",
      " 21\n",
      "[torch.FloatTensor of size 1]\n",
      "\n",
      "<torch.autograd.function.SumBackward object at 0x1043d8e58>\n"
     ]
    }
   ],
   "source": [
    "# Lets sum up all the entries in z\n",
    "s = z.sum()\n",
    "print(s)\n",
    "print(s.grad_fn)"
   ]
  },
  {
   "cell_type": "code",
   "execution_count": 13,
   "metadata": {
    "ExecuteTime": {
     "end_time": "2017-10-16T11:27:42.241768Z",
     "start_time": "2017-10-16T11:27:42.238958Z"
    },
    "collapsed": true
   },
   "outputs": [],
   "source": [
    "# <torch.autograd.function.SumBackward object at 0x1043d8e58> : 앞의 흐름 정보를 알고 있음"
   ]
  },
  {
   "cell_type": "code",
   "execution_count": 14,
   "metadata": {
    "ExecuteTime": {
     "end_time": "2017-10-16T11:27:42.503772Z",
     "start_time": "2017-10-16T11:27:42.493092Z"
    }
   },
   "outputs": [
    {
     "name": "stdout",
     "output_type": "stream",
     "text": [
      "Variable containing:\n",
      " 1\n",
      " 1\n",
      " 1\n",
      "[torch.FloatTensor of size 3]\n",
      "\n"
     ]
    }
   ],
   "source": [
    "s.backward() # calling .backward() on any variable will run backprop, starting from it.\n",
    "print(x.grad)"
   ]
  },
  {
   "cell_type": "markdown",
   "metadata": {},
   "source": [
    "$$ s = \\overbrace{x_0 + y_0}^\\text{$z_0$} + \\overbrace{x_1 + y_1}^\\text{$z_1$} + \\overbrace{x_2 + y_2}^\\text{$z_2$} $$"
   ]
  },
  {
   "cell_type": "markdown",
   "metadata": {},
   "source": [
    "$$ \\frac{\\partial s}{\\partial x_0} $$"
   ]
  },
  {
   "cell_type": "markdown",
   "metadata": {},
   "source": [
    "## 3. torch Module "
   ]
  },
  {
   "cell_type": "markdown",
   "metadata": {},
   "source": [
    "파이토치는 모델을 클래스처럼 다루는데, torch.nn.Module을 상속받아서 부모 클래스를 초기화하면 된다. <br>\n",
    "선정의 된 함수 foward를 통해 모델링을 하고 나서, Variable을 인자 값으로 보내면 forward 계산을 하면서 Parameter와의 backward 연결을 알아서 한다."
   ]
  },
  {
   "cell_type": "code",
   "execution_count": 24,
   "metadata": {
    "ExecuteTime": {
     "end_time": "2017-10-16T11:34:43.730983Z",
     "start_time": "2017-10-16T11:34:43.722390Z"
    },
    "collapsed": true
   },
   "outputs": [],
   "source": [
    "class simpleNN(nn.Module):\n",
    "    \n",
    "    def __init__(self):\n",
    "        super(simpleNN, self).__init__() # 부모 클래스까지 초기화 , super: parents의 init부터 착착착\n",
    "        self.linear = nn.Linear(2,2) \n",
    "        self.linear2 = nn.Linear(2,1)\n",
    "        self.sigmoid = nn.Sigmoid()\n",
    "    \n",
    "    def forward(self,inputs):\n",
    "        return F.sigmoid(self.linear(inputs))"
   ]
  },
  {
   "cell_type": "code",
   "execution_count": 25,
   "metadata": {
    "ExecuteTime": {
     "end_time": "2017-10-16T11:34:44.038995Z",
     "start_time": "2017-10-16T11:34:44.035682Z"
    },
    "collapsed": true
   },
   "outputs": [],
   "source": [
    "snn = simpleNN()"
   ]
  },
  {
   "cell_type": "code",
   "execution_count": 26,
   "metadata": {
    "ExecuteTime": {
     "end_time": "2017-10-16T11:34:44.267258Z",
     "start_time": "2017-10-16T11:34:44.263248Z"
    }
   },
   "outputs": [
    {
     "data": {
      "text/plain": [
       "simpleNN (\n",
       "  (linear): Linear (2 -> 2)\n",
       "  (linear2): Linear (2 -> 1)\n",
       "  (sigmoid): Sigmoid ()\n",
       ")"
      ]
     },
     "execution_count": 26,
     "metadata": {},
     "output_type": "execute_result"
    }
   ],
   "source": [
    "snn\n",
    "# 선언한 모듈이 나옴"
   ]
  },
  {
   "cell_type": "code",
   "execution_count": null,
   "metadata": {
    "collapsed": true
   },
   "outputs": [],
   "source": [
    "# 파라미터를 가지면 모듈, 아니라면 F밑 style"
   ]
  },
  {
   "cell_type": "code",
   "execution_count": 21,
   "metadata": {
    "ExecuteTime": {
     "end_time": "2017-10-16T11:32:48.914883Z",
     "start_time": "2017-10-16T11:32:48.909921Z"
    }
   },
   "outputs": [
    {
     "name": "stdout",
     "output_type": "stream",
     "text": [
      "('linear.weight', Parameter containing:\n",
      "-0.0119  0.1193\n",
      "-0.6316  0.0932\n",
      "[torch.FloatTensor of size 2x2]\n",
      ")\n",
      "('linear.bias', Parameter containing:\n",
      " 0.1048\n",
      " 0.1611\n",
      "[torch.FloatTensor of size 2]\n",
      ")\n",
      "('linear2.weight', Parameter containing:\n",
      "-0.4996  0.6456\n",
      "[torch.FloatTensor of size 1x2]\n",
      ")\n",
      "('linear2.bias', Parameter containing:\n",
      " 0.1263\n",
      "[torch.FloatTensor of size 1]\n",
      ")\n"
     ]
    }
   ],
   "source": [
    "for param in snn.named_parameters():\n",
    "    print(param)"
   ]
  },
  {
   "cell_type": "code",
   "execution_count": 27,
   "metadata": {
    "ExecuteTime": {
     "end_time": "2017-10-16T11:35:06.763166Z",
     "start_time": "2017-10-16T11:35:06.758483Z"
    }
   },
   "outputs": [
    {
     "data": {
      "text/plain": [
       "Variable containing:\n",
       " 1.5475  1.6199\n",
       "[torch.FloatTensor of size 1x2]"
      ]
     },
     "execution_count": 27,
     "metadata": {},
     "output_type": "execute_result"
    }
   ],
   "source": [
    "inputs = Variable(torch.randn(1,2))\n",
    "inputs"
   ]
  },
  {
   "cell_type": "code",
   "execution_count": 28,
   "metadata": {
    "ExecuteTime": {
     "end_time": "2017-10-16T11:35:07.278267Z",
     "start_time": "2017-10-16T11:35:07.273912Z"
    }
   },
   "outputs": [
    {
     "data": {
      "text/plain": [
       "Variable containing:\n",
       " 0.2966  0.5377\n",
       "[torch.FloatTensor of size 1x2]"
      ]
     },
     "execution_count": 28,
     "metadata": {},
     "output_type": "execute_result"
    }
   ],
   "source": [
    "outputs = snn(inputs) # snn.forward로 해야겠지만 알아서 만들어서 이렇게 해둠\n",
    "outputs"
   ]
  },
  {
   "cell_type": "markdown",
   "metadata": {},
   "source": [
    "### 주요 모듈 : nn.Linear (Affine Maps)"
   ]
  },
  {
   "cell_type": "markdown",
   "metadata": {},
   "source": [
    "$$ f(x) = Ax + b $$"
   ]
  },
  {
   "cell_type": "code",
   "execution_count": 20,
   "metadata": {},
   "outputs": [
    {
     "name": "stdout",
     "output_type": "stream",
     "text": [
      "Variable containing:\n",
      " 0.4825  0.0247  0.4566\n",
      "-0.0652 -0.7002 -0.4353\n",
      "[torch.FloatTensor of size 2x3]\n",
      "\n"
     ]
    }
   ],
   "source": [
    "lin = nn.Linear(5, 3) # maps from R^5 to R^3, parameters A, b\n",
    "data = Variable( torch.randn(2, 5) ) # data is 2x5.  A maps from 5 to 3... can we map \"data\" under A?\n",
    "print(lin(data))"
   ]
  },
  {
   "cell_type": "markdown",
   "metadata": {},
   "source": [
    "### 주요 모듈 : 비선형 함수들 (Non-Linearities)"
   ]
  },
  {
   "cell_type": "code",
   "execution_count": 29,
   "metadata": {
    "ExecuteTime": {
     "end_time": "2017-10-16T11:35:37.774859Z",
     "start_time": "2017-10-16T11:35:37.754412Z"
    }
   },
   "outputs": [
    {
     "name": "stdout",
     "output_type": "stream",
     "text": [
      "Variable containing:\n",
      " 0.5258 -0.2969\n",
      "-0.0681 -0.2831\n",
      "[torch.FloatTensor of size 2x2]\n",
      "\n",
      "Variable containing:\n",
      " 0.5258  0.0000\n",
      " 0.0000  0.0000\n",
      "[torch.FloatTensor of size 2x2]\n",
      "\n",
      "Variable containing:\n",
      " 0.4822 -0.2885\n",
      "-0.0680 -0.2758\n",
      "[torch.FloatTensor of size 2x2]\n",
      "\n",
      "Variable containing:\n",
      " 0.6285  0.4263\n",
      " 0.4830  0.4297\n",
      "[torch.FloatTensor of size 2x2]\n",
      "\n"
     ]
    }
   ],
   "source": [
    "data = Variable( torch.randn(2, 2) )\n",
    "print(data)\n",
    "print(F.relu(data))\n",
    "print(F.tanh(data))\n",
    "print(F.sigmoid(data))"
   ]
  },
  {
   "cell_type": "markdown",
   "metadata": {},
   "source": [
    "### 주요 모듈 : Softmax"
   ]
  },
  {
   "cell_type": "code",
   "execution_count": 30,
   "metadata": {
    "ExecuteTime": {
     "end_time": "2017-10-16T11:36:12.275886Z",
     "start_time": "2017-10-16T11:36:12.262812Z"
    }
   },
   "outputs": [
    {
     "name": "stdout",
     "output_type": "stream",
     "text": [
      "Variable containing:\n",
      "-0.4705\n",
      "-1.7655\n",
      "-0.1656\n",
      " 0.2312\n",
      "-0.0839\n",
      "[torch.FloatTensor of size 5]\n",
      "\n",
      "Variable containing:\n",
      " 0.1634\n",
      " 0.0448\n",
      " 0.2217\n",
      " 0.3296\n",
      " 0.2405\n",
      "[torch.FloatTensor of size 5]\n",
      "\n",
      "Variable containing:\n",
      " 1\n",
      "[torch.FloatTensor of size 1]\n",
      "\n",
      "Variable containing:\n",
      "-1.8115\n",
      "-3.1064\n",
      "-1.5066\n",
      "-1.1097\n",
      "-1.4249\n",
      "[torch.FloatTensor of size 5]\n",
      "\n"
     ]
    }
   ],
   "source": [
    "# Softmax is also in torch.functional\n",
    "data = Variable( torch.randn(5) )\n",
    "print(data)\n",
    "print(F.softmax(data))\n",
    "print(F.softmax(data).sum()) # Sums to 1 because it is a distribution!\n",
    "print(F.log_softmax(data)) # 데이터가 많이 튈 경우 log를 취함"
   ]
  },
  {
   "cell_type": "markdown",
   "metadata": {},
   "source": [
    "### 옵티마이저"
   ]
  },
  {
   "cell_type": "code",
   "execution_count": 31,
   "metadata": {
    "ExecuteTime": {
     "end_time": "2017-10-16T11:36:57.895869Z",
     "start_time": "2017-10-16T11:36:57.892287Z"
    }
   },
   "outputs": [
    {
     "data": {
      "text/plain": [
       "<generator object Module.parameters at 0x105e3e9e8>"
      ]
     },
     "execution_count": 31,
     "metadata": {},
     "output_type": "execute_result"
    }
   ],
   "source": [
    "snn.parameters()\n",
    "# generator"
   ]
  },
  {
   "cell_type": "code",
   "execution_count": 32,
   "metadata": {
    "ExecuteTime": {
     "end_time": "2017-10-16T11:37:15.801880Z",
     "start_time": "2017-10-16T11:37:15.797123Z"
    }
   },
   "outputs": [
    {
     "name": "stdout",
     "output_type": "stream",
     "text": [
      "Parameter containing:\n",
      "-0.3804 -0.5624\n",
      " 0.0473 -0.1215\n",
      "[torch.FloatTensor of size 2x2]\n",
      "\n",
      "Parameter containing:\n",
      " 0.6363\n",
      " 0.2749\n",
      "[torch.FloatTensor of size 2]\n",
      "\n",
      "Parameter containing:\n",
      "-0.0098 -0.1214\n",
      "[torch.FloatTensor of size 1x2]\n",
      "\n",
      "Parameter containing:\n",
      "1.00000e-02 *\n",
      "  5.7418\n",
      "[torch.FloatTensor of size 1]\n",
      "\n"
     ]
    }
   ],
   "source": [
    "for param in snn.parameters():\n",
    "    print(param)"
   ]
  },
  {
   "cell_type": "code",
   "execution_count": 33,
   "metadata": {
    "ExecuteTime": {
     "end_time": "2017-10-16T11:38:21.717895Z",
     "start_time": "2017-10-16T11:38:21.714600Z"
    },
    "collapsed": true
   },
   "outputs": [],
   "source": [
    "optimizer = optim.Adam(snn.parameters(),lr=0.01)"
   ]
  },
  {
   "cell_type": "markdown",
   "metadata": {},
   "source": [
    "# 실전 예제 : BoW-Classifier "
   ]
  },
  {
   "cell_type": "code",
   "execution_count": 1,
   "metadata": {
    "ExecuteTime": {
     "end_time": "2017-12-09T01:04:10.481917Z",
     "start_time": "2017-12-09T01:04:10.078336Z"
    }
   },
   "outputs": [],
   "source": [
    "from konlpy.tag import Twitter\n",
    "import random\n",
    "import re\n",
    "import numpy\n",
    "from collections import Counter\n",
    "flatten = lambda l: [item for sublist in l for item in sublist]\n",
    "tagger = Twitter()\n",
    "# Jpype1"
   ]
  },
  {
   "cell_type": "markdown",
   "metadata": {},
   "source": [
    "## 1. 데이터 로드 "
   ]
  },
  {
   "cell_type": "code",
   "execution_count": 2,
   "metadata": {},
   "outputs": [],
   "source": [
    "data = open('./DOMAIN_10D_300EA_DATA_170427.txt','r',encoding='utf-8').readlines()"
   ]
  },
  {
   "cell_type": "code",
   "execution_count": 3,
   "metadata": {},
   "outputs": [
    {
     "data": {
      "text/plain": [
       "['넵 화환을요\\tFLOWER\\n',\n",
       " '어제 혹시 조화 발송 잘 되었을까요?\\tFLOWER\\n',\n",
       " '공기정화식물로 높이 1.5M 이상 되는 거가 어떤게 있을까요~?\\tFLOWER\\n',\n",
       " '^^  꽂배달이요\\tFLOWER\\n',\n",
       " '작은숲은 튤립 꽃다발로 해주시구요\\tFLOWER\\n',\n",
       " '스승의 날 선물로 보낼 화분 추천해주세요. 2 분께 보낼 계획 입니다.\\tFLOWER\\n',\n",
       " '난 보내주세요\\tFLOWER\\n',\n",
       " '결혼식 화환 보내주실수 있나요?\\tFLOWER\\n',\n",
       " '문비서님 장미 꽃바구니 부탁드려요\\tFLOWER\\n',\n",
       " '바구니로 약 10만원 정도로 사진 부탁드려요- 장소는 합정쪽\\tFLOWER\\n',\n",
       " '축하문구는 \"미남 변호사 윤제선의 개업을 축하합니다 / 이제부턴 꽃길만 걷자\" 로 해주세요\\tFLOWER\\n',\n",
       " '흰색꽃 배달되는 곳 알아봐쥬세요~ 추천도 부탁드려요 ㅎㅎ\\tFLOWER\\n',\n",
       " '바로 배달해주시면 될것 같습니다\\tFLOWER\\n',\n",
       " '화환보내주세요^^\\tFLOWER\\n',\n",
       " '사무실이전 화분 보내려고 합니다.\\tFLOWER\\n',\n",
       " '아래 주소로 10만원의 란을 보내주실수 있나요 주소 : 서울 영등포구 선유서로50 LG전자 강서빌딩내 1층 (주)티에스엔텍 대표 김동권 보낸이 : 김재수 01083847536 리본 문구 : (왼쪽) 귀사의 발전을 기원합니다 (오른쪽) 재수 있으세요\\tFLOWER\\n',\n",
       " '김정상 이름으로 화환 보내고 싶습니다\\tFLOWER\\n',\n",
       " '비슷하게 꽃바구니 부탁드립니다\\tFLOWER\\n',\n",
       " '꽃바구니요 여섯시안에 도착하나요?\\tFLOWER\\n',\n",
       " '과일바구니 배달도 되나요?\\tFLOWER\\n',\n",
       " '꽃집들이 잘 알테니 ㅎㅎ\\tFLOWER\\n',\n",
       " '근조화환요청드립니다\\tFLOWER\\n',\n",
       " '근조화환 문의 드립니다.\\tFLOWER\\n',\n",
       " '내일 화환하나 발송 부탁합니다.\\tFLOWER\\n',\n",
       " '꽃배달 하나 부탁드릴게요\\tFLOWER\\n',\n",
       " '고급장미로 변경이요~^^\\tFLOWER\\n',\n",
       " '난배송되었나요?^^\\tFLOWER\\n',\n",
       " '문비서님  관음목도 한번 알아봐주시겠어요? 산세베리아는 회수 후 흙갈이 하시고 재배달 해주시는 것 맞습니다. 같이 요처우드리려고 합니다. \\tFLOWER\\n',\n",
       " '바구니로 해주시고 80000원으로 확정해주세요\\tFLOWER\\n',\n",
       " '꽂다발\\tFLOWER\\n',\n",
       " '월요일 도착으로 입사 축하 꽃바구니 (축하 카드 포함) 알아봐주실 수 있을까요? 받을 지역은 전북 정읍입니다\\tFLOWER\\n',\n",
       " '리본: \"테헤란로 대표 미녀집단 리저스\" 카드: 오늘 저희 만난지 1년째 되는 날입니다. 가장 가까운 여러분들이 축하해주시면 더욱 기쁠 것 같습니다. 결혼식도 오셔서 축복해주시면 평생 잊지 않고 예쁘게 살겠습니다. -김가영의 새신랑-\\tFLOWER\\n',\n",
       " '꽃배달 신청합니다\\tFLOWER\\n',\n",
       " '꽃배달 출발시에  체크만 한번 더 부탁 드릴게요. 수고하세요\\tFLOWER\\n',\n",
       " '강릉시 꽃배달\\tFLOWER\\n',\n",
       " '그리구요 합정 일산 종로 중에서 이렇게 카네이션꽃다발인데 돈꽃다발 만들수있는곳도 알려주실수있을까요~??\\tFLOWER\\n',\n",
       " '그럼 그냥 꽃다발은 가능할까요?\\tFLOWER\\n',\n",
       " '동양란 하나 배송 부탁드립니다\\tFLOWER\\n',\n",
       " '조화순으로문의해주세요\\tFLOWER\\n',\n",
       " 'ㄴㄴㄴ꽃다발 취소\\tFLOWER\\n',\n",
       " '지난번과 같은 입사 축하 꽃바구니 부탁드립니다  문구는 새로 보내드린것으로 반영 바랍니다\\tFLOWER\\n',\n",
       " '보낼 물건은 화분\\tFLOWER\\n',\n",
       " '화환은 그 날짜 일주일 전에 다시 말씀드릴께요\\tFLOWER\\n',\n",
       " '그래야 할 것 같은데요;;; 날짜는 8월 8일로;;;; 문구는 2802일로;;;  계산은 적립금으로 해주세요. 감사합니다.\\tFLOWER\\n',\n",
       " '조화 부탁드립니다.  발인:10월 30일 금요일  장례식장:전남 고흥군 고흥읍 고흥로 1935 고흥종합병원 장례식장 2호실  수령자:김병희010-3273-8870    성균관대학교 IMBA 23기 원우회\\tFLOWER\\n',\n",
       " '리본은 대박 나세요 최여사님  반대쪽은 도련님이ㅋㅋ\\tFLOWER\\n',\n",
       " '5만원에서 8만원대꽃이면좋겠어 축하의 의미를담아서\\tFLOWER\\n',\n",
       " '사무실 이전 화분 요청드립니다\\tFLOWER\\n',\n",
       " '한 쏯다발에 십만원씩\\tFLOWER\\n',\n",
       " '안녕하세요^^ 하나 여쭤볼게 있는데요~~ 혹시 저희 직원분들 중에 어제나 오늘 부산의료원 장례식장으로 보낼 근조화환 신청하신내역 있는지 확인 될까요~?\\tFLOWER\\n',\n",
       " '꽃은 어떤 걸 결정해야 하나요? 메뉴판 같이 어디서 꽃을 선택할 수 있나요?\\tFLOWER\\n',\n",
       " '화분 배달 가능한가요? 결제는 법인카드로 하고 싶은데.^\\tFLOWER\\n',\n",
       " '안녕하세요 익주 토요일건인데 미리 전달 드립니다. 축하화환 발송진행 부탁드려요~\\tFLOWER\\n',\n",
       " '화환도 보내고\\tFLOWER\\n',\n",
       " '여의도가목적지인데 여섯시안에 꽃배달될까요\\tFLOWER\\n',\n",
       " '금전수로 부탁드려요~\\tFLOWER\\n',\n",
       " '신부 정은영 장소 대구 북구 칠곡중앙대로 59 강북컨벤션 웨딩 5층\\tFLOWER\\n',\n",
       " '궁긍한게 보통 난을많이하나요 다른 화분을?\\tFLOWER\\n',\n",
       " '위 결혼축하화환 부탁드려요\\tFLOWER\\n',\n",
       " '조화 일반 으로 부탁드립니다\\tFLOWER\\n',\n",
       " '해피트리로 보내주세요\\tFLOWER\\n',\n",
       " '근조화환해주세용?\\tFLOWER\\n',\n",
       " '건승을 기원합니다 로앤비 대표이사 방영선  서울 서초구 법원로2길 15 길도빌딩302호 법무법인에이프로 김태안 변호사 02-3477-7700\\tFLOWER\\n',\n",
       " '문비서님 지난 번 화환 잘 갔는지 궁금해서요\\tFLOWER\\n',\n",
       " '생일 꽃 배달 부탁드려요. 오늘 중 최대한 빨리 배송해야 합니다.\\tFLOWER\\n',\n",
       " '안녕하세요^^ 저희 결혼식 화환 미리 요청드립니다 • 일시 : 5월 14일 토요일 12시 • 주소 : 충남 논산시 덕지동562-30 더 행복한 웨딩홀 2층 행복한 홀 • 연락처 : 041-734-4500 • 신랑측 지희봉 님 • 리본문구 좌측 : PTC korea 박혜경 지사장 우측 : 축결혼(한문)\\tFLOWER\\n',\n",
       " '다음주 화요일 17일 꽃하고 케익배달가능해요 좀 고급스러운걸로요\\tFLOWER\\n',\n",
       " '부의 화환 부탁합니다. 비용이 어떻게 되죠?\\tFLOWER\\n',\n",
       " '[부고]*기획관리부 김영재이사 부친상 *연세병원장례식장 301호(경상남도 창원시 마산합포구 월남동2가 5-1) *발인:4월8일(금) 주식회사 부경해양개발  대표이사 백인탁  화환 보네주세요\\tFLOWER\\n',\n",
       " '결혼기념일이어서 집사람에게 장미꽃다발을 사무실로 보낼까하는데 가격이 어느 정도면 적당할까요? 도와주세요~\\tFLOWER\\n',\n",
       " '상품명 : 출산 과일바구니  받으시는분 : 홍민 연락처 :  010 5279 7679 받으실 곳 : 인전서울여성병원  리본(카드) 문구  왼쪽: 한복동아리 오른쪽 : 예)사랑스러운 아기의 탄생을 한복동아리 이모들이 축하합니다\\tFLOWER\\n',\n",
       " '안녕하세요~ 이번주 토요일 결혼축하화환 미리 신청드려요~\\tFLOWER\\n',\n",
       " '안녕하세요 문비서님 사무실 공기정화되는 화분으로 사업장 오픈 및 사무실 이전 축하문구로 배송 부탁드립니다 업체가 5시에 퇴근한다고 해서 그 전에 배송이 가능하면 오늘 그게 어려우면 익일 오전 일찍으로 부탁드려요~~~  공기정화되는 괜찮은 화분 추천 부탁드립니다~\\tFLOWER\\n',\n",
       " '꽃다발 5만원. 케잌 파리바게뜨 4만원\\tFLOWER\\n',\n",
       " '월요일(5월9일) 배송입니다 ^^ 리본카드 잘 챙겨주시기 바랍니다\\tFLOWER\\n',\n",
       " '거기에 화환을 보내려고 해요\\tFLOWER\\n',\n",
       " '안녕하세요 저희 근조화환 하나 요청드립니다. • 장소 : 경기도 성남시 분당구 구미동 300 분당 서울대학교 병원 장례식장 5호실(031-787-1500) • 상주 : 신동환대표님 좌측 문구를 PTC Korea 이상태전무 로 해서 부탁드립니다~!\\tFLOWER\\n',\n",
       " '이직 축하 꽃 같은거 배달하나여?\\tFLOWER\\n',\n",
       " '분홍색 장미 꽃다발 퀄리티 좋은걸로 오늘 받아볼 수 있는 것도 같이 알아봐주세요~\\tFLOWER\\n',\n",
       " '꽃배달이랑 풍선 배달 옵션 돔 알려주게요\\tFLOWER\\n',\n",
       " '배송지 주소 : 서울 중구 통일로86 바비엥3차 8층 삼성카드고객서비스  이름 : 임이랑 연락처 : 010-9526-1001 메세지 : 결혼2주년을 축하하며 사랑합니다. -당신의 남편-\\tFLOWER\\n',\n",
       " '꽃다달 보스톤 프레밍햄지역 3일 후\\tFLOWER\\n',\n",
       " '예전에 꽃배달 시켰었는데\\tFLOWER\\n',\n",
       " '우측은 이원석 차장님의 이직을 축하힙니다. 로 부탁\\tFLOWER\\n',\n",
       " '저희 근조화환 하나 요청드립니다^^ • 장소 : 서울시 양천구 안양천로 1071 이화여대 목동병원 장례식장 6호실 • 상주 : 최창권 차장님(010-4231-3392) 문구는 전과 동일하게 부탁드립니다^^\\tFLOWER\\n',\n",
       " '강남역인근 꽃배달 시키려고하는데요~\\tFLOWER\\n',\n",
       " '문비서님.. 위와 같이 10만원 난 1건 보내려구요\\tFLOWER\\n',\n",
       " '이전하신 사무실에 화분 하나 보낼게요 ㅋㅋㅋ\\tFLOWER\\n',\n",
       " '화환이 언제 배송될까요\\tFLOWER\\n',\n",
       " '화환배달 가능합니까\\tFLOWER\\n',\n",
       " '보통 배송하기전 사진 보내주시던데요...\\tFLOWER\\n',\n",
       " '김기웅과장님 모친상   부산진구 범천동 839-19  502호 부산시민장례식장\\tFLOWER\\n',\n",
       " '꽃배달 부탁합니다.\\tFLOWER\\n',\n",
       " '금전수69000원짜리가 책상용인가요 아니면 바닥에 놓고 키우는건가요?\\tFLOWER\\n',\n",
       " '조윤진 01035553293 좌측에 짬뽕짜장이 떴다 우측에 축 발전 이렇게 써주시면 될것같아요\\tFLOWER\\n',\n",
       " '금전수 큰화분은 얼마인가요?\\tFLOWER\\n',\n",
       " '근조화환 부탁드립니다\\tFLOWER\\n',\n",
       " '안녕하세요~ 조화배송 바로 부탁드립니다~\\tFLOWER\\n',\n",
       " '문구는    애영아 25번째 생일 축하해❤️\\tFLOWER\\n',\n",
       " '네네 결혼식화환이니 당일 3시 반정도 도착하면 되겠습니다\\tFLOWER\\n',\n",
       " '꽃 주문은 제가 병실 확인하는대로 바로 말씀 드릴께요.\\tFLOWER\\n',\n",
       " '감사합니다 배송되면 꽃 확인해볼수 있을까요\\tFLOWER\\n',\n",
       " '문비서님 꽃 하나 도 보낼려고요\\tFLOWER\\n',\n",
       " '꽃 피어있는 녀석으로 하나는 전라북도 익산시 익산대로 36길 35(남중동) 이리고등학교 정낙무 교장선생님 (핸드폰: 010-8669-6840) 교무실 063-859-7114 \\\\r\\\\n께 보내주시고요.\\tFLOWER\\n',\n",
       " '내일 2시 가능하죠? 마카롱랑 꽃\\tFLOWER\\n',\n",
       " '등록후 꽃 좀 알아봐주세요. 20만원 정도.\\tFLOWER\\n',\n",
       " '예를들면 한국에 계신 부모님 꽃 배달 부탁이라던가\\tFLOWER\\n',\n",
       " '아니요 꽃 종류요\\tFLOWER\\n',\n",
       " '후레지아 꽃 한 다발 배송하려면 비용이 얼마인지도 알아봐주세요. ^^\\tFLOWER\\n',\n",
       " '스승의 날에도 지도교수님께 꽃 보내야 되는데\\tFLOWER\\n',\n",
       " '5-6만원 정도 하는걸로 꽃 하나만 알라좌 주셔요\\tFLOWER\\n',\n",
       " '아 제가 꽃 결제 아직 안했죠?\\tFLOWER\\n',\n",
       " '생일 꽃 배달 가능할까요?\\tFLOWER\\n',\n",
       " '엄마한테 보낼 꽃 추천해주세요\\tFLOWER\\n',\n",
       " '아 그러시군요. 그럼 꽃 배달 하시는 분께서\\tFLOWER\\n',\n",
       " '1번으로 최대한 풍성하게 부탁합니다. 다른 꽃 좀 들어가도 됩니다. 장미는 최대한 빨갰으면 좋겠네요.<br>제 집으로 부탁합니다.<br>리본 글씨도 가능한가요?\\tFLOWER\\n',\n",
       " '지금 근조 화환 요청하면 내일 아침에 배송되나요?\\tFLOWER\\n',\n",
       " '어버이날 꽃배달을 하려고요 5-6만원 선으로 5월 6일날 충남 천안으로 도착 가능한 꽃 배달 알아봐 주실수 있나요?\\tFLOWER\\n',\n",
       " '생일 꽃 배달 부탁드려요. 오늘 중 최대한 빨리 배송해야 합니다.\\tFLOWER\\n',\n",
       " '이직 축하 꽃 같은거 배달하나여?\\tFLOWER\\n',\n",
       " '꽃 가격이 보통 어떻게 되요?\\tFLOWER\\n',\n",
       " '꽃 사진좀 보여줄수 있나요?\\tFLOWER\\n',\n",
       " '안녕하세요^^ 저희 결혼식 축하 화환 하나요청드립니다.<br>- 일시 : 10/8 토요일 오후 2시<br>- 장소 : 광화문 아펠가모( 서울시 종로구 종로 1길 50 더케이트윈타워 A동 LL층 / 02-730-0230)<br>- 받으시는 분 : 신부측 왕지혜 과장님<br>그리고 꽃 말고 쌀 화환으로 부탁드려요\\tFLOWER\\n',\n",
       " '내일 꽃 예약 좀 해줘\\tFLOWER\\n',\n",
       " '화환 좀 부탁드릴게요\\tFLOWER\\n',\n",
       " '화환을 보낼려고 하는데 장례식 주소만 알려드리면 되나요?\\tFLOWER\\n',\n",
       " '선술집 오픈 축하 화환 추천 부탁드립니다.<br>이런거 잘 모르니<br>이쁜거 큰거 몇개 추천부탁 드립니다.<br><br>\\tFLOWER\\n',\n",
       " '문비서님 미리 전달드립니다^^ 화환 일반으로 진행 부탁드려요~\\tFLOWER\\n',\n",
       " '여기 부고 화환 보내고 싶은데\\tFLOWER\\n',\n",
       " '이번주 토요일 10/01 화환 배송요청건 전달드려요~\\tFLOWER\\n',\n",
       " '이번주 토요일 예식 축하 화환 신청 미리 드려요~\\tFLOWER\\n',\n",
       " '장례식 화환 요청드립니다\\tFLOWER\\n',\n",
       " '안녕하세요 금주 토요일 결혼식 화환 1건 더 신청드려요~\\tFLOWER\\n',\n",
       " '안녕하세요^^ 저희 결혼식 화환 하나 요청드립니다~~<br>• 일시 : 3/26 토요일 12시30분<br>• 주소 : 서울시 강남구 논현동 215번지 헤리츠 타워 헤리츠 2층 아그니스홀 / tel : 02-536-4000<br>• 신랑측 김호석 님<br>요청드립니다^^\\tFLOWER\\n',\n",
       " '위의 요청드린 화환 도착 확인 되면 말씀부탁드릴께요^^ 번거롭게 해드려 죄송합니다~~\\tFLOWER\\n',\n",
       " '윤준보 이사 빙부상 화환 부탁드립니다. \\\\n●장소 : 서울건대병원 204호\\\\n●상주: 윤준보 이사 빙부상인것만 알고 있어요.\\\\n●리본문구 : \\\\\\\\\\\\\"(주)인텍앤컴퍼니 대표이사 김점식\\\\\\\\\\\\\"\\\\n\\\\n\\tFLOWER\\n',\n",
       " '화환 보내주세요\\tFLOWER\\n',\n",
       " '화환 가격은 어느정도 하나요?\\tFLOWER\\n',\n",
       " '결혼식 화환 부탁 드립니다\\tFLOWER\\n',\n",
       " '안녕하세요^^ 저희 근조 화환 요청드립니다.<br>• 장소 : 서울시 송파구 올림픽로 43길 88 서울 아산병원 2층 22호(1688-7575)<br>• 상주 : 박진국 본부장님(010-5500-7788)<br>문구는 전과 동일하게 부탁드립니다~!\\tFLOWER\\n',\n",
       " '문비서님 추가로 화환 보낼 것이있는데 카드결제 되나요?\\tFLOWER\\n',\n",
       " '결혼식 화환 보내주실수 있나요?\\tFLOWER\\n',\n",
       " '안녕하세요^^ 저희 결혼식 화환 미리 요청드립니다<br>• 일시 : 5월 14일 토요일 12시<br>• 주소 : 충남 논산시 덕지동562-30 더 행복한 웨딩홀 2층 행복한 홀<br>• 연락처 : 041-734-4500<br>• 신랑측 지희봉 님<br>• 리본문구<br>좌측 : PTC korea 박혜경 지사장<br>우측 : 축결혼(한문)\\tFLOWER\\n',\n",
       " '화환\\tFLOWER\\n',\n",
       " '결혼식에 축화 화환 보낼려고 하는데 시간도 정하면 맞출수 있나요?\\tFLOWER\\n',\n",
       " '아직 장례식에 요청드린 화환이 안왔다고 하는데 확인해줄수 있나요?\\tFLOWER\\n',\n",
       " '문비서님 장례식장 화환 부탁드립니다\\tFLOWER\\n',\n",
       " '네 데미안님<br><br>장소 : 강남 세브란스병원<br>상주 : 고인 김영일 / 아내 백미옥 아들 김재현<br><br>[화환 리본 문구] <br>좌측 : SEBIT<br>우측 : 삼가 故人의 冥福을 빕니다\\tFLOWER\\n',\n",
       " '부의 화환 부탁합니다. 비용이 어떻게 되죠?\\tFLOWER\\n',\n",
       " '[부고]*기획관리부 김영재이사 부친상 *연세병원장례식장 301호(경상남도 창원시 마산합포구 월남동2가 5-1) *발인:4월8일(금)<br>주식회사 부경해양개발 <br>대표이사 백인탁 <br>화환 보네주세요\\tFLOWER\\n',\n",
       " '아래주소로 5/21 토요일 오후 4시까지 대표이사 방영선 명의로 결혼식 화환 부탁드립니다. <br>신랑 분 성함은 김영광 입니다. <br>경기도 양평군 강하면 전수리 17-3 힐하우스호텔\\tFLOWER\\n',\n",
       " '화환 종류 골라서 신청해야하나요/\\tFLOWER\\n',\n",
       " '로앤비인데요 부고 화환 좀 부탁드립니다\\tFLOWER\\n',\n",
       " '문비서님 지난 번 화환 잘 갔는지 궁금해서요\\tFLOWER\\n',\n",
       " '이번주 토요일 강남 웨딩홀 화환 배달\\tFLOWER\\n',\n",
       " 'PTC 로 화환 신청부탁드립니다\\tFLOWER\\n',\n",
       " '화환 보내려고하는데요\\tFLOWER\\n',\n",
       " '김정상 이름으로 화환 보내고 싶습니다\\tFLOWER\\n',\n",
       " '10/15일 화환 부탁드릴려고요~ 신부 송미경씨입니다.\\tFLOWER\\n',\n",
       " '안녕하세요^^ 저희 결혼식 축하 화환 하나요청드립니다.<br>- 일시 : 10/8 토요일 오후 2시<br>- 장소 : 광화문 아펠가모( 서울시 종로구 종로 1길 50 더케이트윈타워 A동 LL층 / 02-730-0230)<br>- 받으시는 분 : 신부측 왕지혜 과장님<br>그리고 꽃 말고 쌀 화환으로 부탁드려요\\tFLOWER\\n',\n",
       " '신청종류 : 축하 화환 일반<br>일시 : 2016.10.08 (토) 오후 12시 (1시 예식)<br>수령인 : 임광호 부회장님<br>받는 장소: 성도교회 본당 (2층) - 서울특별시 중구 회현동 1가 191-8 (02-777-0691)<br>보내는 사람 : (주)인텍앤컴퍼니 대표이사 조덕현\\tFLOWER\\n',\n",
       " '문비서님 지난 번 화환 잘 갔는지 궁금해서요\\tFLOWER\\n',\n",
       " '그리고 화환\\tFLOWER\\n',\n",
       " '문비서님 방금 화환 결제메일을 하나 받았는데요 혹시 제가 지난번 신청드린건가요 채정원 변호사님 결혼화환??\\tFLOWER\\n',\n",
       " '4만원 정도 꽃다발 하려는데 추천 해주세요\\tFLOWER\\n',\n",
       " '꽃은 수국으로 꽃다발.<br>퀵비 포함 5만원 이하로 좀 알아봐 주시겠어요?\\tFLOWER\\n',\n",
       " '5만짜리 꽃다발 이미지좀 보내줘바용\\tFLOWER\\n',\n",
       " '할머니 생신선물 꽃다발 배달부탁드랴요\\tFLOWER\\n',\n",
       " '10만원 미안으로 꽃다발 준비되죠?\\tFLOWER\\n',\n",
       " '꽃다발과 케잌 같이 배송되나요?\\tFLOWER\\n',\n",
       " '주인공은 간호사 32세 여성으로 발표직후 전달될거에요. 가능하다면 꽃다발 구성도 부탁해요. 하얗고 늘씬하고 미인이세요. 간호복은 상의 진분홍색 하의 파란색입니다\\tFLOWER\\n',\n",
       " '어버이날 꽃대발 요청여\\tFLOWER\\n',\n",
       " '꽃다발 꽃바구니 하나씩 해서 주문해주세요<br><br>꽃바구니에는 <br>처음으로 축하해드리는 어버이날이네요 사랑하고 존경합니다❤️<br>-딸 아들<br><br>꽃다발에는<br>맘❤️ 낳아주시고 길러주셔서 감사합니다 -딸아들<br><br>이렇게 메시지 써주실수 있음 해주세요!<br>꽃바구니는 성주로 꽃다발은 대구로 갈거에요~\\tFLOWER\\n',\n",
       " '할아버지 생심 선물로 꽃다발 보내려고 하는데\\tFLOWER\\n',\n",
       " '장모님 생신에 꽃다발 보낼려고 하는데요\\tFLOWER\\n',\n",
       " '분홍색 장미 꽃다발<br>퀄리티 좋은걸로<br>오늘 받아볼 수 있는 것도 같이 알아봐주세요~\\tFLOWER\\n',\n",
       " '꽃다발 입니다\\tFLOWER\\n',\n",
       " '홈페이지 들어가면 바로 보이는 것중에 블루밍 꽃다발 프리미엄 스타일로 부탁드려요!!\\tFLOWER\\n',\n",
       " '꽃다발 + 카드문구 포함해서 5만원 정도 생각하고 있습니다\\tFLOWER\\n',\n",
       " '지난번과 같은 꽃다발을 강남구 학동로 30길 43로\\tFLOWER\\n',\n",
       " '빼빼로 들어간 꽃다발 오늘 6시 전에 배송 가능할까요? 충정로입니다\\tFLOWER\\n',\n",
       " '메종드라카테고리 근처에 꽃다발 주문하고 픽업할 만한 꽃집 있을까요??\\tFLOWER\\n',\n",
       " '여자친구 회사로 꽃다발 배송할려고 하는데요\\tFLOWER\\n',\n",
       " '서울시 압구정동 이소니프라자 지하 1층으로 장미 꽃다발 최대한 빨리 배달해 주세요.\\tFLOWER\\n',\n",
       " '꽃다발 5만원. 케잌 파리바게뜨 4만원\\tFLOWER\\n',\n",
       " '발렌타이 꽃다발 있어요?\\tFLOWER\\n',\n",
       " '창원 성산구입니다.<br>1시간안에 빼빼로 + 꽃다발 배달가능한곳 좀 찾아주세요.\\tFLOWER\\n',\n",
       " '원주 치악예술관에 꽃다발 하나 배달 가능할까?\\tFLOWER\\n',\n",
       " '장모님댁에 꽃다발 배송 요청합니다\\tFLOWER\\n',\n",
       " '내일 오전 9시30분에<br>꽃다발 배달가능할까요?\\tFLOWER\\n',\n",
       " '꽃다발 보낼려고 하는데\\tFLOWER\\n',\n",
       " '안녕하세요 문비서님 오늘 가입한 회원입니다 아직 월회비가 자동이체로 안빠져나갔는데 내일 강남지역 꽃다발 및 간식배달 부탁드릴수있나요?\\tFLOWER\\n',\n",
       " '네! 내일 6/8(수요일) 소호앤노호 서초점 14:00 김정훈 이름으로 완성된 꽃다발 픽업 -&gt; 마노핀익스프레스(교대역 안에 위치) 머핀 12개 구매 -&gt; 교대 잡코리아 17층 기획팀 여유란님께 배송 이렇게 부탁드릴까합니다! 혹시 추가 정보가 필요하시다거나 불가능한 부분 있으시면 미리 말씀 부탁드려요!\\tFLOWER\\n',\n",
       " '문비서님 장미 꽃바구니 부탁드려요\\tFLOWER\\n',\n",
       " '꽃바구니 종류가 어떻게 되요?\\tFLOWER\\n',\n",
       " '카네이션 두건은 5월8일 입사축하 꽃바구니 한건은 5월9일입니다\\tFLOWER\\n',\n",
       " '꽃은 그냥 3만원 정도 꽃바구니 원하고\\tFLOWER\\n',\n",
       " '문비서님 은평구에 꽃바구니 하나 보내려고 하는데요\\tFLOWER\\n',\n",
       " '문비서 <br>광주광역시 북구 오치동 양지아파트 가동 302호 <br>3만원정도 작은 꽃바구니 하나 배송부탁해요\\tFLOWER\\n',\n",
       " '8월 6일날 고급스러운 꽃바구니를 보내주세요. 아내한테 보내는 2800일 기념 꽃바구니 입니다.\\tFLOWER\\n',\n",
       " '꽃바구니/충남 천안시 서북구 백석동 입니가\\tFLOWER\\n',\n",
       " '꽃다발 꽃바구니 하나씩 해서 주문해주세요<br><br>꽃바구니에는 <br>처음으로 축하해드리는 어버이날이네요 사랑하고 존경합니다❤️<br>-딸 아들<br><br>꽃다발에는<br>맘❤️ 낳아주시고 길러주셔서 감사합니다 -딸아들<br><br>이렇게 메시지 써주실수 있음 해주세요!<br>꽃바구니는 성주로 꽃다발은 대구로 갈거에요~\\tFLOWER\\n',\n",
       " '월요일 도착으로 입사 축하 꽃바구니 (축하 카드 포함) 알아봐주실 수 있을까요? 받을 지역은 전북 정읍입니다\\tFLOWER\\n',\n",
       " '논현동으로 꽃바구니 배송요청할께요\\tFLOWER\\n',\n",
       " '어머니생신 기념 꽃다발 추천 부탁해요\\tFLOWER\\n',\n",
       " '꽃바구니 서울 방배동\\tFLOWER\\n',\n",
       " '꽃다발 사진 보여주세요\\tFLOWER\\n',\n",
       " '13만원 꽃바구니 사진있으세요?\\tFLOWER\\n',\n",
       " '발렌타이 꽃바구니 요청요\\tFLOWER\\n',\n",
       " '대전 대덕구 법동 보람아파트 107동 803호<br>꽃바구니 입니다<br>가격은 10만원 정도\\tFLOWER\\n',\n",
       " '꽃바구니 기본적인거 저렴한거로 <br>많이하는거로 보통 5~6만원<br>짜리 있지않나요?\\tFLOWER\\n',\n",
       " '책상위에 세워놓을 수 있는 조그마한 꽃바구니 이면 좋을 것 같아요\\tFLOWER\\n',\n",
       " '어제와 동일한 카드 리본 문구로 입사 축하 꽃바구니 진행 부탁드립니다\\tFLOWER\\n',\n",
       " '꽃바구니 배송요청 문구 장모님 생신 축하 드립니다. 아들같은 사위 김무성\\tFLOWER\\n',\n",
       " '꽃바구니: 조윤진/01035553293<br>성주군 성주읍 학산리 875 (영원한 미소 빌라1층) 성주읍 성주산업단지로2길 164-7<br>꽃다발:이성옥/01066959099<br>대구 달서구 송현2동 1033-2번지 옷나래\\tFLOWER\\n',\n",
       " '어머니한테 보낼 꽃바구니 추천해주세요\\tFLOWER\\n',\n",
       " '5월8일 꽃바구니 주문 부탁드릴께요\\tFLOWER\\n',\n",
       " '빼빼로데이 꽃다발 주문할께요\\tFLOWER\\n',\n",
       " '7월29일 집으로 꽃바구니 예약할께요 제가 외국에 있을거라서..지금 결제할께요\\tFLOWER\\n',\n",
       " '생일 축하 꽃바구니 부탁드립니다. 10만원선으로 구성해 주시구요....\\tFLOWER\\n',\n",
       " '10월8일 아침에 꽃바구니 부탁합니다\\tFLOWER\\n',\n",
       " '장모님한테 꽃바구니 보낼껀데요\\tFLOWER\\n',\n",
       " '결혼기념일 선물할 꽃바구니 추천바랍니다. 5만원 밑으로. 집에 즉시 배달 가능한 걸로요.\\tFLOWER\\n',\n",
       " '다름이 아니라 <br>케잌+와인+꽃바구니 10-15만원 선에서 <br>오늘중으로 여주에 배달 가능한업체수배좀 해주세요\\tFLOWER\\n',\n",
       " '꽃바구니 인데 비누꽃 으로 해주시고 <br>돈꽃바구니 처럼 해서 현금 50만원정도 같이 보낼생각인데\\tFLOWER\\n',\n",
       " '비슷하게 꽃바구니 부탁드립니다\\tFLOWER\\n',\n",
       " '여자친구한테 생일 꽃바구니 배달요청이요\\tFLOWER\\n',\n",
       " '지난번과 같은 입사 축하 꽃바구니 부탁드립니다 <br>문구는 새로 보내드린것으로 반영 바랍니다\\tFLOWER\\n',\n",
       " '저희 집에 카네이션 꽃바구니 5만원 정도 되는것 주문 부탁해요\\tFLOWER\\n',\n",
       " '안녕하세요 여자친구한테 보낼 꽃바구니 추천해주세요\\tFLOWER\\n',\n",
       " '문비서님 꽃바구니 배달 추천해 주실 수 있는지요? 최대 6만원의 금액 내에서 알아보고자 합니다.\\tFLOWER\\n',\n",
       " '네 스투키 화분 하나 보내주실 수 있으실까요??\\tFLOWER\\n',\n",
       " '그리고 화분 물받이 물 넘치지 않게 할 수 있는 것으로 달라고 요청해주세요.\\tFLOWER\\n',\n",
       " '화분 배달 가능한가요? 결제는 법인카드로 하고 싶은데.^\\tFLOWER\\n',\n",
       " '당일배송 화분 추천 부탁드려요\\tFLOWER\\n',\n",
       " '화분 배달 가능함가요?\\tFLOWER\\n',\n",
       " '안녕하세요 문비서님<br>사무실 공기정화되는 화분으로 사업장 오픈 및 사무실 이전 축하문구로 배송 부탁드립니다<br>업체가 5시에 퇴근한다고 해서 그 전에 배송이 가능하면 오늘<br>그게 어려우면 익일 오전 일찍으로 부탁드려요~~~<br><br>공기정화되는 괜찮은 화분 추천 부탁드립니다~\\tFLOWER\\n',\n",
       " '선물용 화분 배송을 요청드리고 싶습니다\\tFLOWER\\n',\n",
       " '개업 화분 하나 보내려고 합니다\\tFLOWER\\n',\n",
       " '스타트업 시작한 후배에게 화분 하나 보내려합니다.\\tFLOWER\\n',\n",
       " '추천할만한 화분 있나요? 가격대 높지 않은 것중에서 추천 주세요\\tFLOWER\\n',\n",
       " '이전하신 사무실에 화분 하나 보낼게요 ㅋㅋㅋ\\tFLOWER\\n',\n",
       " '사무실 이전 화분 요청드립니다\\tFLOWER\\n',\n",
       " '직원 출산으로 화분 (해피트리 스투키) 5만원짜리 배송 부탁드립니다<br><br>주소: 성남시 분당구 판교동 판교원마을 7단지 모아미래도 아파트 702동 1102호<br>받으시는 분: 이경민 팀장님 (010-3463-7435)<br>보내는 사람: (주)인텍앤컴퍼니 임직원일동<br>축하문구: 득남을 축하드립니다\\tFLOWER\\n',\n",
       " '스투키 화분 하나 부탁드려요\\tFLOWER\\n',\n",
       " '신규 화분(아레카야자앤드인도고무나무)은 검은색으로 부탁드려요.\\tFLOWER\\n',\n",
       " '화분 물밭이는 좋은 것으로 해주세요. 사무실이 카펫이어서 물을 많이 주게 되면 물밭이에 찬 물만 처리할 수 있게요.\\tFLOWER\\n',\n",
       " '해당 산세베리아는 화분에 흙이 잘못되어 있는지 시간이 지날수록 옆으로 퍼지네요. 위의 화분 배달해주시면서 산세베리아 회수하셔서 화분 흙갈이 가능한지와 가격도 부탁드려요. <br><br>기존에 주문한 다른 산세베리아는 아주 잘 자라고 있는데 사진으로 보내드린 산세베리아만 지금과 같은 상태이네요. <br><br>감사합니다.\\tFLOWER\\n',\n",
       " '감사합니다 화분 이쁜걸로 당일 배송 부탁드릴게요!\\tFLOWER\\n',\n",
       " '5 만짜리 화분\\tFLOWER\\n',\n",
       " '새로 개업한 세차장에 축하 화분??을 보내고 싶은데요~ 행운목 같은거요!\\tFLOWER\\n',\n",
       " '보낼 물건은 화분\\tFLOWER\\n',\n",
       " '저번에 신청한 화분 한번더 배달 요청하랴고요~~\\tFLOWER\\n',\n",
       " '화분 금액은 15만원 정도면 좋을 것 같습니다.\\tFLOWER\\n',\n",
       " '화분 배달 되나요?\\tFLOWER\\n',\n",
       " '개업 화분<br>서울시 관악구 신림동 1515-4번지 1층 <br>상호명:술안주<br>연락처:010-7722-7405<br>축개업 대박나세요~^^<br>-류준수\\tFLOWER\\n',\n",
       " '사무실이전 화분 보내려고 합니다.\\tFLOWER\\n',\n",
       " '스승의 날 선물로 보낼 화분 추천해주세요. 2 분께 보낼 계획 입니다.\\tFLOWER\\n',\n",
       " '화분 배송 부탁드립니다. 스투키 정도가 좋을 듯 합니다\\tFLOWER\\n',\n",
       " '생일축하 화분 쬐매난거\\tFLOWER\\n',\n",
       " '화분 보내기전에 이미지 한번 보내주고 빠른 처리 부탁\\tFLOWER\\n',\n",
       " '안녕하세요!! 화분 배달 주문하려고 하는데 가능한가요??\\tFLOWER\\n',\n",
       " '사옥이전..알로카시아 화분 좀 알아볼 수 있나여?\\tFLOWER\\n',\n",
       " '관리 안해도 잘 안죽는 화분 추천해주세요\\tFLOWER\\n',\n",
       " '화분 크기좀 알려주세요\\tFLOWER\\n',\n",
       " '저번에 샀던 스투키 화분 정도 크기면 좋겠습니다\\tFLOWER\\n',\n",
       " '업체에 배송 전 화분 사진 요청 하였습니다.<br>사진 받는대로 안내드리겠습니다.\\tFLOWER\\n',\n",
       " '혹시 빌라 베란다에\\\\n화분들 잡초정리와 화분 옮기기가\\\\n가능할까요??\\tFLOWER\\n',\n",
       " 'ㅠ ㅠ 차없는 뚜벅이용 데이트 코스는 없을까요? <br>그리고 개업선물로 화분 보낼 때 쓸 재치있는 문구 좀 찾아주시겠어요?\\tFLOWER\\n',\n",
       " \"산세베리아 화분 배송 요청드립니다 금액대는 5~7만원으로 해주시고 축하 문구 들어갔으면 합니다. <br><br>배송지는 서울 강남구 테헤란로 KB우준타워 15층 공동법률사무소 제하 \\\\'윤제선 변호사님\\\\' 앞\\tFLOWER\\n\",\n",
       " '크리스마스 꽃배달\\tFLOWER\\n',\n",
       " '꽃배달 보통가격이?\\tFLOWER\\n',\n",
       " '문비서님<br>당일 꽃배달 가능한가요?<br>주소지는 경북 성주군 성주읍 학산리 875번지 한우소머리국밥 입니다~\\tFLOWER\\n',\n",
       " '안양에 꽃배달 가능한가요??\\tFLOWER\\n',\n",
       " '꽃배달 부탁드립니다.\\tFLOWER\\n',\n",
       " '꽃배달 종류가 어떻게 되고 사진 보내주실수 있나요?\\tFLOWER\\n',\n",
       " '문비서님 꽃배달 때문에 여쭤볼게 있어요\\tFLOWER\\n',\n",
       " '여차친구 회사로 꽃배달 요청하면 퀵기사님이 갔다주나요?\\tFLOWER\\n',\n",
       " '질문있는데요. 꽃배달 같은경우 절차가 어떻게 되며 수수료나 비용은 어떻게 처리 해야하는건가요\\tFLOWER\\n',\n",
       " '꽃배달 신청합니다\\tFLOWER\\n',\n",
       " '장모님 생신인데 꽃배달 신청할려구요\\tFLOWER\\n',\n",
       " '꽃배달 부탁합니다-\\tFLOWER\\n',\n",
       " '아뇨 꽃배달 업체요\\tFLOWER\\n',\n",
       " '1시간 이내 꽃배달 가능 할까요?\\tFLOWER\\n',\n",
       " '제가 아는 외국 사람 (싱가폴 거주 러시아인) 이 한국에 러시아 여친이 있다고 하는데 일주일에 한번씩 꽃배달 및 풍선 배달 및 기타 이벤트를 준비하려 해요\\tFLOWER\\n',\n",
       " '꽃배달 부탁드려요. 60대 여자분. 생신축하용으로.\\tFLOWER\\n',\n",
       " '빼빼로 데이 꽃배달 서비스 되나요?\\tFLOWER\\n',\n",
       " '빼빼로데이 꽃배달 되나요\\tFLOWER\\n',\n",
       " '축하화환 신청합니다.\\tFLOWER\\n',\n",
       " '사무실 이전 축화화환 요청합니다\\tFLOWER\\n',\n",
       " '결혼 축하화환 보낼려구요\\tFLOWER\\n',\n",
       " '결혼식에 축하화환 보낼려고 하는데요\\tFLOWER\\n',\n",
       " '문비서님~~ 이번주 토요일 결혼 축하화환 신청드려요~축하화환 부탁드립니다.<br><br>수신:엄병훈대표..010 4727 1181<br>전북 김제시 청하면 동지산리 791-7 전화 063-543-1191<br><br>발신: 고려기프트(주) 대표이사 김금숙<br><br>축 발전 넣어서 부탁해요\\tFLOWER\\n',\n",
       " '양천구 안양천로1071-1<br>이대목동병원 장례예식장<br>특 3 실 입니다<br><br>근조화환 부탁해요\\tFLOWER\\n',\n",
       " '안녕하세요 근조화환 부탁드립니다.\\tFLOWER\\n',\n",
       " '하멕스이름으로 근조화환 부탁드리겟습니다\\tFLOWER\\n',\n",
       " '지금 근조화환 배달 되나요?\\tFLOWER\\n',\n",
       " '근조화환 부탁드립니다\\tFLOWER\\n',\n",
       " '저희 근조화환 하나 요청드립니다^^<br>• 장소 : 서울시 양천구 안양천로 1071 이화여대 목동병원 장례식장 6호실<br>• 상주 : 최창권 차장님(010-4231-3392)<br>문구는 전과 동일하게 부탁드립니다^^\\tFLOWER\\n',\n",
       " '급하게 근조화환 보내야하는데 부탁해요\\tFLOWER\\n',\n",
       " '서류한건. 여의도 퀵 요청드립니다\\tQUICK\\n',\n",
       " '지금 바로 퀵 보내 주세요~\\tQUICK\\n',\n",
       " '안녕하세요? 브레드05 여의도점에서 호레노아 3호 케익 결제 및 퀵 부탁 드립니다. 25일 화요일 1시반 전후로 받을 수 있게 부탁 드립니다\\tQUICK\\n',\n",
       " '출발지:광운대학교 누리관 207호 도착지:서울시 구로구 디지털로33길 27 삼성IT밸리 714호 화이트아웃  엄대훈대표 품목:서류 선불  지금부탁드립니다\\tQUICK\\n',\n",
       " '안녕하세요. 지금 바로 퀵서비스 좀 보내주세요~\\tQUICK\\n',\n",
       " '혹시 퀵 카드결제가 가능한가요?\\tQUICK\\n',\n",
       " '퀵신청할건데요\\tQUICK\\n',\n",
       " '안녕하세요! 지금 바로 퀵 보내 주세요~\\tQUICK\\n',\n",
       " '퀵 불러주세요  지불방식: 카드(선불)  출발지: 경기도 시흥시 정왕동 2319-3 세진B/D 506호 더블오리지널스 050-5356-1111  도착지: 경기도 안산시 단원구 초지동 745-3 경기자동차매매단지  2층 205호 루키엔카  010-3735-1331  배송품목: 핸드폰 4대 입니다\\tQUICK\\n',\n",
       " '지난번 신청했던 청정기 퀵으로 받아서 회사로 배송 신청합니다\\tQUICK\\n',\n",
       " '선불인가요?? 퀵서비스 이용방법 안내 부탁드립니다\\tQUICK\\n',\n",
       " '안녕하세요^^ 저희 퀵 하나 요청드려요~~ - 지역 : 영등포구 여의도동 23 - 받는사람 : 김현슬님(02-6099-4334) - 보내는 사람 : 방윤정(010-3324-8603) - 품목 : 서류(A4 박스 사이즈)\\tQUICK\\n',\n",
       " '네 그럼 그렇게 해주세요 퀵만 이용하도록 하겠습니다\\tQUICK\\n',\n",
       " '죄송하지만 퇴직패제작업체에 전화해서 접수 취소하고 퀵으로 받아볼수있을까요?\\tQUICK\\n',\n",
       " '그리구 저희 퀵 하나 요청드립니다 - 지역 : 서초구 잠원동 9-4 - 받으시는분 : 설치현 팀장님 010-5443-0005 - 보내시는분 : 윤선미 님(010-3324-8603) - 품목 : 책자\\tQUICK\\n',\n",
       " '두번째 퀵은 준비가 좀 필요하네요\\tQUICK\\n',\n",
       " '안녕하세요^^ 저희 퀵 하나 부탁드립니다. - 지역 : 안양시 동안구 엘에스로 127 - 받으시는분 : 정석희 010-7773-1630 - 보내시는분 : 김용한님 010-3324-8603 - 품목 : CD1장\\tQUICK\\n',\n",
       " '퀵 요청 드립니다~\\tQUICK\\n',\n",
       " '제주도 아라동지역 퀵서비스 요금이 얼마인지 알고싶네요. \\tQUICK\\n',\n",
       " '혹시 퀵 비용까지 카드결제 모두 가능한지 궁금하다고 하네요 ^^;;;;\\tQUICK\\n',\n",
       " '저희 퀵 예약 합니다!\\tQUICK\\n',\n",
       " '- 도착지 :  서울시 용산구 원효로 2가 52-3 인텍앤컴퍼니 2층 - 받는사람 : 이명혜 팀장님(02-2129-7813) - 보내는 사람 : 문선정(010-9770-7509) - 품목 : 서류\\tQUICK\\n',\n",
       " '퀵 신청 드립니다.\\tQUICK\\n',\n",
       " '문비서님 퀵서비스 문의하고 싶은데요\\tQUICK\\n',\n",
       " '안녕하세요! 퀵 지금 바로 신청해요~\\tQUICK\\n',\n",
       " '성수동 퀵한건이요 소박스 주소붙여놨어요\\tQUICK\\n',\n",
       " '퀵 요청 합니다!\\tQUICK\\n',\n",
       " '- 출발지 주소 : 경기서 안양시 동안구 관양동 오비스 타워 8층 - 보내는 사람 / 전화번호: 홍미영/031-688-8022  - 품목 : 소박스  - 도착지 주소 : 경기도 성남시 중원구 상대원동 138-7 2층 BVKotiti - 받는사람 / 전화번호 : 이욱 대표님/ 02-3451-7000\\tQUICK\\n',\n",
       " '퀵 부탁드려요\\tQUICK\\n',\n",
       " '아 그러면 저희 퀵 신청 부탁드릴께요~~ - 지역 : 서초구 양재동 218-3 - 받으시는분 : 이아영님(02-576-2997) - 보내시는분 : 이진경님(010-3324-8603) 퀵 신청 부탁드립니다^^\\tQUICK\\n',\n",
       " '퀵업체하고 통화했습니다. 문비서 비용은 어떻게 하나요?\\tQUICK\\n',\n",
       " '안녕하세요^^ 저희 퀵하나 요청드립니다. - 지역 : 영등포구 여의도동 23 - 받는사람 : 김현슬님(02-6099-4334) - 보내는사람 : 방윤정 (010-3324-8603) - 품목 : 서류\\tQUICK\\n',\n",
       " '퀵서비스 요청 좀 드리려구요!!\\tQUICK\\n',\n",
       " '안녕하세요 문비서님 혹시 강아지 미용맡겼는데 데려오는거는 퀵으로가능한가요? 아님 이런부분은 안되는건가요?ㅠㅠㅠ\\tQUICK\\n',\n",
       " '안녕하세요^^ 저희 퀵 하나 부탁드립니다~ - 지역 : 경기도 안양시 동안구 비산 1동 - 받는사람 : 이세환 님(010-9630-3327) - 보내는사람 : 방윤정(010-3324-8603) - 품목 : 서류\\tQUICK\\n',\n",
       " '다마스 퀵으로 해야될것 같아요~~~\\tQUICK\\n',\n",
       " '저희 퀵 하나 더 보내 주세요~\\tQUICK\\n',\n",
       " '네 그리고 책 2박스라고 미리 말씀좀 하주세요! 퀵기사님들이 와서 놀래시더라고요\\tQUICK\\n',\n",
       " '안녕하세요! 퀵 서비스 예약 부탁드려요~\\tQUICK\\n',\n",
       " '수원시 정자동에서 용인시 수지구 풍덕천동으로 퀵이 가능할 지 좀 알아봐 주시겠어요??\\tQUICK\\n',\n",
       " '퀵 요청 합니다!\\tQUICK\\n',\n",
       " '책 30권 북센으로 퀵배송이요~\\tQUICK\\n',\n",
       " '안녕하세요 PTC Korea 입니다. 퀵 신청드립니다. 서울시 종로구 새문안로 5길 31 센터포인트 빌딩 김앤장 법률사무소 김의석 변호사실 장윤지 3703-1308\\tQUICK\\n',\n",
       " '원천동 원천주공2단지에서 반월동 100-12 타이어하그네 도시락3단 1개 퀵 얼마인가요\\tQUICK\\n',\n",
       " '혹시 퀵 기사님 언제쯤 오시는지 알수 있을까요~? 제가 알기론 김현슬님 건물 퀵 데스크가 6시반까지인걸로 알고있는데.. 늦게오시면 6시반까지 기사님께서 도착 못하실수도 있을것 같아서요~~\\tQUICK\\n',\n",
       " '물건을 사서 가져다 달라고 하면 그런것도 가능한가요?\\tQUICK\\n',\n",
       " '- 출발지 주소 : 서울 송파구 가락동 143-11 2층  - 보내는 사람 / 전화번호: 이광숙/02-3432-0025 - 품목 : 소박스  - 도착지 주소 : 경기도 안양시 동안구 관양동 오비즈 타워 8층 - 받는사람 / 전화번호 : 홍미영/031-688-8022\\tQUICK\\n',\n",
       " '지난번 요청드렸던 서류배송 동일내용으로 다시 한번 부탁드립니다\\tQUICK\\n',\n",
       " '배달 완료되면 연락이 오는가요?\\tQUICK\\n',\n",
       " '영수증 가져오시고 거기다 퀵비 더해서 카드결제 가능하면 좋겠네요\\tQUICK\\n',\n",
       " '안성에서 강남역까지 퀵서비스 비용이 얼마인가요?\\tQUICK\\n',\n",
       " '비서님 저 퀵하나 보내려구요~~ 처음신청입니다 잘 부탁드려요\\tQUICK\\n',\n",
       " '음 그럼 문비서님께 퀵비   이용료 다 카드결제 할 수 있을까요?\\tQUICK\\n',\n",
       " '그럼 퀵서비스는 업체를 안내해 주시는 건가요?\\tQUICK\\n',\n",
       " '내일 오전 6시에 야탑집-->곤지암 이스트밸리CC-->회사. 일일기사 신청 좀요\\tQUICK\\n',\n",
       " '네 일단 알겠습니다  일단가능한지여부와 퀵비안내부탁드립니다\\tQUICK\\n',\n",
       " '퀵서비 요청드려요\\tQUICK\\n',\n",
       " '배송지는 서울 송파구 오금로35길17 현대아파트 25동 1104호로 부탁드립니다\\tQUICK\\n',\n",
       " '퀵하나만 보내주세요\\tQUICK\\n',\n",
       " '안녕하세요 성수동 가는 퀵하나 부탁드립니다\\tQUICK\\n',\n",
       " '택배기준으로 최소박스일거에요^^ 착불입니다\\tQUICK\\n',\n",
       " '퀵서비스 요청하려고하는데요\\tQUICK\\n',\n",
       " '네 오토바이 퀵으로 원하구요 케익은 전화로 주문해놓으면 될까요?\\tQUICK\\n',\n",
       " '서울시 영등포구 문래동3가 55-20 에이스하이테크시티 2동 1202호  010-2029-3828\\tQUICK\\n',\n",
       " '전지역가능합니까?\\tQUICK\\n',\n",
       " '저희 퀵 하나 요청드립니다 - 주소 : 영등포구 여의도동 23 - 받는사람 : 김현슬님(02-6099-4334) - 보내는사람 : 방윤정(010-3324-8603) - 품목 : 서류 A4박스 사이즈  그리고 이 퀵 물품은 퀵데스크에 맡기지 마시고 꼭 본인에게 연락해서 전달해달라고 메모 부탁드립니다~!\\tQUICK\\n',\n",
       " '서류 퀵 좀\\tQUICK\\n',\n",
       " '퀵서비스도 대신 불러주시나요??\\tQUICK\\n',\n",
       " '혹시 지금 퀵 서비스 요청 가능하나요?\\tQUICK\\n',\n",
       " '출발 : 지너텍       주소 : 서울 구로구 구로동 222-12 마리오디지털타워 1212호         담당자 : 김성주          연락처 : 02-890-6688         픽업 시간 : 금일 오후 1시 30분 (정해진 시간 전엔 직원이 없음)  도착 : 아이벡스       주소 : 인천광역시 중구 공항동로 296번길146 C1블럭 아이벡스로지텍       담당자 : 신은호       연락처 : 010-3123-8729       도착 시간 : 3시 이전     제품 빈 박스 : 1만원\\tQUICK\\n',\n",
       " '답이 늦어서 죄송합니다 ㅜㅜ 네 이번 주 토요일입니다. 아 제가 업체에서 보낸 오전 퀵을 받을 주소가 없어서요 ㅜ 문비서님이 대신 받아주실 수 있을까요 ㅜㅜ\\tQUICK\\n',\n",
       " '카드결제되면 지하철퀵도괜찮습니다.\\tQUICK\\n',\n",
       " '퀵 부탁드립니다\\tQUICK\\n',\n",
       " '네. 서울시 동작구 상도1동 542번지 303호로 보내주시면 됩니다.\\tQUICK\\n',\n",
       " '수신인은 이대목동병원 최상은 010 6419 1144\\tQUICK\\n',\n",
       " '- 도착지 주소 : 경기도 과천시 교육원로 98(중앙동) 2동 211호 KTR(한국화학융합시험연구원) - 받는사람 / 전화번호 : 홍창기 계장권덕준 주임/ 010-9949-7187 - 출발지 주소 : 경기서 안양시 동안구 관양동 오비스 타워 8층 - 보내는 사람 / 전화번호: 홍미영/031-688-8022 - 품목 : 소박스\\tQUICK\\n',\n",
       " '서울 마포구 성산동 595번지 105동에서  페이우 쇼룸(강연주 매니저 앞) 연락처 010 3398 9915 서울시 강남구 신사동 545-1번지 1층 페이우로 갈 퀵 요청드립니다\\tQUICK\\n',\n",
       " '02-351-3629 은평구 육아종합지원센터고요 2층으로 올라가셔서 장난감반납 담당자분께 박주희이름으로 전달해주시면됩니다\\tQUICK\\n',\n",
       " '퀵아저씨 불렀는데 만원으로 안간다고해서\\tQUICK\\n',\n",
       " 'ㅠㅠ 아 네 ㅜㅜ그럼 올림픽공원 체조경기장 앞으로 퀵 부탁드립니다 ㅜㅜ\\tQUICK\\n',\n",
       " '그럼 퀵서비스는 어떻게 되는건가요?\\tQUICK\\n',\n",
       " '퀵 (잡지 9권) 부탁드립니다\\tQUICK\\n',\n",
       " '여의도 퀵한건 신청합니다\\tQUICK\\n',\n",
       " '예전에 퀵배송 했던거랑 같은 물품 같은 주소지 한번더 요청드리려는데 여기선 기록이 안남았을까봐서 ㅠ\\tQUICK\\n',\n",
       " '받는사람 용산구남영동37-4  대군회관\\tQUICK\\n',\n",
       " '출발지 오류동 38-1 도착지 대치동 890-31 배송물품은 컴퓨터 날짜는 오늘\\tQUICK\\n',\n",
       " '문비서님 퀵이 필요합니다 퀵서비스 비용은 문비서 앱이서 결제하나요? 현장에서 착불오 할수도 있나요?\\tQUICK\\n',\n",
       " '-   도착지 : 서울시 용산구 원효로58길 15 (원효로2가) 인텍앤컴퍼니 2층 -   받는 사람 : 남지애 대리님 (02-2129-7814) -   보내는 사람 : 문선정 (02-3449-0815) -   품목 : 서류\\tQUICK\\n',\n",
       " '제주시에 문비서와 제휴된 퀵업체 연락처부탁해요. \\tQUICK\\n',\n",
       " '안녕하세요? 강남 신사동에 있는 떡집에서 내일 전화로 예약 그리고 토요일에 픽업해서 퀵배달 신청하려고 하는데 구리까지요. 얼마인가요?\\tQUICK\\n',\n",
       " '퀵 영동대로 1건 서류입니다\\tQUICK\\n',\n",
       " '서울특별시 강남구 역삼동 649-5 8층에서 노트북 충전기 하나를 방배동 778-5 동화빌라 김한샘씨에게 착불로 부탁드려요\\tQUICK\\n',\n",
       " '인천에서 인천으로 복숭아 6박스 퀵배송시 가격이 얼마인지요?\\tQUICK\\n',\n",
       " '대청역에서 성수동 가는 퀵서비스 불러주세요\\tQUICK\\n',\n",
       " '안녕하세요 퀵 요청드립니다\\tQUICK\\n',\n",
       " '네 ㅇ제품 퀵으로 빠르게 배달받고 싶습니다\\tQUICK\\n',\n",
       " '서류 퀵불러줄수 있어요?\\tQUICK\\n',\n",
       " '지금 바로 퀵부탁드립니다 광운대 누리관207호에서 김포시 대곳면 송마로 52길 55  주식회사 씨에스테크놀로지로 바로 부탁드립니다\\tQUICK\\n',\n",
       " '안녕하세요^^ 저희 퀵 하나 요청드립니다~ - 지역 : 서울 중구 을지로 100 - 받는사람 : 유진희 님(02-2139-2859) - 보내는 사람 : 윤상태 님(010-3324-8603) - 품목 : 서류\\tQUICK\\n',\n",
       " '안녕하세요 ptckorea 인데요. 저희회사에서 현대오토에버 의왕연구소까지 퀵을 부를려고 하는데 금액은 얼마이고 지금 요청하면 얼마나 걸리는지 확인 부탁드립니다.\\tQUICK\\n',\n",
       " '☆☆중요☆☆  예쁜 종이에 메모 ------------------------------------ 늘 깊은 감사드립니다.  동부화재 설계사  서대구칠곡지점 / 김진욱 / 23009485 / 연락처 010-8445-8585\\tQUICK\\n',\n",
       " '- 도착지 :  서울시 강서구 가양동 1498 한강자이타워 B동 1108호 에이와이비 - 받는사람 : 김영성 010-5646-2475 - 보내는 사람 : 김기주 010-8913-9056 - 품목 : DAE 박스 (다마스로 요청 드립니다. 오실 때 구루마? 가지고 와주세요~)\\tQUICK\\n',\n",
       " '네 ㅠㅠ 그럼  고고밴 분들만 시간 확인해주세요! 그쪽 시간으로 맞추겠습니다\\tQUICK\\n',\n",
       " '다마스로 부탁 드려요~\\tQUICK\\n',\n",
       " '서류이고여\\tQUICK\\n',\n",
       " '회사로보내주세요\\tQUICK\\n',\n",
       " '품목 : 책 30권\\tQUICK\\n',\n",
       " '지역은 서울입니다 서울시 중구 충무로5가 22-3 중구청직장어린이집 1층 /받는사람 장애영/\\tQUICK\\n',\n",
       " '당장은 받기 힘든 거지요?\\tQUICK\\n',\n",
       " '제가 회의중이라 전화를 못받을 수 있다고 10층 리셉션에게 맞겨달라고\\tQUICK\\n',\n",
       " '안녕하세요^^ 저희 퀵하나 요청드립니다. - 지역 : 영등포구 여의도동 23 - 받는사람 : 김현슬님(02-6099-4334) - 보내는사람 : 남궁유리님 (010-3324-8603) - 품목 : 서류\\tQUICK\\n',\n",
       " '출발지: 김형철 010-9004-8407\\tQUICK\\n',\n",
       " '출발. 서울 강남 도곡2동 도곡렉슬아파트 209-1303\\tQUICK\\n',\n",
       " '역삼동 708-16 능현오피스텔 1518호예요 금액얼마에영?\\tQUICK\\n',\n",
       " '착불입니다\\tQUICK\\n',\n",
       " '출발지 서울시 동대문구 회기동 경희대학교 크라운관 김종원 도착지 서울시 서초구 반포 1-8 경남쇼핑센터 2-25  정민정  결제는 출발할 때 카드로 할게요!\\tQUICK\\n',\n",
       " '퀵 신청 드립니다.\\tQUICK\\n',\n",
       " '퀵이요\\tQUICK\\n',\n",
       " '안녕하세요! 퀵서비스 요청 합니다!\\tQUICK\\n',\n",
       " '네. 도착시 쥬피터익스프레스 전대양 과장인지 확인하신 후 인계 바랍니다.\\tQUICK\\n',\n",
       " '이번에 퀵부른거는\\tQUICK\\n',\n",
       " '저희 집 주소는 송파구 문정로 83 래미안 131동 101호입니다\\tQUICK\\n',\n",
       " '아 그리고 퀵 찾으실때\\tQUICK\\n',\n",
       " '선불 서류입니다\\tQUICK\\n',\n",
       " '기사분번호좀주셔요\\tQUICK\\n',\n",
       " '가져다 주실 곳은 \"경기도 화성시 반월동 DSR 타워\"입니다.\\tQUICK\\n',\n",
       " '서울 마포구 백범로 205 펜트라우스 105동 1002호\\tQUICK\\n',\n",
       " '이거 포장해서 화곡6동까지 배달 되나요?\\tQUICK\\n',\n",
       " '늦었는데 빨리 다시 불러주세요\\tQUICK\\n',\n",
       " '본죽이나 죽이야기에서 쇠고기야채죽 1인분이랑 목감기약 하나 종합감기약 하나 쌍화탕 하나 이렇게구요 주소는 서울 양천구 신월 5동 수명산 롯데캐슬아파트인데 금액 어떻게될까요?\\tQUICK\\n',\n",
       " '용인처인구김량장동 국민은행 용인대로지점 에서  퀀서비스 신청 수신처는 수원시 장안구 송원로 53-7 201호 (송죽동 ᆞ삼성아트빌) 가격과 연락처 알려주세요\\tQUICK\\n',\n",
       " '- 출발지 주소 : 종로구 가회동 30-1 최신물산 - 보내는 사람 / 전화번호: 전민교/ 02-3294-7318 - 품목 : 소박스  - 도착지 주소 : 경기도 안양시 동안구 관양동 오비즈 타워 8층 - 받는사람 / 전화번호 : 강효민/031-688-8041\\tQUICK\\n',\n",
       " '퀵하나 보내려고 합니다\\tQUICK\\n',\n",
       " '퀵 요청 드립니다!\\tQUICK\\n',\n",
       " '- 출발지 주소 : 서울시 중구 퇴계로 108 세대빌딩 1202호 은성무역 - 보내는 사람 / 전화번호: 유창호/ 02-753-6392   - 품목 : 소박스  - 도착지 주소 : 경기서 안양시 동안구 관양동 오비스 타워 8층 - 받는사람 / 전화번호 : 강효민/031-688-8041\\tQUICK\\n',\n",
       " '물건은 쇼핑백 하나\\tQUICK\\n',\n",
       " '맡겨뒀으니 그냥 말하고 가져오시면 돼요\\tQUICK\\n',\n",
       " '출발지;대구광역시 달성군 다사읍서재로14길2서재휴먼시아103동101호\\tQUICK\\n',\n",
       " '강남 고속버스 터미널입니다\\tQUICK\\n',\n",
       " '서울 성동구 서울숲 2길 32-14 갤러리아포레 102동 3303호\\tQUICK\\n',\n",
       " '서류이고주소 붙여놓았어요\\tQUICK\\n',\n",
       " '기사님께드리면되나요?\\tQUICK\\n',\n",
       " '언제 도착하시는지(혹은 제가 원하는 시간 근처에 와주실 수 있는건지 일려주시면 감사합니다)\\tQUICK\\n',\n",
       " '주소지는 제 정보있는 대로 입니다\\tQUICK\\n',\n",
       " '이거 회사로 02번 다이아 예치금요\\tQUICK\\n',\n",
       " '과일바구니요 주소도 불러드릴까요\\tQUICK\\n',\n",
       " '강남 삼성동 테헤란로 443 애플트리타워 6층인데  이쪽으로 본죽과 같이 죽 배달될 수 있는 방법이 있을까 해서 여쭤봐요. 이 건도 가능하신가요?\\tQUICK\\n',\n",
       " '보내는 사람 : 이후부 010 4316 1002      품목 : 쇼핑백\\tQUICK\\n',\n",
       " '안녕하세요 문비서~~ 무게 가벼운 50cc 소화제 5통 퀵으로 오늘 오전 중으로 보내려고하는데요 경기 안양시 동안구 벌말로 126 오비즈타워 2층 213호 비즈경희한의원에서 서울 강남구 도곡로 28길 8 도곡1차아이파크 101동 502호 까지 퀵비 얼마나 나올까요?\\tQUICK\\n',\n",
       " '좋습니다.  중요한 물건이라 서묜 증빙이 필요 합니다.\\tQUICK\\n',\n",
       " '픽업은 선릉역 4번출구 한신인터밸리 1701호\\tQUICK\\n',\n",
       " '아! 그리고 화물은 외장하드 하나라 부피와 무게는 아주 작고 가볍습니다.\\tQUICK\\n',\n",
       " '최대한 빨리 픽업오실 수 있음 좋겠습니다\\tQUICK\\n',\n",
       " '퀵 하나만 부탁드려요\\tQUICK\\n',\n",
       " ' - 도착지 :  경기도 성남시 분당구 수내동 9-1 SKT 수내국사 - 받는사람 : 정기훈 대리님 (010-9284-8110)  - 보내는 사람 : 이후부 대리 (010-4316-1002) - 품목 : box 1개\\tQUICK\\n',\n",
       " '네 서류맞습니다\\tQUICK\\n',\n",
       " '내일 오전 05:50 야탑집-->곤지암CC-->역삼동 사무실로 일일기사 신청 좀 해주세요.\\tQUICK\\n',\n",
       " '물품은 서류이고 선불로 진행하려 합니다~\\tQUICK\\n',\n",
       " '금일 3시에 시청역 롤링핀에서 빵 구매 후 jp 모건 한국 지사에 배달 가능한가요?\\tQUICK\\n',\n",
       " '출발지    양재동  바우뇌로35길17 도착지  마포구 양화로10길 40 물건   갤럭시탭\\tQUICK\\n',\n",
       " '물건 픽업지 : 서울시송파구 장지동 송파파인타운 702-802\\tQUICK\\n',\n",
       " '- 출발지 주소 : 경기도 안양시 동안구 관양동 오비즈 타워 8층 - 보내는 사람 / 전화번호: 홍미영/031-688-8022  - 품목 : 소박스  - 도착지 주소 : 경기도 성남시 중원구 상대원동 138-7 2층 BVKotiti - 받는사람 / 전화번호 : 권상훈/ 02-3451-0949\\tQUICK\\n',\n",
       " '여의도에서 물건을 픽업하여 논현동 사무실로 배송 부탁 드립니다. ^^  물건 픽업 장소 : 여의도동 61-3라이프오피스텔 901호 디엘(010-3225-2521) 신청자 :  김춘식 물건 : 소박스 (디스크 제품으로 조심히 다뤄주세요~)\\tQUICK\\n',\n",
       " '오늘 저녁에 운동을 가야하는데 깜빡하고 집에서 운동복을 놓고왔어요 가져다줄수있나요? 시간이 저녁까지로 넉넉하기때문에 저렴한 심부름 센터를 이용하고 싶고요\\tQUICK\\n',\n",
       " '- 출발지 주소 : 서울시 중구 퇴계로 108 세대빌딩 1202호 - 보내는 사람 / 전화번호: 유창호/ 02-753-6392   - 품목 : 소박스  - 도착지 주소 : 경기서 안양시 동안구 관양동 오비스 타워 8층 - 받는사람 / 전화번호 : 강효민/031-688-8041\\tPARCEL\\n',\n",
       " '서울시 노원구 상계로 64 화랑빌딩 1층 온오프매장 에서 서울특별시 서초구 서초동 1550-7 두원빌딩으로 가져다 주시는걸로 견적좀 앗ㄴ려주세요\\tQUICK\\n',\n",
       " '- 도착지 :  서울시 용산구 원효로 2가 52-3 인텍앤컴퍼니 2층 - 받는사람 : 남지애 대리님(02-2129-7814) - 보내는 사람 : 문선정(010-9770-7509) - 품목 : 서류\\tQUICK\\n',\n",
       " '- 출발지 주소 : 경기도 안산시 단원구 강촌로 139번길 9(성곡동 599) 코리아 써키트 - 받는사람 / 전화번호 : 손소연 주임님/ 031-436-5761/ 010-6241-0959 - 도착지 주소 : 경기서 안양시 동안구 관양동 오비즈 타워 8층 - 보내는 사람 / 전화번호: 홍미영/031-688-8000  - 품목 : 소박스\\tQUICK\\n',\n",
       " '1. 출발지 : 구리시 안골로85번길 16. 2층호(수택1동 419-16번지 2층) 박찬구(010-8789-7961)  2. 도착지 : 서울특별시 서초구 방배동 894-2 번지 4층(서초대로 124) 원흥 본 치과 담당자님 (02-3453-0203)  3. 결제 : 선불 현금  4. 내용 : 영수증등 세무관련 서류가 든  A3사이즈 대봉투 한묶음  이상입니다.\\tQUICK\\n',\n",
       " '인천 현대택배 물류센터에서 서구 원창동입니다\\tQUICK\\n',\n",
       " '물품은 도장카드1장 및 OTP인증기\\tQUICK\\n',\n",
       " '경주 노서에서 경주 황성동 퀵 접수 되나요 지금\\tQUICK\\n',\n",
       " '저희 회사에서 여기로 퀵 보낼건데요\\tQUICK\\n',\n",
       " '서류한건. 여의도 퀵 요청드립니다\\tQUICK\\n',\n",
       " '퀵 하나만 부탁드려요\\tQUICK\\n',\n",
       " '안녕하세요 퀵 요청드립니다\\tQUICK\\n',\n",
       " '네 퀵 좀\\tQUICK\\n',\n",
       " '퀵 신청합니다\\tQUICK\\n',\n",
       " '퀵 신청 드립니다~\\tQUICK\\n',\n",
       " '저희 퀵 하나 부탁드립니다^^<br>- 지역 : 강남구 영동대로 417<br>- 받으시는분 : 유수진님(02-6296-4035)<br>- 보내시는분 : 이진경님(010-3324-8603)<br>- 품목 : 서류\\tQUICK\\n',\n",
       " '토요일에 서울에서 퀵을 받을 것이 있는데 업체는 오전에만 일하고 저는 지방에서 오후에 서울에 도착합니다. 그 퀵 물건을 오전에 받아두셨다가 오후에 제가 서울 도착하면 다시 배달해주시는 서비스도 가능한가요?\\tQUICK\\n',\n",
       " '퀵 업체명이 어떻게 되나요?\\tQUICK\\n',\n",
       " '퀵 요청 합니다!\\tQUICK\\n',\n",
       " '그리구 저희 퀵 하나 요청드립니다<br>- 지역 : 서초구 잠원동 9-4<br>- 받으시는분 : 설치현 팀장님 010-5443-0005<br>- 보내시는분 : 윤선미 님(010-3324-8603)<br>- 품목 : 책자\\tQUICK\\n',\n",
       " '11시 30분 까지 코리아 써키트로 퀵 아저씨가 가실 수 있으실까요?\\tQUICK\\n',\n",
       " '안녕하세요 제가 이따가 퀵 이용이 필요한데 결제된 책을 교보문고에서 수령해서 배송해주시는게 가능할까요?\\tQUICK\\n',\n",
       " '선릉에서 혜화까지 퀵 보내려면 시간이 어느정도 걸리나요?\\tQUICK\\n',\n",
       " '퀵 불러주세요<br><br>지불방식: 착불<br><br>출발지: 경기도 성남시 중원구 여수동 산들마을아파트 206동 202호 더블오리지널스 050-5356-1111<br><br>도착지: 서울시 강남구 논현동 134-7 b1층 이효준 010-8997-5959<br><br>배송품목: 핸드폰 10대 입니다\\tQUICK\\n',\n",
       " '퀵 신청 합니다! 3시 40분에 퀵 부탁드려요~\\tQUICK\\n',\n",
       " '지금 바로 퀵 요청 합니다.\\tQUICK\\n',\n",
       " '오늘 오후 2시에 퀵 보내 주세요~\\tQUICK\\n',\n",
       " '지난주애 요청드린건데 결제 및 퀵 부탁드립니다\\tQUICK\\n',\n",
       " '안녕하세요! 퀵 서비스 예약 부탁드려요~\\tQUICK\\n',\n",
       " '앗. 퀵 취소 부탁 드려요\\tQUICK\\n',\n",
       " '저희 회사에서 여기로 퀵 보낼건데요\\tQUICK\\n',\n",
       " '가능한 퀵 있는지 알아봐주세요\\tQUICK\\n',\n",
       " '안녕하세요^^ 저희 퀵 하나 요청드립니다<br>- 지역 : 영등포구 여의도동 23<br>- 받는사람 : 김현슬님(02-6099-4334)<br>- 보내는사람 : 방윤정 (010-3324-8603)<br>- 품목 : 서류(A4 박스 사이즈)\\tQUICK\\n',\n",
       " '혹시 퀵 비용까지 카드결제 모두 가능한지 궁금하다고 하네요 ^^;;;;\\tQUICK\\n',\n",
       " '위에 츄엣초콜릿과 스니커즈 미니 4봉지씩 구매 및 퀵 배달 부탁 드려요~\\tQUICK\\n',\n",
       " '서류 봉투 하나 퀵 신청합니다!!\\tQUICK\\n',\n",
       " '저희 퀵 예약 할게요!\\tQUICK\\n',\n",
       " '지금 바로 퀵 좀 부탁드려요!\\tQUICK\\n',\n",
       " '서울시 강남구 테헤란로 420 9층에서 서울특별시 종로구 창경궁로 26길 22로 퀵 하나 보내려고 합니다.\\tQUICK\\n',\n",
       " '저희 퀵 하나 더 보내 주세요~\\tQUICK\\n',\n",
       " '오늘 퀵 서비스 요청합니다.\\tQUICK\\n',\n",
       " '내일 오전 9:30분에 퀵 서비스 요청 합니다!~\\tQUICK\\n',\n",
       " '안녕하세요. PTC 코리아입니다. 어제 요청한 퀵이 잘 못가서 다시한번 퀵 요청드립니다. ㅇ\\tQUICK\\n',\n",
       " '내일 아침 6시에 안양역에서 출발하도록 배방오르젠중앙하이츠1단지까지 퀵/용달/지하철택배를 보내려고 하는데요 가능한 업체와 견적을 알 수 있을까요?\\tQUICK\\n',\n",
       " '업체 오전 퀵 배송 > 문비서님 수령 > 문비서님이 오후 1시에 용산ktx 역에서 저와 접선 .... 이 코스 입니다 ㅜㅜㅜ\\tQUICK\\n',\n",
       " '안녕하세요^^ 저희 퀵 하나 부탁드립니다~<br>- 지역 : 경기도 안양시 동안구 비산 1동<br>- 받는사람 : 이세환 님(010-9630-3327)<br>- 보내는사람 : 방윤정(010-3324-8603)<br>- 품목 : 서류\\tQUICK\\n',\n",
       " '저희 퀵 요청드려요^^<br>- 지역 : 강서구 등촌동 664-8<br>- 받는분 : 황해미 님(010-9443-0982)<br>- 보내는분 : 이진경 님(010-3324-8603)<br>- 품목 : 서류\\tQUICK\\n',\n",
       " '안녕하세요^^ 저희 퀵 요청드립니다<br>- 지역 : 영등포구 여의도동 23<br>- 받는사람 : 김현슬님(02-6099-4334)<br>- 보내는 사람 : 방윤정(010-3324-8603)<br>- 품목 : 서류\\tQUICK\\n',\n",
       " '퀵 불러주세요<br><br>지불방식: 카드(선불)<br><br>출발지: 경기도 시흥시 정왕동 2319-3 세진B/D 506호 더블오리지널스 050-5356-1111<br><br>도착지: 서울시 마포구 성산동 591-1 이안1차 1502호 이종수<br>010-9343-7534<br><br>배송품목: 핸드폰 2대 입니다\\tQUICK\\n',\n",
       " '안녕하세요^^ 저희 퀵 하나 요청드립니다<br>- 지역 : 서초구 잠원동 9-4<br>- 받으시는분 : 설지현팀장님(010-5443-0005)<br>- 보내시는분 : 윤선미부장님(010-3324-8603)<br>- 품목 : 서류\\tQUICK\\n',\n",
       " '퀵 불러주세요<br><br>지불방식: 착불<br><br>출발지: 경기도 시흥시 정왕동 2319-3 세진B/D 506호 더블오리지널스 050-5356-1111<br><br>도착지: 서울시 도봉구 창2동 623-7 3층<br><br>010-7731-1756<br><br>배송품목: 핸드폰 5대 입니다\\tQUICK\\n',\n",
       " '제가 돈을 내야 하는데요 현금이 없는데 혹시 퀵 문비서에서 계약되어 있는 곳이면 제 계좌에서 빼서 주시는 것도 가능한가요?\\tQUICK\\n',\n",
       " '퀵 영동대로 1건 서류입니다\\tQUICK\\n',\n",
       " '좀전에 퀵 전화왔는데 오토바이라고 하시던데요? 오토바이는 케익배송 못합니다. 연락받으셨나요? 어젠 케익은 다마스로 보내주신다셔서 안심했는데요\\tQUICK\\n',\n",
       " '혹시 11시 10~15분 사이에 픽업 결제 및 바로 퀵 가능할가요? 장소는 여의도ok버거 입니다.\\tQUICK\\n',\n",
       " '퀵 좀 보내주세요~ 5시 까지요~\\tQUICK\\n',\n",
       " '퀵 불러주세요<br><br>지불방식: 착불<br><br>출발지: 경기도 시흥시 마유로 226 파인힐오피스텔 A동 512호 더블오리지널스 010-2918-0158<br><br>도착지: 광진구 화양동 41-14 7층 010-8997-5959<br><br>배송품목: 핸드폰 9대 입니다\\tQUICK\\n',\n",
       " '좋은아침입니다 :)<br>저희 물품주문이랑 퀵 하나 요청드립니다.<br><br>수신처 : 안양시 동안구 비산3동 360-17 국민은행 안양비산동지점<br>수신인 : 하 진동 님 (031-385-4301)<br>발신인 : 노 다영 (02-3484-8000/010-4336-9664)<br>내용 : 서류<br><br>오피스디포 물품<br>#321818 *1<br>#305087 *3<br><br>감사합니다.\\tQUICK\\n',\n",
       " '서울 서대문구에서 성동구 광나루로 가는 퀵 부탁드립니다\\tQUICK\\n',\n",
       " '안녕하세요 :)<br><br>저희 퀵 두건 신청부탁드려요!<br><br>-수신 : 서울 서초구 강남대로 101길 43 윌비커뮤니케이션<br>-수신인 : 설지현 (010-5443-0005)<br>-발신인 : 윤선미 (02-3484-8000)<br>-내용 : 서류<br><br>-수신 : 서울 영등포구 여의도동 23 서울국제금융센터 원아이에프씨 5층 안진회계법인<br>-수신인 : 김현슬 (02-6099-4334)<br>-발신인 : 이승희 (02-3484-8000)<br>-내용 : 서류<br><br>감사합니다.\\tQUICK\\n',\n",
       " '퀵 서비스 예약 합니다! 오늘 오후 4시로 부탁드려요~\\tQUICK\\n',\n",
       " '아 직접 주신다고 합니다. 특별히 상품에 아무런 기재 없이 <br>퀵 수령인 변종하 팀장님으로 그대로 진행해 주십시요. <br><br>C.P : 010-5354-6475<br>02-553-3400 <br>입니다.\\tQUICK\\n',\n",
       " '안녕하세요 PTC Korea 입니다. 퀵 신청드립니다. 서울시 종로구 새문안로 5길 31 센터포인트 빌딩 김앤장 법률사무소 김의석 변호사실 장윤지 3703-1308\\tQUICK\\n',\n",
       " '퀵 기사분께 캐쉬로 바로 드릴게요\\tQUICK\\n',\n",
       " '서울시 중구 다동 10 1004호 -&gt; 서울 중구 흥인동 154번지 리더스빌딩 지하2층<br><br>가는 퀵 저렴한 곳 안내부탁드려요~\\tQUICK\\n',\n",
       " '안녕하세요^^ 저희 퀵 요청드려요~~<br>- 지역 : 영등포구 여의도동 23<br>- 받는사람 : 김현슬님(02-6099-4334)<br>- 보내는사람 : 이혜인님(010-3324-8603)<br>- 품목 : 서류<br><br>그리고 이건 퀵데스크에 맡기지 마시구 꼭 본인이 직접 수령할수 있도록 연락해달라구 전달부탁드립니다^^\\tQUICK\\n',\n",
       " '아 그러면 저희 퀵 신청 부탁드릴께요~~<br>- 지역 : 서초구 양재동 218-3<br>- 받으시는분 : 이아영님(02-576-2997)<br>- 보내시는분 : 이진경님(010-3324-8603)<br>퀵 신청 부탁드립니다^^\\tQUICK\\n',\n",
       " '퀵 비용 입금하면 될까요?\\tQUICK\\n',\n",
       " '문비서 퀵 불러주세요\\tQUICK\\n',\n",
       " '음 넵 이따 퀵 신청할게요\\tQUICK\\n',\n",
       " '오토바이 퀵은 혹시 어려운지요?\\tQUICK\\n',\n",
       " '네 오토바이 퀵으로 원하구요<br>케익은 전화로 주문해놓으면 될까요?\\tQUICK\\n',\n",
       " '혹시.. 라면박스 2개 크기인데요.. 오토바이 가능할까요?\\tQUICK\\n',\n",
       " '해당 구청 보다 오토바이 퀵 쪽으로 \\\\\\\\\\\\\"오토바이 폐지 대행을 맡기려한다\\\\\\\\\\\\\"라고 해주시면 더 빠르지 않을까 생각이 됩니다.\\tQUICK\\n',\n",
       " '내일 오토바이 퀵으로 예약 가능할까요?카드같이 남기고 싶은데.방법이 있을까요?\\tQUICK\\n',\n",
       " '영등포구 도영로 66 영등포아트자이 107동 205호 -> 강남구 삼성로 511 골든타워 6층 <br>카드결제가능한 오토바이퀵 불러주세요 !\\tQUICK\\n',\n",
       " '커피명가 안암점에 파는 딸기케인 홀 사이즈 를 퀵으로 배송 받고 싶어요\\tQUICK\\n',\n",
       " '퀵요청드립니다\\tQUICK\\n',\n",
       " '퀵기사님 오시면 137800원 결재하면 되죠?\\tQUICK\\n',\n",
       " '퀵한개만부탁해\\tQUICK\\n',\n",
       " '저 회사로 퀵하나 불러주세요\\tQUICK\\n',\n",
       " '퀵서류한박스 여의도요~\\tQUICK\\n',\n",
       " '성남지역에 퀵업체 사용하신거죠?\\tQUICK\\n',\n",
       " '퀵한건 요청드려요 서류한건이구 영동대로요\\tQUICK\\n',\n",
       " '퀵한개만부탁해\\tQUICK\\n',\n",
       " '퀵신청하겠습니다.\\tQUICK\\n',\n",
       " '퀵이면 비싸지 않나요?\\tQUICK\\n',\n",
       " '네 콜센터에서 주문이 안됩니다<br><br>퀵가능한지 일단 물어봐주세요<br><br>오늘밤이나 내일시켜볼거라서요\\tQUICK\\n',\n",
       " '퀵비용이 얼마인지요?\\tQUICK\\n',\n",
       " '노원구로 퀵배송하고싶어요\\tQUICK\\n',\n",
       " '그럼. 음식점 퀵배달을 문비서를 통해 서비스신청을 하면 제때 이용 가능할지요. 제주도에는 위치나 시간에 따라 퀵서비스 이용에 제약이 많은것 같던데요.\\tQUICK\\n',\n",
       " '퀵비가 얼마나 나올까요 ㅜㅜ\\tQUICK\\n',\n",
       " '문비서님 퀵좀 불러주셔요~\\tQUICK\\n',\n",
       " '안되면 퀵으로라도 배달 부탁드립니다\\tQUICK\\n',\n",
       " '서류 배송입니다\\tQUICK\\n',\n",
       " '지금 기사분이 서류 받으셨다는데 맞는지요???\\tQUICK\\n',\n",
       " '- 도착지 : 강남구 개포로 256 이화트론빌딩 6층 푸름데이타웨어<br>- 받는사람 : 김영호 부장(010-8957-0773)<br>- 보내는 사람 : 서현석(010-9186-3816)<br>- 품목 : 서류\\tQUICK\\n',\n",
       " '주소 :서울 금천구 가산동 459-9 가산KIDC <br>받는 사람 : 이영진 (010-6314-7943)<br>보내는 사람 : 김기주 (010-8913-9056)<br>제품 : BOX 1개(서류 봉투보다 작은 사이즈입니다.)<br>4시 까지 배송 요청 합니다.<br>\\tQUICK\\n',\n",
       " '- 도착지 : 서울시 영등포구 문래 3가 82-29 우리벤처타운2 1102호 그린벨시스템즈<br>- 받는사람 : 김경탁 부장(010-5297-5882)<br>- 보내는 사람 : 서현석(010-9186-3816)<br>- 품목 : 서류\\tQUICK\\n',\n",
       " '도착지 : 서울특별시 영등포구 국제금융로 8길 26(여의도동) 5층 국민은행 총무부<br>받는 사람 : KB국민은행 총무부 강원태 계장님(전화:2073-6124)<br>보내는 사람 : 김종윤 (02-3449-0863)<br>품목 : 서류\\tQUICK\\n',\n",
       " '- 도착지 : 서울특별시 영등포구 국제금융로 10 국제금융센터 Two IFC 빌딩 25층 AIG손해보험<br>- 받는사람 : 최성준 (02-2260-6783)<br>- 보내는 사람 : 임영민 (02-3449-0825)<br>- 품목 : 서류\\tQUICK\\n',\n",
       " '도착지 : 서울 종로구 내수동 167 국민카드 6층 총무부 <br>받는 사람 : KB국민카드 총무부 소속 최유림 대리님 (TEL: 6936-2958)<br>보내는 사람 : 김종윤 (02-3449-0863)<br>품목 : 서류\\tQUICK\\n',\n",
       " '- 도착지 : 서울시 용산구 원효로58길 15 (원효로2가) 인텍앤컴퍼니 2층<br>- 받는 사람 : 남지애 대리님 (02-2129-7814)<br>- 보내는 사람 : 문선정 (02-3449-0815)<br>- 품목 : 서류\\tQUICK\\n',\n",
       " '- 도착지 : 서울시 강남구 테헤란로 152 강남파이낸스센터 18층 한국이엠씨컴퓨터시스템즈<br>- 받는사람 : 계양화 02-2125-7000<br>- 보내는 사람 : 김기주 02-3449-0857<br>- 품목 : 서류\\tQUICK\\n',\n",
       " '- 도착지 : 쌍용정보통신/ 서울시 중구 수표로 34 씨티센터타워 4층<br>- 받는사람 : 이종렬부장/ 010-3306-6167<br>- 보내는 사람 : 이종희 (010-4893-0444)<br>- 품목 : 서류\\tQUICK\\n',\n",
       " '받는분 정민정 010-9770-3793 서류 입니다<br>카드 선결제 하려구요. 문비서 통해서 할게요! 어떻게 하면 되나요?\\tQUICK\\n',\n",
       " '보내는사람 : 장동진 / 010-9059-7504<br>받는사람 : 정인숙 / 010-9206-0074<br>품목 : 서류 (대봉투 1개)\\tQUICK\\n',\n",
       " '*해야 될 일 : 서류 작성(오토바이폐지신고서) 서류는 이륜차 당담자에게 요청하면 주심 + [ 양도증명서]<br><br>기사님이 오시면 추가 요청드려도 되는 부분인지요\\tQUICK\\n',\n",
       " '라면박스보다좀큰 배박스 정도됩니다.\\tQUICK\\n',\n",
       " '- 도착지 주소 : 경기도 안산시 단원구 강촌로 139번길 9(성곡동 599)<br>- 받는사람 / 전화번호 : 손소연 주임님/ 031-436-5761/ 010-6241-0959<br>- 출발지 주소 : 경기서 안양시 동안구 관양동 오비즈 타워 8층<br>- 보내는 사람 / 전화번호: 홍미영/031-688-8000 <br>- 품목 : 소박스\\tQUICK\\n',\n",
       " '- 출발지 주소 : 서울특별시 구로구 디지털로31길 38-9 에이스테크노타워 1차 502호 텍스모<br>- 보내는 사람 / 전화번호: 황화영부장천동화과장/02-2109-6699<br>- 품목 : 소박스 <br>- 도착지 주소 : 경기도 안양시 동안구 관양동 오비즈 타워 8층<br>- 받는사람 / 전화번호 : 강효민/031-688-8041\\tQUICK\\n',\n",
       " '내용 서류-&gt; 소박스\\tQUICK\\n',\n",
       " '메가박스 드라이브m 용인이요\\tQUICK\\n',\n",
       " '저희집에서 부산 동래구 명륜동으로 박스하나 보내려고하는데\\tQUICK\\n',\n",
       " '- 출발지 주소 : 경기도 안양시 동안구 관양동 오비즈 타워 8층<br>- 보내는 사람 / 전화번호: 홍미영/031-688-8022 <br>- 품목 : 소박스 <br>- 도착지 주소 : 경기도 성남시 중원구 상대원동 138-7 2층 BVKotiti<br>- 받는사람 / 전화번호 : 권상훈/ 02-3451-0949\\tQUICK\\n',\n",
       " '혹시.. 라면박스 2개 크기인데요.. 오토바이 가능할까요?\\tQUICK\\n',\n",
       " '중간박스 여의도퀵한건이요 주소붙였습니다\\tQUICK\\n',\n",
       " '한건은 라면 박스 이고 한건은 손바닥 만합니다. 편디 봉투 보다는 틉니다\\tQUICK\\n',\n",
       " '노보텔 강남으로 박스 1개요~\\tQUICK\\n',\n",
       " '소박스 입닞당\\tQUICK\\n',\n",
       " '이건은 다마스 요청 드립니다. 박스 1개에요 ~\\tQUICK\\n',\n",
       " '저는 배달하기 좋게 박스만 준비하면 되는거죠?\\tQUICK\\n',\n",
       " '주소 : 서울특별시 금천구 가산디지털1로 189 LG U+ 가산디지털센터<br>담당자 : 김영훈<br>연락처 : 010-3436-7032<br>고객사 : 네이버 <br>제품 : 큰 박스 2개 (다마스 요청 드려요)\\tQUICK\\n',\n",
       " '다마스퀵은 안전한가요\\tQUICK\\n',\n",
       " '출발지 : 동대문종합시장 A동 3층 3184<br>도착지 : 송파구 송파동 110-11번지 101호<br>다마스까지 필요없고 오토바이로도 충분히 배달 가능한 부피라고 합니다 :) 지금 집에 사람이 있으니 언제든지 배송 부탁드려요~ <br>결제는 어떻게 하면 되나요?\\tQUICK\\n',\n",
       " '다마스퀵으로 부탁드립니다.\\tQUICK\\n',\n",
       " '다마스로 부탁 드려요~\\tQUICK\\n',\n",
       " '다마스 한명 2만원이 된다면 다마스로 하겠습니다.\\tQUICK\\n',\n",
       " '양이 많아서 다마스퀵으로 신청 드립니다~~~\\tQUICK\\n',\n",
       " '이건은 다마스 요청 드립니다. 박스 1개에요 ~\\tQUICK\\n',\n",
       " '안녕하세요~ 퀵 신청 드립니다.\\tQUICK\\n',\n",
       " '퀵 신청하려고 합니다 도착지 영등포구 여의도동 23 서울국제금융센터 원아이에프씨 5층 안진회계법인 김현슬 tel : 02 6099 4334\\tQUICK\\n',\n",
       " '11시에 픽업 예약 부탁드려요!\\tQUICK\\n',\n",
       " '- 출발지 주소 : 종로구 가회동 30-1 최신물산<br>- 보내는 사람 / 전화번호: 김혜정/ 02-3294-7262  <br>- 품목 : 소박스 <br>- 도착지 주소 : 경기도 안양시 동안구 관양동 오비스 타워 8층<br>- 받는사람 / 전화번호 : 강효민/031-688-8041\\tQUICK\\n',\n",
       " '안녕하세요 퀵 신청 부탁드립니다.<br>수신 : 서울시 강서구 공항대로 453 한진정보통신<br>조숙현 상무님 : 010-2210-2879<br>양환승 상무님 : 010-4827-5067<br><br>두 분 앞으로 옥화환 2개 보내려고합니다.<br>손잡이 있는 비닐가방에 포장되어 있고 1층 안내데스크에 보관 부탁드립니다\\tQUICK\\n',\n",
       " '출발지 주소: 서울시 서초구 방배4동 807-11번지 베로니스 3차 501호<br>보내시는 분/연락처: 이선영/ 01095847460<br><br>도착지 주소: 서울시 용산구 한남대로 98 일신빌딩 2층 오윈<br>받으시는 분/연락처: 홍은지/ 010.9807.9873<br><br>물품 크기(서류/소박스/대박스): 쇼핑백 한개<br>결제방법(선불/착불): 착불\\tQUICK\\n',\n",
       " '7월 28일부터 8월3일 까지 서울에서 토론토 가는 저렴한 항공편 예매 알아봐주세요\\tAIRPLANE\\n',\n",
       " '3월19일 인천 출발 벤쿠버 도착, 3월 29일 벤쿠버 출발 인천 도착 에어캐나다로 알아봐주세요\\tAIRPLANE\\n',\n",
       " '요번달 마지막 주말에 도쿄행 항공편 예매 부탁이요\\tAIRPLANE\\n',\n",
       " '인천-이탈리아 왕복 6월27일 토요일 출발로 찾아주세요\\tAIRPLANE\\n',\n",
       " '3월24일 오후 8시이후로 제주도행 최저가 추천해죠\\tAIRPLANE\\n',\n",
       " '서울 상하이 왕복 비행기 비지니스석으로 알아봐줘\\tAIRPLANE\\n',\n",
       " '이코노믹으로 검색 부탁해요\\tAIRPLANE\\n',\n",
       " '가격 상관없이 가장 빠른 뉴욕행 알아봐줄래?\\tAIRPLANE\\n',\n",
       " '3월 23일 인천 출발 엘에이 도착, 27일 엘에이 출발 뉴욕 도착, 31일 뉴욕출발 인천도착하는 항공편 알아봐줘. \\tAIRPLANE\\n',\n",
       " '2017.5.26 금 인천공항 출발 마닐라공항 도착, 2017.5.31 수 인천 도착 최저가로 검색해죠\\tAIRPLANE\\n',\n",
       " '인천-부산 2017.4.19 7시근처, 부산-인천 2017.4.29, 5만원미만 항공권\\tAIRPLANE\\n',\n",
       " '토론토행 대한항공 직항 시간 알아봐죠\\tAIRPLANE\\n',\n",
       " '진에어나 제주항공으로 알아봐줘\\tAIRPLANE\\n',\n",
       " '내일 아침 제주도 갔다가 오후 늦게 올라오는 항공편 알아봐주세요\\tAIRPLANE\\n',\n",
       " '올해 추석연휴때 베트남 항공편 및 호텔 알아봐 주세요\\tAIRPLANE\\n',\n",
       " '3월 27일(월요일) 서울 인천에서 베이징가는 대한항공 예약 부탁합니다\\tAIRPLANE\\n',\n",
       " '항공권 예약도 가능한가요?\\tAIRPLANE\\n',\n",
       " '그럼 내일 제주항공 대기 걸어주세요\\tAIRPLANE\\n',\n",
       " '부산-모스크바 직항 있나요? \\tAIRPLANE\\n',\n",
       " '요번주 주말 인천 출발 제주도행 항공편 알아봐주세요\\tAIRPLANE\\n',\n",
       " '다음주 화요일 중국 상해행 최저가표 성인3명 알아봐주세요\\tAIRPLANE\\n',\n",
       " '항공권 구매할때 크레딧카드로 결제 가능한가요?\\tAIRPLANE\\n',\n",
       " '인천 - 상하이 왕복 5월 13일 8시 출발 5월 17일 5시이후 출발\\tAIRPLANE\\n',\n",
       " '2월9일 인천에서 부산 당일 왕복 항공권 알아봐주세요\\tAIRPLANE\\n',\n",
       " '도쿄왕복 4월27일 출발 4월29일 도착 부탁해요\\tAIRPLANE\\n',\n",
       " '9월 30일 인천 출발 밴쿠버 경유 토론토 도착 예매 부탁해요\\tAIRPLANE\\n',\n",
       " '요번주말 제주도 왕복행 프로모션 항공권 있나요?\\tAIRPLANE\\n',\n",
       " '7월23일 김포에서 부산행 왕복 항공권 문의요. 23일 아침일찍 출발해서 24일 오후 늦게 돌아오는 저렴한 항공권으로 알아봐주세요\\tAIRPLANE\\n',\n",
       " '인천출발 청도도착 6월11일 오후비행기로. 청도출발 인천도착 6월 19일 아침비행기로 문의드려요\\tAIRPLANE\\n',\n",
       " '항공권 문의 하는데요 인천발 LA행 6월중순경으로 알아봐주세요. 최대한 저렴한 순서로요\\tAIRPLANE\\n',\n",
       " '비행기표 예매도 해주나요?\\tAIRPLANE\\n',\n",
       " '인천-오사카 2.9~2.14 \\tAIRPLANE\\n',\n",
       " '요번주말 제주도 왕복 항공권 최저가로 알아봐주세요\\tAIRPLANE\\n',\n",
       " '스카이패스 번호주면 입력가능한가요?\\tAIRPLANE\\n',\n",
       " '29일 오전 9시경 김포출발 부산, 다음날 오후 7시경 부산출발 김포도착\\tAIRPLANE\\n',\n",
       " '3월 20일부터 2박3일로 일본 도쿄 왕복 뱅기표 알아봐주세요\\tAIRPLANE\\n',\n",
       " '경유 항공권도 예매 가능한가요?\\tAIRPLANE\\n',\n",
       " '7월25일 하와이 왕복 항공권 예매하고 싶은데요\\tAIRPLANE\\n',\n",
       " '시카고행 편도 비행기표 알아봐주세요 날짜는 3월29일\\tAIRPLANE\\n',\n",
       " '비행기 예약 부탁해요. 2016.5.26 금 오전 9시 서울 - 북경 2016.6.2  \\tAIRPLANE\\n',\n",
       " '지난번 예약했던 항공권 취소 가능한가요? 환불 수수료도 있나요?\\tAIRPLANE\\n',\n",
       " '요번주말 중국 청도행 항공권 날짜 변경 하고싶은데요\\tAIRPLANE\\n',\n",
       " '인천발 뉴욕행 요번주 금요일 2017.3.24 대한항공으로 알아봐주세요\\tAIRPLANE\\n',\n",
       " '서울에서 요번주말 마카오 왕복 비행기표 알아봐주세요\\tAIRPLANE\\n',\n",
       " '뉴욕행 대한항공 비지니스석은 얼마인가요?\\tAIRPLANE\\n',\n",
       " '요번 3월 19일 인천-도쿄 왕복 티켓 구매했는데요 오는 날짜를 3월 23일로 변경 가능한가요?\\tAIRPLANE\\n',\n",
       " '인천 - 시카고 4월 5일 출발 시카고 - 인천 4월 18일 출발 최저가로 알아봐주세요\\tAIRPLANE\\n',\n",
       " '가족이랑 중국 여행 갈려고 하는데 패키지 상품 추천해주세요\\tAIRPLANE\\n',\n",
       " '5.25~5.30 부산 북경 항공편 예매해주세요\\tAIRPLANE\\n',\n",
       " '6월 9일 7시이후 인천 출발 스페인 바르셀로나 도착 항공편 알아봐주세요\\tAIRPLANE\\n',\n",
       " '오늘 출발 가능한 호주 시드니행 비행기 알아봐주세요\\tAIRPLANE\\n',\n",
       " '항공권 예매 부탁해요. 인천 출발 베트남 호치민 도착 7월11일부터 7월 15일까지.. \\tAIRPLANE\\n',\n",
       " '제주-김포 16.12.08 17:30 출발 2명 예약되었습니다. \\tAIRPLANE\\n',\n",
       " '인천공항에서 항주로가는 최저가항공편 알아봐주세요\\tAIRPLANE\\n',\n",
       " '6월9일 티웨이항공 김포 to 제주 11시35분. 제주 to 김포19시10분 가격 확인  확인부탁합니다\\tAIRPLANE\\n',\n",
       " '혹시 오늘 저녁에 제주에서 서울갔다가 월요일 저녁에 돌아오는 비행기표 있을까요.\\tAIRPLANE\\n',\n",
       " '오마이제주도 견적부탁드려용~ 그리구 저 티켓으로 두명도 가능한지도 물어봐주세요\\tAIRPLANE\\n',\n",
       " '그럼 최저가항공이아닌 투어2000이라던지 지마켓에서 구매가능한 항공권은 예매해주실있나요?\\tAIRPLANE\\n',\n",
       " '내년 추석연휴 중국상해 및 항저우 관광상품 좀 알아봐주세요\\tAIRPLANE\\n',\n",
       " '월요일날 김포 제주 비행기 편도 저렴한 표 두장 알아봐주세요\\tAIRPLANE\\n',\n",
       " '내일 (일요일) 저녁 .. 서울 김포에서 사천가는 대한항공 예약 필요합니다~~\\tAIRPLANE\\n',\n",
       " '에어부산을 우선적으로 알아봐 주시고\\tAIRPLANE\\n',\n",
       " '네. 그렇게 되면 기존의 사람들 항공은 동일한 항공편으로 진행될 수 있도록 부탁드려요.   오늘 서형준님과 동일한 비행기로 하기를 원합니다.\\tAIRPLANE\\n',\n",
       " '27일은 대기로 걸고. 이상민. 25일 금요일에 돌아오는걸로 일단 변경 해달라고 해주세요\\tAIRPLANE\\n',\n",
       " '신용카드로 결제하여 항공권 발권하고 싶습니다.\\tAIRPLANE\\n',\n",
       " '김진수님의 금요일 비행기를 토요일로  변경하는 건입니다.\\tAIRPLANE\\n',\n",
       " '17일 오후 12시 출발 19일 오후 12시 출발 제주도 성인2명 유아1명 항공권 예약 부탁드립니다.\\tAIRPLANE\\n',\n",
       " '네 감사합니다. 그럼 우선 에어부산과 대한항공 대기 예약 걸어주실수 있나요?\\tAIRPLANE\\n',\n",
       " '제주 비행기표 건은 이미지나서 되려나요?\\tAIRPLANE\\n',\n",
       " '동일하게 아시아나로 해주세요.\\tAIRPLANE\\n',\n",
       " '여행일정 하와이- 12/21 마우이 3박 호놀룰루 3박 최저가격으로 견적 부탁해용\\tAIRPLANE\\n',\n",
       " '5월 20일날 예약했던 왕복 비행편을 취소하고 5월 27일날 예약하고 싶습니다. 재판기일이 연기되어서요...ㅜㅜ\\tAIRPLANE\\n',\n",
       " '11월 12일부터 16일 서울 출발 도쿄 나리타공항 최저가 알아봐주세요 아침 도착으로요 16일은 낮 12시30정도 비행기요\\tAIRPLANE\\n',\n",
       " '내일 아침 일찍 제주도 비행기 예약을 하려구요~ \\tAIRPLANE\\n',\n",
       " '월요일 오후 5:50분 편도 2  명 이름 안 영숙 신 분생 두사람다 여자\\tAIRPLANE\\n',\n",
       " '비행기 예약도 알아봐주실 수 있나요?\\tAIRPLANE\\n',\n",
       " '코타키나발루행 비행기와\\tAIRPLANE\\n',\n",
       " '대한항공 청주 ㅡ 제주 왕복  6월8일 목 8시30분 출발  6월10일 금 15시30분 출발\\tAIRPLANE\\n',\n",
       " '안녕하세요 문비서님   아래의 일정으로 비행기 예약 부탁 드려요.   * 2016.12.8.(목) 오전 7시 (07:00) 김포 -&gt; 제주  고주혁(남) 820122 김건영(남) 850217  * 2016.12.8.(목) 오후 5:30 (17:30) 제주 -&gt; 김포  고주혁(남) 820122 김건영(남) 850217  감사해요.\\tAIRPLANE\\n',\n",
       " '아니면 대한항공이랑 같은 얼라이언스에 있는 일본항공사\\tAIRPLANE\\n',\n",
       " '12월 6일 1월 13일 사이에 더운 나라로 여행을 가고 싶은데요\\tAIRPLANE\\n',\n",
       " '1월 9일 12시 창원 결혼식인데 타고갈 비행기좀 알아봐주세요\\tAIRPLANE\\n',\n",
       " '예컨대 제가 제 아이디와 비번을 드리고 대한항공 티켓팅을 할 시 해당 정보는 바로 폐기 되나요?\\tAIRPLANE\\n',\n",
       " '여기서 마카오 왕복 22일출발 26일 도착 예약만 좀 해주세요~\\tAIRPLANE\\n',\n",
       " '해외여행 페키지 상품 좀 알아봐주세요. 여행 가격은1인당 60~ 80만원 / 3박 5일 ~ 4박 5일 / 인원 25 ~30명 / 출발일 11월 말 ~ 12월 초\\tAIRPLANE\\n',\n",
       " '8월 4일 인천출발 뉴욕도착 8월 9일 뉴욕출발 마야미 도착 8월 16일 한국도착\\tAIRPLANE\\n',\n",
       " '비행스케줄이 나오는 예약 화면 보내주실 수 있나요?\\tAIRPLANE\\n',\n",
       " '김포 제주 내일 비행기 오전8~10시  또는 오후8~ 이후 할인권 으로 알아봐주세요\\tAIRPLANE\\n',\n",
       " '경유하면 몇시간이나 걸리나요? 다음날 가는 편도 알아봐 주세요...\\tAIRPLANE\\n',\n",
       " '안녕하세요^^ 3월 26일 27일 김포에서 제주행 항공권 문의드릴려구요~ 26일 오전 일찍 김포에서 출발해서 27일 오후 늦게 제주에서 김포로 돌아오는 항공권좀 알아봐두실수 잇으실까요~\\tAIRPLANE\\n',\n",
       " '9일 항공권은 보내드린 그대로 예약 부탁드립니다\\tAIRPLANE\\n',\n",
       " '유명상과 김종엽입니다. 영문성함은 며칠 전에 보내드린 적이 있습니다. 한명은 9월67일. 한 명은 78일로 부탁드려요.\\tAIRPLANE\\n',\n",
       " '네 출발이 1235 - 1435  / 도착이 현지 16시 출발이요\\tAIRPLANE\\n',\n",
       " '제주도에 8.4-8.8\\tAIRPLANE\\n',\n",
       " '아시아나로는 처음가는거라 혹시 회원등록가능하다면 부탁드리겠습니다 여권사본은 메일보내드리고 톡드릴게요\\tAIRPLANE\\n',\n",
       " '주말 잘 보냈나요? 29일 김포에서 제주가는 편도 2시25분 진에어 예약바랍니다\\tAIRPLANE\\n',\n",
       " '출발일은 불가능하고 분명 도착일 변경 가능하다고 통화햇는데 무슨소린지 모르겟네요.\\tAIRPLANE\\n',\n",
       " '네 오늘 내려가는건 제가 따로 구했으니 내일 비행기만 취소환불시키면 되세요~\\tAIRPLANE\\n',\n",
       " '안녕하세요 문비서님 항공권 예매 부탁 드려요 ^_^\\tAIRPLANE\\n',\n",
       " '24일 오전11시이전 김포 제주 26일 오후7시이후 제주 김포 부탁\\tAIRPLANE\\n',\n",
       " '제가 여수에서 서울로 올라가는 비행기 티켓(3/27)을 예매했데\\tAIRPLANE\\n',\n",
       " '일요일 오후일곱시에서 아홉시사이 서울에서 제주 비행기표 부탁합니다\\tAIRPLANE\\n',\n",
       " '문비서 오늘 서울 올라가는 비행기 좀더 일찍올라가게 변경 할수있나요? 5시이후로\\tAIRPLANE\\n',\n",
       " '아 그리고 혹시 문비서님 비행기 예약도 가능한가요?\\tAIRPLANE\\n',\n",
       " '비행기표 예매부탁해요<br>8월19일 제주에서 20.45 진에어로 김포가는거<br>8월21일 김포에서 20.20 진에어로 제주가는걸로요\\tAIRPLANE\\n',\n",
       " '비행기 티켓 예매 부탁드립니다\\tAIRPLANE\\n',\n",
       " '8시 비행기\\tAIRPLANE\\n',\n",
       " '약간 이른데요. 오후 비행기는 없나요?\\tAIRPLANE\\n',\n",
       " '일산 행신에서 광주 라마다 플라자 가려고 하는데. KTX 랑 비행기 두가지로 가는 방법 확인 부탁드립니다.\\tAIRPLANE\\n',\n",
       " '6시 30분 김포 부산 비행기 예약 좀 하려고요\\tAIRPLANE\\n',\n",
       " '비행기는 하나 회사 카드로 하고요\\tAIRPLANE\\n',\n",
       " '네 비행기 예약되면 말씀 주세요\\tAIRPLANE\\n',\n",
       " '월요일날 김포 제주 비행기<br>편도 저렴한 표 두장 알아봐주세요\\tAIRPLANE\\n',\n",
       " '아 그렇군요~<br>제가 이스타에 가서 황칠상 이희영 비행기편을 변경 가능하겠는지요?\\tAIRPLANE\\n',\n",
       " '두바이의 <br>크라운 플라자 두바이 데이라 (Crowne Plaza Dubai Deira)<br>Salahuddin Road Deira Dubai 8668 AE<br>+97142625555<br>호텔에 1/8~10 2박 예약했는데<br>1/8(금) 비행기 도착이 오전 5am<br>이어서 Early Chek-in 부탁합니다. (6:00~6:30am 정도)<br><br>예약자명 (총 3명 총 3개 방) : Lee Dong Hee<br>Lee Jung Chul<br>Han Nam Hee\\tAIRPLANE\\n',\n",
       " '12월 9일 제주도에서 김포 제주도에서 광주 오는 비행기 싼 가격으로 알아봐주세요!\\tAIRPLANE\\n',\n",
       " '감사해요 표가없으면 내일 첫비행기도 됩니다\\tAIRPLANE\\n',\n",
       " '제가 곡성에서 서울로 올라가는길인데 마지막비행기표는 없는지요\\tAIRPLANE\\n',\n",
       " '내일 아침 일찍 제주도 비행기 예약을 하려구요~\\tAIRPLANE\\n',\n",
       " '11월 12일부터 16일 서울 출발 도쿄 나리타공항 최저가 알아봐주세요 아침 도착으로요 16일은 낮 12시30정도 비행기요\\tAIRPLANE\\n',\n",
       " '감사합니다... <br>아침일찍 비행기 밖에 답이 없겠네요 ㅜㅜ <br>시간이 너무 남아서 다른방법이 없나 궁금했었는데요...\\tAIRPLANE\\n',\n",
       " '네. 그렇게 되면 기존의 사람들 항공은 동일한 항공편으로 진행될 수 있도록 부탁드려요. <br><br>오늘 서형준님과 동일한 비행기로 하기를 원합니다.\\tAIRPLANE\\n',\n",
       " '비행기도다시 알아봐주세요 오늘바로 결재할거예요\\tAIRPLANE\\n',\n",
       " '내일 김포~제주 비행기<br>오전 편도 할인권 표 알아봐<br>주세요 9~12시\\tAIRPLANE\\n',\n",
       " '비행기 스케줄 바꿔야해요\\tAIRPLANE\\n',\n",
       " '문비서님 비행기 예약과 차량 렌트 부탁 드려요 ^_^<br><br>김포->제주 3/2(수) 오전 8:30경 출발<br>제주->김포 3/4(금) 오후 7:00경 출발<br><br>렌트 3/2(수) 오전 9:30~ 3/4(금) 오후 6:30 준중형 차량<br><br>탑승자:<br>고주혁 820123 (남)<br>김현수 591003 (남)\\tAIRPLANE\\n',\n",
       " '비행기 예약도 알아봐주실 수 있나요?\\tAIRPLANE\\n',\n",
       " '코타키나발루행 비행기와\\tAIRPLANE\\n',\n",
       " '비행기표 예약 되나요?\\tAIRPLANE\\n',\n",
       " '다음주 화요일 저녁 제주 에서 김포로가는 비행기 예약가능한가요?\\tAIRPLANE\\n',\n",
       " '문비서 7월8일 제주에서 김포가는 20시45분 비행기와 7월10일 김포에서 제주가는 20시35분 비행기표 예매바랍니다\\tAIRPLANE\\n',\n",
       " '9/14~16 서울-부산 비행기좀알아봐주세요\\tAIRPLANE\\n',\n",
       " '아 비서님 시댁비행기시간땜에 취소해야할거같아요 ㅜㅜ\\tAIRPLANE\\n',\n",
       " '다름아니라 내일 김포에서 제주가는 비행기 취소하려고요\\tAIRPLANE\\n',\n",
       " '네 오늘 내려가는건 제가 따로 구했으니 내일 비행기만 취소환불시키면 되세요~\\tAIRPLANE\\n',\n",
       " '비행기는 오후에 출발하는 걸로.\\tAIRPLANE\\n',\n",
       " '오늘 2시 정도에 서울에서 부산가는 비행기 예약 가능할까요? 어른 2 아이 2\\tAIRPLANE\\n',\n",
       " '혹시 오늘 저녁에 제주에서 서울갔다가 월요일 저녁에 돌아오는 비행기표 있을까요.\\tAIRPLANE\\n',\n",
       " '안녕하세요 혹시 비행기 예매도 가능한가요?\\tAIRPLANE\\n',\n",
       " '오늘(8/2일) 저녁 제주도에서 서울오는 비행기 티켓 구해주세요.\\tAIRPLANE\\n',\n",
       " '오늘은 두가지만 확인<br>해주세요.<br>1.제주김포 오후 할인 비행기<br>2.제주재배 감귤(소과)10kg<br> 맛있는데로 알아봐주시고<br> 가격도 알찬데로 다섯군데<br> 택배 보낼겁니다.\\tAIRPLANE\\n',\n",
       " '비행기 좀찾고싶은데\\tAIRPLANE\\n',\n",
       " '안녕하세요~비행기 부탁해요\\tAIRPLANE\\n',\n",
       " '안녕하세요 문비서님 <br><br>아래의 일정으로 비행기 예약 부탁 드려요. <br><br>* 2016.12.8.(목) 오전 7시 (07:00)<br>김포 -&gt; 제주<br><br>고주혁(남) 820122<br>김건영(남) 850217<br><br>* 2016.12.8.(목) 오후 5:30 (17:30)<br>제주 -&gt; 김포<br><br>고주혁(남) 820122<br>김건영(남) 850217<br><br>감사해요.\\tAIRPLANE\\n',\n",
       " '감사합니다.<br>그럼 다시 좀 더 질문드릴께요~<br>20~23시 사이에 제주에서 김포로 오는 비행기 가장 싼 것 알아봐주세요\\tAIRPLANE\\n',\n",
       " '1월 9일 12시 창원 결혼식인데 타고갈 비행기좀 알아봐주세요\\tAIRPLANE\\n',\n",
       " '안녕하세요 문비서님<br><br>아래의 일정으로 비행기 티켓 예약 부탁드려요. <br><br>1. 비행기티켓<br>5/27(금) 오전 11시 김포 -&gt; 제주<br>5/27(금) 오후 8시 제주 -&gt; 김포<br><br>탑승객: 2인<br><br>820122 고주혁(남)<br>820422 김진수(남)<br><br>2. 렌트카 예약<br>12:00~19:30 <br>신형K5<br>운전자: 김진수<br>보험: 전부면책\\tAIRPLANE\\n',\n",
       " '문비서 제주 왕복 비행기표 예매 가능한가요?\\tAIRPLANE\\n',\n",
       " '오늘 마지막 비행기 서울에서 제주도 가는것만 편도 인데요 가능할까요\\tAIRPLANE\\n',\n",
       " '안녕하세요~ 비행기표 구해주세요<br>제주에서 서울 9/13 20.45 진에어. 서울에서 제주 9.18 20시35분 아시아나\\tAIRPLANE\\n',\n",
       " '안녕하세요~<br>오늘저녁 21:05 진에어 제주에서 김포로.<br>일요일 오후 5시50분 대한항공 김포에서 제주로 비행기표 예매부탁해요~\\tAIRPLANE\\n',\n",
       " '그럼 2시반 비행기로 해주세요~\\tAIRPLANE\\n',\n",
       " '오늘 김포공항에서 제주도 출항 하는 비행기편좀 확인해주세요\\tAIRPLANE\\n',\n",
       " '문비서님 알아봐줘서 고맙습니다.<br>길이 막혀서 비행기 놓칠줄 알았는데 <br>간신히 골인했어요.<br>그래도 덕분에 조바심 안부렸어요~<br>수고하세요\\tAIRPLANE\\n',\n",
       " '안녕하세요 새로운 부탁 드립니다 - 11/17-19 김포 - 부산 왕복 비행기 끊어주세요. 대한항공/ 일반석 으로요\\tAIRPLANE\\n',\n",
       " '김포 제주 내일 비행기<br>오전8~10시 또는<br>오후8~ 이후<br>할인권 으로 알아봐주세요\\tAIRPLANE\\n',\n",
       " '전체 금액에 대한영수증 비행기iteniary PDF나 다른 첨부가능한 포맷으로 보내주세요\\tAIRPLANE\\n',\n",
       " '김포에서 제주가는 새벽비행기\\tAIRPLANE\\n',\n",
       " '비행기예약도 해주실수있나요?\\tAIRPLANE\\n',\n",
       " '안녕하세요.<br>5월5일~7일 부산-상해<br>대한항공 비행기표 확인해주세요.부산에서는 아침출발상해에서는 저녁출발로요\\tAIRPLANE\\n',\n",
       " '그럼 설에 일본가는 비행기표는 구해주실수있나요?\\tAIRPLANE\\n',\n",
       " '6일 홍콩 출발하는 비행기좀 알려주세요\\tAIRPLANE\\n',\n",
       " '제주 비행기표 건은 이미지나서 되려나요?\\tAIRPLANE\\n',\n",
       " '내일 출근하시면 비행기표 꼭 봐주세요 ^^\\tAIRPLANE\\n',\n",
       " '동일한 비행기로 성인1명 초등학교 4학년 1명 비행기표 예매 부탁합니다.\\tAIRPLANE\\n',\n",
       " '저번에 비행기표 도와주셔서 김종엽 김수민 여권번호랑 영문이름이랑 보내드린 적 있어요.\\tAIRPLANE\\n',\n",
       " '그 비행기에\\\\n동행이 있어서 함께 타야하거든요.\\tAIRPLANE\\n',\n",
       " '14일 가장 늦은 비행기편은요?\\tAIRPLANE\\n',\n",
       " '안녕하세요 문비서님 <br><br>아래의 일정으로 예약 부탁 드려요.<br>&lt;비행기 티켓&gt;<br>* 탑승일: 2016.11.03(목) <br><br>* 비행일정:<br><br>김포-&gt;제주 오전 8시<br>제주-&gt;김포 오후 5시<br><br>* 탑승자:<br><br>고주혁 1982-01-22<br>김건영 1985-02-17<br><br>&lt;렌트&gt; <br><br>위의 일정으로 뉴K5 완전자차 보험\\tAIRPLANE\\n',\n",
       " '김진수님의 금요일 비행기를 토요일로 변경하는 건입니다.\\tAIRPLANE\\n',\n",
       " '두개다요 와이파이랑 비행기요\\tAIRPLANE\\n',\n",
       " '막 비행기 바로 안쪽이면<br>Ok될수잏음 늦춰서\\tAIRPLANE\\n',\n",
       " '문비서님 안녕하세요. 오늘 오후 4시 이후에 김포에서 제주로 출발하여 토요일(29일) 저녁에 다시 김포로 돌아오는 비행기편을 알아봐주실수 있나요? 부칠 수하물은 없으며 저렴할수록 좋을 것 같습니다.\\tAIRPLANE\\n',\n",
       " '예전저희친언니가 문비서님통해서 비행기표알아볼때는 일반항공보다 저렴하게 찾았었는데 ㅠㅠ\\tAIRPLANE\\n',\n",
       " '내일 가는 비행기표좀 알려주세요!\\tAIRPLANE\\n',\n",
       " '뱅기표 문비서에서 사려면 현금으로만 하나요?\\tAIRPLANE\\n',\n",
       " '부산 가는 뱅기표요!\\tAIRPLANE\\n',\n",
       " '9/16 뱅기표는 시간대는다양하게잇나요? 아침꺼면좋겟는데\\tAIRPLANE\\n',\n",
       " '비행기표 예매부탁해요<br>8월19일 제주에서 20.45 진에어로 김포가는거<br>8월21일 김포에서 20.20 진에어로 제주가는걸로요\\tAIRPLANE\\n',\n",
       " '서울에서 제주 20시20분 진에어 부탁해요\\tAIRPLANE\\n',\n",
       " '안녕하세요~ 비행기표 구해주세요<br>제주에서 서울 9/13 20.45 진에어. 서울에서 제주 9.18 20시35분 아시아나\\tAIRPLANE\\n',\n",
       " '안녕하세요~<br>오늘저녁 21:05 진에어 제주에서 김포로.<br>일요일 오후 5시50분 대한항공 김포에서 제주로 비행기표 예매부탁해요~\\tAIRPLANE\\n',\n",
       " '주말 잘 보냈나요? 29일 김포에서 제주가는 편도 2시25분 진에어 예약바랍니다\\tAIRPLANE\\n',\n",
       " '진에어 6시 20분\\tAIRPLANE\\n',\n",
       " '7월1일 금요일 3박4일 기준 아시아나 2명 예약 예약자 김현우 790428 010 3923 5585\\tAIRPLANE\\n',\n",
       " '네 아시아나로 부탁 드려요.\\tAIRPLANE\\n',\n",
       " '동일하게 아시아나로 해주세요.\\tAIRPLANE\\n',\n",
       " '문비서<br>오늘 부산출발 서울도착 <br>대한항공이나 아시아나 1시부터 2시반사이에 언제언제있나요?\\tAIRPLANE\\n',\n",
       " '그럼 예약만 좀 부탁드립니다. 아시아나항공 7월24일 940626/ M31887097 생년월일과 여권번호이구요. 마일리지로 발권가능한 항공으로.. Lax 로 도착이 출퇴근시간 안겹치는때로 ㅠㅠ\\tAIRPLANE\\n',\n",
       " 'ㅜㅜ 아시아나 얼라이언스라서\\tAIRPLANE\\n',\n",
       " '아시아나로는 처음가는거라 혹시 회원등록가능하다면 부탁드리겠습니다<br>여권사본은 메일보내드리고 톡드릴게요\\tAIRPLANE\\n',\n",
       " '아시아나로 부탁 드려요.\\tAIRPLANE\\n',\n",
       " '아시아나 e-ticket 잘 받았습니다. (2명)\\tAIRPLANE\\n',\n",
       " '[Web발신]\\\\n[모두투어-국내항공]\\\\n[모두투어 예약 NO : 21588734]\\\\n아시아나항공 / 항공 예약번호: 8EWF8C / 여수-김포 2016-01-09(토) 16:10 출발\\\\n\\\\n결제가 완료 되지 않은 국내항공 예약이 정상적으로 취소 되었습니다. 결제한 예약번호가 있는경우 결제된 예약번호와 취소된 예약번호가 일치하는지 확인 바랍니다\\\\n감사합니다\\tAIRPLANE\\n',\n",
       " '아시아나 알아봐주세요\\tAIRPLANE\\n',\n",
       " '문비서님 대한항공 마일리지 등록도 되었나요?\\tAIRPLANE\\n',\n",
       " '불가한 경우 대한항공으로 알아봐 주세요\\tAIRPLANE\\n',\n",
       " '내일 (일요일) 저녁 .. 서울 김포에서 사천가는 대한항공 예약 필요합니다~~\\tAIRPLANE\\n',\n",
       " '태풍때문에 일정을 댕겨내려 갑니다. 어제 대한항공에 전화해서 취소는 시켰는데 문비서통해 예매한거라\\tAIRPLANE\\n',\n",
       " '대한항공은 없나요?\\tAIRPLANE\\n',\n",
       " '문비서<br>오늘 부산출발 서울도착 <br>대한항공이나 아시아나 1시부터 2시반사이에 언제언제있나요?\\tAIRPLANE\\n',\n",
       " '25 일 오후 10시 대한항공 코드쉐어로 바꿔줄수 있냐? 가격을 추가로 얼마를 내야 하는 건지.\\tAIRPLANE\\n',\n",
       " '15일 저녁 대한항공은 없나요? 비즈니스 포함.\\tAIRPLANE\\n',\n",
       " '아니면 대한항공이랑 같은 얼라이언스에 있는 일본항공사\\tAIRPLANE\\n',\n",
       " '3월 4일 오전 9시 김포 부산 대한항공과<br>3월 4일 오후 5시 30분 부산 김포 대한항공 이코노미 예약부탁드립니다\\tAIRPLANE\\n',\n",
       " '베트남 항공이랑 대한항공은 코드쉐어이기 때문에 옮겨줄 수 있다고 할 겁니다. 근데 돈은 아마 더 내야 할 거예요. 그냥 공짜로 옮겨준다고 할 수도 있고요\\tAIRPLANE\\n',\n",
       " '대한항공1시30분\\tAIRPLANE\\n',\n",
       " '안녕하세요~~ 내일(3/22) 아침 ... 사천에서 김포가는 대한항공 예약 부탁 드립니다. <br>김문주/740928/010-4845-0181 입니다.\\tAIRPLANE\\n',\n",
       " '대한항공<br>청주 ㅡ 제주 왕복<br><br>6월8일 목<br>8시30분 출발<br><br>6월10일 금<br>15시30분 출발\\tAIRPLANE\\n',\n",
       " '14시 25분 대한항공으로 들어 오시는 분 성함은 백 승철대표.\\tAIRPLANE\\n',\n",
       " '넵~!! 그러면 21:00 대한항공편으로 발권 부탁 드려요.\\tAIRPLANE\\n',\n",
       " '프레스티지석으로 발권할거면<br>그냥 제가 대한항공 앱으로 바로 살수있어요.\\tAIRPLANE\\n',\n",
       " '네 감사합니다. 그럼 우선 에어부산과 대한항공 대기 예약 걸어주실수 있나요?\\tAIRPLANE\\n',\n",
       " '네 맞아요 서소문점 대한항공 빌딩 맞은편이요\\tAIRPLANE\\n',\n",
       " '매번 대한항공만 타서. 제가 잘못 알고 있었나보네요\\tAIRPLANE\\n',\n",
       " '9월18일 김포에서 제주내려가는 대한항공 6시10분 예매바랍니다~\\tAIRPLANE\\n',\n",
       " '공항왔는데 제가 도민이어서 할인받을수있는표랍니다 공항대한항공데스크에서 할인해주겠답니다\\tAIRPLANE\\n',\n",
       " '대한항공을 예약 후 취소하면 위약금이 발생하나요?\\tAIRPLANE\\n',\n",
       " '저 지금 인터파크에서 40만원대에 대한항공 찾았는데요..\\tAIRPLANE\\n',\n",
       " '대한항공 시간대가 좀 애매해서요.\\tAIRPLANE\\n',\n",
       " '에어부산을 우선적으로 알아봐 주시고\\tAIRPLANE\\n',\n",
       " '일단 내일 제주에서 김해공항 아침 8.25 에어부산 예매부탁요\\tAIRPLANE\\n',\n",
       " '제주항공으로 부탁드려요\\tAIRPLANE\\n',\n",
       " '제주항공권 예약을 급하게 문의드리니당!\\tAIRPLANE\\n',\n",
       " '제주항공권 대신 예약 및 결제 부탁드립니다\\tAIRPLANE\\n',\n",
       " '제주항공으로 해주세요. ^_^\\tAIRPLANE\\n',\n",
       " '두건 모두 제주항공(항목 중 최저가)으로 부탁 드려요.\\tAIRPLANE\\n',\n",
       " '제주항공<br><br>130 제주 - 서울(김포) 2016-11-18(금) 21:00 2016-11-18(금) 22:10\\tAIRPLANE\\n',\n",
       " '그럼 예약만 좀 부탁드립니다. 아시아나항공 7월24일 940626/ M31887097 생년월일과 여권번호이구요. 마일리지로 발권가능한 항공으로.. Lax 로 도착이 출퇴근시간 안겹치는때로 ㅠㅠ\\tAIRPLANE\\n',\n",
       " '대기예약후 발권가능할시 결제진행은 어떻게 하나요?\\tAIRPLANE\\n',\n",
       " '출발권은 지금 결제하는건가요?\\tAIRPLANE\\n',\n",
       " '발권이 완료되면 이 티켓은 sohnkh@gmail.com 으로 부탁드려요\\tAIRPLANE\\n',\n",
       " '신용카드로 결제하여 항공권 발권하고 싶습니다.\\tAIRPLANE\\n',\n",
       " '현장가서 발권받을때 저사진보여주면되나요\\tAIRPLANE\\n',\n",
       " '예전저희친언니가 문비서님통해서 비행기표알아볼때는 일반항공보다 저렴하게 찾았었는데 ㅠㅠ\\tAIRPLANE\\n',\n",
       " '안녕하세요 문비서님 항공권 예매 부탁 드려요 ^_^\\tAIRPLANE\\n',\n",
       " '두건 모두 제주항공(항목 중 최저가)으로 부탁 드려요.\\tAIRPLANE\\n',\n",
       " '안녕하세요? 저희 법인이 사업자 고객으로 등록되어있는데 법인에서 출장 관련한 항공편 예약을 부탁드리려 하는데 가능할까요?\\tAIRPLANE\\n',\n",
       " '싱가폴항공인가용?\\tAIRPLANE\\n',\n",
       " '6월9일 티웨이항공 김포 to 제주 11시35분. 제주 to 김포19시10분 가격 확인 확인부탁합니다\\tAIRPLANE\\n',\n",
       " '안녕하세요.<br>5월5일~7일 부산-상해<br>대한항공 비행기표 확인해주세요.부산에서는 아침출발상해에서는 저녁출발로요\\tAIRPLANE\\n',\n",
       " '다음주 3.1 화 2명 제주->김포<br>항공편 및 가격 알려주세요<br><br>오전 11시-오후 3시<br>\\tAIRPLANE\\n',\n",
       " '제가 인터파크항공으로\\tAIRPLANE\\n',\n",
       " '그럼 최저가항공이아닌 투어2000이라던지 지마켓에서 구매가능한 항공권은 예매해주실있나요?\\tAIRPLANE\\n',\n",
       " '김포(GMP) - 제주(CJU) 항공은 티웨이 항공이에요.\\tAIRPLANE\\n',\n",
       " '그럼 인터파크에서 안하면 저 항공권을 못사나요?\\tAIRPLANE\\n',\n",
       " '안녕하세요 새로운 부탁 드립니다 - 11/17-19 김포 - 부산 왕복 비행기 끊어주세요. 대한항공/ 일반석 으로요\\tAIRPLANE\\n',\n",
       " '넵~!! 그러면 21:00 대한항공편으로 발권 부탁 드려요.\\tAIRPLANE\\n',\n",
       " '항공사상관없고\\tAIRPLANE\\n',\n",
       " '첫번째 사진에서 첫번째 항공권이면\\tAIRPLANE\\n',\n",
       " '아.. 그렇다면 호텔이나 항공권등 개인의 혜택을 이용해서 예약을 할 경우에는 효용성이 떨어질 수 밖에 없겠군요..\\tAIRPLANE\\n',\n",
       " '저 6월 13일 월요일 오전 9시 인천 출발 6월 16일 목요일 오후 2시 55분 창이출발 성인 2명 항공 예약 좀 부탁드려용^^\\tAIRPLANE\\n',\n",
       " '그럼 2월달 15~17일 까지 오사카 저가항공으로 최저가 알아봐주겠어요?^^\\tAIRPLANE\\n',\n",
       " '네 감사합니다. 항공권은 러시아항공은 불안해서... 그냥 핀에어 예약부탁드리겠습니다. 미리 말씀드리지 못해 죄송합니다.\\tAIRPLANE\\n',\n",
       " '해외항공권 예약을 해놨는데 결제시한이 3/31 5시인데\\tAIRPLANE\\n',\n",
       " '대한항공1시30분\\tAIRPLANE\\n',\n",
       " '항공편이 없다고 하셨는데 있잖아요..ㅠ\\tAIRPLANE\\n',\n",
       " '항공권 예약을 부탁드립니다.\\tAIRPLANE\\n',\n",
       " '김포에서 제주 <br>제주에서 김포<br>6월4일 ~6월6일 <br>저가 항공권\\tAIRPLANE\\n',\n",
       " '역삼동 한성항공 ( 위에 기록 보세요 ) 에 8시까지 도착해야 하는데\\tAIRPLANE\\n',\n",
       " '항공사는 지금 전화 받습니다.\\tAIRPLANE\\n',\n",
       " '베트남 항공에 전화를 해서 다낭 -&gt; 인천 을\\tAIRPLANE\\n',\n",
       " '다른건 항공사는요?\\tAIRPLANE\\n',\n",
       " '그럼... 서울 콘래드 호텔에 내일 저녁8-9시까지 도착해야하는데 부산 김해에서 출발하는 항공\\tAIRPLANE\\n',\n",
       " '이스타항공 홈페이지에서 예약 변경하면 되는 것이지요?\\tAIRPLANE\\n',\n",
       " '인천공항에서 항주로가는 최저가항공편 알아봐주세요\\tAIRPLANE\\n',\n",
       " '3월 4일 오전 9시 김포 부산 대한항공과<br>3월 4일 오후 5시 30분 부산 김포 대한항공 이코노미 예약부탁드립니다\\tAIRPLANE\\n',\n",
       " '안녕하세요^^ 3월 26일 27일 김포에서 제주행 항공권 문의드릴려구요~ 26일 오전 일찍 김포에서 출발해서 27일 오후 늦게 제주에서 김포로 돌아오는 항공권좀 알아봐두실수 잇으실까요~\\tAIRPLANE\\n',\n",
       " '네 항공편은 오늘 중으로만 부탁드릴게요^^\\tAIRPLANE\\n',\n",
       " '어디항공인가요?\\tAIRPLANE\\n',\n",
       " '땡처리항공권\\tAIRPLANE\\n',\n",
       " '네. 그렇게 되면 기존의 사람들 항공은 동일한 항공편으로 진행될 수 있도록 부탁드려요. <br><br>오늘 서형준님과 동일한 비행기로 하기를 원합니다.\\tAIRPLANE\\n',\n",
       " '예약번호와 항공사는\\tAIRPLANE\\n',\n",
       " '항공권은 입금완료\\tAIRPLANE\\n',\n",
       " '문비서님 아래의 일정으로 항공권 예매 부탁드려요. <br><br>11/7(월)<br><br>오전 7시 김포 -&gt; 제주<br><br>고주혁(남) 820122<br>정승민(남) 761024<br>김진수(남) 820422\\tAIRPLANE\\n',\n",
       " '그리고 내일부터 15일 항공권이 있나 계속 알아봐주시면 감사드리겠어요.\\tAIRPLANE\\n',\n",
       " '그리고 제가 대한항공 마일리지가 많은데\\tAIRPLANE\\n',\n",
       " '15일 저녁 대한항공은 없나요? 비즈니스 포함.\\tAIRPLANE\\n',\n",
       " '항공권도 계산서 발행이 되나요 ?\\tAIRPLANE\\n',\n",
       " '오늘 볓시간후 항공이라 걱정되네요 ㅠ\\tAIRPLANE\\n',\n",
       " '땡처리 항공권을 또 도전해볼 수 있으려나요?\\tAIRPLANE\\n',\n",
       " '그럼 예약만 좀 부탁드립니다. 아시아나항공 7월24일 940626/ M31887097 생년월일과 여권번호이구요. 마일리지로 발권가능한 항공으로.. Lax 로 도착이 출퇴근시간 안겹치는때로 ㅠㅠ\\tAIRPLANE\\n',\n",
       " '항공권 예매하려면 어떻게 해야해요?\\tAIRPLANE\\n',\n",
       " '이거 그러면 사업자 회원 신청하고 바로 카드 등록하고 항공편 예매가 되나여?\\tAIRPLANE\\n',\n",
       " '네<br>이스타 항공 이구요\\tAIRPLANE\\n',\n",
       " '질문 같은 비행사로 왕복사면 더싼가요? 아님 편도로 다른 항공사 사는거랑 차이있나요?\\tAIRPLANE\\n',\n",
       " '7월3일 부산ㅡ김포 항공권 11시<br>예매해주세요.\\tAIRPLANE\\n',\n",
       " '제가 알기론 보통 항공사에서 좌석 배정을 하는데요. 보통 이티켓이 나오면 좌석 배정을 할 수 있고요.\\tAIRPLANE\\n',\n",
       " '항공이랑 레슨비용은 최저가. 호텔은 2-3 옵션으로 좀 알아봐줘요\\tAIRPLANE\\n',\n",
       " '문비서님 항공권 예약 총 2명인거죠?\\tAIRPLANE\\n',\n",
       " '혹시 마일리지 몇 만 점 있는지 확인도 되엇나용?\\tAIRPLANE\\n',\n",
       " '잔여마일리지는 가족 등록해서\\tAIRPLANE\\n',\n",
       " '마일리지를 사용해 할인이 가능한지 좌석 업그레이드가 가능한지도 알아봐주세요\\tAIRPLANE\\n',\n",
       " '그럼 제 개인정보가 필요한가요? 마일리지 적립등은 어떻게되는건지 궁금합니다.\\tAIRPLANE\\n',\n",
       " '아 네 그런데 비서님 혹시 오늘 제 마일리지 쿠폰 쓸수 있는지 확인 한번만 부탁드립니다..\\tAIRPLANE\\n',\n",
       " '그럼 예약만 좀 부탁드립니다. 아시아나항공 7월24일 940626/ M31887097 생년월일과 여권번호이구요. 마일리지로 발권가능한 항공으로.. Lax 로 도착이 출퇴근시간 안겹치는때로 ㅠㅠ\\tAIRPLANE\\n',\n",
       " '제가 대한항곰 가용 마일리지가 약 24만 마일이 있습니다.\\tAIRPLANE\\n',\n",
       " '문비서님 대한항공 마일리지 등록도 되었나요?\\tAIRPLANE\\n',\n",
       " '베트남 자유여행 계획중인데 최저가 항공권 알아봐주세요\\tAIRPLANE\\n',\n",
       " '요번주말에 마카오 남자 3명이 갔다올려고 하는데 비행기표 예약 부탁할께요\\tAIRPLANE\\n',\n",
       " '가격메리트가없네요 그냥 어제 말씀하신 세룰리언 타워로 예약해주세요 120 만원대로 알고있는데요  맞죠?\\tHOTEL\\n',\n",
       " '전주평화동 알펜시아웨딩컨벤션으로\\tHOTEL\\n',\n",
       " '객실초대권이잇어요\\tHOTEL\\n',\n",
       " '방2개 거실1\\tHOTEL\\n',\n",
       " 'Angsana 체크아웃 시간에 바로 와서 반얀트리로 이동하고\\tHOTEL\\n',\n",
       " '해운대 시타딘 호텔 스위트 딜럭스 트윈룸 오늘 1박으로 예약해 주세요!\\tHOTEL\\n',\n",
       " '일본 나가사키역이랑 제일가까운 호텔 찾아주세요.\\tHOTEL\\n',\n",
       " '연신내역 부근 10만원대 전후 호텔 추천 좀 부탁드립니다. 금일 1박입니다.\\tHOTEL\\n',\n",
       " '보성쪽 숙소도 부탁드리겠습니다\\tHOTEL\\n',\n",
       " '펜션 포함해서 같이 찾아 봐 주실 수 있을까요\\tHOTEL\\n',\n",
       " '해당 바우처랑 동일하게 각 호텔에서의 2박 가능 여부로 해주세요\\tHOTEL\\n',\n",
       " '제가 해외호텔에 저나해서 예약을 변경해야하눈데 그런것도 해주시나여\\tHOTEL\\n',\n",
       " '위의 두 펜션 다 좋습니다만 가격이 조금 더 올라가더라도 바닷가는 없을까요...?\\tHOTEL\\n',\n",
       " '2번 리버뷰룸 예약 가능할까요?\\tHOTEL\\n',\n",
       " '호텔 예약이 가능한가요?\\tHOTEL\\n',\n",
       " '부산 해운대 옆으로 최고급 호텔 방 세개 잡아주세요. 목요일 오후 체크인.\\tHOTEL\\n',\n",
       " '11월2일 오전중 설악산 살악동 모텔 1박 예약과 왕복 교통편 2인 예약 부탁합니다 오는편은 11월3일 오후 시간으로\\tHOTEL\\n',\n",
       " '숙발 날짜는 30날이고 인원은 2명이에요~\\tHOTEL\\n',\n",
       " '032-745-1000 그랜드 하얏트 인천인데 현카 동계휴양소 11/27일 예약하려고 하는데 가능한지 문의 부탁드려용\\tHOTEL\\n',\n",
       " '호텔 예약은 혹시 보스만 가능?\\tHOTEL\\n',\n",
       " '아 방3개 예약해야하는데 방이 없나보군요 ㅜㅜ\\tHOTEL\\n',\n",
       " '해외사이트 호텔예약 취소도 해주나여\\tHOTEL\\n',\n",
       " '아체크인체크아웃 시간 따로없나요?\\tHOTEL\\n',\n",
       " '신라호텔 일요일 체크인 1박2일 삼성카드 윈터패키지(회원명:신범준)로 숙박 예약 부탁드려요(높은방으로)\\tHOTEL\\n',\n",
       " '모텔 대실비용좀 알려주세요\\tHOTEL\\n',\n",
       " '리베라호텔 서울 11/28 하루 성인 여성 한명 방 예약해주세요\\tHOTEL\\n',\n",
       " '12월 12일 양평 인근 1박으로 펜션숙소확인 부탁드립니다\\tHOTEL\\n',\n",
       " '서울 근교에 수영장 있고 계곡 근처에 있는 펜션 알아봐 주실수 있나요..?\\tHOTEL\\n',\n",
       " '주변에 온천이 가능하면 더 좋은데 설 연휴에 1박 예약 가능한 곳으로 몇군데 추천 부탁 드립니다\\tHOTEL\\n',\n",
       " '아까 추천해준 1번 호텔로 예약해주세요\\tHOTEL\\n',\n",
       " '광화문 옆에있는 포시즌 스위트룸 가격 알아봐주세요\\tHOTEL\\n',\n",
       " '서울에 방2개에 거실 있는 호텔이나 레지던스 찾아주세요\\tHOTEL\\n',\n",
       " '제주도 공항 근처에 있는 호텔 예약도 가능한가요? 3월 17일18일이요\\tHOTEL\\n',\n",
       " '삼성역 오크우드 가격 알아봐주시고 근처 다른호텔도 추천해주세요\\tHOTEL\\n',\n",
       " '강남에 15만원 미만 깔끔한 호텔 알아봐주세요\\tHOTEL\\n',\n",
       " '거실이큰 레지던스 추천해주세요\\tHOTEL\\n',\n",
       " '해운대 근처 바다 보이는 객실 알아봐주세요\\tHOTEL\\n',\n",
       " '온천이 근처에 있는 모텔이나 펜션 찾아주세요\\tHOTEL\\n',\n",
       " '지난주 예약했던 리치칼튼 호텔 취소 부탁드려요\\tHOTEL\\n',\n",
       " '3월 23일부터 25일 연천쪽에 펜션 알아봐주세요 성인5명 초등학생2명\\tHOTEL\\n',\n",
       " '계곡이 근처에 있는 펜션 성인 3명 추천해주세요\\tHOTEL\\n',\n",
       " '설악산쪽에 리조트 알아봐줄수 있나요?\\tHOTEL\\n',\n",
       " '동해안 바닷가 근처 민박 알아봐 주세요\\tHOTEL\\n',\n",
       " '테마있는 모텔 추천해주세요\\tHOTEL\\n',\n",
       " '요번주말 속초에 리조트나 펜션이 없으면 민박이라도 알아봐주세요\\tHOTEL\\n',\n",
       " '호텔 예약 부탁드려요\\tHOTEL\\n',\n",
       " '강남 최고급 호텔 추천해줘요\\tHOTEL\\n',\n",
       " '강릉에 4월8일부터 2박3일로 모텔이나 펜션 알아봐주세요\\tHOTEL\\n',\n",
       " '광화문 근처에 조식 가능한 호텔 추천좀\\tHOTEL\\n',\n",
       " '안성근처에 온천텔 있다고 하던데 알아봐주세요 요번 주말이요\\tHOTEL\\n',\n",
       " '삼성역 도심공항 근처 가격 적당한 호텔 7월3일~5일로 알아봐주세요\\tHOTEL\\n',\n",
       " '체크인시간이 1시인 호텔은 없나요?\\tHOTEL\\n',\n",
       " '워커힐 호텔 조식포함에서 3월3일 예약해주세요\\tHOTEL\\n',\n",
       " '어제 예약한 리치칼튼호텔 취소하고 하얏트 호텔로 예약 부탁해요\\tHOTEL\\n',\n",
       " '제주도에 호텔이나 리조트 알아봐줘요\\tHOTEL\\n',\n",
       " '야외수영장있는 리조트나 호텔 찾아주세요\\tHOTEL\\n',\n",
       " '강남에 깨끗한 레지던스 추천좀요\\tHOTEL\\n',\n",
       " '에어비앤비도 알아봐줄수 있나요\\tHOTEL\\n',\n",
       " '2017.3.27~3.30 제주도 5성급 호텔 알아봐주세요\\tHOTEL\\n',\n",
       " '4월9일부터 4월11일 북경에 있는 괜찮은 호텔 추천해주세요\\tHOTEL\\n',\n",
       " '5월23일부터 2박3일간 샌프란시스코 출장가는데 호텔 예약 부탁해요\\tHOTEL\\n',\n",
       " '하와이로 신혼여행가는데 리조트나 호텔 추천해주세요\\tHOTEL\\n',\n",
       " '베트남 호치민으로 휴가 갈려고 하는데 리조트 알아봐주세요\\tHOTEL\\n',\n",
       " '동남아로 남자3명 여행가는데 갈만한 리조트 추천좀요\\tHOTEL\\n',\n",
       " '여름에 유럽으로 배낭여행가는데 저렴한 민박이나 호스텔 알아봐주세요\\tHOTEL\\n',\n",
       " '4월9일부터 일주일간 런던으로 출장가는데 다운타운 근처로 호텔 추천해주세요\\tHOTEL\\n',\n",
       " '스페인 바르셀로나 7월8일부터 10일 머무는데 괜찮은 숙박 알아봐주세요. 호텔 민박 상관없어요\\tHOTEL\\n',\n",
       " '프랑스 파리 시내에 있는 저렴한 호텔 알아봐주세요\\tHOTEL\\n',\n",
       " '7월8일 9일 로마에 있는 호텔 추천부탁요\\tHOTEL\\n',\n",
       " '동남아에 신혼여행 많이가는 리조트 추천좀요\\tHOTEL\\n',\n",
       " '파리에 7월8일부터 3일간 에어비앤비 알아봐주세요\\tHOTEL\\n',\n",
       " '스페인 바르셀로나에 호텔과 에어비앤비 가격비교좀 해주세요\\tHOTEL\\n',\n",
       " '요번주말 도쿄로 출장가는데 호텔예매도 해주나요?\\tHOTEL\\n',\n",
       " '부산 해운대 하얏트 호텔 5월26일 금요일로 예약해주세요. 오션뷰로요.\\tHOTEL\\n',\n",
       " '학동역 근처 뉴힐탑호텔 가격이 얼만가요?\\tHOTEL\\n',\n",
       " '신라호텔 조식포함해서 3월23일로 예약하고 싶은데요\\tHOTEL\\n',\n",
       " 'W호텔 사용하면 야외수영장도 같이 사용할수 있나요?\\tHOTEL\\n',\n",
       " 'W호텔 바우처가 있는데 번호알려드리면 그걸로 예약도 가능한가요? 가능하면 4월8일1박\\tHOTEL\\n',\n",
       " '중국 청도에 돌아오는 목요일부터 다음주 월요일까지 호텔예약 부탁이요\\tHOTEL\\n',\n",
       " '라스베가스 wynn호텔 예약좀 해주세요 2017.7.18~2017.7.21\\tHOTEL\\n',\n",
       " '마카오에 카지노있는 호텔 추천해주세요\\tHOTEL\\n',\n",
       " '나이아가라 힐튼호텔에 폭포 보이는 객실 예약하고 싶은데요 9월3일부터 3박4일 높은층으로 부탁해주세요\\tHOTEL\\n',\n",
       " '포시즌 광화문점 요번주말 스위트룸 예약했는데 주차비는 따로인가요?\\tHOTEL\\n',\n",
       " '학동역 근처인데 모텔방있는데좀 알아봐주세요 급해요\\tHOTEL\\n',\n",
       " '서울에 외국인많은 호스텔 알아봐주세요 \\tHOTEL\\n',\n",
       " '성인8명 초등학생5명이 갈수있는 펜션 예약하고 싶은데요, 5월26일 금요일부터 2박3일로요\\tHOTEL\\n',\n",
       " '속초에 있는 대명콘도 7월8일부터 10일까지 예약가능할까요? 신용카드로 미리 결제해야하나요?\\tHOTEL\\n',\n",
       " '어제 예약한 레지던스 날짜를 바꾸고 싶은데 가능한가요?\\tHOTEL\\n',\n",
       " '프랑스 파리 한국민박 알아봐줄수 있나요? 7.13~7.16\\tHOTEL\\n',\n",
       " '7월4일부터 이틀간 암스테르담에 머무는데 숙박 알아봐주세요\\tHOTEL\\n',\n",
       " '4월7일 주말에 제주도 여행가는데 리조트나 호텔 알아봐줄수 있나요?\\tHOTEL\\n',\n",
       " '2017.5.26~5.29 두바이 6성급호텔 알아봐주세요\\tHOTEL\\n',\n",
       " '강남에 거실이 넓은 레지던스 추천해주세요. 흡연 가능한데로요\\tHOTEL\\n',\n",
       " '후쿠오카에 온천이 있는 숙박 추천해주세요 성인2명 5월26일부터 3박4일\\tHOTEL\\n',\n",
       " '항공이랑 레슨비용은 최저가. 호텔은 2-3 옵션으로 좀 알아봐줘요\\tHOTEL\\n',\n",
       " '신라호텔 라연 에예약부탁드려요\\tHOTEL\\n',\n",
       " '창원 풀만 엠버서더호텔 교통편까지부탁드려요\\tHOTEL\\n',\n",
       " '해외사이트 호텔예약 취소도 해주나여\\tHOTEL\\n',\n",
       " '문비서님 1/4일 월~ 1/10일 일요일까지 5박 6일 라스베가스에 ces행사 겸해서 갈 예정인데 가격대비 괜찮은 호텔 3개만 추려주시겠어요?\\tHOTEL\\n',\n",
       " '문비서 하나 더 부탁할게요. 다음주 금요일(27일) 경주로 1박 2일 가족여행을 가려구요. <br>가족 구성원이 성인 2명에 아동 3명(6 4 3세-만 나이 아님)이라서 인원제한때문에 숙소 잡기가 어려워요. <br>펜션은 안되고 호텔이나 리조트를 원해요. 취사가 가능하면 더 좋구요. <br>5인가족 숙소랑 경주지역 여행코스(아이들이 어려서 무리하지 않게 간단한 코스면 좋아요. 맛집투어쪽이면 더 좋구요.)도 같이 부탁드립니다.\\tHOTEL\\n',\n",
       " ...]"
      ]
     },
     "execution_count": 3,
     "metadata": {},
     "output_type": "execute_result"
    }
   ],
   "source": [
    "data"
   ]
  },
  {
   "cell_type": "code",
   "execution_count": 4,
   "metadata": {
    "ExecuteTime": {
     "end_time": "2017-12-09T01:07:24.908534Z",
     "start_time": "2017-12-09T01:07:24.894692Z"
    }
   },
   "outputs": [],
   "source": [
    "data = open('./DOMAIN_10D_300EA_DATA_170427.txt','r',encoding='utf-8').readlines()\n",
    "data = [[d.split('\\t')[0],d.split('\\t')[1][:-1]] for d in data]\n",
    "random.shuffle(data)"
   ]
  },
  {
   "cell_type": "code",
   "execution_count": 5,
   "metadata": {
    "ExecuteTime": {
     "end_time": "2017-12-09T01:07:26.707714Z",
     "start_time": "2017-12-09T01:07:26.703682Z"
    }
   },
   "outputs": [
    {
     "data": {
      "text/plain": [
       "[['이용료나? 수수료가 있나요??', 'INQUIRY'],\n",
       " ['아까 추천해준 1번 호텔로 예약해주세요', 'HOTEL'],\n",
       " ['수수료는 어떻게 되나요?', 'INQUIRY'],\n",
       " ['잔액없나요', 'OTHER'],\n",
       " ['제가 이사를 했습니다 에어컨 설치를 해야 되는데 설치기사 추천 부탁드립니다 서재에 설치할 작은 에어컨입니다', 'OTHER']]"
      ]
     },
     "execution_count": 5,
     "metadata": {},
     "output_type": "execute_result"
    }
   ],
   "source": [
    "data[:5]"
   ]
  },
  {
   "cell_type": "code",
   "execution_count": 10,
   "metadata": {
    "ExecuteTime": {
     "end_time": "2017-12-09T01:07:48.286201Z",
     "start_time": "2017-12-09T01:07:48.282029Z"
    },
    "collapsed": true
   },
   "outputs": [],
   "source": [
    "X, y = zip(*data)\n",
    "X,y = list(X),list(y)"
   ]
  },
  {
   "cell_type": "markdown",
   "metadata": {},
   "source": [
    "## 2. 간단한 전처리 후, Variable로 준비"
   ]
  },
  {
   "cell_type": "markdown",
   "metadata": {},
   "source": [
    "### 숫자 마스킹 "
   ]
  },
  {
   "cell_type": "code",
   "execution_count": 11,
   "metadata": {
    "ExecuteTime": {
     "end_time": "2017-12-09T01:07:53.719449Z",
     "start_time": "2017-12-09T01:07:53.715682Z"
    }
   },
   "outputs": [
    {
     "data": {
      "text/plain": [
       "'##월 ##일 크리스마스'"
      ]
     },
     "execution_count": 11,
     "metadata": {},
     "output_type": "execute_result"
    }
   ],
   "source": [
    "re.sub('\\d',\"#\",\"12월 25일 크리스마스\")"
   ]
  },
  {
   "cell_type": "code",
   "execution_count": 12,
   "metadata": {
    "ExecuteTime": {
     "end_time": "2017-12-09T01:07:57.169983Z",
     "start_time": "2017-12-09T01:07:57.159136Z"
    },
    "collapsed": true
   },
   "outputs": [],
   "source": [
    "for i,x in enumerate(X):\n",
    "    X[i] = re.sub('\\d',\"#\",x)"
   ]
  },
  {
   "cell_type": "code",
   "execution_count": 13,
   "metadata": {
    "ExecuteTime": {
     "end_time": "2017-12-09T01:07:57.713156Z",
     "start_time": "2017-12-09T01:07:57.709403Z"
    }
   },
   "outputs": [
    {
     "data": {
      "text/plain": [
       "['이용료나? 수수료가 있나요??',\n",
       " '아까 추천해준 #번 호텔로 예약해주세요',\n",
       " '수수료는 어떻게 되나요?',\n",
       " '잔액없나요',\n",
       " '제가 이사를 했습니다 에어컨 설치를 해야 되는데 설치기사 추천 부탁드립니다 서재에 설치할 작은 에어컨입니다',\n",
       " '오늘 저녁 #:##에 #명. 서래마을 도우룸 청담동 뚜또베네 도산공원 보나세라 중 한곳 예약부탁합니다',\n",
       " '동일하게 아시아나로 해주세요.',\n",
       " '현재기온?',\n",
       " '아 네 청담 저스트스테이크 내일 #시에 예약된 것 #시 ##분 테라스 좌석으로 예약 변경 부탁해요 ㅎㅎ',\n",
       " '비행기표 예매도 해주나요?']"
      ]
     },
     "execution_count": 13,
     "metadata": {},
     "output_type": "execute_result"
    }
   ],
   "source": [
    "X[:10]"
   ]
  },
  {
   "cell_type": "markdown",
   "metadata": {},
   "source": [
    "### 형태소 분석(Tokenize)"
   ]
  },
  {
   "cell_type": "code",
   "execution_count": 14,
   "metadata": {
    "ExecuteTime": {
     "end_time": "2017-12-09T01:11:30.449565Z",
     "start_time": "2017-12-09T01:11:26.973006Z"
    },
    "collapsed": true
   },
   "outputs": [],
   "source": [
    "X = [tagger.morphs(x) for x in X]"
   ]
  },
  {
   "cell_type": "markdown",
   "metadata": {},
   "source": [
    "### 전체 어휘 정의"
   ]
  },
  {
   "cell_type": "code",
   "execution_count": 16,
   "metadata": {
    "ExecuteTime": {
     "end_time": "2017-12-09T01:11:41.954890Z",
     "start_time": "2017-12-09T01:11:41.945872Z"
    }
   },
   "outputs": [
    {
     "data": {
      "text/plain": [
       "5326"
      ]
     },
     "execution_count": 16,
     "metadata": {},
     "output_type": "execute_result"
    }
   ],
   "source": [
    "vocab = list(set(flatten(X)))\n",
    "len(vocab)"
   ]
  },
  {
   "cell_type": "markdown",
   "metadata": {},
   "source": [
    "### 불용어 지정 "
   ]
  },
  {
   "cell_type": "code",
   "execution_count": 17,
   "metadata": {
    "ExecuteTime": {
     "end_time": "2017-12-09T01:11:48.570677Z",
     "start_time": "2017-12-09T01:11:48.561095Z"
    },
    "collapsed": true
   },
   "outputs": [],
   "source": [
    "vocab_frequency = Counter(flatten(X))"
   ]
  },
  {
   "cell_type": "code",
   "execution_count": 18,
   "metadata": {
    "ExecuteTime": {
     "end_time": "2017-12-09T01:11:49.986545Z",
     "start_time": "2017-12-09T01:11:49.978881Z"
    }
   },
   "outputs": [
    {
     "data": {
      "text/plain": [
       "[('?', 906),\n",
       " ('요', 836),\n",
       " ('br', 678),\n",
       " ('.', 559),\n",
       " ('주', 433),\n",
       " ('에', 405),\n",
       " ('>', 399),\n",
       " (':', 393),\n",
       " ('예약', 385),\n",
       " ('이', 375)]"
      ]
     },
     "execution_count": 18,
     "metadata": {},
     "output_type": "execute_result"
    }
   ],
   "source": [
    "vocab_frequency.most_common()[:10]"
   ]
  },
  {
   "cell_type": "code",
   "execution_count": 19,
   "metadata": {
    "ExecuteTime": {
     "end_time": "2017-12-09T01:11:54.290413Z",
     "start_time": "2017-12-09T01:11:54.287116Z"
    },
    "collapsed": true
   },
   "outputs": [],
   "source": [
    "stopwords = [w for w,f in vocab_frequency.items() if f==1]"
   ]
  },
  {
   "cell_type": "code",
   "execution_count": 20,
   "metadata": {
    "ExecuteTime": {
     "end_time": "2017-12-09T01:11:54.809081Z",
     "start_time": "2017-12-09T01:11:54.805548Z"
    }
   },
   "outputs": [
    {
     "data": {
      "text/plain": [
       "2674"
      ]
     },
     "execution_count": 20,
     "metadata": {},
     "output_type": "execute_result"
    }
   ],
   "source": [
    "len(stopwords)"
   ]
  },
  {
   "cell_type": "markdown",
   "metadata": {},
   "source": [
    "### 사전 정의 "
   ]
  },
  {
   "cell_type": "code",
   "execution_count": 21,
   "metadata": {
    "ExecuteTime": {
     "end_time": "2017-12-09T01:11:56.756841Z",
     "start_time": "2017-12-09T01:11:56.537086Z"
    },
    "collapsed": true
   },
   "outputs": [],
   "source": [
    "word2index={}\n",
    "\n",
    "for vo in vocab:\n",
    "    if vo not in stopwords and vo not in word2index.keys():\n",
    "        word2index[vo]=len(word2index)\n",
    "        \n",
    "index2word = {v:k for k,v in word2index.items()}"
   ]
  },
  {
   "cell_type": "code",
   "execution_count": 22,
   "metadata": {
    "ExecuteTime": {
     "end_time": "2017-12-09T01:11:58.755437Z",
     "start_time": "2017-12-09T01:11:58.751784Z"
    }
   },
   "outputs": [
    {
     "data": {
      "text/plain": [
       "2652"
      ]
     },
     "execution_count": 22,
     "metadata": {},
     "output_type": "execute_result"
    }
   ],
   "source": [
    "len(word2index)"
   ]
  },
  {
   "cell_type": "code",
   "execution_count": 23,
   "metadata": {
    "ExecuteTime": {
     "end_time": "2017-12-09T01:11:59.004311Z",
     "start_time": "2017-12-09T01:11:58.999271Z"
    },
    "collapsed": true
   },
   "outputs": [],
   "source": [
    "target2index = {}\n",
    "\n",
    "for ta in list(set(y)):\n",
    "    if ta not in target2index.keys():\n",
    "        target2index[ta]=len(target2index)\n",
    "\n",
    "index2target = {v:k for k,v in target2index.items()}"
   ]
  },
  {
   "cell_type": "code",
   "execution_count": 24,
   "metadata": {
    "ExecuteTime": {
     "end_time": "2017-12-09T01:12:00.500796Z",
     "start_time": "2017-12-09T01:12:00.497243Z"
    }
   },
   "outputs": [
    {
     "data": {
      "text/plain": [
       "{'AIRPLANE': 5,\n",
       " 'FLOWER': 1,\n",
       " 'HOTEL': 2,\n",
       " 'INQUIRY': 7,\n",
       " 'OTHER': 0,\n",
       " 'PARCEL': 6,\n",
       " 'QUICK': 3,\n",
       " 'RESTAURANT': 4,\n",
       " 'SCHEDULE': 9,\n",
       " 'WEATHER': 8}"
      ]
     },
     "execution_count": 24,
     "metadata": {},
     "output_type": "execute_result"
    }
   ],
   "source": [
    "target2index"
   ]
  },
  {
   "cell_type": "markdown",
   "metadata": {},
   "source": [
    "### 데이터 스플릿 "
   ]
  },
  {
   "cell_type": "code",
   "execution_count": 25,
   "metadata": {
    "ExecuteTime": {
     "end_time": "2017-12-09T01:12:02.301698Z",
     "start_time": "2017-12-09T01:12:02.297170Z"
    },
    "collapsed": true
   },
   "outputs": [],
   "source": [
    "data = list(zip(X,y))\n",
    "\n",
    "train_data = data[:int(len(data)*0.9)]\n",
    "test_data = data[int(len(data)*0.9):]"
   ]
  },
  {
   "cell_type": "code",
   "execution_count": 26,
   "metadata": {
    "ExecuteTime": {
     "end_time": "2017-12-09T01:12:03.414597Z",
     "start_time": "2017-12-09T01:12:03.411251Z"
    }
   },
   "outputs": [
    {
     "name": "stdout",
     "output_type": "stream",
     "text": [
      "2700 300\n"
     ]
    }
   ],
   "source": [
    "print(len(train_data),(len(test_data)))"
   ]
  },
  {
   "cell_type": "markdown",
   "metadata": {},
   "source": [
    "### Variable 준비"
   ]
  },
  {
   "cell_type": "code",
   "execution_count": 45,
   "metadata": {
    "collapsed": true
   },
   "outputs": [],
   "source": [
    "def make_bow_vector(sentence, word_to_ix):\n",
    "    vec = torch.zeros(len(word_to_ix))\n",
    "    for word in sentence:\n",
    "        if word in word_to_ix.keys():\n",
    "            vec[word_to_ix[word]] += 1\n",
    "    return Variable(vec).view(1, -1)"
   ]
  },
  {
   "cell_type": "code",
   "execution_count": 46,
   "metadata": {},
   "outputs": [
    {
     "data": {
      "text/plain": [
       "Variable containing:\n",
       "    0     0     0  ...      0     0     0\n",
       "[torch.FloatTensor of size 1x2380]"
      ]
     },
     "execution_count": 46,
     "metadata": {},
     "output_type": "execute_result"
    }
   ],
   "source": [
    "make_bow_vector(X[0],word2index)"
   ]
  },
  {
   "cell_type": "code",
   "execution_count": 47,
   "metadata": {
    "collapsed": true
   },
   "outputs": [],
   "source": [
    "for i,(x,y) in enumerate(train_data):\n",
    "    train_data[i]= [make_bow_vector(x,word2index),Variable(torch.LongTensor([target2index[y]]))]"
   ]
  },
  {
   "cell_type": "code",
   "execution_count": 48,
   "metadata": {},
   "outputs": [
    {
     "data": {
      "text/plain": [
       "[Variable containing:\n",
       "     0     0     0  ...      0     0     0\n",
       " [torch.FloatTensor of size 1x2380], Variable containing:\n",
       "  2\n",
       " [torch.LongTensor of size 1]]"
      ]
     },
     "execution_count": 48,
     "metadata": {},
     "output_type": "execute_result"
    }
   ],
   "source": [
    "train_data[0]"
   ]
  },
  {
   "cell_type": "markdown",
   "metadata": {},
   "source": [
    "## 3. BoWClassifier 정의"
   ]
  },
  {
   "cell_type": "code",
   "execution_count": 81,
   "metadata": {
    "collapsed": true
   },
   "outputs": [],
   "source": [
    "class BoWClassifier(nn.Module):\n",
    "    \n",
    "    def __init__(self,vocab_size,output_size):\n",
    "        super(BoWClassifier, self).__init__()\n",
    "        \n",
    "#         self.layer = nn.Linear(vocab_size,hidden_size)\n",
    "        self.outlayer = nn.Linear(vocab_size,output_size)\n",
    "\n",
    "    def forward(self,inputs):\n",
    "        \n",
    "#         out = F.relu(self.layer(inputs))\n",
    "        \n",
    "        return F.log_softmax(self.outlayer(inputs))"
   ]
  },
  {
   "cell_type": "code",
   "execution_count": 90,
   "metadata": {
    "collapsed": true
   },
   "outputs": [],
   "source": [
    "model = BoWClassifier(len(word2index),len(target2index))\n",
    "loss_function = nn.CrossEntropyLoss()\n",
    "optimizer = optim.SGD(model.parameters(),lr=0.0001)"
   ]
  },
  {
   "cell_type": "markdown",
   "metadata": {},
   "source": [
    "## 4. 트레이닝"
   ]
  },
  {
   "cell_type": "code",
   "execution_count": 91,
   "metadata": {
    "collapsed": true
   },
   "outputs": [],
   "source": [
    "STEP=300"
   ]
  },
  {
   "cell_type": "code",
   "execution_count": 92,
   "metadata": {},
   "outputs": [
    {
     "name": "stdout",
     "output_type": "stream",
     "text": [
      "epoch [0/300], loss : 2.33\n",
      "epoch [10/300], loss : 2.05\n",
      "epoch [20/300], loss : 1.89\n",
      "epoch [30/300], loss : 1.77\n",
      "epoch [40/300], loss : 1.68\n",
      "epoch [50/300], loss : 1.60\n",
      "epoch [60/300], loss : 1.53\n",
      "epoch [70/300], loss : 1.46\n",
      "epoch [80/300], loss : 1.40\n",
      "epoch [90/300], loss : 1.34\n",
      "epoch [100/300], loss : 1.28\n",
      "epoch [110/300], loss : 1.23\n",
      "epoch [120/300], loss : 1.18\n",
      "epoch [130/300], loss : 1.13\n",
      "epoch [140/300], loss : 1.09\n",
      "epoch [150/300], loss : 1.04\n",
      "epoch [160/300], loss : 1.00\n",
      "epoch [170/300], loss : 0.96\n",
      "epoch [180/300], loss : 0.93\n",
      "epoch [190/300], loss : 0.89\n",
      "epoch [200/300], loss : 0.86\n",
      "epoch [210/300], loss : 0.83\n",
      "epoch [220/300], loss : 0.80\n",
      "epoch [230/300], loss : 0.78\n",
      "epoch [240/300], loss : 0.75\n",
      "epoch [250/300], loss : 0.73\n",
      "epoch [260/300], loss : 0.70\n",
      "epoch [270/300], loss : 0.68\n",
      "epoch [280/300], loss : 0.66\n",
      "epoch [290/300], loss : 0.64\n"
     ]
    }
   ],
   "source": [
    "for step in range(STEP):\n",
    "    for i, (x,y) in enumerate(train_data):\n",
    "        model.zero_grad()\n",
    "\n",
    "        pred = model(x)\n",
    "        loss = loss_function(pred,y)\n",
    "        loss.backward()\n",
    "        optimizer.step()\n",
    "\n",
    "    if step % 10==0:\n",
    "        print('epoch [%d/%d], loss : %.2f' % (step,STEP,loss.data.tolist()[0]))"
   ]
  },
  {
   "cell_type": "code",
   "execution_count": 112,
   "metadata": {
    "collapsed": true
   },
   "outputs": [],
   "source": [
    "torch.save(model.state_dict(), './model/bowclassifier.pkl')"
   ]
  },
  {
   "cell_type": "markdown",
   "metadata": {},
   "source": [
    "## 5. 테스트 "
   ]
  },
  {
   "cell_type": "code",
   "execution_count": 113,
   "metadata": {
    "collapsed": true
   },
   "outputs": [],
   "source": [
    "model.load_state_dict(torch.load('./model/bowclassifier.pkl'))"
   ]
  },
  {
   "cell_type": "code",
   "execution_count": 114,
   "metadata": {
    "collapsed": true
   },
   "outputs": [],
   "source": [
    "accuracy=0"
   ]
  },
  {
   "cell_type": "code",
   "execution_count": 115,
   "metadata": {},
   "outputs": [
    {
     "name": "stdout",
     "output_type": "stream",
     "text": [
      "81.33333333333333\n"
     ]
    }
   ],
   "source": [
    "for test in test_data:\n",
    "    input_ = make_bow_vector(test[0],word2index)\n",
    "    pred = model(input_).max(1)[1] # greedy decoding\n",
    "    if test[1]==index2target[pred.data.tolist()[0]]:\n",
    "        accuracy+=1\n",
    "\n",
    "print(accuracy/len(test_data)*100)"
   ]
  },
  {
   "cell_type": "code",
   "execution_count": 128,
   "metadata": {},
   "outputs": [
    {
     "name": "stdout",
     "output_type": "stream",
     "text": [
      "input : 안녕 하 세요 ~ 비행기 표 구해 주 세요 < br > 제주 에서 서울 #/## ##.## 진에어 . 서울 에서 제주 #.## ## 시 ## 분 아시아 나\n",
      "ground truth : AIRPLANE\n",
      "prediction : AIRPLANE\n"
     ]
    }
   ],
   "source": [
    "random_test = random.choice(test_data)\n",
    "\n",
    "input_ = make_bow_vector(random_test[0],word2index)\n",
    "pred = model(input_).max(1)[1]\n",
    "\n",
    "print(\"input : %s\" % ' '.join(random_test[0]))\n",
    "print(\"ground truth : %s\" % random_test[1])\n",
    "print(\"prediction : %s\" % index2target[pred.data.tolist()[0]])"
   ]
  },
  {
   "cell_type": "markdown",
   "metadata": {},
   "source": [
    "# What is Next?! "
   ]
  },
  {
   "cell_type": "markdown",
   "metadata": {},
   "source": [
    "* https://github.com/yunjey/pytorch-tutorial\n",
    "* https://github.com/rguthrie3/DeepLearningForNLPInPytorch/blob/master/Deep%20Learning%20for%20Natural%20Language%20Processing%20with%20Pytorch.ipynb\n",
    "* https://github.com/bharathgs/Awesome-pytorch-list\n",
    "* https://github.com/DSKSD/cs-224n-Pytorch"
   ]
  },
  {
   "cell_type": "code",
   "execution_count": null,
   "metadata": {
    "collapsed": true
   },
   "outputs": [],
   "source": []
  }
 ],
 "metadata": {
  "kernelspec": {
   "display_name": "Python 3",
   "language": "python",
   "name": "python3"
  },
  "language_info": {
   "codemirror_mode": {
    "name": "ipython",
    "version": 3
   },
   "file_extension": ".py",
   "mimetype": "text/x-python",
   "name": "python",
   "nbconvert_exporter": "python",
   "pygments_lexer": "ipython3",
   "version": "3.6.5"
  },
  "latex_envs": {
   "LaTeX_envs_menu_present": true,
   "autocomplete": true,
   "bibliofile": "biblio.bib",
   "cite_by": "apalike",
   "current_citInitial": 1,
   "eqLabelWithNumbers": true,
   "eqNumInitial": 1,
   "hotkeys": {
    "equation": "Ctrl-E",
    "itemize": "Ctrl-I"
   },
   "labels_anchors": false,
   "latex_user_defs": false,
   "report_style_numbering": false,
   "user_envs_cfg": false
  },
  "varInspector": {
   "cols": {
    "lenName": 16,
    "lenType": 16,
    "lenVar": 40
   },
   "kernels_config": {
    "python": {
     "delete_cmd_postfix": "",
     "delete_cmd_prefix": "del ",
     "library": "var_list.py",
     "varRefreshCmd": "print(var_dic_list())"
    },
    "r": {
     "delete_cmd_postfix": ") ",
     "delete_cmd_prefix": "rm(",
     "library": "var_list.r",
     "varRefreshCmd": "cat(var_dic_list()) "
    }
   },
   "types_to_exclude": [
    "module",
    "function",
    "builtin_function_or_method",
    "instance",
    "_Feature"
   ],
   "window_display": false
  }
 },
 "nbformat": 4,
 "nbformat_minor": 2
}
