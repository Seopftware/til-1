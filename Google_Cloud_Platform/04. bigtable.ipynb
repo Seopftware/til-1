{
 "cells": [
  {
   "cell_type": "markdown",
   "metadata": {},
   "source": [
    "# bigtable\n"
   ]
  },
  {
   "cell_type": "markdown",
   "metadata": {},
   "source": [
    "bigtable : A high performance NoSQL database service\n",
    "\n",
    "- consistent low latency and high throughput ( 대기시간은 낮게 일관되며, 처리량은 많음 )\n",
    "- Simple & Integrated : Hadoop + Google Cloud Platform + Dataflow + Dataproc\n",
    "\n",
    "\n",
    "## Bigtable Features\n",
    "- High Performance\n",
    "- Security & Permissions\n",
    "- Low Latency Storage ( 일관된 낮은 대기시간 )\n",
    "- Global Availability\n",
    "- Fully Managed \n",
    "- Redundant Autoscaling Storage ( 중복 내부저장 스토리지 )\n",
    "- Scaling\n",
    "- HBase Compatible\n"
   ]
  },
  {
   "cell_type": "code",
   "execution_count": null,
   "metadata": {
    "collapsed": true
   },
   "outputs": [],
   "source": []
  }
 ],
 "metadata": {
  "kernelspec": {
   "display_name": "Python 3",
   "language": "python",
   "name": "python3"
  },
  "language_info": {
   "codemirror_mode": {
    "name": "ipython",
    "version": 3
   },
   "file_extension": ".py",
   "mimetype": "text/x-python",
   "name": "python",
   "nbconvert_exporter": "python",
   "pygments_lexer": "ipython3",
   "version": "3.6.0"
  }
 },
 "nbformat": 4,
 "nbformat_minor": 2
}
