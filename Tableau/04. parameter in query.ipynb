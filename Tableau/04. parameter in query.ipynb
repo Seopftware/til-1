{
 "cells": [
  {
   "cell_type": "markdown",
   "metadata": {},
   "source": [
    "# 04. parameter in query\n",
    "- Tableau에서 데이터 원본을 가져올 때, 쿼리를 날릴 수 있습니다\n",
    "- 여기서 쿼리를 날릴 때, yesterday까지 쿼리를 날려라! 라고도 할 수 있습니다\n",
    "- 매개변수를 만들어서 해결할 수 있습니다 ( 파라미터 )\n",
    "\n",
    "### 1. EndDate라는 함수 생성\n",
    "- EndDate라는 함수를 만들어줍니다\n",
    "\n",
    "~~~\n",
    "today()-1\n",
    "~~~\n",
    "    - 저는 yesterday를 표현할 것이기에 이렇게 함수를 만들었습니다\n",
    "    \n",
    "### 2. yesterday 매개변수 생성\n",
    "- 매개변수 생성을 해줍니다!\n",
    "- 데이터 유형 : 날짜 / 허용 가능한 값 : 범위 / 그 아래의 필드에서 설정을 눌러서 EndDate를 불러와줍니다\n",
    "- 이러면 이제 yesterday 매개변수는 항상 어제를 기억하게 됩니다\n",
    "\n",
    "### 3. Tableau 데이터 원본 추출쪽에 가서 매개변수 사용하기를 누르면서 추출해주세요"
   ]
  }
 ],
 "metadata": {
  "kernelspec": {
   "display_name": "Python 3",
   "language": "python",
   "name": "python3"
  },
  "language_info": {
   "codemirror_mode": {
    "name": "ipython",
    "version": 3
   },
   "file_extension": ".py",
   "mimetype": "text/x-python",
   "name": "python",
   "nbconvert_exporter": "python",
   "pygments_lexer": "ipython3",
   "version": "3.6.1"
  },
  "latex_envs": {
   "LaTeX_envs_menu_present": true,
   "autocomplete": true,
   "bibliofile": "biblio.bib",
   "cite_by": "apalike",
   "current_citInitial": 1,
   "eqLabelWithNumbers": true,
   "eqNumInitial": 1,
   "hotkeys": {
    "equation": "Ctrl-E",
    "itemize": "Ctrl-I"
   },
   "labels_anchors": false,
   "latex_user_defs": false,
   "report_style_numbering": false,
   "user_envs_cfg": false
  },
  "varInspector": {
   "cols": {
    "lenName": 16,
    "lenType": 16,
    "lenVar": 40
   },
   "kernels_config": {
    "python": {
     "delete_cmd_postfix": "",
     "delete_cmd_prefix": "del ",
     "library": "var_list.py",
     "varRefreshCmd": "print(var_dic_list())"
    },
    "r": {
     "delete_cmd_postfix": ") ",
     "delete_cmd_prefix": "rm(",
     "library": "var_list.r",
     "varRefreshCmd": "cat(var_dic_list()) "
    }
   },
   "types_to_exclude": [
    "module",
    "function",
    "builtin_function_or_method",
    "instance",
    "_Feature"
   ],
   "window_display": false
  }
 },
 "nbformat": 4,
 "nbformat_minor": 2
}
