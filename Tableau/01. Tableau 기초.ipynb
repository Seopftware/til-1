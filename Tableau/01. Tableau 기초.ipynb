{
 "cells": [
  {
   "cell_type": "markdown",
   "metadata": {},
   "source": [
    "**  [Tableau 기초 동영상](https://www.tableau.com/ko-kr/learn/tutorials/)을 보다 필요한 것을 작성한 문서입니다 **"
   ]
  },
  {
   "cell_type": "markdown",
   "metadata": {},
   "source": [
    "# 드릴다운 및 계층\n",
    "- 여러 연도의 매출 합계를 검토하는 경우 드릴다운하여 각 연도의 모든 월 매출을 볼 수 있습니다. 또는 모든 월의 매출 합계를 검토하는 경우 드릴업하여 각 연도의 매출을 볼 수 있습니다\n",
    "- ex) 국가별 특정 이벤트의 합 -> (드릴 다운) 국가별 특정 지역 이벤트의 합\n",
    "- 드릴다운 생성 : 사용할 필드를 끌고 다른 범주에 놓으면 생성됨 -> 이런 과정이 있다면 뷰의 알약 모양에 +, - 버튼이 생김\n",
    "- 드릴다운 제거 : 드릴다운에 있던 필드를 밖으로 끌던가, 우측 마우스를 누르고 제거 클릭\n",
    "\n",
    "- 날짜 데이터의 경우 자동으로 연/분기/월로 나눔\n",
    "\n",
    "[드릴다운 관련 문서](http://onlinehelp.tableau.com/current/pro/desktop/ko-kr/help.htm#buildmanual_multidimensional_drilldown.html)"
   ]
  },
  {
   "cell_type": "markdown",
   "metadata": {},
   "source": [
    "# 정렬\n",
    "- 퀵정렬 : 축이 있는 그래프의 경우 설정되어 있음\n",
    "- 범례에서 위로 올리면 올라감\n",
    "- 그냥 일단 클릭해서 위로 올라가는 경우가 많음\n",
    "- 디테일한 정렬이 필요할 시엔 알약 버튼을 누르고 정렬을 클릭 -> 새 창에서 설정\n",
    "- 알약의 순서에 따라 다양하게 정렬할 수 있음\n",
    "- 연속형 자료는 퀵정렬은 존재하지만 알약에선 정렬할 수 없음\n",
    "- 차원형 자료는 정렬할 수 있음"
   ]
  },
  {
   "cell_type": "markdown",
   "metadata": {},
   "source": [
    "# 그룹화\n",
    "- 'FL' 이랑 '플로리다'랑 같은 경우엔 어떻게 할까?\n",
    "- 값이 작은 친구들은 그냥 '기타'로 처리하고 싶은 경우엔 어떻게 할까?\n",
    "- Control을 누르고 머리글을 2개 누르고 우측 클릭 -> 합치기\n",
    "\n",
    "- 차원 -> 우측 클릭 -> 만들기 -> 그룹\n",
    "\n",
    "#### 수익이 10만 미만인 그룹을 기타로 만들고 싶다면?\n",
    "- 마우스 우클릭 -> 계산된 필드 만들기 -> if sum([profit]) > 100000 then 'true' else 'false' END\n",
    "\n",
    "- 마우스 우클릭 -> 매개변수 만들기 -> 매개변수 우클릭 후 파라미터 컨트롤 Show! -> 100000 대신 변수명 입력!\n",
    "\n",
    "#### 구간차원 (10대, 20대, 30대)\n",
    "- 마우스 우클릭 -> 구간 차원(bin) 만들기"
   ]
  },
  {
   "cell_type": "markdown",
   "metadata": {},
   "source": [
    "# 집합\n",
    "- 필터링을 한 것과 같은 효과\n",
    "- 그룹과도 미묘하게 비슷함"
   ]
  },
  {
   "cell_type": "markdown",
   "metadata": {},
   "source": [
    "# 추세선\n",
    "- 분석 -> 모델 : 추세선\n",
    "- 추세선 옵션에서 선형 / 로그 / 지수 / 다항식 차수, 신뢰구간 등을 설정할 수 있음"
   ]
  },
  {
   "cell_type": "code",
   "execution_count": null,
   "metadata": {
    "collapsed": true
   },
   "outputs": [],
   "source": []
  }
 ],
 "metadata": {
  "kernelspec": {
   "display_name": "Python 3",
   "language": "python",
   "name": "python3"
  },
  "language_info": {
   "codemirror_mode": {
    "name": "ipython",
    "version": 3
   },
   "file_extension": ".py",
   "mimetype": "text/x-python",
   "name": "python",
   "nbconvert_exporter": "python",
   "pygments_lexer": "ipython3",
   "version": "3.6.1"
  },
  "latex_envs": {
   "LaTeX_envs_menu_present": true,
   "autocomplete": true,
   "bibliofile": "biblio.bib",
   "cite_by": "apalike",
   "current_citInitial": 1,
   "eqLabelWithNumbers": true,
   "eqNumInitial": 1,
   "hotkeys": {
    "equation": "Ctrl-E",
    "itemize": "Ctrl-I"
   },
   "labels_anchors": false,
   "latex_user_defs": false,
   "report_style_numbering": false,
   "user_envs_cfg": false
  }
 },
 "nbformat": 4,
 "nbformat_minor": 2
}
