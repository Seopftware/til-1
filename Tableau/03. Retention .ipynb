{
 "cells": [
  {
   "cell_type": "markdown",
   "metadata": {},
   "source": [
    "# 03. Retention\n",
    "- 여기서 말하는 리텐션은 코호트 리텐션을 말합니다\n",
    "- 리텐션을 무식하게 뽑을 땐 with 구문을 사용해 join하고 count(case when first_date = event_date-1) as day1 이런식으로 무식하게 Count했습니다!\n",
    "- 하지만 여기선 세련되게 함수를 사용해 진행해보겠습니다!!\n",
    "- 우선 데이터셋을 아래와 같이 뽑습니다\n",
    "\n",
    "\n",
    "| user_id | event_date | country | etc|\n",
    "|:-------:|:----------:|:-------:|---|\n",
    "|    A    | 2017-01-01 |    kr   |   |  \n",
    "|    B    | 2017-01-03 |    kr   |   |  \n",
    "|    A    | 2017-01-02 |    kr   |   | "
   ]
  },
  {
   "cell_type": "markdown",
   "metadata": {},
   "source": [
    "- min(event_date) : first_date로 지정\n",
    "- 그리고 이 테이블을 join합니다 (self-join, 혹은 with문으로)\n",
    "\n",
    "#### 여기서부터 Tableau 구간\n",
    "#### 1. acquisition을 구합니다\n",
    "~~~\n",
    "DATEDIFF('day', [first_date], [event_date])\n",
    "~~~\n",
    "- day를 week으로 바꿀수도 있습니다! 기간을 어떻게 잡느냐에 따라 여기를 수정해주시면 됩니다\n",
    "\n",
    "#### 2. day of retention column 생성\n",
    "- 이건 표에서 컬럼으로 사용할 예정입니다\n",
    "~~~\n",
    "if [acquisition] = 0 then \"Amount\"\n",
    "ELSE\n",
    "\"Day\" + str([acquisition])\n",
    "end\n",
    "~~~\n",
    "- acquisition이 0이면 Amount라고 명명하고, 아니라면 \"Day\" + str(acquisition)로 명명합니다\n",
    "\n",
    "\n",
    "#### 3. retained 함수 작성\n",
    "~~~\n",
    "if sum([acquisition]) = 0 then\n",
    "countd([user_id])\n",
    "else\n",
    "    -round(1-(( LOOKUP(countd([user_id]), first()) - countd([user_id]) ) / LOOKUP(countd([user_id]), FIRST())),4)\n",
    "end\n",
    "~~~\n",
    "- sum([acquisition]) = 0이라는 것은 당일일 경우엔 countd([user_id])! 해당 first_date에 접속한 유저수를 구합니다\n",
    "- 그게 아니라면 %를 구합니다!\n",
    "- LOOKUP 함수의 정의는 아래와 같습니다\n",
    ">‘LOOKUP(식, [오프셋])’은 지정된 상대적 오프셋만큼 현재 행으로부터 떨어진 대상 행에서 주어진 식을 계산하여 그 값을 반환한다. 대상 행을 결정할 수 없으면, ‘NULL'을 반환한다. \n",
    "또한, 'FIRST( ) + n’ 혹은 'LAST( ) - n’을 이용해서 대상을 파티션의 첫 번째 혹은 마지막 행에서부터의 상대 위치로 지정을 할 수 있다.\n",
    "- [잘 쓰여진 브런치 글](https://brunch.co.kr/@cheonmyung/38)을 확인하면 한번에 이해될 거에요-! \n",
    "- LOOKUP(countd([user_id]), first())는 첫 행(first())에서 countd([user_id])를 하라는 뜻입니다! \n",
    "- round 함수는 소수점 4번째자리까지 나타내기 위해 사용했습니다\n",
    "- '-'를 사용한 이유는 '서식'을 적용하기 위함입니다\n",
    "\n",
    "#### 4. 열에 day of retention을 넣고, 행에 first_date를 넣어주세요\n",
    "- 이 때 first_date는 날짜 속성이며 불연속형으로 설정해줘야 표처럼 나타납니다\n",
    "\n",
    "#### 5. 서식 적용\n",
    "- value에서 우측 마우스를 누른 후, 서식을 눌러줍니다\n",
    "- 그 후 좌측 최상단에 '필드'를 누르시고 집계(retained)를 눌러주세요\n",
    "- 숫자를 누르시고 사용자 지정에 #,##;0.00%;를 입력해주세요! 이것은 양수라면 1,000 이런식 음수라면 %를 사용하라는 뜻입니다!\n",
    "\n",
    "#### 6. 필터 적용\n",
    "- 기간을 유동적으로 조정하고 싶을 경우, 필터를 사용하면 편리합니다\n",
    "- 단, default 설정이 따로 존재하고 유저들이 기간을 설정할 수 있도록 만들어 보겠습니다\n",
    "\n",
    "##### 6-1) \n",
    "- 매개변수 생성 - Custom Start Date / Custome End Date를 만들어주세요 ( 데이터 유형은 날짜, 허용 가능한 값은 모두에 체크 )\n",
    "\n",
    "\n",
    "##### 6-2) \n",
    "- 그 후, Date Selection Parameter라는 파라미터를 만들어줍니다\n",
    "    - 데이터 유형 : 정수\n",
    "    - 값에 3을 넣어주고 다음으로 표시에 \"Last 2 weeks\" 입력\n",
    "    - 값에 4를 넣어주고 다음으로 표시에 \"Custom Dates\" 입력\n",
    "\n",
    "\n",
    "##### 6-3) \n",
    "- 그 후 Date Selection Part라는 집계 함수를 만들어줍니다\n",
    "\n",
    "~~~\n",
    "if [매개 변수].[Date Selection Parameter] = 3 then\n",
    "(if  [first_date]>= TODAY()-15 then 1 end)\n",
    "\n",
    "elseif [매개 변수].[Date Selection Parameter] = 4 then \n",
    "(if [first_date] >= [Custom Start Date] and      \n",
    "    [first_date] <= [Custom End Date] then 1 end)\n",
    "END\n",
    "~~~\n",
    "    - Date Selection Parameter가 3이면 first_date>=TODAY()-15인 값들을 가지고 옵니다! 15인 이유는 최근 2주를 표현하는데, 제가 사용하는 빅쿼리 특성상 하루를 더 제외해야( 당일의 데이터는 내일 추출이 되기 때문에 )해서 저렇게 표시했습니다\n",
    "    - Date Selection Parameter가 4면 Start Date ~ End Date 사이로 필터링합니다\n",
    "\n",
    "\n",
    "##### 6-4) \n",
    "- Tableau 상단바의 '분석' - '파라미터' - Custom Start Date, Custom End Date, Date Selection Part 모두 체크해줍니다\n",
    "- 기호에 맞게 설정해주세요. Date Selection Parameter는 2버튼식으로 구성하면 좋습니다\n",
    "\n"
   ]
  }
 ],
 "metadata": {
  "kernelspec": {
   "display_name": "Python 3",
   "language": "python",
   "name": "python3"
  },
  "language_info": {
   "codemirror_mode": {
    "name": "ipython",
    "version": 3
   },
   "file_extension": ".py",
   "mimetype": "text/x-python",
   "name": "python",
   "nbconvert_exporter": "python",
   "pygments_lexer": "ipython3",
   "version": "3.6.1"
  },
  "latex_envs": {
   "LaTeX_envs_menu_present": true,
   "autocomplete": true,
   "bibliofile": "biblio.bib",
   "cite_by": "apalike",
   "current_citInitial": 1,
   "eqLabelWithNumbers": true,
   "eqNumInitial": 1,
   "hotkeys": {
    "equation": "Ctrl-E",
    "itemize": "Ctrl-I"
   },
   "labels_anchors": false,
   "latex_user_defs": false,
   "report_style_numbering": false,
   "user_envs_cfg": false
  },
  "varInspector": {
   "cols": {
    "lenName": 16,
    "lenType": 16,
    "lenVar": 40
   },
   "kernels_config": {
    "python": {
     "delete_cmd_postfix": "",
     "delete_cmd_prefix": "del ",
     "library": "var_list.py",
     "varRefreshCmd": "print(var_dic_list())"
    },
    "r": {
     "delete_cmd_postfix": ") ",
     "delete_cmd_prefix": "rm(",
     "library": "var_list.r",
     "varRefreshCmd": "cat(var_dic_list()) "
    }
   },
   "types_to_exclude": [
    "module",
    "function",
    "builtin_function_or_method",
    "instance",
    "_Feature"
   ],
   "window_display": false
  }
 },
 "nbformat": 4,
 "nbformat_minor": 2
}
