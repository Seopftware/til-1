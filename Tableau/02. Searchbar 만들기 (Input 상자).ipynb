{
 "cells": [
  {
   "cell_type": "markdown",
   "metadata": {},
   "source": [
    "# 02. Searchbar 만들기 (Input 상자)\n",
    "## 1. 매개변수 ( parameter ) 만들기\n",
    "- 이름 설정, 현재 값은 공란으로 만들기\n",
    "- Search User Input을 생성했습니다\n",
    "\n",
    "## 2. 계산된 필드 만들기\n",
    "- 계산된 필드의 이름을 설정하고, contains([user_id], [Search User Input]) 이런식으로 함수를 만듭니다\n",
    "- 만약 동시에 여러 조건을 걸고 싶다면 아래와 같이\n",
    "~~~\n",
    "contains([user_id], [Search User Input])\n",
    "or\n",
    "contains([user_name], [Search User Input])\n",
    "or\n",
    "contains([user_fullname], [Search User Input])\n",
    "~~~\n",
    "- 만약 모두 소문자로 바꾸고 진행할거라면 각 컬럼 ([]로 되어있는 것들) 앞에 lower 함수로 감싸주면 됩니다\n",
    "\n",
    "## 3. 보고싶은 그래프 혹은 테이블 생성하기\n",
    "- 이건 각자 다를 것 같아 패스-\n",
    "- 저는 일자별 event를 count했습니다\n",
    "\n",
    "## 4. 필터에 계산된 필드 추가\n",
    "- 계산된 필드를 필터에 추가합니다\n",
    "- 이 때, 필터의 값이 참(True)인 값만 체크합니다\n",
    "\n",
    "## 5. 분석 - 매개변수를 클릭해 필터를 활성화합니다\n",
    "- 워크시트라면 우측에 위치하고, 대시보드라면 위치 조정을 자유롭게 할 수 있습니다\n",
    "\n",
    "## 6. Input 박스에 user_id, name, fullname을 입력해 비교해봅니다"
   ]
  }
 ],
 "metadata": {
  "kernelspec": {
   "display_name": "Python 3",
   "language": "python",
   "name": "python3"
  },
  "language_info": {
   "codemirror_mode": {
    "name": "ipython",
    "version": 3
   },
   "file_extension": ".py",
   "mimetype": "text/x-python",
   "name": "python",
   "nbconvert_exporter": "python",
   "pygments_lexer": "ipython3",
   "version": "3.6.1"
  },
  "latex_envs": {
   "LaTeX_envs_menu_present": true,
   "autocomplete": true,
   "bibliofile": "biblio.bib",
   "cite_by": "apalike",
   "current_citInitial": 1,
   "eqLabelWithNumbers": true,
   "eqNumInitial": 1,
   "hotkeys": {
    "equation": "Ctrl-E",
    "itemize": "Ctrl-I"
   },
   "labels_anchors": false,
   "latex_user_defs": false,
   "report_style_numbering": false,
   "user_envs_cfg": false
  },
  "varInspector": {
   "cols": {
    "lenName": 16,
    "lenType": 16,
    "lenVar": 40
   },
   "kernels_config": {
    "python": {
     "delete_cmd_postfix": "",
     "delete_cmd_prefix": "del ",
     "library": "var_list.py",
     "varRefreshCmd": "print(var_dic_list())"
    },
    "r": {
     "delete_cmd_postfix": ") ",
     "delete_cmd_prefix": "rm(",
     "library": "var_list.r",
     "varRefreshCmd": "cat(var_dic_list()) "
    }
   },
   "types_to_exclude": [
    "module",
    "function",
    "builtin_function_or_method",
    "instance",
    "_Feature"
   ],
   "window_display": false
  }
 },
 "nbformat": 4,
 "nbformat_minor": 2
}
