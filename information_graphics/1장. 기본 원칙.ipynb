{
 "cells": [
  {
   "cell_type": "markdown",
   "metadata": {},
   "source": [
    "# Information Graphics"
   ]
  },
  {
   "cell_type": "markdown",
   "metadata": {},
   "source": [
    "## - 서문 - \n",
    "시각화 : 색상, 선, 형태, 시각적 요소들의 배치 등을 적절히 활용해야 합니다\n",
    "\n",
    "정량 데이터를 다루기 위해선 통계학에 대한 기본 지식이 필요하며, 시각화를 통해 어떤 목적으로 누구에게 어떠한 이야기를 전달하려고 하는지 인지하고 있어야 합니다"
   ]
  },
  {
   "cell_type": "markdown",
   "metadata": {},
   "source": [
    "# 1장. 기본 원칙\n"
   ]
  },
  {
   "cell_type": "markdown",
   "metadata": {},
   "source": [
    "- 차트로 그릴 가치가 있는 정보를 가지고 정확하게 표현했는가?\n",
    "\n",
    "1장에서는 아래와 같은 내용에 대한 가이드라인과 템플릿을 제공합니다\n",
    "- 글꼴 사용\n",
    "- 선명한 색상을 쓸지 부드러운 색상을 선택할지\n",
    "- 숫자 두 개만 가지고도 차트 하나를 구성할 수 있는가?\n",
    "- 어떤 데이터가 좋은 데이터인가?\n",
    "\n",
    "\n",
    "### 효과적인 차트 작성법\n",
    "- 자료조사 - 편집 - 구성 - 검토의 4단계를 거친다"
   ]
  },
  {
   "cell_type": "code",
   "execution_count": null,
   "metadata": {
    "collapsed": true
   },
   "outputs": [],
   "source": []
  }
 ],
 "metadata": {
  "kernelspec": {
   "display_name": "Python 3",
   "language": "python",
   "name": "python3"
  },
  "language_info": {
   "codemirror_mode": {
    "name": "ipython",
    "version": 3
   },
   "file_extension": ".py",
   "mimetype": "text/x-python",
   "name": "python",
   "nbconvert_exporter": "python",
   "pygments_lexer": "ipython3",
   "version": "3.6.0"
  }
 },
 "nbformat": 4,
 "nbformat_minor": 2
}
